{
 "cells": [
  {
   "cell_type": "markdown",
   "id": "287ce01a-1e6c-4019-8706-ffedab51322c",
   "metadata": {},
   "source": [
    "# Coding for Economists - Advanced Session 2"
   ]
  },
  {
   "cell_type": "markdown",
   "id": "ef7daa3c-fd9a-44e1-aa25-ec7b0ae40451",
   "metadata": {},
   "source": [
    "## 1. Setup Environment"
   ]
  },
  {
   "cell_type": "code",
   "execution_count": null,
   "id": "051b8e24-c904-47b0-817b-aa89e5df0cd0",
   "metadata": {
    "scrolled": true
   },
   "outputs": [],
   "source": [
    "%pip install tensorflow scikeras torch dash dash-cytoscape"
   ]
  },
  {
   "cell_type": "code",
   "execution_count": null,
   "id": "ce99a9a1-b0bd-434b-8bca-047437a1b625",
   "metadata": {},
   "outputs": [],
   "source": [
    "import numpy as np\n",
    "import pandas as pd\n",
    "import matplotlib.pyplot as plt\n",
    "import seaborn as sns\n",
    "# Turn on copy on write\n",
    "pd.options.mode.copy_on_write = True"
   ]
  },
  {
   "cell_type": "markdown",
   "id": "d4a2a213-f8d2-4e85-8f94-a3f6762a4b78",
   "metadata": {},
   "source": [
    "## 2. Use LSTM to Forecast US Inflation"
   ]
  },
  {
   "cell_type": "markdown",
   "id": "1b5eaef2-1226-440a-8ea8-1009d1dfe7fe",
   "metadata": {},
   "source": [
    "### 2.1 Collect Data"
   ]
  },
  {
   "cell_type": "code",
   "execution_count": 17,
   "id": "9ef0b130-b053-47e6-8872-a9fc9ca33fa8",
   "metadata": {},
   "outputs": [
    {
     "name": "stdout",
     "output_type": "stream",
     "text": [
      "(424, 3)\n"
     ]
    },
    {
     "data": {
      "text/html": [
       "<div>\n",
       "<style scoped>\n",
       "    .dataframe tbody tr th:only-of-type {\n",
       "        vertical-align: middle;\n",
       "    }\n",
       "\n",
       "    .dataframe tbody tr th {\n",
       "        vertical-align: top;\n",
       "    }\n",
       "\n",
       "    .dataframe thead th {\n",
       "        text-align: right;\n",
       "    }\n",
       "</style>\n",
       "<table border=\"1\" class=\"dataframe\">\n",
       "  <thead>\n",
       "    <tr style=\"text-align: right;\">\n",
       "      <th></th>\n",
       "      <th>CPIAUCSL</th>\n",
       "      <th>UNRATE</th>\n",
       "      <th>FEDFUNDS</th>\n",
       "    </tr>\n",
       "    <tr>\n",
       "      <th>DATE</th>\n",
       "      <th></th>\n",
       "      <th></th>\n",
       "      <th></th>\n",
       "    </tr>\n",
       "  </thead>\n",
       "  <tbody>\n",
       "    <tr>\n",
       "      <th>1990-01-01</th>\n",
       "      <td>127.5</td>\n",
       "      <td>5.4</td>\n",
       "      <td>8.23</td>\n",
       "    </tr>\n",
       "    <tr>\n",
       "      <th>1990-02-01</th>\n",
       "      <td>128.0</td>\n",
       "      <td>5.3</td>\n",
       "      <td>8.24</td>\n",
       "    </tr>\n",
       "    <tr>\n",
       "      <th>1990-03-01</th>\n",
       "      <td>128.6</td>\n",
       "      <td>5.2</td>\n",
       "      <td>8.28</td>\n",
       "    </tr>\n",
       "    <tr>\n",
       "      <th>1990-04-01</th>\n",
       "      <td>128.9</td>\n",
       "      <td>5.4</td>\n",
       "      <td>8.26</td>\n",
       "    </tr>\n",
       "    <tr>\n",
       "      <th>1990-05-01</th>\n",
       "      <td>129.1</td>\n",
       "      <td>5.4</td>\n",
       "      <td>8.18</td>\n",
       "    </tr>\n",
       "  </tbody>\n",
       "</table>\n",
       "</div>"
      ],
      "text/plain": [
       "            CPIAUCSL  UNRATE  FEDFUNDS\n",
       "DATE                                  \n",
       "1990-01-01     127.5     5.4      8.23\n",
       "1990-02-01     128.0     5.3      8.24\n",
       "1990-03-01     128.6     5.2      8.28\n",
       "1990-04-01     128.9     5.4      8.26\n",
       "1990-05-01     129.1     5.4      8.18"
      ]
     },
     "execution_count": 17,
     "metadata": {},
     "output_type": "execute_result"
    }
   ],
   "source": [
    "# Fetch multiple FRED series\n",
    "from pandas_datareader import data as pdr\n",
    "\n",
    "start_date = '1990-01-01'\n",
    "df = pdr.DataReader(['CPIAUCSL', 'UNRATE', 'FEDFUNDS'], 'fred', start=start_date)\n",
    "print(df.shape)\n",
    "df.head()"
   ]
  },
  {
   "cell_type": "markdown",
   "id": "d60bfc11-f478-48cb-b53b-442d8f0e58a3",
   "metadata": {},
   "source": [
    "### 2.2 Preprocessing"
   ]
  },
  {
   "cell_type": "markdown",
   "id": "789de508-39d6-4cde-8da5-ad72df7f4ed4",
   "metadata": {},
   "source": [
    "#### Check Missing Values"
   ]
  },
  {
   "cell_type": "code",
   "execution_count": 18,
   "id": "5f8f6140-e577-4b40-adaf-53540ccb4b3a",
   "metadata": {},
   "outputs": [
    {
     "name": "stdout",
     "output_type": "stream",
     "text": [
      "Missing values per column:\n",
      " CPIAUCSL    1\n",
      "UNRATE      1\n",
      "FEDFUNDS    0\n",
      "dtype: int64\n"
     ]
    }
   ],
   "source": [
    "print(\"Missing values per column:\\n\", df.isnull().sum())"
   ]
  },
  {
   "cell_type": "markdown",
   "id": "ade8975f-f060-4ba6-b4d9-3104704f5426",
   "metadata": {},
   "source": [
    "#### Compute Year-to-Year Inflation"
   ]
  },
  {
   "cell_type": "code",
   "execution_count": null,
   "id": "bacdff42-27df-42df-93c5-b846f0964552",
   "metadata": {},
   "outputs": [],
   "source": [
    "# Compute year-on-year inflation\n",
    "df = df.dropna().rename(columns={\n",
    "    'CPIAUCSL': 'CPI', 'UNRATE': 'Unemployment', 'FEDFUNDS': 'FedFunds'\n",
    "})\n",
    "df['Inflation'] = df['CPI'].pct_change(12) * 100\n",
    "df = df.dropna()\n",
    "features = df[['Inflation', 'Unemployment', 'FedFunds']].values\n",
    "features[:20]"
   ]
  },
  {
   "cell_type": "code",
   "execution_count": null,
   "id": "ccaf03ed-e00c-42df-8e75-8d0b05849f9b",
   "metadata": {},
   "outputs": [],
   "source": [
    "# Scale variables using Minmax\n",
    "from sklearn.preprocessing import MinMaxScaler\n",
    "\n",
    "scaler = MinMaxScaler()\n",
    "scaled = scaler.fit_transform(features)\n",
    "scaled[:20]"
   ]
  },
  {
   "cell_type": "markdown",
   "id": "11fa9e98-777a-4772-a0e6-bdf057b09efa",
   "metadata": {},
   "source": [
    "#### Prepare Input Data for LSTM\n",
    "Create a list of sliding windows. At time `t`, LSTM uses past values `[t-seq_len:t-1]` to predict the current value `t`"
   ]
  },
  {
   "cell_type": "code",
   "execution_count": null,
   "id": "ef16e4b0-c2eb-4003-b48e-d62ecf06e6e6",
   "metadata": {},
   "outputs": [],
   "source": [
    "# Prepare input data for LSTM\n",
    "def create_sequences(data, seq_len=12):\n",
    "    X, y = [], []\n",
    "    for i in range(len(data) - seq_len):\n",
    "        X.append(data[i:i+seq_len])\n",
    "        y.append(data[i+seq_len, 0])\n",
    "    return np.array(X), np.array(y)\n",
    "\n",
    "SEQ_LEN = 12 # use the past 12 months to predict the next month\n",
    "X, y = create_sequences(scaled, SEQ_LEN)\n",
    "print(X.shape)\n",
    "print(y.shape)"
   ]
  },
  {
   "cell_type": "markdown",
   "id": "3bd7f97f-6581-4ef3-98eb-94514ba3ed0a",
   "metadata": {},
   "source": [
    "### 2.3 Prepare Train/Test Sets"
   ]
  },
  {
   "cell_type": "code",
   "execution_count": null,
   "id": "765a60f9-5e9f-44e0-a27a-cca210981a0c",
   "metadata": {},
   "outputs": [],
   "source": [
    "# Train/test split (80/20)\n",
    "split = int(len(X) * 0.8)\n",
    "X_train, X_test = X[:split], X[split:]\n",
    "y_train, y_test = y[:split], y[split:]"
   ]
  },
  {
   "cell_type": "markdown",
   "id": "1fc5f8ba-9359-4b07-ba4c-acba69ee96f3",
   "metadata": {},
   "source": [
    "### 2.4 Implement ISTM and Tune the Parameters"
   ]
  },
  {
   "cell_type": "markdown",
   "id": "9a0ec5a6-e248-4fbb-aedb-c8352541b9ce",
   "metadata": {},
   "source": [
    "#### Initiate the Model"
   ]
  },
  {
   "cell_type": "code",
   "execution_count": null,
   "id": "66f8e04a-b0d2-4b87-86c9-a9e349f59cc4",
   "metadata": {},
   "outputs": [],
   "source": [
    "# Model-building function for GridSearch\n",
    "from tensorflow.keras.models import Sequential\n",
    "from tensorflow.keras.layers import LSTM, Dense, Input\n",
    "def build_model(units=50, optimizer='adam'):\n",
    "    m = Sequential([\n",
    "        Input(shape=(SEQ_LEN, X.shape[2])),\n",
    "        LSTM(units),\n",
    "        Dense(1)\n",
    "    ])\n",
    "    m.compile(optimizer=optimizer, loss='mse')\n",
    "    return m"
   ]
  },
  {
   "cell_type": "code",
   "execution_count": null,
   "id": "80ffc83b-cc48-47e9-aca9-7466eedf9917",
   "metadata": {},
   "outputs": [],
   "source": [
    "# Wrap with KerasRegressor\n",
    "from scikeras.wrappers import KerasRegressor\n",
    "regressor = KerasRegressor(model=build_model, verbose=0, units=50, run_eagerly=True)"
   ]
  },
  {
   "cell_type": "markdown",
   "id": "15e3daf6-b246-4d0a-b94d-3cbc2be51bac",
   "metadata": {},
   "source": [
    "__Grid Search Space__:\n",
    "- `optimizer`: Algorithm for updating weights\n",
    "- `batch_size`: How many samples per gradient update\n",
    "- `epochs`: Max training passes through the data"
   ]
  },
  {
   "cell_type": "code",
   "execution_count": null,
   "id": "4dc916de-aef3-4fe2-971a-9937773ddd44",
   "metadata": {},
   "outputs": [],
   "source": [
    "# Grid of hyperparameters\n",
    "param_grid = {\n",
    "    'optimizer': ['adam', 'rmsprop'],\n",
    "    'batch_size': [8, 16],\n",
    "    'epochs': [30, 40]\n",
    "}"
   ]
  },
  {
   "cell_type": "markdown",
   "id": "fa624f27-29a9-42e7-a500-4cec7cef23d4",
   "metadata": {},
   "source": [
    "__Split Time Series__:\n",
    ">> - Split 1: train 1–20   | test 21–40\n",
    ">> - Split 2: train 1–40   | test 41–60\n",
    ">> - Split 3: train 1–60   | test 61–80\n",
    ">> - Split 4: train 1–80   | test 81–100\n",
    ">> - Split 5: train 1–100  | test (nothing left -> skip)"
   ]
  },
  {
   "cell_type": "code",
   "execution_count": null,
   "id": "b9c8d168-81bc-487a-a186-72d96559d965",
   "metadata": {},
   "outputs": [],
   "source": [
    "# Time series cross-validation\n",
    "from sklearn.model_selection import TimeSeriesSplit\n",
    "tscv = TimeSeriesSplit(n_splits=5)"
   ]
  },
  {
   "cell_type": "markdown",
   "id": "dda28458-9c03-4003-8241-1156aaeec8c0",
   "metadata": {},
   "source": [
    "#### Grid Search"
   ]
  },
  {
   "cell_type": "code",
   "execution_count": null,
   "id": "6b237ec2-b8db-4399-b032-27d3300d6a0d",
   "metadata": {
    "scrolled": true
   },
   "outputs": [],
   "source": [
    "# Grid search\n",
    "from sklearn.model_selection import GridSearchCV\n",
    "grid = GridSearchCV(\n",
    "    estimator=regressor,\n",
    "    param_grid=param_grid,\n",
    "    cv=tscv,\n",
    "    scoring='neg_mean_squared_error',\n",
    "    n_jobs=-1\n",
    ")\n",
    "grid_result = grid.fit(X_train, y_train)\n",
    "\n",
    "print(\"Best MSE: {:.4f}\".format(-grid_result.best_score_))\n",
    "print(\"Best Params:\", grid_result.best_params_)"
   ]
  },
  {
   "cell_type": "markdown",
   "id": "ad983ad7-b277-4a5b-9174-1e0020c5d267",
   "metadata": {},
   "source": [
    "### 2.5 Predict the Historical Inflation"
   ]
  },
  {
   "cell_type": "code",
   "execution_count": null,
   "id": "623a67a1-484f-4914-9761-03b059e59103",
   "metadata": {},
   "outputs": [],
   "source": [
    "# Select the best model\n",
    "best_keras_model = grid_result.best_estimator_.model_\n",
    "\n",
    "# Predict on every available sequence in the data\n",
    "hist_preds_scaled = best_keras_model.predict(X)"
   ]
  },
  {
   "cell_type": "code",
   "execution_count": null,
   "id": "539015f9-1a4d-462c-afa5-1068f9a1526d",
   "metadata": {},
   "outputs": [],
   "source": [
    "# Inverse‐transform back to % inflation\n",
    "hist_preds = scaler.inverse_transform(\n",
    "    np.hstack([\n",
    "        hist_preds_scaled.reshape(-1, 1),\n",
    "        np.zeros((len(hist_preds_scaled), 2))\n",
    "    ])\n",
    ")[:, 0]  # get the inflation column"
   ]
  },
  {
   "cell_type": "markdown",
   "id": "f245b5d3-37ee-4fc0-aca9-5c4930b9785a",
   "metadata": {},
   "source": [
    "### 2.6 Forecast the Future 12 Months"
   ]
  },
  {
   "cell_type": "code",
   "execution_count": null,
   "id": "6297c960-4bf9-4f1b-95c9-74cab0d603cc",
   "metadata": {},
   "outputs": [],
   "source": [
    "# Forecast next 12 months\n",
    "n_future = 12\n",
    "last_seq = scaled[-SEQ_LEN:].copy()\n",
    "future_preds_scaled = []\n",
    "\n",
    "for _ in range(n_future):\n",
    "    p = best_keras_model.predict(last_seq.reshape(1, SEQ_LEN, X.shape[2]))[0, 0]\n",
    "    future_preds_scaled.append([p, last_seq[-1,1], last_seq[-1,2]])  # keep other features static\n",
    "    last_seq = np.vstack([last_seq[1:], future_preds_scaled[-1]])"
   ]
  },
  {
   "cell_type": "code",
   "execution_count": null,
   "id": "a16d535f-dd85-488c-8858-c9e4cb07cf91",
   "metadata": {},
   "outputs": [],
   "source": [
    "# extract inflation forecasts and inverse scale\n",
    "future_preds = np.array(future_preds_scaled)[:, 0].reshape(-1, 1)\n",
    "inflation_preds = scaler.inverse_transform(\n",
    "    np.hstack([future_preds, np.zeros((n_future, 2))])\n",
    ")[:, 0]\n",
    "\n",
    "future_dates = pd.date_range(df.index[-1], periods=n_future, freq='ME')\n",
    "forecast_series = pd.Series(inflation_preds, index=future_dates)"
   ]
  },
  {
   "cell_type": "markdown",
   "id": "debeeeb1-d660-44be-a5e3-451cee24d380",
   "metadata": {},
   "source": [
    "### 2.7 Plot the Results"
   ]
  },
  {
   "cell_type": "code",
   "execution_count": null,
   "id": "72095411-67a0-42d5-94ec-18736070b6b1",
   "metadata": {},
   "outputs": [],
   "source": [
    "hist_dates = df.index[SEQ_LEN:]\n",
    "historical = df['Inflation'].copy()\n",
    "\n",
    "sns.set(style=\"whitegrid\")\n",
    "plt.figure(figsize=(10, 6))\n",
    "\n",
    "# Actual historical inflation\n",
    "sns.lineplot(x=historical.index, y=historical.values, label='Actual Inflation')\n",
    "\n",
    "# Model’s in‐sample fit\n",
    "sns.lineplot(x=hist_dates, y=hist_preds, label='Model Fit')\n",
    "\n",
    "# 12‐month out‐of‐sample forecast (as before)\n",
    "sns.lineplot(\n",
    "    x=forecast_series.index,\n",
    "    y=forecast_series.values,\n",
    "    label='12-Month Forecast',\n",
    "    linestyle='--'\n",
    ")\n",
    "\n",
    "plt.title(\"US YoY Inflation + 12-Month Forecast\")\n",
    "plt.xlabel(\"Date\")\n",
    "plt.ylabel(\"Inflation Rate (%)\")\n",
    "plt.legend()\n",
    "plt.tight_layout()\n",
    "plt.show()"
   ]
  },
  {
   "cell_type": "code",
   "execution_count": null,
   "id": "33c0286e-aa05-45b0-8e72-c6ccd00b2344",
   "metadata": {},
   "outputs": [],
   "source": [
    "forecast_series"
   ]
  },
  {
   "cell_type": "markdown",
   "id": "42a2743e-adf1-4e9c-95a8-bf77fd496579",
   "metadata": {},
   "source": [
    "## 3. Use GNN to Build Network of US Industries"
   ]
  },
  {
   "cell_type": "markdown",
   "id": "b79b9f1c-a0b3-4e63-ab41-df01926c2184",
   "metadata": {},
   "source": [
    "### 3.1 Load Data"
   ]
  },
  {
   "cell_type": "code",
   "execution_count": null,
   "id": "bc18f175-41ba-461b-b108-76ec1792dae7",
   "metadata": {},
   "outputs": [],
   "source": [
    "# Load 2024 industry input–output “Use” table\n",
    "io = pd.read_csv(\"BEA_IO_Accounts.csv\", index_col=0, dtype=str, na_values=['---'])\n",
    "io = io.astype(float)\n",
    "\n",
    "# Load anual industry growth data for 2023 and 2024\n",
    "df_growth = pd.read_csv(\"BEA_Industry_Growth.csv\", index_col=0)\n",
    "\n",
    "# Keep common industries\n",
    "common_index = io.index.intersection(df_growth.index)\n",
    "io     = io.loc[common_index, common_index]\n",
    "df_growth = df_growth.loc[common_index]\n",
    "\n",
    "io.head()"
   ]
  },
  {
   "cell_type": "code",
   "execution_count": null,
   "id": "9776ef11-6c17-478f-b5f2-3054427b7347",
   "metadata": {},
   "outputs": [],
   "source": [
    "df_growth.head()"
   ]
  },
  {
   "cell_type": "markdown",
   "id": "e56baa24-ec2b-4161-bd6e-7eee5548bce0",
   "metadata": {},
   "source": [
    "### 3.2 Preprocessing"
   ]
  },
  {
   "cell_type": "markdown",
   "id": "38054bfd-1469-4c12-9f05-41d20d32d088",
   "metadata": {},
   "source": [
    "#### Prepare Edges and Weights"
   ]
  },
  {
   "cell_type": "code",
   "execution_count": null,
   "id": "1b88aa8c-18b6-4da3-8997-fb8ee6fa272b",
   "metadata": {},
   "outputs": [],
   "source": [
    "# Build edge list & weights\n",
    "edges = []\n",
    "weights = []\n",
    "for i, supplier in enumerate(io.index):\n",
    "    for j, customer in enumerate(io.columns):\n",
    "        val = io.iloc[i, j]\n",
    "        if val > 0:\n",
    "            edges.append((i, j))\n",
    "            weights.append(val)"
   ]
  },
  {
   "cell_type": "markdown",
   "id": "03a1afbe-1868-45df-ab72-9b1889cb40a9",
   "metadata": {},
   "source": [
    "#### Put Data in a Tensor Object"
   ]
  },
  {
   "cell_type": "code",
   "execution_count": null,
   "id": "b9acf1fe-5ed3-4ba3-adb4-9281a0b29b74",
   "metadata": {},
   "outputs": [],
   "source": [
    "import torch\n",
    "from torch_geometric.data import Data\n",
    "edge_index = torch.tensor(edges, dtype=torch.long).t().contiguous()  # shape [2, E]\n",
    "edge_attr  = torch.tensor(weights, dtype=torch.float).unsqueeze(1)   # [E,1]\n",
    "\n",
    "# Node features: last-year’s value-added growth \n",
    "x = torch.tensor(df_growth.Growth23.values.reshape(-1,1), dtype=torch.float)\n",
    "\n",
    "# Target: this year’s growth\n",
    "y = torch.tensor(df_growth.Growth24.values, dtype=torch.float)\n",
    "\n",
    "# Put together\n",
    "data = Data(x=x, edge_index=edge_index, edge_attr=edge_attr, y=y)"
   ]
  },
  {
   "cell_type": "markdown",
   "id": "7ad68c59-a28a-4801-9d90-566f3981e61a",
   "metadata": {},
   "source": [
    "### 3.3 Build the Network Using GNN"
   ]
  },
  {
   "cell_type": "markdown",
   "id": "34407d3c-be0a-465d-9316-f4cfe8355009",
   "metadata": {},
   "source": [
    "#### Initiate the GNN Model"
   ]
  },
  {
   "cell_type": "code",
   "execution_count": null,
   "id": "64708329-1ec7-42c2-aed8-a2e8808980a5",
   "metadata": {},
   "outputs": [],
   "source": [
    "# Define a two–layer GCN\n",
    "from torch_geometric.nn import GCNConv\n",
    "import torch.nn.functional as F\n",
    "\n",
    "class IO_GCN(torch.nn.Module):\n",
    "    def __init__(self, in_feats, hidden=16):\n",
    "        super().__init__()\n",
    "        self.conv1 = GCNConv(in_feats, hidden)\n",
    "        self.conv2 = GCNConv(hidden, 1)\n",
    "    def forward(self, data):\n",
    "        h = F.relu(self.conv1(data.x, data.edge_index, data.edge_attr))\n",
    "        h = self.conv2(h, data.edge_index, data.edge_attr).squeeze()\n",
    "        return h\n",
    "\n",
    "model = IO_GCN(in_feats=1)\n",
    "optimizer = torch.optim.Adam(model.parameters(), lr=0.01)\n",
    "loss_fn   = torch.nn.MSELoss()"
   ]
  },
  {
   "cell_type": "markdown",
   "id": "fb6cc8b4-610d-4549-9852-6b5975157e7f",
   "metadata": {},
   "source": [
    "#### Get the Train/Test Indices"
   ]
  },
  {
   "cell_type": "code",
   "execution_count": null,
   "id": "2a0b0e01-5616-4932-b017-ead6ff641346",
   "metadata": {},
   "outputs": [],
   "source": [
    "# Train/test split (e.g. 80/20 on nodes)\n",
    "num_nodes = data.num_nodes\n",
    "perm = torch.randperm(num_nodes)\n",
    "train_idx = perm[:int(0.8*num_nodes)]\n",
    "test_idx  = perm[int(0.8*num_nodes):]"
   ]
  },
  {
   "cell_type": "markdown",
   "id": "8416184b-0360-4af9-b185-55bf5f4fc10c",
   "metadata": {},
   "source": [
    "#### Train the Model"
   ]
  },
  {
   "cell_type": "code",
   "execution_count": null,
   "id": "6cd62149-2325-4a46-99bf-536596ec9802",
   "metadata": {},
   "outputs": [],
   "source": [
    "# Training loop\n",
    "for epoch in range(1000):\n",
    "    model.train()\n",
    "    optimizer.zero_grad()\n",
    "    out = model(data)\n",
    "    loss = loss_fn(out[train_idx], data.y[train_idx])\n",
    "    loss.backward()\n",
    "    optimizer.step()\n",
    "    if epoch%50==0:\n",
    "        print(f\"Epoch {epoch:03d}  Loss: {loss.item():.4f}\")"
   ]
  },
  {
   "cell_type": "markdown",
   "id": "ea61c347-47b5-4f74-8d20-c11da9f07ac9",
   "metadata": {},
   "source": [
    "#### Evaluate the Trained Model"
   ]
  },
  {
   "cell_type": "code",
   "execution_count": null,
   "id": "0ef3cd40-f4a1-4d34-a4ca-1139a0c9646c",
   "metadata": {},
   "outputs": [],
   "source": [
    "# Evaluate\n",
    "model.eval()\n",
    "preds = model(data).detach()\n",
    "mse = loss_fn(preds[test_idx], data.y[test_idx])\n",
    "print(f\"\\nTest MSE: {mse:.4f}\")"
   ]
  },
  {
   "cell_type": "code",
   "execution_count": null,
   "id": "e9ffb77a-666d-4efc-ab5b-8f7c130ecee4",
   "metadata": {},
   "outputs": [],
   "source": [
    "# Compare the predicted growth and actual growth\n",
    "import matplotlib.pyplot as plt\n",
    "plt.scatter(data.y[test_idx], preds[test_idx])\n",
    "plt.plot([data.y.min(), data.y.max()],\n",
    "         [data.y.min(), data.y.max()], '--', lw=2)\n",
    "plt.xlabel(\"Actual Growth (%)\")\n",
    "plt.ylabel(\"Predicted Growth (%)\")\n",
    "plt.title(\"GCN Predictions of Industry Growth\")\n",
    "plt.show()"
   ]
  },
  {
   "cell_type": "markdown",
   "id": "52fe1deb-6b77-406d-a4d5-3806ae67a4c5",
   "metadata": {},
   "source": [
    "#### Plot the Network"
   ]
  },
  {
   "cell_type": "code",
   "execution_count": null,
   "id": "820b4c22-b73e-4f5b-9423-9ac921e35ef0",
   "metadata": {},
   "outputs": [],
   "source": [
    "from torch_geometric.utils import to_networkx\n",
    "\n",
    "# Convert to a NetworkX graph\n",
    "G = to_networkx(\n",
    "    data,\n",
    "    node_attrs=[],       \n",
    "    edge_attrs=[],\n",
    "    to_undirected=True    \n",
    ")\n",
    "\n",
    "edge_index = data.edge_index.t().tolist() \n",
    "weights     = data.edge_attr.squeeze().tolist()\n",
    "for (u, v), w in zip(edge_index, weights):\n",
    "    G[u][v]['weight'] = float(w)   "
   ]
  },
  {
   "cell_type": "code",
   "execution_count": null,
   "id": "008a7efc-b1a1-4f2a-984d-ab45dc987df6",
   "metadata": {},
   "outputs": [],
   "source": [
    "# Filter edges: no self-loops, top 2% by weight\n",
    "all_edges   = [(u, v, d) for u, v, d in G.edges(data=True) if u != v]\n",
    "all_weights = [d['weight'] for _, _, d in all_edges]\n",
    "threshold   = np.percentile(all_weights, 98) \n",
    "\n",
    "important_edges = [\n",
    "    (u, v, d) for u, v, d in all_edges\n",
    "    if d['weight'] >= threshold\n",
    "]"
   ]
  },
  {
   "cell_type": "code",
   "execution_count": null,
   "id": "2568191c-e645-405b-b5e5-9d24c35f02de",
   "metadata": {},
   "outputs": [],
   "source": [
    "# Build subgraph of just those edges & their nodes\n",
    "important_nodes = set()\n",
    "for u, v, _ in important_edges:\n",
    "    important_nodes.update([u, v])\n",
    "\n",
    "G_sub = G.subgraph(important_nodes).copy()"
   ]
  },
  {
   "cell_type": "code",
   "execution_count": null,
   "id": "eac8020a-62b3-4fdd-a9b4-98006ccbe23d",
   "metadata": {},
   "outputs": [],
   "source": [
    "# Build Cytoscape “elements” list\n",
    "elements = []\n",
    "\n",
    "# nodes\n",
    "for node in G_sub.nodes():\n",
    "    elements.append({\n",
    "        'data': {\n",
    "            'id': str(node),\n",
    "            'label': common_index[node] \n",
    "        }\n",
    "    })\n",
    "\n",
    "# edges\n",
    "for u, v, d in important_edges:\n",
    "    elements.append({\n",
    "        'data': {\n",
    "            'source': str(u),\n",
    "            'target': str(v),\n",
    "            'weight': d['weight']\n",
    "        }\n",
    "    })\n",
    "elements[:40]"
   ]
  },
  {
   "cell_type": "code",
   "execution_count": null,
   "id": "2420ecdf-11fa-4421-b81d-00e044a0e93a",
   "metadata": {},
   "outputs": [],
   "source": [
    "# Create the Dash app\n",
    "import dash\n",
    "from dash import html\n",
    "import dash_cytoscape as cyto\n",
    "\n",
    "app = dash.Dash(__name__)\n",
    "app.layout = html.Div([\n",
    "    html.H3(\"Industry I/O Network (Top 2% Flows, No Self-Loops)\"),\n",
    "    cyto.Cytoscape(\n",
    "        id='cytoscape-network',\n",
    "        elements=elements,\n",
    "        layout={'name': 'cose'},     \n",
    "        style={'width': '100%', 'height': '700px'},\n",
    "        stylesheet=[\n",
    "            # nodes: wrap truncated label, small font\n",
    "            {\n",
    "                'selector': 'node',\n",
    "                'style': {\n",
    "                    'content':         'data(label)',\n",
    "                    'text-wrap':       'wrap',\n",
    "                    'text-max-width':  80,\n",
    "                    'font-size':       '8px',\n",
    "                    'background-color':'#67a9cf',\n",
    "                    'width':           '20px',\n",
    "                    'height':          '20px'\n",
    "                }\n",
    "            },\n",
    "            {\n",
    "                'selector': 'node',\n",
    "                'style': {\n",
    "                    'label': 'data(label)',\n",
    "                    'background-color': '#67a9cf',\n",
    "                    'width': 20,\n",
    "                    'height': 20,\n",
    "                    'font-size': '10px',\n",
    "                    'text-valign': 'center',\n",
    "                    'text-halign': 'center'\n",
    "                }\n",
    "            },\n",
    "            {\n",
    "                'selector': 'edge',\n",
    "                'style': {\n",
    "                    # map weight (0→max) to line-width 1→8\n",
    "                    'width': f\"mapData(weight, 0, {max(all_weights)}, 1, 8)\",\n",
    "                    'line-color': '#888',\n",
    "                    'curve-style': 'bezier'\n",
    "                }\n",
    "            }\n",
    "        ]\n",
    "    )\n",
    "])\n",
    "\n",
    "if __name__ == '__main__':\n",
    "    app.run(debug=False)"
   ]
  },
  {
   "cell_type": "code",
   "execution_count": null,
   "id": "4f4d65c5-de2d-4ce5-ae6e-953263a8062a",
   "metadata": {},
   "outputs": [],
   "source": []
  }
 ],
 "metadata": {
  "kernelspec": {
   "display_name": "Python 3 (ipykernel)",
   "language": "python",
   "name": "python3"
  },
  "language_info": {
   "codemirror_mode": {
    "name": "ipython",
    "version": 3
   },
   "file_extension": ".py",
   "mimetype": "text/x-python",
   "name": "python",
   "nbconvert_exporter": "python",
   "pygments_lexer": "ipython3",
   "version": "3.12.9"
  }
 },
 "nbformat": 4,
 "nbformat_minor": 5
}
