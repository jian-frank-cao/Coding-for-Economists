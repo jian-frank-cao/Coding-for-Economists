{
 "cells": [
  {
   "cell_type": "markdown",
   "id": "287ce01a-1e6c-4019-8706-ffedab51322c",
   "metadata": {},
   "source": [
    "# Coding for Economists - Advanced Session 2"
   ]
  },
  {
   "cell_type": "markdown",
   "id": "ef7daa3c-fd9a-44e1-aa25-ec7b0ae40451",
   "metadata": {},
   "source": [
    "## 1. Setup Environment"
   ]
  },
  {
   "cell_type": "code",
   "execution_count": 13,
   "id": "051b8e24-c904-47b0-817b-aa89e5df0cd0",
   "metadata": {
    "scrolled": true
   },
   "outputs": [
    {
     "name": "stdout",
     "output_type": "stream",
     "text": [
      "Requirement already satisfied: tensorflow in /opt/anaconda3/envs/pyenv01/lib/python3.12/site-packages (2.19.0)\n",
      "Requirement already satisfied: scikeras in /opt/anaconda3/envs/pyenv01/lib/python3.12/site-packages (0.13.0)\n",
      "Requirement already satisfied: torch in /opt/anaconda3/envs/pyenv01/lib/python3.12/site-packages (2.6.0)\n",
      "Requirement already satisfied: dash in /opt/anaconda3/envs/pyenv01/lib/python3.12/site-packages (3.0.4)\n",
      "Collecting dash-cytoscape\n",
      "  Downloading dash_cytoscape-1.0.2.tar.gz (4.0 MB)\n",
      "\u001b[2K     \u001b[90m━━━━━━━━━━━━━━━━━━━━━━━━━━━━━━━━━━━━━━━━\u001b[0m \u001b[32m4.0/4.0 MB\u001b[0m \u001b[31m21.0 MB/s\u001b[0m eta \u001b[36m0:00:00\u001b[0m\n",
      "  Preparing metadata (setup.py) ... \u001b[?25ldone\n",
      "\u001b[?25hRequirement already satisfied: absl-py>=1.0.0 in /opt/anaconda3/envs/pyenv01/lib/python3.12/site-packages (from tensorflow) (2.2.2)\n",
      "Requirement already satisfied: astunparse>=1.6.0 in /opt/anaconda3/envs/pyenv01/lib/python3.12/site-packages (from tensorflow) (1.6.3)\n",
      "Requirement already satisfied: flatbuffers>=24.3.25 in /opt/anaconda3/envs/pyenv01/lib/python3.12/site-packages (from tensorflow) (25.2.10)\n",
      "Requirement already satisfied: gast!=0.5.0,!=0.5.1,!=0.5.2,>=0.2.1 in /opt/anaconda3/envs/pyenv01/lib/python3.12/site-packages (from tensorflow) (0.6.0)\n",
      "Requirement already satisfied: google-pasta>=0.1.1 in /opt/anaconda3/envs/pyenv01/lib/python3.12/site-packages (from tensorflow) (0.2.0)\n",
      "Requirement already satisfied: libclang>=13.0.0 in /opt/anaconda3/envs/pyenv01/lib/python3.12/site-packages (from tensorflow) (18.1.1)\n",
      "Requirement already satisfied: opt-einsum>=2.3.2 in /opt/anaconda3/envs/pyenv01/lib/python3.12/site-packages (from tensorflow) (3.4.0)\n",
      "Requirement already satisfied: packaging in /opt/anaconda3/envs/pyenv01/lib/python3.12/site-packages (from tensorflow) (24.2)\n",
      "Requirement already satisfied: protobuf!=4.21.0,!=4.21.1,!=4.21.2,!=4.21.3,!=4.21.4,!=4.21.5,<6.0.0dev,>=3.20.3 in /opt/anaconda3/envs/pyenv01/lib/python3.12/site-packages (from tensorflow) (5.29.3)\n",
      "Requirement already satisfied: requests<3,>=2.21.0 in /opt/anaconda3/envs/pyenv01/lib/python3.12/site-packages (from tensorflow) (2.32.3)\n",
      "Requirement already satisfied: setuptools in /opt/anaconda3/envs/pyenv01/lib/python3.12/site-packages (from tensorflow) (72.1.0)\n",
      "Requirement already satisfied: six>=1.12.0 in /opt/anaconda3/envs/pyenv01/lib/python3.12/site-packages (from tensorflow) (1.16.0)\n",
      "Requirement already satisfied: termcolor>=1.1.0 in /opt/anaconda3/envs/pyenv01/lib/python3.12/site-packages (from tensorflow) (3.1.0)\n",
      "Requirement already satisfied: typing-extensions>=3.6.6 in /opt/anaconda3/envs/pyenv01/lib/python3.12/site-packages (from tensorflow) (4.12.2)\n",
      "Requirement already satisfied: wrapt>=1.11.0 in /opt/anaconda3/envs/pyenv01/lib/python3.12/site-packages (from tensorflow) (1.17.0)\n",
      "Requirement already satisfied: grpcio<2.0,>=1.24.3 in /opt/anaconda3/envs/pyenv01/lib/python3.12/site-packages (from tensorflow) (1.71.0)\n",
      "Requirement already satisfied: tensorboard~=2.19.0 in /opt/anaconda3/envs/pyenv01/lib/python3.12/site-packages (from tensorflow) (2.19.0)\n",
      "Requirement already satisfied: keras>=3.5.0 in /opt/anaconda3/envs/pyenv01/lib/python3.12/site-packages (from tensorflow) (3.9.2)\n",
      "Requirement already satisfied: numpy<2.2.0,>=1.26.0 in /opt/anaconda3/envs/pyenv01/lib/python3.12/site-packages (from tensorflow) (1.26.4)\n",
      "Requirement already satisfied: h5py>=3.11.0 in /opt/anaconda3/envs/pyenv01/lib/python3.12/site-packages (from tensorflow) (3.13.0)\n",
      "Requirement already satisfied: ml-dtypes<1.0.0,>=0.5.1 in /opt/anaconda3/envs/pyenv01/lib/python3.12/site-packages (from tensorflow) (0.5.1)\n",
      "Requirement already satisfied: scikit-learn>=1.4.2 in /opt/anaconda3/envs/pyenv01/lib/python3.12/site-packages (from scikeras) (1.5.2)\n",
      "Requirement already satisfied: filelock in /opt/anaconda3/envs/pyenv01/lib/python3.12/site-packages (from torch) (3.18.0)\n",
      "Requirement already satisfied: networkx in /opt/anaconda3/envs/pyenv01/lib/python3.12/site-packages (from torch) (3.4.2)\n",
      "Requirement already satisfied: jinja2 in /opt/anaconda3/envs/pyenv01/lib/python3.12/site-packages (from torch) (3.1.5)\n",
      "Requirement already satisfied: fsspec in /opt/anaconda3/envs/pyenv01/lib/python3.12/site-packages (from torch) (2025.3.2)\n",
      "Requirement already satisfied: sympy==1.13.1 in /opt/anaconda3/envs/pyenv01/lib/python3.12/site-packages (from torch) (1.13.1)\n",
      "Requirement already satisfied: mpmath<1.4,>=1.1.0 in /opt/anaconda3/envs/pyenv01/lib/python3.12/site-packages (from sympy==1.13.1->torch) (1.3.0)\n",
      "Requirement already satisfied: Flask<3.1,>=1.0.4 in /opt/anaconda3/envs/pyenv01/lib/python3.12/site-packages (from dash) (3.0.3)\n",
      "Requirement already satisfied: Werkzeug<3.1 in /opt/anaconda3/envs/pyenv01/lib/python3.12/site-packages (from dash) (3.0.6)\n",
      "Requirement already satisfied: plotly>=5.0.0 in /opt/anaconda3/envs/pyenv01/lib/python3.12/site-packages (from dash) (5.24.1)\n",
      "Requirement already satisfied: importlib-metadata in /opt/anaconda3/envs/pyenv01/lib/python3.12/site-packages (from dash) (8.5.0)\n",
      "Requirement already satisfied: retrying in /opt/anaconda3/envs/pyenv01/lib/python3.12/site-packages (from dash) (1.3.4)\n",
      "Requirement already satisfied: nest-asyncio in /opt/anaconda3/envs/pyenv01/lib/python3.12/site-packages (from dash) (1.6.0)\n",
      "Requirement already satisfied: wheel<1.0,>=0.23.0 in /opt/anaconda3/envs/pyenv01/lib/python3.12/site-packages (from astunparse>=1.6.0->tensorflow) (0.45.1)\n",
      "Requirement already satisfied: itsdangerous>=2.1.2 in /opt/anaconda3/envs/pyenv01/lib/python3.12/site-packages (from Flask<3.1,>=1.0.4->dash) (2.2.0)\n",
      "Requirement already satisfied: click>=8.1.3 in /opt/anaconda3/envs/pyenv01/lib/python3.12/site-packages (from Flask<3.1,>=1.0.4->dash) (8.1.7)\n",
      "Requirement already satisfied: blinker>=1.6.2 in /opt/anaconda3/envs/pyenv01/lib/python3.12/site-packages (from Flask<3.1,>=1.0.4->dash) (1.9.0)\n",
      "Requirement already satisfied: MarkupSafe>=2.0 in /opt/anaconda3/envs/pyenv01/lib/python3.12/site-packages (from jinja2->torch) (3.0.2)\n",
      "Requirement already satisfied: rich in /opt/anaconda3/envs/pyenv01/lib/python3.12/site-packages (from keras>=3.5.0->tensorflow) (13.9.4)\n",
      "Requirement already satisfied: namex in /opt/anaconda3/envs/pyenv01/lib/python3.12/site-packages (from keras>=3.5.0->tensorflow) (0.0.9)\n",
      "Requirement already satisfied: optree in /opt/anaconda3/envs/pyenv01/lib/python3.12/site-packages (from keras>=3.5.0->tensorflow) (0.15.0)\n",
      "Requirement already satisfied: tenacity>=6.2.0 in /opt/anaconda3/envs/pyenv01/lib/python3.12/site-packages (from plotly>=5.0.0->dash) (9.0.0)\n",
      "Requirement already satisfied: charset-normalizer<4,>=2 in /opt/anaconda3/envs/pyenv01/lib/python3.12/site-packages (from requests<3,>=2.21.0->tensorflow) (3.3.2)\n",
      "Requirement already satisfied: idna<4,>=2.5 in /opt/anaconda3/envs/pyenv01/lib/python3.12/site-packages (from requests<3,>=2.21.0->tensorflow) (3.7)\n",
      "Requirement already satisfied: urllib3<3,>=1.21.1 in /opt/anaconda3/envs/pyenv01/lib/python3.12/site-packages (from requests<3,>=2.21.0->tensorflow) (2.3.0)\n",
      "Requirement already satisfied: certifi>=2017.4.17 in /opt/anaconda3/envs/pyenv01/lib/python3.12/site-packages (from requests<3,>=2.21.0->tensorflow) (2025.1.31)\n",
      "Requirement already satisfied: scipy>=1.6.0 in /opt/anaconda3/envs/pyenv01/lib/python3.12/site-packages (from scikit-learn>=1.4.2->scikeras) (1.15.1)\n",
      "Requirement already satisfied: joblib>=1.2.0 in /opt/anaconda3/envs/pyenv01/lib/python3.12/site-packages (from scikit-learn>=1.4.2->scikeras) (1.4.2)\n",
      "Requirement already satisfied: threadpoolctl>=3.1.0 in /opt/anaconda3/envs/pyenv01/lib/python3.12/site-packages (from scikit-learn>=1.4.2->scikeras) (3.5.0)\n",
      "Requirement already satisfied: markdown>=2.6.8 in /opt/anaconda3/envs/pyenv01/lib/python3.12/site-packages (from tensorboard~=2.19.0->tensorflow) (3.8)\n",
      "Requirement already satisfied: tensorboard-data-server<0.8.0,>=0.7.0 in /opt/anaconda3/envs/pyenv01/lib/python3.12/site-packages (from tensorboard~=2.19.0->tensorflow) (0.7.2)\n",
      "Requirement already satisfied: zipp>=3.20 in /opt/anaconda3/envs/pyenv01/lib/python3.12/site-packages (from importlib-metadata->dash) (3.21.0)\n",
      "Requirement already satisfied: markdown-it-py>=2.2.0 in /opt/anaconda3/envs/pyenv01/lib/python3.12/site-packages (from rich->keras>=3.5.0->tensorflow) (2.2.0)\n",
      "Requirement already satisfied: pygments<3.0.0,>=2.13.0 in /opt/anaconda3/envs/pyenv01/lib/python3.12/site-packages (from rich->keras>=3.5.0->tensorflow) (2.15.1)\n",
      "Requirement already satisfied: mdurl~=0.1 in /opt/anaconda3/envs/pyenv01/lib/python3.12/site-packages (from markdown-it-py>=2.2.0->rich->keras>=3.5.0->tensorflow) (0.1.0)\n",
      "Building wheels for collected packages: dash-cytoscape\n",
      "  Building wheel for dash-cytoscape (setup.py) ... done\n",
      "\u001b[?25h  Created wheel for dash-cytoscape: filename=dash_cytoscape-1.0.2-py3-none-any.whl size=4010717 sha256=f61a32fde8d2edf2fe3e0e8bd2dfc16bc717e31847dee9a6144e64ced7dacf83\n",
      "  Stored in directory: /Users/jiancao/Library/Caches/pip/wheels/0c/db/f6/9dcb225e9adf45dfef713542769556b1f508170a0759053892\n",
      "Successfully built dash-cytoscape\n",
      "Installing collected packages: dash-cytoscape\n",
      "Successfully installed dash-cytoscape-1.0.2\n",
      "Note: you may need to restart the kernel to use updated packages.\n"
     ]
    }
   ],
   "source": [
    "%pip install tensorflow scikeras torch dash dash-cytoscape"
   ]
  },
  {
   "cell_type": "code",
   "execution_count": 1,
   "id": "ce99a9a1-b0bd-434b-8bca-047437a1b625",
   "metadata": {},
   "outputs": [],
   "source": [
    "import numpy as np\n",
    "import pandas as pd\n",
    "\n",
    "from sklearn.preprocessing import MinMaxScaler\n",
    "from sklearn.model_selection import TimeSeriesSplit, GridSearchCV\n",
    "from tensorflow.keras.models import Sequential\n",
    "from tensorflow.keras.layers import LSTM, Dense, Input\n",
    "from scikeras.wrappers import KerasRegressor\n",
    "import matplotlib.pyplot as plt\n",
    "import seaborn as sns"
   ]
  },
  {
   "cell_type": "markdown",
   "id": "d4a2a213-f8d2-4e85-8f94-a3f6762a4b78",
   "metadata": {},
   "source": [
    "## 2. Use LSTM to Forecast US Inflation"
   ]
  },
  {
   "cell_type": "markdown",
   "id": "1b5eaef2-1226-440a-8ea8-1009d1dfe7fe",
   "metadata": {},
   "source": [
    "### 2.1 Collect Data"
   ]
  },
  {
   "cell_type": "code",
   "execution_count": 5,
   "id": "9ef0b130-b053-47e6-8872-a9fc9ca33fa8",
   "metadata": {},
   "outputs": [
    {
     "name": "stdout",
     "output_type": "stream",
     "text": [
      "(423, 1)\n",
      "(423, 1)\n",
      "(423, 1)\n"
     ]
    }
   ],
   "source": [
    "# Fetch multiple FRED series\n",
    "from pandas_datareader import data as pdr\n",
    "\n",
    "start_date = '1990-01-01'\n",
    "cpi = pdr.DataReader('CPIAUCSL', 'fred', start=start_date)\n",
    "unrate = pdr.DataReader('UNRATE', 'fred', start=start_date)\n",
    "fedfunds = pdr.DataReader('FEDFUNDS', 'fred', start=start_date)\n",
    "print(cpi.shape)\n",
    "print(unrate.shape)\n",
    "print(fedfunds.shape)"
   ]
  },
  {
   "cell_type": "code",
   "execution_count": 4,
   "id": "39738e73-89dc-4898-a5d0-8cdc65744d79",
   "metadata": {},
   "outputs": [
    {
     "ename": "ValueError",
     "evalue": "Indexes have overlapping values: Index(['UNRATE'], dtype='object')",
     "output_type": "error",
     "traceback": [
      "\u001b[0;31m---------------------------------------------------------------------------\u001b[0m",
      "\u001b[0;31mValueError\u001b[0m                                Traceback (most recent call last)",
      "Cell \u001b[0;32mIn[4], line 2\u001b[0m\n\u001b[1;32m      1\u001b[0m \u001b[38;5;66;03m# Merge features and compute year-on-year inflation\u001b[39;00m\n\u001b[0;32m----> 2\u001b[0m df \u001b[38;5;241m=\u001b[39m cpi\u001b[38;5;241m.\u001b[39mjoin([unrate, fedfunds])\u001b[38;5;241m.\u001b[39mdropna()\u001b[38;5;241m.\u001b[39mrename(columns\u001b[38;5;241m=\u001b[39m{\n\u001b[1;32m      3\u001b[0m     \u001b[38;5;124m'\u001b[39m\u001b[38;5;124mCPIAUCSL\u001b[39m\u001b[38;5;124m'\u001b[39m: \u001b[38;5;124m'\u001b[39m\u001b[38;5;124mCPI\u001b[39m\u001b[38;5;124m'\u001b[39m, \u001b[38;5;124m'\u001b[39m\u001b[38;5;124mUNRATE\u001b[39m\u001b[38;5;124m'\u001b[39m: \u001b[38;5;124m'\u001b[39m\u001b[38;5;124mUnemployment\u001b[39m\u001b[38;5;124m'\u001b[39m, \u001b[38;5;124m'\u001b[39m\u001b[38;5;124mFEDFUNDS\u001b[39m\u001b[38;5;124m'\u001b[39m: \u001b[38;5;124m'\u001b[39m\u001b[38;5;124mFedFunds\u001b[39m\u001b[38;5;124m'\u001b[39m\n\u001b[1;32m      4\u001b[0m })\n\u001b[1;32m      5\u001b[0m df[\u001b[38;5;124m'\u001b[39m\u001b[38;5;124mInflation\u001b[39m\u001b[38;5;124m'\u001b[39m] \u001b[38;5;241m=\u001b[39m df[\u001b[38;5;124m'\u001b[39m\u001b[38;5;124mCPI\u001b[39m\u001b[38;5;124m'\u001b[39m]\u001b[38;5;241m.\u001b[39mpct_change(\u001b[38;5;241m12\u001b[39m) \u001b[38;5;241m*\u001b[39m \u001b[38;5;241m100\u001b[39m\n\u001b[1;32m      6\u001b[0m df \u001b[38;5;241m=\u001b[39m df\u001b[38;5;241m.\u001b[39mdropna()\n",
      "File \u001b[0;32m/opt/anaconda3/envs/pyenv01/lib/python3.12/site-packages/pandas/core/frame.py:10790\u001b[0m, in \u001b[0;36mDataFrame.join\u001b[0;34m(self, other, on, how, lsuffix, rsuffix, sort, validate)\u001b[0m\n\u001b[1;32m  10788\u001b[0m \u001b[38;5;28;01mif\u001b[39;00m can_concat:\n\u001b[1;32m  10789\u001b[0m     \u001b[38;5;28;01mif\u001b[39;00m how \u001b[38;5;241m==\u001b[39m \u001b[38;5;124m\"\u001b[39m\u001b[38;5;124mleft\u001b[39m\u001b[38;5;124m\"\u001b[39m:\n\u001b[0;32m> 10790\u001b[0m         res \u001b[38;5;241m=\u001b[39m concat(\n\u001b[1;32m  10791\u001b[0m             frames, axis\u001b[38;5;241m=\u001b[39m\u001b[38;5;241m1\u001b[39m, join\u001b[38;5;241m=\u001b[39m\u001b[38;5;124m\"\u001b[39m\u001b[38;5;124mouter\u001b[39m\u001b[38;5;124m\"\u001b[39m, verify_integrity\u001b[38;5;241m=\u001b[39m\u001b[38;5;28;01mTrue\u001b[39;00m, sort\u001b[38;5;241m=\u001b[39msort\n\u001b[1;32m  10792\u001b[0m         )\n\u001b[1;32m  10793\u001b[0m         \u001b[38;5;28;01mreturn\u001b[39;00m res\u001b[38;5;241m.\u001b[39mreindex(\u001b[38;5;28mself\u001b[39m\u001b[38;5;241m.\u001b[39mindex, copy\u001b[38;5;241m=\u001b[39m\u001b[38;5;28;01mFalse\u001b[39;00m)\n\u001b[1;32m  10794\u001b[0m     \u001b[38;5;28;01melse\u001b[39;00m:\n",
      "File \u001b[0;32m/opt/anaconda3/envs/pyenv01/lib/python3.12/site-packages/pandas/core/reshape/concat.py:395\u001b[0m, in \u001b[0;36mconcat\u001b[0;34m(objs, axis, join, ignore_index, keys, levels, names, verify_integrity, sort, copy)\u001b[0m\n\u001b[1;32m    380\u001b[0m     copy \u001b[38;5;241m=\u001b[39m \u001b[38;5;28;01mFalse\u001b[39;00m\n\u001b[1;32m    382\u001b[0m op \u001b[38;5;241m=\u001b[39m _Concatenator(\n\u001b[1;32m    383\u001b[0m     objs,\n\u001b[1;32m    384\u001b[0m     axis\u001b[38;5;241m=\u001b[39maxis,\n\u001b[0;32m   (...)\u001b[0m\n\u001b[1;32m    392\u001b[0m     sort\u001b[38;5;241m=\u001b[39msort,\n\u001b[1;32m    393\u001b[0m )\n\u001b[0;32m--> 395\u001b[0m \u001b[38;5;28;01mreturn\u001b[39;00m op\u001b[38;5;241m.\u001b[39mget_result()\n",
      "File \u001b[0;32m/opt/anaconda3/envs/pyenv01/lib/python3.12/site-packages/pandas/core/reshape/concat.py:671\u001b[0m, in \u001b[0;36m_Concatenator.get_result\u001b[0;34m(self)\u001b[0m\n\u001b[1;32m    669\u001b[0m \u001b[38;5;28;01mfor\u001b[39;00m obj \u001b[38;5;129;01min\u001b[39;00m \u001b[38;5;28mself\u001b[39m\u001b[38;5;241m.\u001b[39mobjs:\n\u001b[1;32m    670\u001b[0m     indexers \u001b[38;5;241m=\u001b[39m {}\n\u001b[0;32m--> 671\u001b[0m     \u001b[38;5;28;01mfor\u001b[39;00m ax, new_labels \u001b[38;5;129;01min\u001b[39;00m \u001b[38;5;28menumerate\u001b[39m(\u001b[38;5;28mself\u001b[39m\u001b[38;5;241m.\u001b[39mnew_axes):\n\u001b[1;32m    672\u001b[0m         \u001b[38;5;66;03m# ::-1 to convert BlockManager ax to DataFrame ax\u001b[39;00m\n\u001b[1;32m    673\u001b[0m         \u001b[38;5;28;01mif\u001b[39;00m ax \u001b[38;5;241m==\u001b[39m \u001b[38;5;28mself\u001b[39m\u001b[38;5;241m.\u001b[39mbm_axis:\n\u001b[1;32m    674\u001b[0m             \u001b[38;5;66;03m# Suppress reindexing on concat axis\u001b[39;00m\n\u001b[1;32m    675\u001b[0m             \u001b[38;5;28;01mcontinue\u001b[39;00m\n",
      "File \u001b[0;32mproperties.pyx:36\u001b[0m, in \u001b[0;36mpandas._libs.properties.CachedProperty.__get__\u001b[0;34m()\u001b[0m\n",
      "File \u001b[0;32m/opt/anaconda3/envs/pyenv01/lib/python3.12/site-packages/pandas/core/reshape/concat.py:703\u001b[0m, in \u001b[0;36m_Concatenator.new_axes\u001b[0;34m(self)\u001b[0m\n\u001b[1;32m    699\u001b[0m \u001b[38;5;129m@cache_readonly\u001b[39m\n\u001b[1;32m    700\u001b[0m \u001b[38;5;28;01mdef\u001b[39;00m \u001b[38;5;21mnew_axes\u001b[39m(\u001b[38;5;28mself\u001b[39m) \u001b[38;5;241m-\u001b[39m\u001b[38;5;241m>\u001b[39m \u001b[38;5;28mlist\u001b[39m[Index]:\n\u001b[1;32m    701\u001b[0m     ndim \u001b[38;5;241m=\u001b[39m \u001b[38;5;28mself\u001b[39m\u001b[38;5;241m.\u001b[39m_get_result_dim()\n\u001b[1;32m    702\u001b[0m     \u001b[38;5;28;01mreturn\u001b[39;00m [\n\u001b[0;32m--> 703\u001b[0m         \u001b[38;5;28mself\u001b[39m\u001b[38;5;241m.\u001b[39m_get_concat_axis \u001b[38;5;28;01mif\u001b[39;00m i \u001b[38;5;241m==\u001b[39m \u001b[38;5;28mself\u001b[39m\u001b[38;5;241m.\u001b[39mbm_axis \u001b[38;5;28;01melse\u001b[39;00m \u001b[38;5;28mself\u001b[39m\u001b[38;5;241m.\u001b[39m_get_comb_axis(i)\n\u001b[1;32m    704\u001b[0m         \u001b[38;5;28;01mfor\u001b[39;00m i \u001b[38;5;129;01min\u001b[39;00m \u001b[38;5;28mrange\u001b[39m(ndim)\n\u001b[1;32m    705\u001b[0m     ]\n",
      "File \u001b[0;32mproperties.pyx:36\u001b[0m, in \u001b[0;36mpandas._libs.properties.CachedProperty.__get__\u001b[0;34m()\u001b[0m\n",
      "File \u001b[0;32m/opt/anaconda3/envs/pyenv01/lib/python3.12/site-packages/pandas/core/reshape/concat.py:766\u001b[0m, in \u001b[0;36m_Concatenator._get_concat_axis\u001b[0;34m(self)\u001b[0m\n\u001b[1;32m    761\u001b[0m \u001b[38;5;28;01melse\u001b[39;00m:\n\u001b[1;32m    762\u001b[0m     concat_axis \u001b[38;5;241m=\u001b[39m _make_concat_multiindex(\n\u001b[1;32m    763\u001b[0m         indexes, \u001b[38;5;28mself\u001b[39m\u001b[38;5;241m.\u001b[39mkeys, \u001b[38;5;28mself\u001b[39m\u001b[38;5;241m.\u001b[39mlevels, \u001b[38;5;28mself\u001b[39m\u001b[38;5;241m.\u001b[39mnames\n\u001b[1;32m    764\u001b[0m     )\n\u001b[0;32m--> 766\u001b[0m \u001b[38;5;28mself\u001b[39m\u001b[38;5;241m.\u001b[39m_maybe_check_integrity(concat_axis)\n\u001b[1;32m    768\u001b[0m \u001b[38;5;28;01mreturn\u001b[39;00m concat_axis\n",
      "File \u001b[0;32m/opt/anaconda3/envs/pyenv01/lib/python3.12/site-packages/pandas/core/reshape/concat.py:774\u001b[0m, in \u001b[0;36m_Concatenator._maybe_check_integrity\u001b[0;34m(self, concat_index)\u001b[0m\n\u001b[1;32m    772\u001b[0m \u001b[38;5;28;01mif\u001b[39;00m \u001b[38;5;129;01mnot\u001b[39;00m concat_index\u001b[38;5;241m.\u001b[39mis_unique:\n\u001b[1;32m    773\u001b[0m     overlap \u001b[38;5;241m=\u001b[39m concat_index[concat_index\u001b[38;5;241m.\u001b[39mduplicated()]\u001b[38;5;241m.\u001b[39munique()\n\u001b[0;32m--> 774\u001b[0m     \u001b[38;5;28;01mraise\u001b[39;00m \u001b[38;5;167;01mValueError\u001b[39;00m(\u001b[38;5;124mf\u001b[39m\u001b[38;5;124m\"\u001b[39m\u001b[38;5;124mIndexes have overlapping values: \u001b[39m\u001b[38;5;132;01m{\u001b[39;00moverlap\u001b[38;5;132;01m}\u001b[39;00m\u001b[38;5;124m\"\u001b[39m)\n",
      "\u001b[0;31mValueError\u001b[0m: Indexes have overlapping values: Index(['UNRATE'], dtype='object')"
     ]
    }
   ],
   "source": [
    "# Merge features and compute year-on-year inflation\n",
    "df = cpi.join([unrate, fedfunds]).dropna().rename(columns={\n",
    "    'CPIAUCSL': 'CPI', 'UNRATE': 'Unemployment', 'FEDFUNDS': 'FedFunds'\n",
    "})\n",
    "df['Inflation'] = df['CPI'].pct_change(12) * 100\n",
    "df = df.dropna()\n",
    "df.head()"
   ]
  },
  {
   "cell_type": "markdown",
   "id": "d60bfc11-f478-48cb-b53b-442d8f0e58a3",
   "metadata": {},
   "source": [
    "### 2.2 Preprocessing"
   ]
  },
  {
   "cell_type": "code",
   "execution_count": 5,
   "id": "ccaf03ed-e00c-42df-8e75-8d0b05849f9b",
   "metadata": {},
   "outputs": [],
   "source": [
    "# Scale variables using Minmax\n",
    "features = df[['Inflation', 'Unemployment', 'FedFunds']].values\n",
    "scaler = MinMaxScaler()\n",
    "scaled = scaler.fit_transform(features)"
   ]
  },
  {
   "cell_type": "code",
   "execution_count": 6,
   "id": "ef16e4b0-c2eb-4003-b48e-d62ecf06e6e6",
   "metadata": {},
   "outputs": [
    {
     "name": "stdout",
     "output_type": "stream",
     "text": [
      "(399, 12, 3)\n",
      "(399,)\n"
     ]
    }
   ],
   "source": [
    "# Prepare input data for LSTM\n",
    "def create_sequences(data, seq_len=12):\n",
    "    X, y = [], []\n",
    "    for i in range(len(data) - seq_len):\n",
    "        X.append(data[i:i+seq_len])\n",
    "        y.append(data[i+seq_len, 0])\n",
    "    return np.array(X), np.array(y)\n",
    "\n",
    "SEQ_LEN = 12 # use the past 12 months to predict the next month\n",
    "X, y = create_sequences(scaled, SEQ_LEN)\n",
    "print(X.shape)\n",
    "print(y.shape)"
   ]
  },
  {
   "cell_type": "markdown",
   "id": "3bd7f97f-6581-4ef3-98eb-94514ba3ed0a",
   "metadata": {},
   "source": [
    "### 2.3 Prepare Train/Test Sets"
   ]
  },
  {
   "cell_type": "code",
   "execution_count": 7,
   "id": "765a60f9-5e9f-44e0-a27a-cca210981a0c",
   "metadata": {},
   "outputs": [],
   "source": [
    "# Train/test split (80/20)\n",
    "split = int(len(X) * 0.8)\n",
    "X_train, X_test = X[:split], X[split:]\n",
    "y_train, y_test = y[:split], y[split:]"
   ]
  },
  {
   "cell_type": "markdown",
   "id": "1fc5f8ba-9359-4b07-ba4c-acba69ee96f3",
   "metadata": {},
   "source": [
    "### 2.4 Implement ISTM and Tune the Parameters"
   ]
  },
  {
   "cell_type": "markdown",
   "id": "9a0ec5a6-e248-4fbb-aedb-c8352541b9ce",
   "metadata": {},
   "source": [
    "#### Initiate the Model"
   ]
  },
  {
   "cell_type": "code",
   "execution_count": 29,
   "id": "66f8e04a-b0d2-4b87-86c9-a9e349f59cc4",
   "metadata": {},
   "outputs": [],
   "source": [
    "# Model-building function for GridSearch\n",
    "def build_model(units=50, optimizer='adam'):\n",
    "    m = Sequential([\n",
    "        Input(shape=(SEQ_LEN, X.shape[2])),\n",
    "        LSTM(units),\n",
    "        Dense(1)\n",
    "    ])\n",
    "    m.compile(optimizer=optimizer, loss='mse')\n",
    "    return m\n",
    "\n",
    "# Wrap with KerasRegressor\n",
    "regressor = KerasRegressor(model=build_model, verbose=0, units=50)\n",
    "\n",
    "# Grid of hyperparameters\n",
    "param_grid = {\n",
    "    'optimizer': ['adam', 'rmsprop'],\n",
    "    'batch_size': [8, 16],\n",
    "    'epochs': [30, 40]\n",
    "}\n",
    "\n",
    "# Time series cross-validation\n",
    "tscv = TimeSeriesSplit(n_splits=5)"
   ]
  },
  {
   "cell_type": "markdown",
   "id": "dda28458-9c03-4003-8241-1156aaeec8c0",
   "metadata": {},
   "source": [
    "#### Grid Search"
   ]
  },
  {
   "cell_type": "code",
   "execution_count": 30,
   "id": "6b237ec2-b8db-4399-b032-27d3300d6a0d",
   "metadata": {},
   "outputs": [
    {
     "name": "stdout",
     "output_type": "stream",
     "text": [
      "Best MSE: 0.0049\n",
      "Best Params: {'batch_size': 8, 'epochs': 40, 'optimizer': 'adam'}\n"
     ]
    }
   ],
   "source": [
    "# Grid search\n",
    "grid = GridSearchCV(\n",
    "    estimator=regressor,\n",
    "    param_grid=param_grid,\n",
    "    cv=tscv,\n",
    "    scoring='neg_mean_squared_error',\n",
    "    n_jobs=1\n",
    ")\n",
    "grid_result = grid.fit(X_train, y_train)\n",
    "\n",
    "print(\"Best MSE: {:.4f}\".format(-grid_result.best_score_))\n",
    "print(\"Best Params:\", grid_result.best_params_)"
   ]
  },
  {
   "cell_type": "markdown",
   "id": "ad983ad7-b277-4a5b-9174-1e0020c5d267",
   "metadata": {},
   "source": [
    "### 2.5 Predict the Historical Inflation"
   ]
  },
  {
   "cell_type": "code",
   "execution_count": 33,
   "id": "623a67a1-484f-4914-9761-03b059e59103",
   "metadata": {},
   "outputs": [
    {
     "name": "stdout",
     "output_type": "stream",
     "text": [
      "\u001b[1m13/13\u001b[0m \u001b[32m━━━━━━━━━━━━━━━━━━━━\u001b[0m\u001b[37m\u001b[0m \u001b[1m0s\u001b[0m 1ms/step \n"
     ]
    }
   ],
   "source": [
    "# Select the best model\n",
    "best_keras_model = grid_result.best_estimator_.model_\n",
    "\n",
    "# Predict on every available sequence in the data\n",
    "hist_preds_scaled = best_keras_model.predict(X)\n",
    "\n",
    "# Inverse‐transform back to % inflation\n",
    "hist_preds = scaler.inverse_transform(\n",
    "    np.hstack([\n",
    "        hist_preds_scaled.reshape(-1, 1),\n",
    "        np.zeros((len(hist_preds_scaled), 2))\n",
    "    ])\n",
    ")[:, 0]  # get the inflation column"
   ]
  },
  {
   "cell_type": "markdown",
   "id": "f245b5d3-37ee-4fc0-aca9-5c4930b9785a",
   "metadata": {},
   "source": [
    "### 2.6 Forecast the Future 12 Months"
   ]
  },
  {
   "cell_type": "code",
   "execution_count": 34,
   "id": "6297c960-4bf9-4f1b-95c9-74cab0d603cc",
   "metadata": {},
   "outputs": [
    {
     "name": "stdout",
     "output_type": "stream",
     "text": [
      "\u001b[1m1/1\u001b[0m \u001b[32m━━━━━━━━━━━━━━━━━━━━\u001b[0m\u001b[37m\u001b[0m \u001b[1m0s\u001b[0m 13ms/step\n",
      "\u001b[1m1/1\u001b[0m \u001b[32m━━━━━━━━━━━━━━━━━━━━\u001b[0m\u001b[37m\u001b[0m \u001b[1m0s\u001b[0m 9ms/step\n",
      "\u001b[1m1/1\u001b[0m \u001b[32m━━━━━━━━━━━━━━━━━━━━\u001b[0m\u001b[37m\u001b[0m \u001b[1m0s\u001b[0m 9ms/step\n",
      "\u001b[1m1/1\u001b[0m \u001b[32m━━━━━━━━━━━━━━━━━━━━\u001b[0m\u001b[37m\u001b[0m \u001b[1m0s\u001b[0m 9ms/step\n",
      "\u001b[1m1/1\u001b[0m \u001b[32m━━━━━━━━━━━━━━━━━━━━\u001b[0m\u001b[37m\u001b[0m \u001b[1m0s\u001b[0m 9ms/step\n",
      "\u001b[1m1/1\u001b[0m \u001b[32m━━━━━━━━━━━━━━━━━━━━\u001b[0m\u001b[37m\u001b[0m \u001b[1m0s\u001b[0m 8ms/step\n",
      "\u001b[1m1/1\u001b[0m \u001b[32m━━━━━━━━━━━━━━━━━━━━\u001b[0m\u001b[37m\u001b[0m \u001b[1m0s\u001b[0m 8ms/step\n",
      "\u001b[1m1/1\u001b[0m \u001b[32m━━━━━━━━━━━━━━━━━━━━\u001b[0m\u001b[37m\u001b[0m \u001b[1m0s\u001b[0m 8ms/step\n",
      "\u001b[1m1/1\u001b[0m \u001b[32m━━━━━━━━━━━━━━━━━━━━\u001b[0m\u001b[37m\u001b[0m \u001b[1m0s\u001b[0m 9ms/step\n",
      "\u001b[1m1/1\u001b[0m \u001b[32m━━━━━━━━━━━━━━━━━━━━\u001b[0m\u001b[37m\u001b[0m \u001b[1m0s\u001b[0m 8ms/step\n",
      "\u001b[1m1/1\u001b[0m \u001b[32m━━━━━━━━━━━━━━━━━━━━\u001b[0m\u001b[37m\u001b[0m \u001b[1m0s\u001b[0m 8ms/step\n",
      "\u001b[1m1/1\u001b[0m \u001b[32m━━━━━━━━━━━━━━━━━━━━\u001b[0m\u001b[37m\u001b[0m \u001b[1m0s\u001b[0m 9ms/step\n"
     ]
    }
   ],
   "source": [
    "# Forecast next 12 months\n",
    "n_future = 12\n",
    "last_seq = scaled[-SEQ_LEN:].copy()\n",
    "future_preds_scaled = []\n",
    "\n",
    "for _ in range(n_future):\n",
    "    p = best_keras_model.predict(last_seq.reshape(1, SEQ_LEN, X.shape[2]))[0, 0]\n",
    "    future_preds_scaled.append([p, last_seq[-1,1], last_seq[-1,2]])  # keep other features static\n",
    "    last_seq = np.vstack([last_seq[1:], future_preds_scaled[-1]])\n",
    "\n",
    "# extract inflation forecasts and inverse scale\n",
    "future_preds = np.array(future_preds_scaled)[:, 0].reshape(-1, 1)\n",
    "inflation_preds = scaler.inverse_transform(\n",
    "    np.hstack([future_preds, np.zeros((n_future, 2))])\n",
    ")[:, 0]\n",
    "\n",
    "future_dates = pd.date_range(df.index[-1], periods=n_future, freq='ME')\n",
    "forecast_series = pd.Series(inflation_preds, index=future_dates)"
   ]
  },
  {
   "cell_type": "markdown",
   "id": "debeeeb1-d660-44be-a5e3-451cee24d380",
   "metadata": {},
   "source": [
    "### 2.7 Plot the Results"
   ]
  },
  {
   "cell_type": "code",
   "execution_count": 35,
   "id": "72095411-67a0-42d5-94ec-18736070b6b1",
   "metadata": {},
   "outputs": [
    {
     "data": {
      "image/png": "[encoded data removed]",
      "text/plain": [
       "<Figure size 1000x600 with 1 Axes>"
      ]
     },
     "metadata": {},
     "output_type": "display_data"
    }
   ],
   "source": [
    "hist_dates = df.index[SEQ_LEN:]\n",
    "historical = df['Inflation'].copy()\n",
    "\n",
    "sns.set(style=\"whitegrid\")\n",
    "plt.figure(figsize=(10, 6))\n",
    "\n",
    "# Actual historical inflation\n",
    "sns.lineplot(x=historical.index, y=historical.values, label='Actual Inflation')\n",
    "\n",
    "# Model’s in‐sample fit\n",
    "sns.lineplot(x=hist_dates, y=hist_preds, label='Model Fit')\n",
    "\n",
    "# 12‐month out‐of‐sample forecast (as before)\n",
    "sns.lineplot(\n",
    "    x=forecast_series.index,\n",
    "    y=forecast_series.values,\n",
    "    label='12-Month Forecast',\n",
    "    linestyle='--'\n",
    ")\n",
    "\n",
    "plt.title(\"US YoY Inflation + 12-Month Forecast\")\n",
    "plt.xlabel(\"Date\")\n",
    "plt.ylabel(\"Inflation Rate (%)\")\n",
    "plt.legend()\n",
    "plt.tight_layout()\n",
    "plt.show()"
   ]
  },
  {
   "cell_type": "markdown",
   "id": "42a2743e-adf1-4e9c-95a8-bf77fd496579",
   "metadata": {},
   "source": [
    "## 3. Use GNN to Build Network of Industries"
   ]
  },
  {
   "cell_type": "code",
   "execution_count": 1,
   "id": "7aed76cf-0d2b-430c-937f-e797f8f53984",
   "metadata": {},
   "outputs": [],
   "source": [
    "import pandas as pd\n",
    "import torch\n",
    "from torch_geometric.data import Data\n",
    "from torch_geometric.nn import GCNConv\n",
    "import torch.nn.functional as F"
   ]
  },
  {
   "cell_type": "code",
   "execution_count": 2,
   "id": "bc18f175-41ba-461b-b108-76ec1792dae7",
   "metadata": {},
   "outputs": [
    {
     "data": {
      "text/html": [
       "<div>\n",
       "<style scoped>\n",
       "    .dataframe tbody tr th:only-of-type {\n",
       "        vertical-align: middle;\n",
       "    }\n",
       "\n",
       "    .dataframe tbody tr th {\n",
       "        vertical-align: top;\n",
       "    }\n",
       "\n",
       "    .dataframe thead th {\n",
       "        text-align: right;\n",
       "    }\n",
       "</style>\n",
       "<table border=\"1\" class=\"dataframe\">\n",
       "  <thead>\n",
       "    <tr style=\"text-align: right;\">\n",
       "      <th></th>\n",
       "      <th>Farms</th>\n",
       "      <th>Forestry, fishing, and related activities</th>\n",
       "      <th>Oil and gas extraction</th>\n",
       "      <th>Mining, except oil and gas</th>\n",
       "      <th>Support activities for mining</th>\n",
       "      <th>Utilities</th>\n",
       "      <th>Construction</th>\n",
       "      <th>Wood products</th>\n",
       "      <th>Nonmetallic mineral products</th>\n",
       "      <th>Primary metals</th>\n",
       "      <th>...</th>\n",
       "      <th>Educational services</th>\n",
       "      <th>Ambulatory health care services</th>\n",
       "      <th>Hospitals</th>\n",
       "      <th>Nursing and residential care facilities</th>\n",
       "      <th>Social assistance</th>\n",
       "      <th>Performing arts, spectator sports, museums, and related activities</th>\n",
       "      <th>Amusements, gambling, and recreation industries</th>\n",
       "      <th>Accommodation</th>\n",
       "      <th>Food services and drinking places</th>\n",
       "      <th>Other services, except government</th>\n",
       "    </tr>\n",
       "  </thead>\n",
       "  <tbody>\n",
       "    <tr>\n",
       "      <th>Farms</th>\n",
       "      <td>149222.0</td>\n",
       "      <td>183.0</td>\n",
       "      <td>NaN</td>\n",
       "      <td>45.0</td>\n",
       "      <td>21.0</td>\n",
       "      <td>NaN</td>\n",
       "      <td>3837.0</td>\n",
       "      <td>NaN</td>\n",
       "      <td>NaN</td>\n",
       "      <td>NaN</td>\n",
       "      <td>...</td>\n",
       "      <td>261.0</td>\n",
       "      <td>NaN</td>\n",
       "      <td>NaN</td>\n",
       "      <td>NaN</td>\n",
       "      <td>NaN</td>\n",
       "      <td>NaN</td>\n",
       "      <td>491.0</td>\n",
       "      <td>87.0</td>\n",
       "      <td>8378.0</td>\n",
       "      <td>13.0</td>\n",
       "    </tr>\n",
       "    <tr>\n",
       "      <th>Forestry, fishing, and related activities</th>\n",
       "      <td>27934.0</td>\n",
       "      <td>9440.0</td>\n",
       "      <td>NaN</td>\n",
       "      <td>145.0</td>\n",
       "      <td>NaN</td>\n",
       "      <td>NaN</td>\n",
       "      <td>NaN</td>\n",
       "      <td>22506.0</td>\n",
       "      <td>1.0</td>\n",
       "      <td>NaN</td>\n",
       "      <td>...</td>\n",
       "      <td>63.0</td>\n",
       "      <td>NaN</td>\n",
       "      <td>NaN</td>\n",
       "      <td>NaN</td>\n",
       "      <td>NaN</td>\n",
       "      <td>NaN</td>\n",
       "      <td>404.0</td>\n",
       "      <td>438.0</td>\n",
       "      <td>7764.0</td>\n",
       "      <td>112.0</td>\n",
       "    </tr>\n",
       "    <tr>\n",
       "      <th>Oil and gas extraction</th>\n",
       "      <td>NaN</td>\n",
       "      <td>NaN</td>\n",
       "      <td>30944.0</td>\n",
       "      <td>11.0</td>\n",
       "      <td>83.0</td>\n",
       "      <td>29608.0</td>\n",
       "      <td>NaN</td>\n",
       "      <td>25.0</td>\n",
       "      <td>5.0</td>\n",
       "      <td>10.0</td>\n",
       "      <td>...</td>\n",
       "      <td>1291.0</td>\n",
       "      <td>42.0</td>\n",
       "      <td>8.0</td>\n",
       "      <td>18.0</td>\n",
       "      <td>38.0</td>\n",
       "      <td>17.0</td>\n",
       "      <td>232.0</td>\n",
       "      <td>31.0</td>\n",
       "      <td>19.0</td>\n",
       "      <td>161.0</td>\n",
       "    </tr>\n",
       "    <tr>\n",
       "      <th>Mining, except oil and gas</th>\n",
       "      <td>1835.0</td>\n",
       "      <td>0.0</td>\n",
       "      <td>122.0</td>\n",
       "      <td>10397.0</td>\n",
       "      <td>159.0</td>\n",
       "      <td>9288.0</td>\n",
       "      <td>32790.0</td>\n",
       "      <td>10.0</td>\n",
       "      <td>16247.0</td>\n",
       "      <td>21470.0</td>\n",
       "      <td>...</td>\n",
       "      <td>655.0</td>\n",
       "      <td>NaN</td>\n",
       "      <td>27.0</td>\n",
       "      <td>42.0</td>\n",
       "      <td>475.0</td>\n",
       "      <td>474.0</td>\n",
       "      <td>951.0</td>\n",
       "      <td>168.0</td>\n",
       "      <td>1320.0</td>\n",
       "      <td>1639.0</td>\n",
       "    </tr>\n",
       "    <tr>\n",
       "      <th>Support activities for mining</th>\n",
       "      <td>NaN</td>\n",
       "      <td>NaN</td>\n",
       "      <td>21084.0</td>\n",
       "      <td>2085.0</td>\n",
       "      <td>1583.0</td>\n",
       "      <td>NaN</td>\n",
       "      <td>NaN</td>\n",
       "      <td>NaN</td>\n",
       "      <td>NaN</td>\n",
       "      <td>NaN</td>\n",
       "      <td>...</td>\n",
       "      <td>NaN</td>\n",
       "      <td>NaN</td>\n",
       "      <td>NaN</td>\n",
       "      <td>NaN</td>\n",
       "      <td>NaN</td>\n",
       "      <td>NaN</td>\n",
       "      <td>NaN</td>\n",
       "      <td>NaN</td>\n",
       "      <td>NaN</td>\n",
       "      <td>NaN</td>\n",
       "    </tr>\n",
       "  </tbody>\n",
       "</table>\n",
       "<p>5 rows × 66 columns</p>\n",
       "</div>"
      ],
      "text/plain": [
       "                                              Farms  \\\n",
       "Farms                                      149222.0   \n",
       "Forestry, fishing, and related activities   27934.0   \n",
       "Oil and gas extraction                          NaN   \n",
       "Mining, except oil and gas                   1835.0   \n",
       "Support activities for mining                   NaN   \n",
       "\n",
       "                                           Forestry, fishing, and related activities  \\\n",
       "Farms                                                                          183.0   \n",
       "Forestry, fishing, and related activities                                     9440.0   \n",
       "Oil and gas extraction                                                           NaN   \n",
       "Mining, except oil and gas                                                       0.0   \n",
       "Support activities for mining                                                    NaN   \n",
       "\n",
       "                                           Oil and gas extraction  \\\n",
       "Farms                                                         NaN   \n",
       "Forestry, fishing, and related activities                     NaN   \n",
       "Oil and gas extraction                                    30944.0   \n",
       "Mining, except oil and gas                                  122.0   \n",
       "Support activities for mining                             21084.0   \n",
       "\n",
       "                                           Mining, except oil and gas  \\\n",
       "Farms                                                            45.0   \n",
       "Forestry, fishing, and related activities                       145.0   \n",
       "Oil and gas extraction                                           11.0   \n",
       "Mining, except oil and gas                                    10397.0   \n",
       "Support activities for mining                                  2085.0   \n",
       "\n",
       "                                           Support activities for mining  \\\n",
       "Farms                                                               21.0   \n",
       "Forestry, fishing, and related activities                            NaN   \n",
       "Oil and gas extraction                                              83.0   \n",
       "Mining, except oil and gas                                         159.0   \n",
       "Support activities for mining                                     1583.0   \n",
       "\n",
       "                                           Utilities  Construction  \\\n",
       "Farms                                            NaN        3837.0   \n",
       "Forestry, fishing, and related activities        NaN           NaN   \n",
       "Oil and gas extraction                       29608.0           NaN   \n",
       "Mining, except oil and gas                    9288.0       32790.0   \n",
       "Support activities for mining                    NaN           NaN   \n",
       "\n",
       "                                           Wood products  \\\n",
       "Farms                                                NaN   \n",
       "Forestry, fishing, and related activities        22506.0   \n",
       "Oil and gas extraction                              25.0   \n",
       "Mining, except oil and gas                          10.0   \n",
       "Support activities for mining                        NaN   \n",
       "\n",
       "                                           Nonmetallic mineral products  \\\n",
       "Farms                                                               NaN   \n",
       "Forestry, fishing, and related activities                           1.0   \n",
       "Oil and gas extraction                                              5.0   \n",
       "Mining, except oil and gas                                      16247.0   \n",
       "Support activities for mining                                       NaN   \n",
       "\n",
       "                                           Primary metals  ...  \\\n",
       "Farms                                                 NaN  ...   \n",
       "Forestry, fishing, and related activities             NaN  ...   \n",
       "Oil and gas extraction                               10.0  ...   \n",
       "Mining, except oil and gas                        21470.0  ...   \n",
       "Support activities for mining                         NaN  ...   \n",
       "\n",
       "                                           Educational services  \\\n",
       "Farms                                                     261.0   \n",
       "Forestry, fishing, and related activities                  63.0   \n",
       "Oil and gas extraction                                   1291.0   \n",
       "Mining, except oil and gas                                655.0   \n",
       "Support activities for mining                               NaN   \n",
       "\n",
       "                                           Ambulatory health care services  \\\n",
       "Farms                                                                  NaN   \n",
       "Forestry, fishing, and related activities                              NaN   \n",
       "Oil and gas extraction                                                42.0   \n",
       "Mining, except oil and gas                                             NaN   \n",
       "Support activities for mining                                          NaN   \n",
       "\n",
       "                                           Hospitals  \\\n",
       "Farms                                            NaN   \n",
       "Forestry, fishing, and related activities        NaN   \n",
       "Oil and gas extraction                           8.0   \n",
       "Mining, except oil and gas                      27.0   \n",
       "Support activities for mining                    NaN   \n",
       "\n",
       "                                           Nursing and residential care facilities  \\\n",
       "Farms                                                                          NaN   \n",
       "Forestry, fishing, and related activities                                      NaN   \n",
       "Oil and gas extraction                                                        18.0   \n",
       "Mining, except oil and gas                                                    42.0   \n",
       "Support activities for mining                                                  NaN   \n",
       "\n",
       "                                           Social assistance  \\\n",
       "Farms                                                    NaN   \n",
       "Forestry, fishing, and related activities                NaN   \n",
       "Oil and gas extraction                                  38.0   \n",
       "Mining, except oil and gas                             475.0   \n",
       "Support activities for mining                            NaN   \n",
       "\n",
       "                                           Performing arts, spectator sports, museums, and related activities  \\\n",
       "Farms                                                                                    NaN                    \n",
       "Forestry, fishing, and related activities                                                NaN                    \n",
       "Oil and gas extraction                                                                  17.0                    \n",
       "Mining, except oil and gas                                                             474.0                    \n",
       "Support activities for mining                                                            NaN                    \n",
       "\n",
       "                                           Amusements, gambling, and recreation industries  \\\n",
       "Farms                                                                                491.0   \n",
       "Forestry, fishing, and related activities                                            404.0   \n",
       "Oil and gas extraction                                                               232.0   \n",
       "Mining, except oil and gas                                                           951.0   \n",
       "Support activities for mining                                                          NaN   \n",
       "\n",
       "                                           Accommodation  \\\n",
       "Farms                                               87.0   \n",
       "Forestry, fishing, and related activities          438.0   \n",
       "Oil and gas extraction                              31.0   \n",
       "Mining, except oil and gas                         168.0   \n",
       "Support activities for mining                        NaN   \n",
       "\n",
       "                                           Food services and drinking places  \\\n",
       "Farms                                                                 8378.0   \n",
       "Forestry, fishing, and related activities                             7764.0   \n",
       "Oil and gas extraction                                                  19.0   \n",
       "Mining, except oil and gas                                            1320.0   \n",
       "Support activities for mining                                            NaN   \n",
       "\n",
       "                                           Other services, except government  \n",
       "Farms                                                                   13.0  \n",
       "Forestry, fishing, and related activities                              112.0  \n",
       "Oil and gas extraction                                                 161.0  \n",
       "Mining, except oil and gas                                            1639.0  \n",
       "Support activities for mining                                            NaN  \n",
       "\n",
       "[5 rows x 66 columns]"
      ]
     },
     "execution_count": 2,
     "metadata": {},
     "output_type": "execute_result"
    }
   ],
   "source": [
    "# Load an I/O matrix: rows = suppliers, cols = customers\n",
    "io = pd.read_csv(\"BEA_IO_Accounts.csv\", index_col=0, dtype=str, na_values=['---'])\n",
    "io = io.astype(float)\n",
    "\n",
    "# Load growth data\n",
    "df_growth = pd.read_csv(\"BEA_Industry_Growth.csv\", index_col=0)\n",
    "\n",
    "# Keep common index\n",
    "common_index = io.index.intersection(df_growth.index)\n",
    "io     = io.loc[common_index, common_index]\n",
    "df_growth = df_growth.loc[common_index]\n",
    "\n",
    "io.head()"
   ]
  },
  {
   "cell_type": "code",
   "execution_count": 3,
   "id": "9776ef11-6c17-478f-b5f2-3054427b7347",
   "metadata": {},
   "outputs": [
    {
     "data": {
      "text/html": [
       "<div>\n",
       "<style scoped>\n",
       "    .dataframe tbody tr th:only-of-type {\n",
       "        vertical-align: middle;\n",
       "    }\n",
       "\n",
       "    .dataframe tbody tr th {\n",
       "        vertical-align: top;\n",
       "    }\n",
       "\n",
       "    .dataframe thead th {\n",
       "        text-align: right;\n",
       "    }\n",
       "</style>\n",
       "<table border=\"1\" class=\"dataframe\">\n",
       "  <thead>\n",
       "    <tr style=\"text-align: right;\">\n",
       "      <th></th>\n",
       "      <th>Growth23</th>\n",
       "      <th>Growth24</th>\n",
       "    </tr>\n",
       "  </thead>\n",
       "  <tbody>\n",
       "    <tr>\n",
       "      <th>Farms</th>\n",
       "      <td>-8.1</td>\n",
       "      <td>-10.5</td>\n",
       "    </tr>\n",
       "    <tr>\n",
       "      <th>Forestry, fishing, and related activities</th>\n",
       "      <td>7.7</td>\n",
       "      <td>-4.9</td>\n",
       "    </tr>\n",
       "    <tr>\n",
       "      <th>Oil and gas extraction</th>\n",
       "      <td>-19.4</td>\n",
       "      <td>-6.0</td>\n",
       "    </tr>\n",
       "    <tr>\n",
       "      <th>Mining, except oil and gas</th>\n",
       "      <td>6.1</td>\n",
       "      <td>1.1</td>\n",
       "    </tr>\n",
       "    <tr>\n",
       "      <th>Support activities for mining</th>\n",
       "      <td>13.5</td>\n",
       "      <td>-4.8</td>\n",
       "    </tr>\n",
       "  </tbody>\n",
       "</table>\n",
       "</div>"
      ],
      "text/plain": [
       "                                           Growth23  Growth24\n",
       "Farms                                          -8.1     -10.5\n",
       "Forestry, fishing, and related activities       7.7      -4.9\n",
       "Oil and gas extraction                        -19.4      -6.0\n",
       "Mining, except oil and gas                      6.1       1.1\n",
       "Support activities for mining                  13.5      -4.8"
      ]
     },
     "execution_count": 3,
     "metadata": {},
     "output_type": "execute_result"
    }
   ],
   "source": [
    "df_growth.head()"
   ]
  },
  {
   "cell_type": "code",
   "execution_count": 4,
   "id": "1b88aa8c-18b6-4da3-8997-fb8ee6fa272b",
   "metadata": {},
   "outputs": [],
   "source": [
    "# Build edge list & weights\n",
    "edges = []\n",
    "weights = []\n",
    "for i, supplier in enumerate(io.index):\n",
    "    for j, customer in enumerate(io.columns):\n",
    "        val = io.iloc[i, j]\n",
    "        if val > 0:\n",
    "            edges.append((i, j))\n",
    "            weights.append(val)\n",
    "\n",
    "edge_index = torch.tensor(edges, dtype=torch.long).t().contiguous()  # shape [2, E]\n",
    "edge_attr  = torch.tensor(weights, dtype=torch.float).unsqueeze(1)   # [E,1]"
   ]
  },
  {
   "cell_type": "code",
   "execution_count": 5,
   "id": "b9acf1fe-5ed3-4ba3-adb4-9281a0b29b74",
   "metadata": {},
   "outputs": [],
   "source": [
    "# Node features: last-year’s value-added growth \n",
    "x = torch.tensor(df_growth.Growth23.values.reshape(-1,1), dtype=torch.float)\n",
    "\n",
    "# Target: this year’s growth\n",
    "y = torch.tensor(df_growth.Growth24.values, dtype=torch.float)"
   ]
  },
  {
   "cell_type": "code",
   "execution_count": 6,
   "id": "d421a0ba-7f57-44bd-85c2-14d9e3b4cae1",
   "metadata": {},
   "outputs": [],
   "source": [
    "data = Data(x=x, edge_index=edge_index, edge_attr=edge_attr, y=y)"
   ]
  },
  {
   "cell_type": "code",
   "execution_count": 7,
   "id": "64708329-1ec7-42c2-aed8-a2e8808980a5",
   "metadata": {},
   "outputs": [],
   "source": [
    "# Define a two–layer GCN\n",
    "class IO_GCN(torch.nn.Module):\n",
    "    def __init__(self, in_feats, hidden=16):\n",
    "        super().__init__()\n",
    "        self.conv1 = GCNConv(in_feats, hidden)\n",
    "        self.conv2 = GCNConv(hidden, 1)\n",
    "    def forward(self, data):\n",
    "        h = F.relu(self.conv1(data.x, data.edge_index, data.edge_attr))\n",
    "        h = self.conv2(h, data.edge_index, data.edge_attr).squeeze()\n",
    "        return h\n",
    "\n",
    "model = IO_GCN(in_feats=1)\n",
    "optimizer = torch.optim.Adam(model.parameters(), lr=0.01)\n",
    "loss_fn   = torch.nn.MSELoss()"
   ]
  },
  {
   "cell_type": "code",
   "execution_count": 8,
   "id": "2a0b0e01-5616-4932-b017-ead6ff641346",
   "metadata": {},
   "outputs": [],
   "source": [
    "# Train/test split (e.g. 80/20 on nodes)\n",
    "num_nodes = data.num_nodes\n",
    "perm = torch.randperm(num_nodes)\n",
    "train_idx = perm[:int(0.8*num_nodes)]\n",
    "test_idx  = perm[int(0.8*num_nodes):]"
   ]
  },
  {
   "cell_type": "code",
   "execution_count": 9,
   "id": "6cd62149-2325-4a46-99bf-536596ec9802",
   "metadata": {},
   "outputs": [
    {
     "name": "stdout",
     "output_type": "stream",
     "text": [
      "Epoch 000  Loss: 75.5293\n",
      "Epoch 050  Loss: 30.2665\n",
      "Epoch 100  Loss: 29.5497\n",
      "Epoch 150  Loss: 28.9060\n",
      "Epoch 200  Loss: 27.6876\n",
      "Epoch 250  Loss: 26.5528\n",
      "Epoch 300  Loss: 25.7917\n",
      "Epoch 350  Loss: 25.3200\n",
      "Epoch 400  Loss: 24.9953\n",
      "Epoch 450  Loss: 24.7467\n",
      "Epoch 500  Loss: 24.5845\n",
      "Epoch 550  Loss: 24.4647\n",
      "Epoch 600  Loss: 24.3596\n",
      "Epoch 650  Loss: 24.2714\n",
      "Epoch 700  Loss: 24.1917\n",
      "Epoch 750  Loss: 24.1104\n",
      "Epoch 800  Loss: 23.9959\n",
      "Epoch 850  Loss: 23.8566\n",
      "Epoch 900  Loss: 23.6895\n",
      "Epoch 950  Loss: 23.5268\n"
     ]
    }
   ],
   "source": [
    "# 8) Training loop\n",
    "for epoch in range(1000):\n",
    "    model.train()\n",
    "    optimizer.zero_grad()\n",
    "    out = model(data)\n",
    "    loss = loss_fn(out[train_idx], data.y[train_idx])\n",
    "    loss.backward()\n",
    "    optimizer.step()\n",
    "    if epoch%50==0:\n",
    "        print(f\"Epoch {epoch:03d}  Loss: {loss.item():.4f}\")"
   ]
  },
  {
   "cell_type": "code",
   "execution_count": 10,
   "id": "0ef3cd40-f4a1-4d34-a4ca-1139a0c9646c",
   "metadata": {},
   "outputs": [
    {
     "name": "stdout",
     "output_type": "stream",
     "text": [
      "\n",
      "Test MSE: 24.6644\n"
     ]
    }
   ],
   "source": [
    "# Evaluate\n",
    "model.eval()\n",
    "preds = model(data).detach()\n",
    "mse = loss_fn(preds[test_idx], data.y[test_idx])\n",
    "print(f\"\\nTest MSE: {mse:.4f}\")"
   ]
  },
  {
   "cell_type": "code",
   "execution_count": 11,
   "id": "e9ffb77a-666d-4efc-ab5b-8f7c130ecee4",
   "metadata": {},
   "outputs": [
    {
     "data": {
      "image/png": "[encoded data removed]",
      "text/plain": [
       "<Figure size 640x480 with 1 Axes>"
      ]
     },
     "metadata": {},
     "output_type": "display_data"
    }
   ],
   "source": [
    "import matplotlib.pyplot as plt\n",
    "plt.scatter(data.y[test_idx], preds[test_idx])\n",
    "plt.plot([data.y.min(), data.y.max()],\n",
    "         [data.y.min(), data.y.max()], '--', lw=2)\n",
    "plt.xlabel(\"Actual Growth (%)\")\n",
    "plt.ylabel(\"Predicted Growth (%)\")\n",
    "plt.title(\"GCN Predictions of Industry Growth\")\n",
    "plt.show()"
   ]
  },
  {
   "cell_type": "code",
   "execution_count": 48,
   "id": "2420ecdf-11fa-4421-b81d-00e044a0e93a",
   "metadata": {},
   "outputs": [
    {
     "data": {
      "text/html": [
       "\n",
       "        <iframe\n",
       "            width=\"100%\"\n",
       "            height=\"650\"\n",
       "            src=\"http://127.0.0.1:8050/\"\n",
       "            frameborder=\"0\"\n",
       "            allowfullscreen\n",
       "            \n",
       "        ></iframe>\n",
       "        "
      ],
      "text/plain": [
       "<IPython.lib.display.IFrame at 0x32e7f5280>"
      ]
     },
     "metadata": {},
     "output_type": "display_data"
    }
   ],
   "source": [
    "import dash\n",
    "import dash_cytoscape as cyto\n",
    "from dash import html\n",
    "from torch_geometric.utils import to_networkx\n",
    "import numpy as np\n",
    "\n",
    "# bConvert to a NetworkX graph\n",
    "G = to_networkx(\n",
    "    data,\n",
    "    node_attrs=[],       \n",
    "    edge_attrs=[],\n",
    "    to_undirected=True    \n",
    ")\n",
    "\n",
    "edge_index = data.edge_index.t().tolist() \n",
    "weights     = data.edge_attr.squeeze().tolist()\n",
    "for (u, v), w in zip(edge_index, weights):\n",
    "    G[u][v]['weight'] = float(w)   \n",
    "\n",
    "# 1. Filter edges: no self-loops, top 10% by weight\n",
    "all_edges   = [(u, v, d) for u, v, d in G.edges(data=True) if u != v]\n",
    "all_weights = [d['weight'] for _, _, d in all_edges]\n",
    "threshold   = np.percentile(all_weights, 98)    # 90th percentile → top 10% flows\n",
    "\n",
    "important_edges = [\n",
    "    (u, v, d) for u, v, d in all_edges\n",
    "    if d['weight'] >= threshold\n",
    "]\n",
    "\n",
    "# 2. Build subgraph of just those edges & their nodes\n",
    "important_nodes = set()\n",
    "for u, v, _ in important_edges:\n",
    "    important_nodes.update([u, v])\n",
    "\n",
    "G_sub = G.subgraph(important_nodes).copy()\n",
    "\n",
    "# 3. Build Cytoscape “elements” list\n",
    "elements = []\n",
    "\n",
    "# nodes\n",
    "for node in G_sub.nodes():\n",
    "    elements.append({\n",
    "        'data': {\n",
    "            'id': str(node),\n",
    "            'label': common_index[node]   # map back to industry name\n",
    "        }\n",
    "    })\n",
    "\n",
    "# edges\n",
    "for u, v, d in important_edges:\n",
    "    elements.append({\n",
    "        'data': {\n",
    "            'source': str(u),\n",
    "            'target': str(v),\n",
    "            'weight': d['weight']\n",
    "        }\n",
    "    })\n",
    "\n",
    "# 4. Dash app\n",
    "app = dash.Dash(__name__)\n",
    "app.layout = html.Div([\n",
    "    html.H3(\"Industry I/O Network (Top 2% Flows, No Self-Loops)\"),\n",
    "    cyto.Cytoscape(\n",
    "        id='cytoscape-network',\n",
    "        elements=elements,\n",
    "        layout={'name': 'cose'},       # force-directed layout\n",
    "        style={'width': '100%', 'height': '700px'},\n",
    "        stylesheet=[\n",
    "            # nodes: wrap truncated label, small font\n",
    "            {\n",
    "                'selector': 'node',\n",
    "                'style': {\n",
    "                    'content':         'data(label)',\n",
    "                    'text-wrap':       'wrap',\n",
    "                    'text-max-width':  80,\n",
    "                    'font-size':       '8px',\n",
    "                    'background-color':'#67a9cf',\n",
    "                    'width':           '20px',\n",
    "                    'height':          '20px'\n",
    "                }\n",
    "            },\n",
    "            {\n",
    "                'selector': 'node',\n",
    "                'style': {\n",
    "                    'label': 'data(label)',\n",
    "                    'background-color': '#67a9cf',\n",
    "                    'width': 20,\n",
    "                    'height': 20,\n",
    "                    'font-size': '10px',\n",
    "                    'text-valign': 'center',\n",
    "                    'text-halign': 'center'\n",
    "                }\n",
    "            },\n",
    "            {\n",
    "                'selector': 'edge',\n",
    "                'style': {\n",
    "                    # map weight (0→max) to line-width 1→8\n",
    "                    'width': f\"mapData(weight, 0, {max(all_weights)}, 1, 8)\",\n",
    "                    'line-color': '#888',\n",
    "                    'curve-style': 'bezier'\n",
    "                }\n",
    "            }\n",
    "        ]\n",
    "    )\n",
    "])\n",
    "\n",
    "if __name__ == '__main__':\n",
    "    app.run(debug=False)\n"
   ]
  },
  {
   "cell_type": "code",
   "execution_count": null,
   "id": "4f4d65c5-de2d-4ce5-ae6e-953263a8062a",
   "metadata": {},
   "outputs": [],
   "source": []
  }
 ],
 "metadata": {
  "kernelspec": {
   "display_name": "Python 3 (ipykernel)",
   "language": "python",
   "name": "python3"
  },
  "language_info": {
   "codemirror_mode": {
    "name": "ipython",
    "version": 3
   },
   "file_extension": ".py",
   "mimetype": "text/x-python",
   "name": "python",
   "nbconvert_exporter": "python",
   "pygments_lexer": "ipython3",
   "version": "3.12.9"
  }
 },
 "nbformat": 4,
 "nbformat_minor": 5
}
