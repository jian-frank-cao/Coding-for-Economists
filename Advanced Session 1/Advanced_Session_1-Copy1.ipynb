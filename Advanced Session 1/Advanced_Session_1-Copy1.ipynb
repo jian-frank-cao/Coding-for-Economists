{
 "cells": [
  {
   "cell_type": "markdown",
   "id": "287ce01a-1e6c-4019-8706-ffedab51322c",
   "metadata": {},
   "source": [
    "# Coding for Economists - Advanced Session 1"
   ]
  },
  {
   "cell_type": "markdown",
   "id": "ef7daa3c-fd9a-44e1-aa25-ec7b0ae40451",
   "metadata": {},
   "source": [
    "## 1. Setup Environment"
   ]
  },
  {
   "cell_type": "code",
   "execution_count": 42,
   "id": "051b8e24-c904-47b0-817b-aa89e5df0cd0",
   "metadata": {},
   "outputs": [
    {
     "name": "stdout",
     "output_type": "stream",
     "text": [
      "Requirement already satisfied: MechanicalSoup in /opt/anaconda3/envs/pyenv01/lib/python3.12/site-packages (1.3.0)\n",
      "Collecting selenium\n",
      "  Downloading selenium-4.31.0-py3-none-any.whl.metadata (7.5 kB)\n",
      "Requirement already satisfied: requests>=2.22.0 in /opt/anaconda3/envs/pyenv01/lib/python3.12/site-packages (from MechanicalSoup) (2.32.3)\n",
      "Requirement already satisfied: beautifulsoup4>=4.7 in /opt/anaconda3/envs/pyenv01/lib/python3.12/site-packages (from MechanicalSoup) (4.12.3)\n",
      "Requirement already satisfied: lxml in /opt/anaconda3/envs/pyenv01/lib/python3.12/site-packages (from MechanicalSoup) (5.3.1)\n",
      "Requirement already satisfied: urllib3<3,>=1.26 in /opt/anaconda3/envs/pyenv01/lib/python3.12/site-packages (from urllib3[socks]<3,>=1.26->selenium) (2.3.0)\n",
      "Collecting trio~=0.17 (from selenium)\n",
      "  Downloading trio-0.30.0-py3-none-any.whl.metadata (8.5 kB)\n",
      "Collecting trio-websocket~=0.9 (from selenium)\n",
      "  Downloading trio_websocket-0.12.2-py3-none-any.whl.metadata (5.1 kB)\n",
      "Requirement already satisfied: certifi>=2021.10.8 in /opt/anaconda3/envs/pyenv01/lib/python3.12/site-packages (from selenium) (2025.1.31)\n",
      "Requirement already satisfied: typing_extensions~=4.9 in /opt/anaconda3/envs/pyenv01/lib/python3.12/site-packages (from selenium) (4.12.2)\n",
      "Requirement already satisfied: websocket-client~=1.8 in /opt/anaconda3/envs/pyenv01/lib/python3.12/site-packages (from selenium) (1.8.0)\n",
      "Requirement already satisfied: soupsieve>1.2 in /opt/anaconda3/envs/pyenv01/lib/python3.12/site-packages (from beautifulsoup4>=4.7->MechanicalSoup) (2.5)\n",
      "Requirement already satisfied: charset-normalizer<4,>=2 in /opt/anaconda3/envs/pyenv01/lib/python3.12/site-packages (from requests>=2.22.0->MechanicalSoup) (3.3.2)\n",
      "Requirement already satisfied: idna<4,>=2.5 in /opt/anaconda3/envs/pyenv01/lib/python3.12/site-packages (from requests>=2.22.0->MechanicalSoup) (3.7)\n",
      "Requirement already satisfied: attrs>=23.2.0 in /opt/anaconda3/envs/pyenv01/lib/python3.12/site-packages (from trio~=0.17->selenium) (24.3.0)\n",
      "Requirement already satisfied: sortedcontainers in /opt/anaconda3/envs/pyenv01/lib/python3.12/site-packages (from trio~=0.17->selenium) (2.4.0)\n",
      "Collecting outcome (from trio~=0.17->selenium)\n",
      "  Downloading outcome-1.3.0.post0-py2.py3-none-any.whl.metadata (2.6 kB)\n",
      "Requirement already satisfied: sniffio>=1.3.0 in /opt/anaconda3/envs/pyenv01/lib/python3.12/site-packages (from trio~=0.17->selenium) (1.3.0)\n",
      "Collecting wsproto>=0.14 (from trio-websocket~=0.9->selenium)\n",
      "  Downloading wsproto-1.2.0-py3-none-any.whl.metadata (5.6 kB)\n",
      "Requirement already satisfied: pysocks!=1.5.7,<2.0,>=1.5.6 in /opt/anaconda3/envs/pyenv01/lib/python3.12/site-packages (from urllib3[socks]<3,>=1.26->selenium) (1.7.1)\n",
      "Requirement already satisfied: h11<1,>=0.9.0 in /opt/anaconda3/envs/pyenv01/lib/python3.12/site-packages (from wsproto>=0.14->trio-websocket~=0.9->selenium) (0.14.0)\n",
      "Downloading selenium-4.31.0-py3-none-any.whl (9.4 MB)\n",
      "\u001b[2K   \u001b[90m━━━━━━━━━━━━━━━━━━━━━━━━━━━━━━━━━━━━━━━━\u001b[0m \u001b[32m9.4/9.4 MB\u001b[0m \u001b[31m29.7 MB/s\u001b[0m eta \u001b[36m0:00:00\u001b[0ma \u001b[36m0:00:01\u001b[0m\n",
      "\u001b[?25hDownloading trio-0.30.0-py3-none-any.whl (499 kB)\n",
      "Downloading trio_websocket-0.12.2-py3-none-any.whl (21 kB)\n",
      "Downloading outcome-1.3.0.post0-py2.py3-none-any.whl (10 kB)\n",
      "Downloading wsproto-1.2.0-py3-none-any.whl (24 kB)\n",
      "Installing collected packages: wsproto, outcome, trio, trio-websocket, selenium\n",
      "Successfully installed outcome-1.3.0.post0 selenium-4.31.0 trio-0.30.0 trio-websocket-0.12.2 wsproto-1.2.0\n",
      "Note: you may need to restart the kernel to use updated packages.\n"
     ]
    }
   ],
   "source": [
    "%pip install MechanicalSoup selenium"
   ]
  },
  {
   "cell_type": "markdown",
   "id": "6235ed9d-1ff0-4d11-ae1b-4b5986760f0d",
   "metadata": {},
   "source": [
    "## 2. HTTP Requests"
   ]
  },
  {
   "cell_type": "code",
   "execution_count": 1,
   "id": "314f366d-840c-40c1-a2e9-673dfe0fa485",
   "metadata": {},
   "outputs": [],
   "source": [
    "from urllib.request import urlopen"
   ]
  },
  {
   "cell_type": "code",
   "execution_count": 3,
   "id": "2b93479a-a512-4fae-b7ce-c4e04f7e0505",
   "metadata": {},
   "outputs": [],
   "source": [
    "url = \"http://olympus.realpython.org/profiles/aphrodite\"\n",
    "page = urlopen(url)\n",
    "html_bytes = page.read()\n",
    "html = html_bytes.decode(\"utf-8\")"
   ]
  },
  {
   "cell_type": "code",
   "execution_count": 4,
   "id": "a1bd87cd-8990-4414-9578-5fac4cd2e233",
   "metadata": {},
   "outputs": [
    {
     "name": "stdout",
     "output_type": "stream",
     "text": [
      "<html>\n",
      "<head>\n",
      "<title>Profile: Aphrodite</title>\n",
      "</head>\n",
      "<body bgcolor=\"yellow\">\n",
      "<center>\n",
      "<br><br>\n",
      "<img src=\"/static/aphrodite.gif\" />\n",
      "<h2>Name: Aphrodite</h2>\n",
      "<br><br>\n",
      "Favorite animal: Dove\n",
      "<br><br>\n",
      "Favorite color: Red\n",
      "<br><br>\n",
      "Hometown: Mount Olympus\n",
      "</center>\n",
      "</body>\n",
      "</html>\n",
      "\n"
     ]
    }
   ],
   "source": [
    "print(html)"
   ]
  },
  {
   "cell_type": "code",
   "execution_count": 6,
   "id": "41fe2955-a256-4c1e-aeaa-4903cf502837",
   "metadata": {},
   "outputs": [
    {
     "data": {
      "text/plain": [
       "14"
      ]
     },
     "execution_count": 6,
     "metadata": {},
     "output_type": "execute_result"
    }
   ],
   "source": [
    "title_index = html.find(\"<title>\")\n",
    "title_index"
   ]
  },
  {
   "cell_type": "code",
   "execution_count": 7,
   "id": "06f6a5ba-f570-4b62-aa2f-6b77357dc244",
   "metadata": {},
   "outputs": [
    {
     "data": {
      "text/plain": [
       "21"
      ]
     },
     "execution_count": 7,
     "metadata": {},
     "output_type": "execute_result"
    }
   ],
   "source": [
    "start_index = title_index + len(\"<title>\")\n",
    "start_index"
   ]
  },
  {
   "cell_type": "code",
   "execution_count": 8,
   "id": "95e32402-06b7-4b9d-b6d9-746dffbbda35",
   "metadata": {},
   "outputs": [
    {
     "data": {
      "text/plain": [
       "39"
      ]
     },
     "execution_count": 8,
     "metadata": {},
     "output_type": "execute_result"
    }
   ],
   "source": [
    "end_index = html.find(\"</title>\")\n",
    "end_index"
   ]
  },
  {
   "cell_type": "code",
   "execution_count": 9,
   "id": "f94332f4-5fa4-478b-886c-c023bbe831cf",
   "metadata": {},
   "outputs": [
    {
     "data": {
      "text/plain": [
       "'Profile: Aphrodite'"
      ]
     },
     "execution_count": 9,
     "metadata": {},
     "output_type": "execute_result"
    }
   ],
   "source": [
    "title = html[start_index:end_index]\n",
    "title"
   ]
  },
  {
   "cell_type": "code",
   "execution_count": 10,
   "id": "2835f50e-1a30-4fa2-9fca-5fc0c3e4e55c",
   "metadata": {},
   "outputs": [
    {
     "data": {
      "text/plain": [
       "'\\n<head>\\n<title >Profile: Poseidon'"
      ]
     },
     "execution_count": 10,
     "metadata": {},
     "output_type": "execute_result"
    }
   ],
   "source": [
    "url = \"http://olympus.realpython.org/profiles/poseidon\"\n",
    "page = urlopen(url)\n",
    "html = page.read().decode(\"utf-8\")\n",
    "start_index = html.find(\"<title>\") + len(\"<title>\")\n",
    "end_index = html.find(\"</title>\")\n",
    "title = html[start_index:end_index]\n",
    "title"
   ]
  },
  {
   "cell_type": "code",
   "execution_count": 11,
   "id": "e6cd065a-cae0-4e1d-b893-59160efc66bd",
   "metadata": {},
   "outputs": [
    {
     "data": {
      "text/plain": [
       "'<html>\\n<head>\\n<title >Profile: Poseidon</title>\\n</head>\\n<body bgcolor=\"yellow\">\\n<center>\\n<br><br>\\n<img src=\"/static/poseidon.jpg\" />\\n<h2>Name: Poseidon</h2>\\n<br><br>\\nFavorite animal: Dolphin\\n<br><br>\\nFavorite color: Blue\\n<br><br>\\nHometown: Sea\\n</center>\\n</body>\\n</html>\\n'"
      ]
     },
     "execution_count": 11,
     "metadata": {},
     "output_type": "execute_result"
    }
   ],
   "source": [
    "html"
   ]
  },
  {
   "cell_type": "code",
   "execution_count": 14,
   "id": "5b298b13-d178-4664-aa25-f533294d334d",
   "metadata": {},
   "outputs": [],
   "source": [
    "from bs4 import BeautifulSoup\n",
    "from urllib.request import urlopen\n",
    "\n",
    "url = \"https://www.ft.com/\"\n",
    "page = urlopen(url)\n",
    "html = page.read().decode(\"utf-8\")\n",
    "soup = BeautifulSoup(html, \"html.parser\")"
   ]
  },
  {
   "cell_type": "code",
   "execution_count": 15,
   "id": "894cf461-0fa3-40c9-b9a3-2f4a9575e38b",
   "metadata": {},
   "outputs": [
    {
     "name": "stdout",
     "output_type": "stream",
     "text": [
      "Financial TimesAccessibility helpSkip to navigationSkip to contentSkip to footerVisit Markets DataSign InSubscribeOpen side navigation menuOpen search barFinancial TimesSubscribeSign InSearch the FTSearchClose search barCloseHomeMarkets DataHomeWorldSectionsWorld HomeMiddle East warGlobal EconomyUKUSChinaAfricaAsia PacificEmerging MarketsEuropeWar in UkraineAmericasMiddle East & North AfricaMost ReadSpain and Portugal hit by huge power outageDemand slump fuelled by Trump tariffs hits US ports and air freight The spectre of dollar doomsday still loomsAmerican students turn to UK as Trump takes aim at US universitiesTrump steps up criticism of Putin over continuing attacks on UkraineUSSectionsUS HomeUS EconomyUS CompaniesUS Politics & PolicyMost ReadDemand slump fuelled by Trump tariffs hits US ports and air freight The spectre of dollar doomsday still loomsAmerican students turn to UK as Trump takes aim at US universitiesTrump steps up criticism of Putin over continuing attacks on UkraineIn tough times, good policy becomes even more importantCompaniesSectionsCompanies HomeEnergyFinancialsHealthIndustrialsMediaProfessional ServicesRetail & ConsumerTech SectorTelecomsTransportMost ReadSpain and Portugal hit by huge power outageDemand slump fuelled by Trump tariffs hits US ports and air freight The spectre of dollar doomsday still loomsItaly’s Mediobanca launches €6.3bn offer for Banca Generali Liverpool’s Premier League win makes John Henry’s vision a realityTechSectionsTech HomeArtificial intelligenceSemiconductorsCyber SecuritySocial MediaMost ReadFully autonomous strike drones within technological reach, says German start-upGoldman Sachs-backed start-up to buy UK sound studio in bet on AI music-making Brands target AI chatbots as users switch from Google searchTech groups pivot to defence in neutral Ireland as EU re-armsChina and South Korea extend battery battle from EVs to grid storageMarketsSectionsMarkets HomeAlphavilleMarkets DataCryptoCapital MarketsCommoditiesCurrenciesEquitiesMonetary Policy RadarWealth ManagementMoral MoneyETF HubFund ManagementTradingMost ReadThe spectre of dollar doomsday still loomsLNG companies say they cannot comply with Trump rules on Chinese shipsChina stockpiles oil as Trump tariff shock hits crude pricesIn charts: How Britain’s banking revolution failedThe S&P 500 is still significantly overpricedClimateOpinionSectionsOpinion HomeColumnistsThe FT ViewThe Big ReadLexObituariesLettersMost ReadThe spectre of dollar doomsday still loomsIn tough times, good policy becomes even more importantHow Ukraine could break the western allianceMusk needs to become a more normal CEOTrump and the art of ‘dealism’LexWork & CareersSectionsWork & Careers HomeBusiness School RankingsBusiness EducationEurope's Start-Up HubsEntrepreneurshipRecruitmentBusiness BooksBusiness TravelWorking ItMost ReadGen Z is leading the charge back to the office Lashing out at staff is bad for businessFree edibles: foraging in London with a top chefMoral Ambition — Rutger Bregman on a different kind of success for smart workersRevolut ends stock-only bonuses ahead of potential IPOLife & ArtsSectionsLife & Arts HomeArtsBooksFood & DrinkFT MagazineHouse & HomeStylePuzzlesTravelFT GlobetrotterMost ReadAsk a Stylist: the return of the knee-length skirt — and how to wear itPuff, the Magic Dragon — innocent ditty that was dragged into 1960s drug culture Londoners reflect on the view from their homes in new podcast WindowsGive me fractal fronds over Kindleberger’s Spiral any dayFree edibles: foraging in London with a top chefHTSIMenuSearchHomeWorldUSCompaniesTechMarketsClimateOpinionLexWork & CareersLife & ArtsHTSIFinancial TimesSubscribeSign InSearch the FTSearchClose search barCloseFinancial Times HomeSpainSpain and Portugal hit by huge power outageAuthorities warn cut could continue until evening after millions affected by traffic disruptions updated  Visual storyWhy Trump can’t build iPhones in the USEditor's picks opinion content. The spectre of dollar doomsday still loomsRana Foroohar opinion content. How Ukraine could break the western allianceGideon RachmanTOP STORIESChinese economyChina says it can live without US farm and energy goodsTop policymakers seek to reassure public that economy can withstand worst of trade warTrump tariffsDemand slump fuelled by Trump tariffs hits US ports and air freight Bookings plunge as importers hold off on shipping goods to America in hope of Beijing-Washington dealUK universitiesAmerican students turn to UK as Trump takes aim at US universitiesSearches for British courses surge following US president’s assault on Ivy League institutions, data showsCanadaTrump tells Canada to vote for ‘51st state’ in election day interventionUS president weighs in as battle between Mark Carney and Pierre Poilievre goes down to the wire updated  Canada election 2025: who is ahead in the polls?Latest from Monetary Policy RadarBank of JapanBank of Japan normalisation will be slowed by US trade shock82 hours agoBank of EnglandBank of England to quicken rate cuts later this year106 hours agoFederal ReserveBeige Book documents ‘pervasive’ impact of tariffs on US economy116 hours agoEuropean Central BankDovish April twist opens the door to more ECB easing 130 hours agoSpotlightWashington D.C.Trump remakes Washington with budget cuts and culture clashes  US capital in upheaval as government lay-offs pummel local economy and Maga allies embed in social sceneFuture of workGen Z is leading the charge back to the office Data shows younger staff — more than baby boomers — crave the connection and routine of in-person workNewsParamount Global‘60 Minutes’ takes swing at owner ParamountNews show criticises parent group seeking Trump administration approval for $8bn merger deal German politicsMerz picks Eon energy executive as Germany’s economy ministerChancellor-in-waiting unveils CDU cabinet picks a week before taking officeSaudi ArabiaNeom’s acting chief reviews Saudi mega-project after setbacksAiman al-Mudaifer was appointed last year following increasing scrutiny of futuristic planMost readSpain and Portugal hit by huge power outageDemand slump fuelled by Trump tariffs hits US ports and air freight  opinion content. The spectre of dollar doomsday still loomsAmerican students turn to UK as Trump takes aim at US universitiesSaudi Arabia and Qatar to repay Syria’s debts to World BankNEWSWar in UkraineUS and Ukraine inch closer to signing minerals dealKyiv said it secured concession from Trump administration not to use proceeds for past military aid3 hours agoTrump steps up criticism of Putin over continuing attacks on UkraineDronesFully autonomous strike drones within technological reach, says German start-upDeployment of such aircraft on the battlefield is ‘not far off’, says Munich-based StarkBlackRock IncBlackRock shareholders urged to vote against Larry Fink’s pay by ISSRecommendation comes as another difficult vote on CEO’s remuneration package looms1 hour agoPwCPing An-backed lender calls in EY to reaudit accounts after ousting PwCLufax hires Big Four firm after PwC China flagged suspected conflicts in some transactions3 hours agoSyriaSaudi Arabia and Qatar to repay Syria’s debts to World BankSupport is first funding from Riyadh as war-ravaged country seeks to rebuild its economyNetanyahu calls Israel’s internal security chief a ‘liar’ in legal fightMusic industryGoldman Sachs-backed start-up to buy UK sound studio in bet on AI music-making Music samples group Splice agrees deal to acquire London-based Spitfire Audio for its library of orchestral soundsSyriaSyria’s defence ministry opens applications for Assad-era troopsCall to recruit former regime soldiers comes as president seeks to rebuild military and stave off threats2 hours agoIsrael-Hamas warGazans fear Israel is enacting Trump’s ‘Riviera’ planBenjamin Netanyahu has embraced US president’s idea to expel Palestinian populationOpinion opinion content. The rise of the panicansThe reaction of the markets, politicians and media to Trump’s tariff shock may have averted an arms raceAndy Haldane opinion content. Outlook. From presidents to hillbillies, Northern Ireland wants more recognition in the US     Its influence in America has long played second fiddle to that of émigrés from the Republic of Ireland Jude Webber opinion content. In tough times, good policy becomes even more importantMartin Wolf opinion content. Hank Paulson: Clean energy will be critical to winning the AI race with ChinaHank Paulson opinion content. What makes ‘Reform-curious’ Labour voters so hard to woo backMiranda Green opinion content. Trump and the art of ‘dealism’Jemima Kelly opinion content. Markets Insight. The UK needs to tackle Trump contagion risk for giltsSushil Wadhwani opinion content. The FT View. Musk needs to become a more normal CEOThe editorial boardMore OpinionThe FT ViewLexUnhedgedMarkets InsightInside BusinessEurope NewsEurope’s battery makers seek a different path after Northvolt’s collapse Companies scaling down ambitions even as Europe is locked in race to reduce dependence on China3 hours agoBig Oil braced for worst year since pandemic as bumper profits recede2 hours agoBardella confirms far-right run for French president if Le Pen bannedVestas warns wind industry is falling behind global climate goals Kremlin claims to have pushed Ukraine out of Kursk as Trump criticises PutinSwiss franc surge sparks bets on return to negative interest ratesPrivate credit firms take aim at ESG for holding back financing for European defenceMore Europe NewsEuropean economyEuropean UnionEU foreign policyEuropean companiesEuropean equitiesNewswrapSign up for our newsletterPodcastsThe Economics Show. Should we be optimistic about the US economy? With Michael Strain31 min listenFT News Briefing. The elusive Ukraine peace deal12 min listenFT News Briefing. Swamp Notes: Trump’s ‘you break it, you buy it’ moment19 min listenPolitical Fix. Reform on the march? Our local elections guide40 min listenLife & ArtsArtsBooksFood & DrinkFT MagazineStyleHouse & HomeTravelFT GlobetrotterHTSINon-FictionReview. Moral Ambition — Rutger Bregman on a different kind of success for smart workersGadgetsHTSI. Five gadgets to cut the stress out of parentingTheatreReview. Ben and Imo — Mark Ravenhill’s play brings together two musical geniuses Style opinion content. Ask a Stylist: the return of the knee-length skirt — and how to wear itAudio booksReview. Best new audio books — from sibling grief to an idealistic Irishman Video play video content. Trump tariffs38 min video content. Jamie Dimon urges US to engage with China311 hours ago play video content. Sustainability30 min video content. Are we on the brink of a nuclear revival? | FT Film275 hours ago play video content. FT Film30 min video content. Why governments are 'addicted' to debt | FT Film778 hours ago play video content. FT Film27 min video content.  Nvidia's rise in the age of AI | FT Film1114 hours agoHighlightsBroken Justice: how Europe let its courts decay Underfunding of the continent’s justice systems is a threat to democracy, senior lawyers warnExplainer. How critical minerals became a flash point in US-China trade warFrom trains to tanks: Germany’s rearmament marks industrial shift opinion content. Is this still the Asian century?Leo LewisElliott’s ‘lone wolf’: the hedge fund maverick waging war on Big Oil  video content. Are we on the brink of a nuclear revival? | FT FilmFT Alphaville. US vet visits are down. A recession omen, or is price gouging to blame?More highlightsMoral MoneyDue DiligenceCryptocurrenciesSpecial ReportsClimate CapitalMoral MoneySign up for our newsletterMarkets NewsBig Oil braced for worst year since pandemic as bumper profits recedeInvestors ask whether industry can afford the higher dividends and share buy-backs on offer over recent years 2 hours agoChina stockpiles oil as Trump tariff shock hits crude pricesJapan shares surge after Toyota spurs hopes for wider corporate shake-upExxon poised to overtake Shell and BP on low carbon spending       Private credit firms take aim at ESG for holding back financing for European defenceVanguard rules out China in big international pushSwiss franc surge sparks bets on return to negative interest ratesMore markets newsAlphavilleMarkets DataCapital MarketsCommoditiesCurrenciesEquitiesFund ManagementWealth ManagementTradingMoral MoneyETF HubTechnologyM&S cyber crisis wipes almost £700mn off retailer’s valuationFTSE 100 company tells hundreds of workers to stay at home and admits it has no idea when operations will recover new  Tech groups pivot to defence in neutral Ireland as EU re-armsChina and South Korea extend battery battle from EVs to grid storage opinion content. The FT View. Musk needs to become a more normal CEOThe editorial boardThe CEO. Darktrace CEO: ‘We didn’t have the valuation we knew we could get’ opinion content. Hank Paulson: Clean energy will be critical to winning the AI race with ChinaHank PaulsonBrands target AI chatbots as users switch from Google searchMore technologyCryptofinanceSemiconductorsTech Tonic podcastTrading technologyTech start-upsSocial MediaArtificial intelligenceExplore more events from the FTUpcoming eventsDiscover unmissable flagship events with FT journalists to expand your thinking and elevate your careerExplore all eventsFT LiveRethinking Regional Banking: Asia’s Shifting Role in Global FinanceNavigating geopolitics and private capital flowsTuesday, 29 AprilOnlineFT LiveDigital Assets SummitThe next wave of institutional adoption for crypto and digital assetsTuesday, 6 MayLondon, UKFT LiveChina’s Luxury Reckoning: Adapting to the New Consumer RealityHow brands can navigate the evolving preferences of China’s wealthy shoppersWednesday, 7 MayJoin the discussionFT Forums is a series of members only communities, powered by the Financial TimesWomen In BusinessA dedicated programme to accelerate mid-career women into senior leadership.Future LeadersAn authoritative space for businesses to share ideas, build relationships and develop solutions to future challenges.AI FORUMWhere senior leaders and tech decision-makers connect to unlock real-world AI applications and shape the future of business transformation.Useful linksSupportView Site TipsHelp CentreContact UsAbout UsAccessibilitymyFT TourCareersSuppliersLegal & PrivacyTerms & ConditionsPrivacy PolicyCookie PolicyManage CookiesCopyrightSlavery Statement & PoliciesServicesShare News Tips SecurelyIndividual SubscriptionsProfessional SubscriptionsRepublishingExecutive Job SearchAdvertise with the FTFollow the FT on XFT ChannelsFT SchoolsToolsPortfolioFT AppFT Digital EditionFT EditAlerts HubBusiness School RankingsSubscription ManagerNews feedNewslettersCurrency ConverterCommunity & EventsFT Live EventsFT ForumsFT Leaders AcademyMore from the FT GroupMarkets data delayed by at least 15 minutes. © THE FINANCIAL TIMES LTD 2025. FT and ‘Financial Times’ are trademarks of The Financial Times Ltd.The Financial Times and its journalism are subject to a self-regulation regime under the FT Editorial Code of Practice.Close side navigation menuEdition:InternationalUKSearch the FTSearchSubscribe for full accessTop sectionsHomeWorldShow more WorldMiddle East warGlobal EconomyUKUSChinaAfricaAsia PacificEmerging MarketsEuropeWar in UkraineAmericasMiddle East & North AfricaUSShow more USUS EconomyUS CompaniesUS Politics & PolicyCompaniesShow more CompaniesEnergyFinancialsHealthIndustrialsMediaProfessional ServicesRetail & ConsumerTech SectorTelecomsTransportTechShow more TechArtificial intelligenceSemiconductorsCyber SecuritySocial MediaMarketsShow more MarketsAlphavilleMarkets DataCryptoCapital MarketsCommoditiesCurrenciesEquitiesMonetary Policy RadarWealth ManagementMoral MoneyETF HubFund ManagementTradingClimateOpinionShow more OpinionColumnistsThe FT ViewThe Big ReadLexObituariesLettersLexWork & CareersShow more Work & CareersBusiness School RankingsBusiness EducationEurope's Start-Up HubsEntrepreneurshipRecruitmentBusiness BooksBusiness TravelWorking ItLife & ArtsShow more Life & ArtsArtsBooksFood & DrinkFT MagazineHouse & HomeStylePuzzlesTravelFT GlobetrotterPersonal FinanceShow more Personal FinanceProperty & MortgagesInvestmentsPensionsTaxBanking & SavingsAdvice & CommentHTSISpecial ReportsFT recommendsAlphavilleFT EditLunch with the FTFT Globetrotter#techAsiaMoral MoneyVisual and data journalismNewslettersVideoPodcastsNews feedFT SchoolsFT Live EventsFT ForumsFT Leaders AcademymyFTPortfolioFT Digital EditionCrosswordOur AppsHelp CentreSubscribeSign In\n"
     ]
    }
   ],
   "source": [
    "print(soup.get_text())"
   ]
  },
  {
   "cell_type": "code",
   "execution_count": 16,
   "id": "0a69cffd-bf05-49e0-867b-6c6015b11b63",
   "metadata": {},
   "outputs": [
    {
     "data": {
      "text/plain": [
       "[<img alt=\"Spain and Portugal hit by huge power outage\" class=\"image image--width-280\" src=\"https://www.ft.com/__origami/service/image/v2/images/raw/https%3A%2F%2Fd1e00ek4ebabms.cloudfront.net%2Fproduction%2F69f1fc45-c419-4011-888e-9fcc887f18b9.jpg?source=next-home-page&amp;dpr=2&amp;width=280&amp;fit=scale-down\"/>,\n",
       " <img alt=\"Why Trump can’t build iPhones in the US\" class=\"image image--width-580\" src=\"https://www.ft.com/__origami/service/image/v2/images/raw/https%3A%2F%2Fd1e00ek4ebabms.cloudfront.net%2Fproduction%2F6bffbc17-cbae-4fc5-aae9-b1f410c325ea.jpg?source=next-home-page&amp;dpr=2&amp;width=580&amp;fit=scale-down\"/>,\n",
       " <img alt=\"The spectre of dollar doomsday still looms\" class=\"image image--width-180\" src=\"https://www.ft.com/__origami/service/image/v2/images/raw/https%3A%2F%2Fd1e00ek4ebabms.cloudfront.net%2Fproduction%2F9ffb6f6a-e986-44e5-aff9-efb913a35edc.jpg?source=next-home-page&amp;dpr=2&amp;width=180&amp;fit=scale-down\"/>,\n",
       " <img alt=\"\" class=\"image image--width-40\" src=\"https://www.ft.com/__origami/service/image/v2/images/raw/https%3A%2F%2Fd1e00ek4ebabms.cloudfront.net%2Fproduction%2Fuploaded-files%2FRanaFaroohar-byline_cutout-48f06865-5fb8-49e2-99f1-e2781d64d566.png?source=next-home-page&amp;dpr=2&amp;width=40&amp;height=40&amp;fit=cover&amp;gravity=poi\"/>,\n",
       " <img alt=\"\" class=\"image image--width-40\" src=\"https://www.ft.com/__origami/service/image/v2/images/raw/https%3A%2F%2Fd1e00ek4ebabms.cloudfront.net%2Fproduction%2Fuploaded-files%2Fgideon_rachman_-0dfc38c0-901b-44b6-8ce3-31ab97af4d41.png?source=next-home-page&amp;dpr=2&amp;width=40&amp;height=40&amp;fit=cover&amp;gravity=poi\"/>,\n",
       " <img alt=\"China says it can live without US farm and energy goods\" class=\"image image--width-280\" loading=\"lazy\" src=\"https://www.ft.com/__origami/service/image/v2/images/raw/https%3A%2F%2Fd1e00ek4ebabms.cloudfront.net%2Fproduction%2F89ea9d2f-07dc-4bff-a674-342758bc8a87.jpg?source=next-home-page&amp;dpr=2&amp;width=280&amp;fit=scale-down\"/>,\n",
       " <img alt=\"Demand slump fuelled by Trump tariffs hits US ports and air freight \" class=\"image image--width-280\" loading=\"lazy\" src=\"https://www.ft.com/__origami/service/image/v2/images/raw/https%3A%2F%2Fd1e00ek4ebabms.cloudfront.net%2Fproduction%2F0797f821-f818-44a0-9f04-837a9c5df6e3.jpg?source=next-home-page&amp;dpr=2&amp;width=280&amp;fit=scale-down\"/>,\n",
       " <img alt=\"American students turn to UK as Trump takes aim at US universities\" class=\"image image--width-280\" loading=\"lazy\" src=\"https://www.ft.com/__origami/service/image/v2/images/raw/https%3A%2F%2Fd1e00ek4ebabms.cloudfront.net%2Fproduction%2F8ea5d49a-fb9f-4857-9ed4-b8f8f36be4fe.jpg?source=next-home-page&amp;dpr=2&amp;width=280&amp;fit=scale-down\"/>,\n",
       " <img alt=\"Trump tells Canada to vote for ‘51st state’ in election day intervention\" class=\"image image--width-280\" loading=\"lazy\" src=\"https://www.ft.com/__origami/service/image/v2/images/raw/https%3A%2F%2Fd1e00ek4ebabms.cloudfront.net%2Fproduction%2F614cc1ee-1df0-4755-9efb-65a4269985c4.jpg?source=next-home-page&amp;dpr=2&amp;width=280&amp;fit=scale-down\"/>,\n",
       " <img alt=\"Trump remakes Washington with budget cuts and culture clashes  \" class=\"image image--width-580\" src=\"https://www.ft.com/__origami/service/image/v2/images/raw/https%3A%2F%2Fd1e00ek4ebabms.cloudfront.net%2Fproduction%2F5edca538-28de-4755-9b21-25563cda7dae.jpg?source=next-home-page&amp;dpr=2&amp;width=580&amp;fit=scale-down\"/>,\n",
       " <img alt=\"Gen Z is leading the charge back to the office \" class=\"image image--width-280\" src=\"https://www.ft.com/__origami/service/image/v2/images/raw/https%3A%2F%2Fd1e00ek4ebabms.cloudfront.net%2Fproduction%2F3e413f4e-0176-43f3-be6a-e09ecf884123.jpg?source=next-home-page&amp;dpr=2&amp;width=280&amp;fit=scale-down\"/>,\n",
       " <img alt=\"‘60 Minutes’ takes swing at owner Paramount\" class=\"image image--width-280\" loading=\"lazy\" src=\"https://www.ft.com/__origami/service/image/v2/images/raw/https%3A%2F%2Fd1e00ek4ebabms.cloudfront.net%2Fproduction%2F5694d303-4076-4a3f-91b5-4261f1057571.jpg?source=next-home-page&amp;dpr=2&amp;width=280&amp;fit=scale-down\"/>,\n",
       " <img alt=\"Merz picks Eon energy executive as Germany’s economy minister\" class=\"image image--width-280\" loading=\"lazy\" src=\"https://www.ft.com/__origami/service/image/v2/images/raw/https%3A%2F%2Fd1e00ek4ebabms.cloudfront.net%2Fproduction%2Fe21273ff-0be9-4942-8a77-315017bb9739.jpg?source=next-home-page&amp;dpr=2&amp;width=280&amp;fit=scale-down\"/>,\n",
       " <img alt=\"Neom’s acting chief reviews Saudi mega-project after setbacks\" class=\"image image--width-280\" loading=\"lazy\" src=\"https://www.ft.com/__origami/service/image/v2/images/raw/https%3A%2F%2Fd1e00ek4ebabms.cloudfront.net%2Fproduction%2F5beec82f-90ce-4eb2-8710-fa19cca3230a.jpg?source=next-home-page&amp;dpr=2&amp;width=280&amp;fit=scale-down\"/>,\n",
       " <img alt=\"US and Ukraine inch closer to signing minerals deal\" class=\"image image--width-280\" loading=\"lazy\" src=\"https://www.ft.com/__origami/service/image/v2/images/raw/https%3A%2F%2Fd1e00ek4ebabms.cloudfront.net%2Fproduction%2F9de72ab1-8742-4625-b7e2-dd320e59dbd9.jpg?source=next-home-page&amp;dpr=2&amp;width=280&amp;fit=scale-down\"/>,\n",
       " <img alt=\"Fully autonomous strike drones within technological reach, says German start-up\" class=\"image image--width-280\" loading=\"lazy\" src=\"https://www.ft.com/__origami/service/image/v2/images/raw/https%3A%2F%2Fd1e00ek4ebabms.cloudfront.net%2Fproduction%2F5c9b942e-facb-4415-b6c1-665c216027d9.jpg?source=next-home-page&amp;dpr=2&amp;width=280&amp;fit=scale-down\"/>,\n",
       " <img alt=\"BlackRock shareholders urged to vote against Larry Fink’s pay by ISS\" class=\"image image--width-280\" loading=\"lazy\" src=\"https://www.ft.com/__origami/service/image/v2/images/raw/https%3A%2F%2Fd1e00ek4ebabms.cloudfront.net%2Fproduction%2Fe912aadf-6ba9-4321-8482-ef8c9b6fd47d.jpg?source=next-home-page&amp;dpr=2&amp;width=280&amp;fit=scale-down\"/>,\n",
       " <img alt=\"Ping An-backed lender calls in EY to reaudit accounts after ousting PwC\" class=\"image image--width-280\" loading=\"lazy\" src=\"https://www.ft.com/__origami/service/image/v2/images/raw/https%3A%2F%2Fd1e00ek4ebabms.cloudfront.net%2Fproduction%2F317e99bc-ace5-4aa6-9e59-1efefd5030f2.jpg?source=next-home-page&amp;dpr=2&amp;width=280&amp;fit=scale-down\"/>,\n",
       " <img alt=\"Saudi Arabia and Qatar to repay Syria’s debts to World Bank\" class=\"image image--width-280\" loading=\"lazy\" src=\"https://www.ft.com/__origami/service/image/v2/images/raw/https%3A%2F%2Fd1e00ek4ebabms.cloudfront.net%2Fproduction%2F89bbc40f-75e2-4d11-9b7d-22b8b697f4f1.jpg?source=next-home-page&amp;dpr=2&amp;width=280&amp;fit=scale-down\"/>,\n",
       " <img alt=\"Goldman Sachs-backed start-up to buy UK sound studio in bet on AI music-making \" class=\"image image--width-280\" loading=\"lazy\" src=\"https://www.ft.com/__origami/service/image/v2/images/raw/https%3A%2F%2Fd1e00ek4ebabms.cloudfront.net%2Fproduction%2F10ac9e3d-9b41-41b4-8642-53d855aca129.jpg?source=next-home-page&amp;dpr=2&amp;width=280&amp;fit=scale-down\"/>,\n",
       " <img alt=\"Syria’s defence ministry opens applications for Assad-era troops\" class=\"image image--width-280\" loading=\"lazy\" src=\"https://www.ft.com/__origami/service/image/v2/images/raw/https%3A%2F%2Fd1e00ek4ebabms.cloudfront.net%2Fproduction%2Fa5fefe71-fa88-4c1b-80a8-0d35e4cf761a.jpg?source=next-home-page&amp;dpr=2&amp;width=280&amp;fit=scale-down\"/>,\n",
       " <img alt=\"Gazans fear Israel is enacting Trump’s ‘Riviera’ plan\" class=\"image image--width-280\" loading=\"lazy\" src=\"https://www.ft.com/__origami/service/image/v2/images/raw/https%3A%2F%2Fd1e00ek4ebabms.cloudfront.net%2Fproduction%2Fad4c26e9-9ff9-4168-a8d9-92c6a1961453.jpg?source=next-home-page&amp;dpr=2&amp;width=280&amp;fit=scale-down\"/>,\n",
       " <img alt=\"\" class=\"image image--width-40\" src=\"https://www.ft.com/__origami/service/image/v2/images/raw/https%3A%2F%2Fd1e00ek4ebabms.cloudfront.net%2Fproduction%2Fuploaded-files%2FAndy%2520Haldane-31d496db-1c9f-48c5-b511-4842bbd1b27e.png?source=next-home-page&amp;dpr=2&amp;width=40&amp;height=40&amp;fit=cover&amp;gravity=poi\"/>,\n",
       " <img alt=\"The rise of the panicans\" class=\"image image--width-580\" src=\"https://www.ft.com/__origami/service/image/v2/images/raw/https%3A%2F%2Fd1e00ek4ebabms.cloudfront.net%2Fproduction%2Fd4c608c4-6f7f-4266-acc6-a2a95d046ef8.jpg?source=next-home-page&amp;dpr=2&amp;width=580&amp;height=435&amp;fit=cover&amp;gravity=poi\"/>,\n",
       " <img alt=\"\" class=\"image image--width-40\" src=\"https://www.ft.com/__origami/service/image/v2/images/raw/https%3A%2F%2Fd1e00ek4ebabms.cloudfront.net%2Fproduction%2Fuploaded-files%2FJude_Webber-fca12f51-9ac0-43d3-a383-9574afea96e7.png?source=next-home-page&amp;dpr=2&amp;width=40&amp;height=40&amp;fit=cover&amp;gravity=poi\"/>,\n",
       " <img alt=\"\" class=\"image image--width-40\" src=\"https://www.ft.com/__origami/service/image/v2/images/raw/https%3A%2F%2Fd1e00ek4ebabms.cloudfront.net%2Fproduction%2Fuploaded-files%2Fmartin_wolf__-11ecb108-991c-486c-87c7-758042e32245.png?source=next-home-page&amp;dpr=2&amp;width=40&amp;height=40&amp;fit=cover&amp;gravity=poi\"/>,\n",
       " <img alt=\"\" class=\"image image--width-40\" src=\"https://www.ft.com/__origami/service/image/v2/images/raw/https%3A%2F%2Fd1e00ek4ebabms.cloudfront.net%2Fproduction%2Fuploaded-files%2FMiranda-Green-738b3453-5647-4fe9-bd76-bc9120410d78.png?source=next-home-page&amp;dpr=2&amp;width=40&amp;height=40&amp;fit=cover&amp;gravity=poi\"/>,\n",
       " <img alt=\"\" class=\"image image--width-40\" src=\"https://www.ft.com/__origami/service/image/v2/images/raw/https%3A%2F%2Fd1e00ek4ebabms.cloudfront.net%2Fproduction%2Fuploaded-files%2FJemima_kelly-byline_cutout-02783fe4-c694-4c34-aff0-0e110ab46fdf.png?source=next-home-page&amp;dpr=2&amp;width=40&amp;height=40&amp;fit=cover&amp;gravity=poi\"/>,\n",
       " <img alt=\"Europe’s battery makers seek a different path after Northvolt’s collapse \" class=\"image image--width-580\" loading=\"lazy\" src=\"https://www.ft.com/__origami/service/image/v2/images/raw/https%3A%2F%2Fd1e00ek4ebabms.cloudfront.net%2Fproduction%2F8ed6c85c-484d-4b57-bb85-45cc2ebab172.jpg?source=next-home-page&amp;dpr=2&amp;width=580&amp;fit=scale-down\"/>,\n",
       " <img alt=\"Newswrap Newsletter\" class=\"image image--width-280\" src=\"https://www.ft.com/__origami/service/image/v2/images/raw/https%3A%2F%2Fwww.ft.com%2F__assets%2Fcreatives%2Fhomepage-beta%2Fnewswrap.jpg?source=next-home-page&amp;dpr=2&amp;width=280&amp;height=280&amp;fit=cover&amp;gravity=poi\"/>,\n",
       " <img alt=\"The Economics Show podcast\" class=\"image image--width-180\" src=\"https://www.ft.com/__origami/service/image/v2/images/raw/https%3A%2F%2Fnext-video-editor-images.s3.ap-northeast-1.amazonaws.com%2F9fdc5045-bbf7-43f9-8071-b8c293683620?source=next-home-page&amp;dpr=2&amp;width=180&amp;height=180&amp;fit=cover&amp;gravity=poi\"/>,\n",
       " <img alt=\"FT News Briefing podcast\" class=\"image image--width-180\" src=\"https://www.ft.com/__origami/service/image/v2/images/raw/https%3A%2F%2Fnext-video-editor-images.s3.ap-northeast-1.amazonaws.com%2Fc3c14ab2-2c85-4e88-930e-e316beca8a64?source=next-home-page&amp;dpr=2&amp;width=180&amp;height=180&amp;fit=cover&amp;gravity=poi\"/>,\n",
       " <img alt=\"FT News Briefing podcast\" class=\"image image--width-180\" src=\"https://www.ft.com/__origami/service/image/v2/images/raw/https%3A%2F%2Fnext-video-editor-images.s3.ap-northeast-1.amazonaws.com%2F27c201b2-e039-47de-8e23-1e60b5192d95?source=next-home-page&amp;dpr=2&amp;width=180&amp;height=180&amp;fit=cover&amp;gravity=poi\"/>,\n",
       " <img alt=\"Political Fix podcast\" class=\"image image--width-180\" src=\"https://www.ft.com/__origami/service/image/v2/images/raw/https%3A%2F%2Fnext-video-editor-images.s3.ap-northeast-1.amazonaws.com%2Fb19187a9-0060-43fd-872a-321f42dbce41?source=next-home-page&amp;dpr=2&amp;width=180&amp;height=180&amp;fit=cover&amp;gravity=poi\"/>,\n",
       " <img alt=\"Moral Ambition — Rutger Bregman on a different kind of success for smart workers\" class=\"image image--width-580\" src=\"https://www.ft.com/__origami/service/image/v2/images/raw/https%3A%2F%2Fd1e00ek4ebabms.cloudfront.net%2Fproduction%2F3ded9d2a-5bf6-49f7-8fff-740c9a29ad0c.jpg?source=next-home-page&amp;dpr=2&amp;width=580&amp;fit=scale-down\"/>,\n",
       " <img alt=\"Five gadgets to cut the stress out of parenting\" class=\"image image--width-580\" src=\"https://www.ft.com/__origami/service/image/v2/images/raw/https%3A%2F%2Fd1e00ek4ebabms.cloudfront.net%2Fproduction%2F0918b74c-af0f-43ec-88c1-eb9a66c93b35.jpg?source=next-home-page&amp;dpr=2&amp;width=580&amp;fit=scale-down\"/>,\n",
       " <img alt=\"Ben and Imo — Mark Ravenhill’s play brings together two musical geniuses \" class=\"image image--width-580\" src=\"https://www.ft.com/__origami/service/image/v2/images/raw/https%3A%2F%2Fd1e00ek4ebabms.cloudfront.net%2Fproduction%2Ff61fea69-24f8-4e4a-95a5-560858659124.jpg?source=next-home-page&amp;dpr=2&amp;width=580&amp;fit=scale-down\"/>,\n",
       " <img alt=\"Ask a Stylist: the return of the knee-length skirt — and how to wear it\" class=\"image image--width-580\" src=\"https://www.ft.com/__origami/service/image/v2/images/raw/https%3A%2F%2Fd1e00ek4ebabms.cloudfront.net%2Fproduction%2Fe135479d-a7b9-40af-9b39-372663e5ef33.jpg?source=next-home-page&amp;dpr=2&amp;width=580&amp;fit=scale-down\"/>,\n",
       " <img alt=\"Best new audio books — from sibling grief to an idealistic Irishman \" class=\"image image--width-580\" src=\"https://www.ft.com/__origami/service/image/v2/images/raw/https%3A%2F%2Fd1e00ek4ebabms.cloudfront.net%2Fproduction%2F66c1efe7-9542-48ef-914f-31aff333fe10.jpg?source=next-home-page&amp;dpr=2&amp;width=580&amp;fit=scale-down\"/>,\n",
       " <img alt=\"FT interview: Jamie Dimon\" class=\"image image--width-180\" src=\"https://www.ft.com/__origami/service/image/v2/images/raw/https%3A%2F%2Fnext-video-editor-images.s3.ap-northeast-1.amazonaws.com%2F8f78e409-3fc1-411b-a80e-038ccfe9aa3c?source=next-home-page&amp;dpr=2&amp;width=180&amp;fit=scale-down\"/>,\n",
       " <img alt=\"When Tech Goes Nuclear - FT Film\" class=\"image image--width-180\" src=\"https://www.ft.com/__origami/service/image/v2/images/raw/https%3A%2F%2Fnext-video-editor-images.s3.ap-northeast-1.amazonaws.com%2Fde2761cb-ba5a-4416-8ca2-1ee7edd5aaec?source=next-home-page&amp;dpr=2&amp;width=180&amp;fit=scale-down\"/>,\n",
       " <img alt=\"The global debt addiction\" class=\"image image--width-180\" src=\"https://www.ft.com/__origami/service/image/v2/images/raw/https%3A%2F%2Fnext-video-editor-images.s3.ap-northeast-1.amazonaws.com%2F2bb6343e-be3e-4d85-9c0d-c35056fc7759?source=next-home-page&amp;dpr=2&amp;width=180&amp;fit=scale-down\"/>,\n",
       " <img alt=\"The Nvidia economy\" class=\"image image--width-180\" src=\"https://www.ft.com/__origami/service/image/v2/images/raw/https%3A%2F%2Fnext-video-editor-images.s3.ap-northeast-1.amazonaws.com%2F17dc8c1f-75f5-4f73-bda5-76e3163f9b96?source=next-home-page&amp;dpr=2&amp;width=180&amp;fit=scale-down\"/>,\n",
       " <img alt=\"Broken Justice: how Europe let its courts decay \" class=\"image image--width-580\" loading=\"lazy\" src=\"https://www.ft.com/__origami/service/image/v2/images/raw/https%3A%2F%2Fd1e00ek4ebabms.cloudfront.net%2Fproduction%2Fca79606b-55d7-4caf-baf4-27d4299e2683.jpg?source=next-home-page&amp;dpr=2&amp;width=580&amp;fit=scale-down\"/>,\n",
       " <img alt=\"\" class=\"image image--width-40\" src=\"https://www.ft.com/__origami/service/image/v2/images/raw/https%3A%2F%2Fd1e00ek4ebabms.cloudfront.net%2Fproduction%2Fuploaded-files%2Ffthead-v1_leo-lewis-18f44071-6ed8-470c-9e4e-4e89b4e06b0c.png?source=next-home-page&amp;dpr=2&amp;width=40&amp;height=40&amp;fit=cover&amp;gravity=poi\"/>,\n",
       " <img alt=\"Sign up to our newsletter for Moral Money.\" class=\"image image--width-280\" src=\"https://www.ft.com/__origami/service/image/v2/images/raw/https%3A%2F%2Fwww.ft.com%2F__assets%2Fcreatives%2Fhomepage-beta%2Fmoral-money-promo.jpeg?source=next-home-page&amp;dpr=2&amp;width=280&amp;height=280&amp;fit=cover&amp;gravity=poi\"/>,\n",
       " <img alt=\"Big Oil braced for worst year since pandemic as bumper profits recede\" class=\"image image--width-580\" loading=\"lazy\" src=\"https://www.ft.com/__origami/service/image/v2/images/raw/https%3A%2F%2Fd1e00ek4ebabms.cloudfront.net%2Fproduction%2F69bb7acf-bdd5-4266-a05d-3a549c3534e2.jpg?source=next-home-page&amp;dpr=2&amp;width=580&amp;fit=scale-down\"/>,\n",
       " <img alt=\"M&amp;S cyber crisis wipes almost £700mn off retailer’s valuation\" class=\"image image--width-580\" loading=\"lazy\" src=\"https://www.ft.com/__origami/service/image/v2/images/raw/https%3A%2F%2Fd1e00ek4ebabms.cloudfront.net%2Fproduction%2F14941a9a-19ee-4b19-830e-95b66c3db26c.jpg?source=next-home-page&amp;dpr=2&amp;width=580&amp;fit=scale-down\"/>,\n",
       " <img alt=\"\" src=\"https://spoor-api.ft.com/px.gif?data=%7B%22category%22%3A%22page%22%2C%22action%22%3A%22view%22%2C%22system%22%3A%7B%22source%22%3A%22non-ctm%22%7D%2C%22context%22%3A%7B%22name%22%3A%22home-page%22%2C%22product%22%3A%22next%22%2C%22data%22%3A%7B%22source%22%3A%22%5BSOURCE%5D%22%7D%7D%7D\"/>]"
      ]
     },
     "execution_count": 16,
     "metadata": {},
     "output_type": "execute_result"
    }
   ],
   "source": [
    "soup.find_all(\"img\")"
   ]
  },
  {
   "cell_type": "code",
   "execution_count": 18,
   "id": "1651acde-247d-4e12-b018-3e3f8e972d2a",
   "metadata": {},
   "outputs": [],
   "source": [
    "image1, image2 = soup.find_all(\"img\")[:2]"
   ]
  },
  {
   "cell_type": "code",
   "execution_count": 22,
   "id": "81eb3cff-15d3-4bb2-9bbb-81ec6b25ce15",
   "metadata": {},
   "outputs": [
    {
     "data": {
      "text/plain": [
       "'https://www.ft.com/__origami/service/image/v2/images/raw/https%3A%2F%2Fd1e00ek4ebabms.cloudfront.net%2Fproduction%2F6bffbc17-cbae-4fc5-aae9-b1f410c325ea.jpg?source=next-home-page&dpr=2&width=580&fit=scale-down'"
      ]
     },
     "execution_count": 22,
     "metadata": {},
     "output_type": "execute_result"
    }
   ],
   "source": [
    "image2[\"src\"]"
   ]
  },
  {
   "cell_type": "code",
   "execution_count": 23,
   "id": "fc681598-d3a0-4ade-ba38-1d88db7aa2df",
   "metadata": {},
   "outputs": [
    {
     "data": {
      "text/plain": [
       "'https://www.ft.com/__origami/service/image/v2/images/raw/https%3A%2F%2Fd1e00ek4ebabms.cloudfront.net%2Fproduction%2F69f1fc45-c419-4011-888e-9fcc887f18b9.jpg?source=next-home-page&dpr=2&width=280&fit=scale-down'"
      ]
     },
     "execution_count": 23,
     "metadata": {},
     "output_type": "execute_result"
    }
   ],
   "source": [
    "image1[\"src\"]"
   ]
  },
  {
   "cell_type": "code",
   "execution_count": 25,
   "id": "50090c96-c64e-4e2c-8fd0-cc12320596c6",
   "metadata": {},
   "outputs": [
    {
     "data": {
      "text/plain": [
       "'Financial Times'"
      ]
     },
     "execution_count": 25,
     "metadata": {},
     "output_type": "execute_result"
    }
   ],
   "source": [
    "soup.title.string"
   ]
  },
  {
   "cell_type": "code",
   "execution_count": 1,
   "id": "03d4cfde-1c03-4343-8392-d93aacea749d",
   "metadata": {},
   "outputs": [],
   "source": [
    "import mechanicalsoup\n",
    "browser = mechanicalsoup.Browser()"
   ]
  },
  {
   "cell_type": "code",
   "execution_count": 2,
   "id": "7fa33720-8fb7-4697-93c2-41e3ad492059",
   "metadata": {},
   "outputs": [],
   "source": [
    "url = \"http://olympus.realpython.org/login\"\n",
    "page = browser.get(url)"
   ]
  },
  {
   "cell_type": "code",
   "execution_count": 4,
   "id": "9b2cae6e-f1f7-4095-9753-651e0d2fd32a",
   "metadata": {},
   "outputs": [
    {
     "data": {
      "text/plain": [
       "<html>\n",
       "<head>\n",
       "<title>Log In</title>\n",
       "</head>\n",
       "<body bgcolor=\"yellow\">\n",
       "<center>\n",
       "<br/><br/>\n",
       "<h2>Please log in to access Mount Olympus:</h2>\n",
       "<br/><br/>\n",
       "<form action=\"/login\" method=\"post\" name=\"login\">\n",
       "Username: <input name=\"user\" type=\"text\"/><br/>\n",
       "Password: <input name=\"pwd\" type=\"password\"/><br/><br/>\n",
       "<input type=\"submit\" value=\"Submit\"/>\n",
       "</form>\n",
       "</center>\n",
       "</body>\n",
       "</html>"
      ]
     },
     "execution_count": 4,
     "metadata": {},
     "output_type": "execute_result"
    }
   ],
   "source": [
    "page.soup"
   ]
  },
  {
   "cell_type": "code",
   "execution_count": 7,
   "id": "f2432ab1-17a1-4735-918a-6208b5ba3381",
   "metadata": {},
   "outputs": [],
   "source": [
    "browser = mechanicalsoup.Browser()\n",
    "url = \"https://login.yahoo.com/?.lang=en-US&src=finance&.done=https%3A%2F%2Ffinance.yahoo.com%2F%3Fguccounter%3D1%26guce_referrer%3DaHR0cHM6Ly93d3cuZ29vZ2xlLmNvbS8%26guce_referrer_sig%3DAQAAABHtGe0qCg2teTz9ziw3wTllgEMzi9YK_qHoy4rhbU_lDn_XpNmVEX9kpdT8u1dO5t9MasCHBJ7jTQ7AFk6KtQhERg07vdUzY7R-c5oaJRkQGPo4KT5W-X5oHVjXGw4EcbgXkJyCDVPjiz4odHOzRMUpbw9b0Z3tOykHrLD0T2Fu&pspid=1183300002&activity=ybar-signin\"\n",
    "login_page = browser.get(url)\n",
    "login_html = login_page.soup"
   ]
  },
  {
   "cell_type": "code",
   "execution_count": 9,
   "id": "929194ca-1550-4409-b6dc-f4d9f40d6986",
   "metadata": {},
   "outputs": [],
   "source": [
    "import mechanicalsoup\n",
    "\n",
    "# 1\n",
    "browser = mechanicalsoup.Browser()\n",
    "url = \"http://olympus.realpython.org/login\"\n",
    "login_page = browser.get(url)\n",
    "login_html = login_page.soup\n",
    "\n",
    "# 2\n",
    "form = login_html.select(\"form\")[0]\n",
    "form.select(\"input\")[0][\"value\"] = \"zeus\"\n",
    "form.select(\"input\")[1][\"value\"] = \"ThunderDude\"\n",
    "\n",
    "# 3\n",
    "profiles_page = browser.submit(form, login_page.url)"
   ]
  },
  {
   "cell_type": "code",
   "execution_count": 10,
   "id": "ab587204-831d-4570-aaa7-8e8428db7cd2",
   "metadata": {},
   "outputs": [
    {
     "data": {
      "text/plain": [
       "'http://olympus.realpython.org/profiles'"
      ]
     },
     "execution_count": 10,
     "metadata": {},
     "output_type": "execute_result"
    }
   ],
   "source": [
    "profiles_page.url"
   ]
  },
  {
   "cell_type": "code",
   "execution_count": 11,
   "id": "e1a004b4-081f-4b35-99b7-0889a048ab11",
   "metadata": {},
   "outputs": [],
   "source": [
    "links = profiles_page.soup.select(\"a\")"
   ]
  },
  {
   "cell_type": "code",
   "execution_count": 12,
   "id": "56622f69-36fa-46f8-9fd4-af8362d3c91d",
   "metadata": {},
   "outputs": [
    {
     "name": "stdout",
     "output_type": "stream",
     "text": [
      "Aphrodite: /profiles/aphrodite\n",
      "Poseidon: /profiles/poseidon\n",
      "Dionysus: /profiles/dionysus\n"
     ]
    }
   ],
   "source": [
    "for link in links:\n",
    "     address = link[\"href\"]\n",
    "     text = link.text\n",
    "     print(f\"{text}: {address}\")"
   ]
  },
  {
   "cell_type": "code",
   "execution_count": null,
   "id": "86c03deb-6ef5-4635-bdad-ed053d330caf",
   "metadata": {},
   "outputs": [],
   "source": [
    "import time\n",
    "import mechanicalsoup\n",
    "\n",
    "# Use StatefulBrowser so it remembers the page and lets you follow links\n",
    "browser = mechanicalsoup.StatefulBrowser()\n",
    "browser.open(\"http://olympus.realpython.org/dice\")\n",
    "\n",
    "for i in range(4):\n",
    "    # Click the “Roll it again” link\n",
    "    browser.follow_link(\"Roll it again\")\n",
    "    # Extract the new result\n",
    "    result = browser.page.select_one(\"#result\").text\n",
    "    print(f\"The result of your dice roll is: {result}\")\n",
    "    if i < 3:\n",
    "        time.sleep(10)\n"
   ]
  },
  {
   "cell_type": "code",
   "execution_count": 13,
   "id": "d3572941-8ca0-4ef3-8136-b910baf94a95",
   "metadata": {},
   "outputs": [
    {
     "data": {
      "text/plain": [
       "<Response [200]>"
      ]
     },
     "execution_count": 13,
     "metadata": {},
     "output_type": "execute_result"
    }
   ],
   "source": [
    "browser = mechanicalsoup.StatefulBrowser()\n",
    "browser.open(\"http://olympus.realpython.org/dice\")"
   ]
  },
  {
   "cell_type": "code",
   "execution_count": 22,
   "id": "9d50883b-4ee1-4fe2-a791-f214d5483a84",
   "metadata": {},
   "outputs": [
    {
     "data": {
      "text/plain": [
       "<Response [200]>"
      ]
     },
     "execution_count": 22,
     "metadata": {},
     "output_type": "execute_result"
    }
   ],
   "source": [
    "browser.follow_link(text=\"Roll it again\")"
   ]
  },
  {
   "cell_type": "code",
   "execution_count": 18,
   "id": "ff61aac0-d07f-4650-a44d-9c63f778e530",
   "metadata": {},
   "outputs": [
    {
     "data": {
      "text/plain": [
       "<html>\n",
       "<head>\n",
       "<title>Dice Roll</title>\n",
       "</head>\n",
       "<body bgcolor=\"yellow\">\n",
       "<center>\n",
       "<br/><br/>\n",
       "<h1>Your dice roll result:</h1>\n",
       "<br/>\n",
       "<h2 id=\"result\">1</h2>\n",
       "<br/>\n",
       "<p><a href=\"/dice\">Roll it again</a></p>\n",
       "<br/>\n",
       "<br/>\n",
       "<p id=\"time\">April 28, 2025 04:09:59PM</p>\n",
       "</center>\n",
       "</body>\n",
       "</html>"
      ]
     },
     "execution_count": 18,
     "metadata": {},
     "output_type": "execute_result"
    }
   ],
   "source": [
    "browser.page"
   ]
  },
  {
   "cell_type": "code",
   "execution_count": 23,
   "id": "30fad411-e27d-4c85-8b38-57e1e874f3cb",
   "metadata": {},
   "outputs": [
    {
     "data": {
      "text/plain": [
       "'6'"
      ]
     },
     "execution_count": 23,
     "metadata": {},
     "output_type": "execute_result"
    }
   ],
   "source": [
    "browser.page.select_one(\"#result\").text"
   ]
  },
  {
   "cell_type": "code",
   "execution_count": 24,
   "id": "052f632f-369b-4ce5-a0a0-764b442d0dc2",
   "metadata": {},
   "outputs": [
    {
     "data": {
      "text/plain": [
       "<Response [200]>"
      ]
     },
     "execution_count": 24,
     "metadata": {},
     "output_type": "execute_result"
    }
   ],
   "source": [
    "url = 'https://www.ft.com/'\n",
    "browser.open(url)"
   ]
  },
  {
   "cell_type": "code",
   "execution_count": 26,
   "id": "ef1804ad-fa0a-48c9-b33b-f8f34629db47",
   "metadata": {},
   "outputs": [
    {
     "data": {
      "text/plain": [
       "<Response [200]>"
      ]
     },
     "execution_count": 26,
     "metadata": {},
     "output_type": "execute_result"
    }
   ],
   "source": [
    "browser.follow_link(text='China says it can live without US farm and energy goods')"
   ]
  },
  {
   "cell_type": "code",
   "execution_count": 28,
   "id": "5baaf009-c11c-4667-915f-eab3a67edaf7",
   "metadata": {},
   "outputs": [
    {
     "ename": "LinkNotFoundError",
     "evalue": "",
     "output_type": "error",
     "traceback": [
      "\u001b[0;31m---------------------------------------------------------------------------\u001b[0m",
      "\u001b[0;31mLinkNotFoundError\u001b[0m                         Traceback (most recent call last)",
      "Cell \u001b[0;32mIn[28], line 1\u001b[0m\n\u001b[0;32m----> 1\u001b[0m browser\u001b[38;5;241m.\u001b[39mfollow_link(text\u001b[38;5;241m=\u001b[39m\u001b[38;5;124m'\u001b[39m\u001b[38;5;124mLoad All Comments\u001b[39m\u001b[38;5;124m'\u001b[39m)\n",
      "File \u001b[0;32m/opt/anaconda3/envs/pyenv01/lib/python3.12/site-packages/mechanicalsoup/stateful_browser.py:386\u001b[0m, in \u001b[0;36mStatefulBrowser.follow_link\u001b[0;34m(self, link, bs4_kwargs, requests_kwargs, *bs4_args, **kwargs)\u001b[0m\n\u001b[1;32m    364\u001b[0m \u001b[38;5;28;01mdef\u001b[39;00m \u001b[38;5;21mfollow_link\u001b[39m(\u001b[38;5;28mself\u001b[39m, link\u001b[38;5;241m=\u001b[39m\u001b[38;5;28;01mNone\u001b[39;00m, \u001b[38;5;241m*\u001b[39mbs4_args, bs4_kwargs\u001b[38;5;241m=\u001b[39m{},\n\u001b[1;32m    365\u001b[0m                 requests_kwargs\u001b[38;5;241m=\u001b[39m{},  \u001b[38;5;241m*\u001b[39m\u001b[38;5;241m*\u001b[39mkwargs):\n\u001b[1;32m    366\u001b[0m \u001b[38;5;250m    \u001b[39m\u001b[38;5;124;03m\"\"\"Follow a link.\u001b[39;00m\n\u001b[1;32m    367\u001b[0m \n\u001b[1;32m    368\u001b[0m \u001b[38;5;124;03m    If ``link`` is a bs4.element.Tag (i.e. from a previous call to\u001b[39;00m\n\u001b[0;32m   (...)\u001b[0m\n\u001b[1;32m    384\u001b[0m \u001b[38;5;124;03m    :return: Forwarded from :func:`open_relative`.\u001b[39;00m\n\u001b[1;32m    385\u001b[0m \u001b[38;5;124;03m    \"\"\"\u001b[39;00m\n\u001b[0;32m--> 386\u001b[0m     link \u001b[38;5;241m=\u001b[39m \u001b[38;5;28mself\u001b[39m\u001b[38;5;241m.\u001b[39m_find_link_internal(link, bs4_args,\n\u001b[1;32m    387\u001b[0m                                     {\u001b[38;5;241m*\u001b[39m\u001b[38;5;241m*\u001b[39mbs4_kwargs, \u001b[38;5;241m*\u001b[39m\u001b[38;5;241m*\u001b[39mkwargs})\n\u001b[1;32m    389\u001b[0m     requests_kwargs \u001b[38;5;241m=\u001b[39m \u001b[38;5;28mself\u001b[39m\u001b[38;5;241m.\u001b[39m_merge_referer(\u001b[38;5;241m*\u001b[39m\u001b[38;5;241m*\u001b[39mrequests_kwargs)\n\u001b[1;32m    391\u001b[0m     \u001b[38;5;28;01mreturn\u001b[39;00m \u001b[38;5;28mself\u001b[39m\u001b[38;5;241m.\u001b[39mopen_relative(link[\u001b[38;5;124m'\u001b[39m\u001b[38;5;124mhref\u001b[39m\u001b[38;5;124m'\u001b[39m], \u001b[38;5;241m*\u001b[39m\u001b[38;5;241m*\u001b[39mrequests_kwargs)\n",
      "File \u001b[0;32m/opt/anaconda3/envs/pyenv01/lib/python3.12/site-packages/mechanicalsoup/stateful_browser.py:356\u001b[0m, in \u001b[0;36mStatefulBrowser._find_link_internal\u001b[0;34m(self, link, args, kwargs)\u001b[0m\n\u001b[1;32m    353\u001b[0m     kwargs[\u001b[38;5;124m'\u001b[39m\u001b[38;5;124murl_regex\u001b[39m\u001b[38;5;124m'\u001b[39m] \u001b[38;5;241m=\u001b[39m link\n\u001b[1;32m    355\u001b[0m \u001b[38;5;28;01mtry\u001b[39;00m:\n\u001b[0;32m--> 356\u001b[0m     \u001b[38;5;28;01mreturn\u001b[39;00m \u001b[38;5;28mself\u001b[39m\u001b[38;5;241m.\u001b[39mfind_link(\u001b[38;5;241m*\u001b[39margs, \u001b[38;5;241m*\u001b[39m\u001b[38;5;241m*\u001b[39mkwargs)\n\u001b[1;32m    357\u001b[0m \u001b[38;5;28;01mexcept\u001b[39;00m LinkNotFoundError:\n\u001b[1;32m    358\u001b[0m     \u001b[38;5;28;01mif\u001b[39;00m \u001b[38;5;28mself\u001b[39m\u001b[38;5;241m.\u001b[39mget_debug():\n",
      "File \u001b[0;32m/opt/anaconda3/envs/pyenv01/lib/python3.12/site-packages/mechanicalsoup/stateful_browser.py:330\u001b[0m, in \u001b[0;36mStatefulBrowser.find_link\u001b[0;34m(self, *args, **kwargs)\u001b[0m\n\u001b[1;32m    328\u001b[0m links \u001b[38;5;241m=\u001b[39m \u001b[38;5;28mself\u001b[39m\u001b[38;5;241m.\u001b[39mlinks(\u001b[38;5;241m*\u001b[39margs, \u001b[38;5;241m*\u001b[39m\u001b[38;5;241m*\u001b[39mkwargs)\n\u001b[1;32m    329\u001b[0m \u001b[38;5;28;01mif\u001b[39;00m \u001b[38;5;28mlen\u001b[39m(links) \u001b[38;5;241m==\u001b[39m \u001b[38;5;241m0\u001b[39m:\n\u001b[0;32m--> 330\u001b[0m     \u001b[38;5;28;01mraise\u001b[39;00m LinkNotFoundError()\n\u001b[1;32m    331\u001b[0m \u001b[38;5;28;01melse\u001b[39;00m:\n\u001b[1;32m    332\u001b[0m     \u001b[38;5;28;01mreturn\u001b[39;00m links[\u001b[38;5;241m0\u001b[39m]\n",
      "\u001b[0;31mLinkNotFoundError\u001b[0m: "
     ]
    }
   ],
   "source": [
    "browser.follow_link(text='Load All Comments')"
   ]
  },
  {
   "cell_type": "code",
   "execution_count": 33,
   "id": "75784824-e863-4cf5-aa54-a8e7c58f294d",
   "metadata": {},
   "outputs": [],
   "source": [
    "text = browser.page.get_text(separator=\"\\n\", strip=True)"
   ]
  },
  {
   "cell_type": "code",
   "execution_count": 38,
   "id": "24e28844-bbd1-44cb-9021-cf49c84e379f",
   "metadata": {},
   "outputs": [],
   "source": [
    "article"
   ]
  },
  {
   "cell_type": "code",
   "execution_count": 35,
   "id": "9edcd238-fe5d-4a8a-9232-055694fa183e",
   "metadata": {},
   "outputs": [
    {
     "ename": "AttributeError",
     "evalue": "'NoneType' object has no attribute 'get_text'",
     "output_type": "error",
     "traceback": [
      "\u001b[0;31m---------------------------------------------------------------------------\u001b[0m",
      "\u001b[0;31mAttributeError\u001b[0m                            Traceback (most recent call last)",
      "Cell \u001b[0;32mIn[35], line 4\u001b[0m\n\u001b[1;32m      1\u001b[0m article \u001b[38;5;241m=\u001b[39m browser\u001b[38;5;241m.\u001b[39mpage\u001b[38;5;241m.\u001b[39mfind(\u001b[38;5;124m\"\u001b[39m\u001b[38;5;124marticle\u001b[39m\u001b[38;5;124m\"\u001b[39m, \u001b[38;5;28mid\u001b[39m\u001b[38;5;241m=\u001b[39m\u001b[38;5;124m\"\u001b[39m\u001b[38;5;124marticle-body\u001b[39m\u001b[38;5;124m\"\u001b[39m)\n\u001b[1;32m      3\u001b[0m \u001b[38;5;66;03m# 2a. Grab all the text in one big string, with newlines between each element\u001b[39;00m\n\u001b[0;32m----> 4\u001b[0m full_text \u001b[38;5;241m=\u001b[39m article\u001b[38;5;241m.\u001b[39mget_text(separator\u001b[38;5;241m=\u001b[39m\u001b[38;5;124m\"\u001b[39m\u001b[38;5;130;01m\\n\u001b[39;00m\u001b[38;5;124m\"\u001b[39m, strip\u001b[38;5;241m=\u001b[39m\u001b[38;5;28;01mTrue\u001b[39;00m)\n\u001b[1;32m      5\u001b[0m \u001b[38;5;28mprint\u001b[39m(full_text)\n",
      "\u001b[0;31mAttributeError\u001b[0m: 'NoneType' object has no attribute 'get_text'"
     ]
    }
   ],
   "source": [
    "article = browser.page.find(\"article\", id=\"article-body\")\n",
    "\n",
    "# 2a. Grab all the text in one big string, with newlines between each element\n",
    "full_text = article.get_text(separator=\"\\n\", strip=True)\n",
    "print(full_text)"
   ]
  },
  {
   "cell_type": "code",
   "execution_count": 40,
   "id": "411b8c6b-0730-4a6f-b71a-2238a40964e7",
   "metadata": {},
   "outputs": [
    {
     "name": "stdout",
     "output_type": "stream",
     "text": [
      "No <article id='article-body'> in the raw HTML.\n"
     ]
    }
   ],
   "source": [
    "from bs4 import BeautifulSoup, NavigableString, Tag\n",
    "\n",
    "# ... after browser.open() or browser.follow_link() ...\n",
    "article = browser.page.find(\"article\", id=\"article-body\")\n",
    "\n",
    "if article is None:\n",
    "    print(\"No <article id='article-body'> in the raw HTML.\")\n",
    "else:\n",
    "    # you found it! now you can extract text...\n",
    "    print(article.get_text(\"\\n\", strip=True))"
   ]
  },
  {
   "cell_type": "code",
   "execution_count": 1,
   "id": "e4089acd-fae7-4de6-bd4c-4a4d2f5d56a7",
   "metadata": {},
   "outputs": [],
   "source": [
    "from selenium import webdriver\n",
    "from selenium.webdriver.common.by import By\n"
   ]
  },
  {
   "cell_type": "code",
   "execution_count": 4,
   "id": "e1fed0da-151c-4f48-96d8-2c06ed194ccd",
   "metadata": {},
   "outputs": [],
   "source": [
    "driver = webdriver.Chrome()\n",
    "url = 'https://www.ft.com/'\n",
    "driver.get(url)\n",
    "\n"
   ]
  },
  {
   "cell_type": "code",
   "execution_count": null,
   "id": "ede0d70a-9983-4870-9937-8aa19e8a63c9",
   "metadata": {},
   "outputs": [],
   "source": [
    "# maybe scroll or click to trigger load\n",
    "article = driver.find_element(By.ID, \"article-body\")\n",
    "print(article.text)\n",
    "driver.quit()"
   ]
  },
  {
   "cell_type": "code",
   "execution_count": null,
   "id": "22c5fe47-90e4-4b44-9a11-a5a9883b898c",
   "metadata": {},
   "outputs": [],
   "source": [
    "# advanced_session1.py\n",
    "# Advanced Session 1: Web Scraping & Advanced File Handling\n",
    "import time\n",
    "import requests\n",
    "from urllib.parse import urljoin, urlparse\n",
    "\n",
    "\n",
    "# 1. HTTP Requests and Scraping Ethics\n",
    "\n",
    "BASE_URL = \"https://example.com\"\n",
    "\n",
    "# Check robots.txt\n",
    "robots_txt = requests.get(urljoin(BASE_URL, \"/robots.txt\")).text\n",
    "print(\"robots.txt:\", robots_txt[:200], \"…\")\n",
    "\n",
    "# Polite request with rate-limiting\n",
    "def polite_get(url, session=None, pause=1.0, **kwargs):\n",
    "    \"\"\"Perform GET respecting a pause between requests.\"\"\"\n",
    "    if session is None:\n",
    "        session = requests.Session()\n",
    "    resp = session.get(url, **kwargs)\n",
    "    time.sleep(pause)\n",
    "    resp.raise_for_status()\n",
    "    return resp\n",
    "\n",
    "# 2. HTML Parsing with BeautifulSoup\n",
    "from bs4 import BeautifulSoup\n",
    "\n",
    "def parse_html(html):\n",
    "    soup = BeautifulSoup(html, \"html.parser\")\n",
    "    # Example: extract all links in a table\n",
    "    table = soup.find(\"table\", {\"id\": \"data-table\"})\n",
    "    rows = table.find_all(\"tr\")\n",
    "    data = []\n",
    "    for tr in rows:\n",
    "        cols = [td.get_text(strip=True) for td in tr.find_all(\"td\")]\n",
    "        if cols:\n",
    "            data.append(cols)\n",
    "    return data\n",
    "\n",
    "# 3. Advanced Scraping Techniques\n",
    "# 3a. JavaScript-rendered content via requests_html\n",
    "try:\n",
    "    from requests_html import HTMLSession\n",
    "    def scrape_js_page(url):\n",
    "        session = HTMLSession()\n",
    "        r = session.get(url)\n",
    "        r.html.render(timeout=20)         # renders JS\n",
    "        titles = [h.text for h in r.html.find(\"h2.article-title\")]\n",
    "        session.close()\n",
    "        return titles\n",
    "except ImportError:\n",
    "    print(\"requests_html not installed; skip JS rendering demo\")\n",
    "\n",
    "# 3b. Sessions, login, cookies\n",
    "LOGIN_URL = urljoin(BASE_URL, \"/login\")\n",
    "DATA_URL  = urljoin(BASE_URL, \"/protected/data\")\n",
    "\n",
    "def login_and_scrape(username, password):\n",
    "    sess = requests.Session()\n",
    "    # first get login page to grab csrf token if needed\n",
    "    login_page = sess.get(LOGIN_URL)\n",
    "    soup = BeautifulSoup(login_page.text, \"html.parser\")\n",
    "    csrf = soup.find(\"input\", {\"name\": \"csrf_token\"})[\"value\"]\n",
    "    payload = {\"username\": username, \"password\": password, \"csrf_token\": csrf}\n",
    "    resp = sess.post(LOGIN_URL, data=payload)\n",
    "    resp.raise_for_status()\n",
    "    # now scrape protected page\n",
    "    data_page = sess.get(DATA_URL)\n",
    "    return parse_html(data_page.text)\n",
    "\n",
    "# 4. Cleaning and Structuring Scraped Data\n",
    "import pandas as pd\n",
    "def to_dataframe(raw_rows, columns):\n",
    "    df = pd.DataFrame(raw_rows, columns=columns)\n",
    "    # clean numeric columns\n",
    "    for col in df.select_dtypes(include=\"object\"):\n",
    "        df[col] = (df[col]\n",
    "                   .str.replace(\",\", \"\")\n",
    "                   .replace(\"\", pd.NA)\n",
    "                   .astype(\"Float64\"))\n",
    "    return df\n",
    "\n",
    "# 5. Advanced File I/O Strategies\n",
    "# 5a. Reading/writing Excel, Stata, JSON, XML\n",
    "def demo_file_io(df, base_path=\"output/data\"):\n",
    "    df.to_csv(f\"{base_path}.csv\", index=False)\n",
    "    df.to_excel(f\"{base_path}.xlsx\", index=False)\n",
    "    df.to_stata(f\"{base_path}.dta\", write_index=False)\n",
    "    df.to_json(f\"{base_path}.json\", orient=\"records\", lines=True)\n",
    "\n",
    "# 5b. Binary formats: Parquet, Feather\n",
    "def save_binary(df, base_path=\"output/data\"):\n",
    "    df.to_parquet(f\"{base_path}.parquet\", index=False)\n",
    "    df.to_feather(f\"{base_path}.feather\")\n",
    "\n",
    "# 5c. Chunked processing for large CSVs\n",
    "def process_large_csv(path, chunksize=100_000):\n",
    "    reader = pd.read_csv(path, chunksize=chunksize)\n",
    "    for chunk in reader:\n",
    "        # example transform\n",
    "        chunk[\"log_value\"] = np.log(chunk[\"value\"] + 1)\n",
    "        # append to a master file, or aggregate\n",
    "        # chunk.to_parquet(\"output/aggregated.parquet\", mode=\"append\")\n",
    "\n",
    "# 6. Performance and Memory Management\n",
    "import numpy as np\n",
    "\n",
    "def optimize_df(df):\n",
    "    # downcast numeric types\n",
    "    df_int = df.select_dtypes(include=[\"int64\"])\n",
    "    df[df_int.columns] = df_int.apply(pd.to_numeric, downcast=\"unsigned\")\n",
    "    # convert low-cardinality object columns to categorical\n",
    "    for col in df.select_dtypes(include=[\"object\"]):\n",
    "        if df[col].nunique() / len(df) < 0.5:\n",
    "            df[col] = df[col].astype(\"category\")\n",
    "    return df\n",
    "\n",
    "# 7. Mini-Project: Scrape CPI table, clean, save CSV & Parquet\n",
    "def scrape_cpi_and_save():\n",
    "    url = \"https://www.bls.gov/cpi/tables/home.htm\"  # example link\n",
    "    resp = polite_get(url, pause=1.5)\n",
    "    soup = BeautifulSoup(resp.text, \"html.parser\")\n",
    "    # find the CPI table—this selector will vary by site\n",
    "    table = soup.select_one(\"table.cpi-data\")\n",
    "    headers = [th.get_text(strip=True) for th in table.find(\"tr\").find_all(\"th\")]\n",
    "    rows = []\n",
    "    for tr in table.find_all(\"tr\")[1:]:\n",
    "        rows.append([td.get_text(strip=True) for td in tr.find_all(\"td\")])\n",
    "    cpi_df = pd.DataFrame(rows, columns=headers)\n",
    "    # clean numeric columns\n",
    "    cpi_df = to_dataframe(cpi_df, headers)\n",
    "    # save out\n",
    "    cpi_df.to_csv(\"cpi_data.csv\", index=False)\n",
    "    cpi_df.to_parquet(\"cpi_data.parquet\", index=False)\n",
    "    print(\"Saved CPI data to CSV and Parquet.\")\n",
    "\n",
    "if __name__ == \"__main__\":\n",
    "    # Quick demo run of the mini-project\n",
    "    scrape_cpi_and_save()\n"
   ]
  },
  {
   "cell_type": "code",
   "execution_count": null,
   "id": "1165897b-4a20-4efd-b49f-279f6ed9c040",
   "metadata": {},
   "outputs": [],
   "source": []
  },
  {
   "cell_type": "code",
   "execution_count": null,
   "id": "64554d9f-824f-4873-8b2a-c6c7d376dd08",
   "metadata": {},
   "outputs": [],
   "source": []
  },
  {
   "cell_type": "code",
   "execution_count": null,
   "id": "badad204-8e52-4370-af02-3f629845efd1",
   "metadata": {},
   "outputs": [],
   "source": []
  }
 ],
 "metadata": {
  "kernelspec": {
   "display_name": "Python 3 (ipykernel)",
   "language": "python",
   "name": "python3"
  },
  "language_info": {
   "codemirror_mode": {
    "name": "ipython",
    "version": 3
   },
   "file_extension": ".py",
   "mimetype": "text/x-python",
   "name": "python",
   "nbconvert_exporter": "python",
   "pygments_lexer": "ipython3",
   "version": "3.12.9"
  }
 },
 "nbformat": 4,
 "nbformat_minor": 5
}
