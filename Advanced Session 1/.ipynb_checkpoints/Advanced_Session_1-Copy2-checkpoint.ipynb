{
 "cells": [
  {
   "cell_type": "markdown",
   "id": "287ce01a-1e6c-4019-8706-ffedab51322c",
   "metadata": {},
   "source": [
    "# Coding for Economists - Advanced Session 1"
   ]
  },
  {
   "cell_type": "markdown",
   "id": "ef7daa3c-fd9a-44e1-aa25-ec7b0ae40451",
   "metadata": {},
   "source": [
    "## 1. Setup Environment"
   ]
  },
  {
   "cell_type": "code",
   "execution_count": null,
   "id": "051b8e24-c904-47b0-817b-aa89e5df0cd0",
   "metadata": {},
   "outputs": [],
   "source": [
    "%pip install selenium"
   ]
  },
  {
   "cell_type": "code",
   "execution_count": 180,
   "id": "ce99a9a1-b0bd-434b-8bca-047437a1b625",
   "metadata": {},
   "outputs": [],
   "source": [
    "import pandas as pd\n",
    "import re\n",
    "import time"
   ]
  },
  {
   "cell_type": "markdown",
   "id": "6235ed9d-1ff0-4d11-ae1b-4b5986760f0d",
   "metadata": {},
   "source": [
    "## 2. HTTP Requests"
   ]
  },
  {
   "cell_type": "markdown",
   "id": "265d0e67-a804-48f1-9932-cd42f74f4831",
   "metadata": {},
   "source": [
    "### 2.1 Request HTML from URL"
   ]
  },
  {
   "cell_type": "code",
   "execution_count": 33,
   "id": "314f366d-840c-40c1-a2e9-673dfe0fa485",
   "metadata": {},
   "outputs": [
    {
     "data": {
      "text/plain": [
       "http.client.HTTPResponse"
      ]
     },
     "execution_count": 33,
     "metadata": {},
     "output_type": "execute_result"
    }
   ],
   "source": [
    "from urllib.request import urlopen\n",
    "\n",
    "url = 'https://www.ft.com/'\n",
    "page = urlopen(url)\n",
    "type(page)"
   ]
  },
  {
   "cell_type": "code",
   "execution_count": 34,
   "id": "afe6fcd0-b2e7-425b-986e-e525536e8199",
   "metadata": {},
   "outputs": [
    {
     "data": {
      "text/plain": [
       "bytes"
      ]
     },
     "execution_count": 34,
     "metadata": {},
     "output_type": "execute_result"
    }
   ],
   "source": [
    "page_bytes = page.read()\n",
    "type(page_bytes)"
   ]
  },
  {
   "cell_type": "markdown",
   "id": "2f6f02a8-d966-435e-ae09-b5e7c4e272cd",
   "metadata": {},
   "source": [
    "__Why Use Bytes__:\n",
    "1. Everything is 0s and 1s\n",
    "2. Read, write, cache or stream data without having to interpret it\n",
    "3. Send large files in chunks, resume interrupted downloads\n",
    "4. Avoid encoding problems"
   ]
  },
  {
   "cell_type": "code",
   "execution_count": 43,
   "id": "b7f0603b-99eb-4a47-b09d-b00999787bf0",
   "metadata": {},
   "outputs": [
    {
     "data": {
      "text/plain": [
       "b'<!DOCTYPE html><html lang=\"en-GB\" class=\"no-js core o-typography--loading-sans o-typography--loading-sans-bold o-typography--loading-display o-typography--loading-display-bold\" data-o-component=\"o-typography\" style=\"overflow-x:hidden;background-color:#fff1e5;color:#33302e\"><head><meta charSet=\"utf-8\"/><meta http-equiv=\"X-UA-Compatible\" content=\"IE=edge\"/><meta name=\"viewport\" content=\"width=device-width, initial-scale=1\"/><title>Financial Times</title><meta name=\"description\" content=\"News, analysis and opinion from the Financial Times on the latest in markets, economics and politics\"/><meta name=\"robots\" content=\"index,follow,max-snippet:200,max-image-preview:large\"/><meta name=\"google-site-verification\" content=\"4-t8sFaPvpO5FH_Gnw1dkM28CQepjzo8UjjAkdDflTw\"/><script type=\"application/ld+json\">{\"@context\":\"http://schema.org\",\"@type\":\"WebSite\",\"name\":\"Financial Times\",\"alternateName\":\"FT.com\",\"url\":\"https://www.ft.com/\"}</script><meta property=\"fb:pages\" content=\"8860325749\"/><meta prop'"
      ]
     },
     "execution_count": 43,
     "metadata": {},
     "output_type": "execute_result"
    }
   ],
   "source": [
    "page_bytes[:1000]"
   ]
  },
  {
   "cell_type": "code",
   "execution_count": 37,
   "id": "8b7cfc84-8faa-491c-a8b5-32ee15934a46",
   "metadata": {},
   "outputs": [
    {
     "data": {
      "text/plain": [
       "str"
      ]
     },
     "execution_count": 37,
     "metadata": {},
     "output_type": "execute_result"
    }
   ],
   "source": [
    "# Decode the bytes file into a str containing the html\n",
    "html = page_bytes.decode('utf-8')\n",
    "type(html)"
   ]
  },
  {
   "cell_type": "code",
   "execution_count": 153,
   "id": "3b1ccc7f-1b00-42b2-8eaf-04df7c777fa4",
   "metadata": {},
   "outputs": [
    {
     "data": {
      "text/plain": [
       "'<!DOCTYPE html><html lang=\"en-GB\" class=\"no-js core o-typography--loading-sans o-typography--loading-sans-bold o-typography--loading-display o-typography--loading-display-bold\" data-o-component=\"o-typography\" style=\"overflow-x:hidden;background-color:#fff1e5;color:#33302e\"><head><meta charSet=\"utf-8\"/><meta http-equiv=\"X-UA-Compatible\" content=\"IE=edge\"/><meta name=\"viewport\" content=\"width=device-width, initial-scale=1\"/><title>Financial Times</title><meta name=\"description\" content=\"News, analysis and opinion from the Financial Times on the latest in markets, economics and politics\"/><meta name=\"robots\" content=\"index,follow,max-snippet:200,max-image-preview:large\"/><meta name=\"google-site-verification\" content=\"4-t8sFaPvpO5FH_Gnw1dkM28CQepjzo8UjjAkdDflTw\"/><script type=\"application/ld+json\">{\"@context\":\"http://schema.org\",\"@type\":\"WebSite\",\"name\":\"Financial Times\",\"alternateName\":\"FT.com\",\"url\":\"https://www.ft.com/\"}</script><meta property=\"fb:pages\" content=\"8860325749\"/><meta property=\"twitter:site\" content=\"@FinancialTimes\"/><meta name=\"apple-itunes-app\" content=\"app-id=1200842933\"/><link rel=\"icon\" type=\"image/svg+xml\" href=\"https://www.ft.com/__origami/service/image/v2/images/raw/ftlogo-v1%3Abrand-ft-logo-square-coloured?source=update-logos&amp;format=svg\"/><link rel=\"alternate icon\" type=\"image/png\" href=\"https://www.ft.com/__origami/service/image/v2/images/raw/ftlogo-v1%3Abrand-ft-logo-square-coloured?source=update-logos&amp;format=png&amp;width=32&amp;height=32\" sizes=\"32x32\"/><link rel=\"alternate icon\" type=\"image/png\" href=\"https://www.ft.com/__origami/service/image/v2/images/raw/ftlogo-v1%3Abrand-ft-logo-square-coloured?source=update-logos&amp;format=png&amp;width=194&amp;height=194\" sizes=\"194x194\"/><link rel=\"apple-touch-icon\" href=\"https://www.ft.com/__origami/service/image/v2/images/raw/ftlogo-v1%3Abrand-ft-logo-square-coloured?source=update-logos&amp;format=png&amp;width=180&amp;height=180\" sizes=\"180x180\"/><link rel=\"manifest\" href=\"https://www.ft.com/__assets/creatives/manifest/manifest-v6.json\"/><link rel=\"alternate\" type=\"application/rss+xml\" href=\"https://www.ft.com/rss/home\"/><link rel=\"alternate\" type=\"application/rss+xml\" href=\"https://www.ft.com/rss/home/international\"/><link rel=\"preload\" as=\"script\" href=\"https://static.chartbeat.com/js/chartbeat_mab.js\" type=\"application/javascript\"/><link rel=\"preload\" as=\"script\" href=\"https://static.chartbeat.com/js/chartbeat.js\" type=\"application/javascript\"/><script id=\"chartbeat-script\">\\n(function() { // Chartbeat script snippet\\n\\n\\tfunction loadScript(src) {\\n\\t\\tconst script = document.createElement(\\'script\\');\\n\\t\\tscript.async = true;\\n\\t\\tscript.src = src;\\n\\t\\tscript.onerror = function(error) { console.warn(error) };\\n\\t\\tconst last = document.scripts[document.scripts.length - 1];\\n\\t\\tlast.parentNode.insertBefore(script, last);\\n\\t}\\n\\n\\ttry {\\n\\n\\t\\tconst testing = new URL(location).searchParams.has(\\'chartbeatTest\\') || false;\\n\\n\\t\\twindow._sf_async_config = {\\n\\t\\t\\tuid: 14181,\\n\\t\\t\\tdomain: testing ? \\'testing.ft.com\\' : \\'ft.com\\',\\n\\t\\t\\ttitle: \\'FT.com home page international edition\\',\\n\\t\\t\\tuseCanonical: false,\\n\\t\\t\\tuseCanonicalDomain: false,\\n\\t\\t\\tpath: \\'www.ft.com/?edition=international\\',\\n\\t\\t\\ttopStorageDomain: \\'ft.com\\',\\n\\t\\t\\tloadLibrary: () => loadScript(\\'https://static.chartbeat.com/js/chartbeat.js\\')\\n\\t\\t};\\n\\n\\t\\tloadScript(\\'https://static.chartbeat.com/js/chartbeat_mab.js\\')\\n\\n\\t} catch(error) {\\n\\t\\t// clean up\\n\\t\\tdelete window._sf_async_config\\n\\t\\tconsole.error(error)\\n\\t}\\n})();\\n</script><link href=\"https://securepubads.g.doubleclick.net/tag/js/gpt.js\" rel=\"preload\" as=\"script\" type=\"application/javascript\"/><link href=\"https://consent-notice.ft.com/cmp.js\" rel=\"preload\" as=\"script\" type=\"application/javascript\" referrerPolicy=\"no-referrer-when-downgrade\"/><script id=\"third-party-bootstrap-config\" type=\"application/json\">[{\"src\":\"https://securepubads.g.doubleclick.net/tag/js/gpt.js\",\"async\":true,\"defer\":false,\"always\":true,\"enhanced\":false,\"core\":false},{\"src\":\"https://consent-notice.ft.com/cmp.js\",\"referrerPolicy\":\"no-referrer-when-downgrade\",\"async\":true,\"defer\":false,\"always\":true,\"enhanced\":false,\"core\":false}]</script><script>;(function () {\\n\\tconst isEnhanced = \\'IntersectionObserver\\' in window && \\'Promise\\' in window\\n\\tconst scripts = getScriptsConfig()\\n\\tconst status = {}\\n\\tlet scriptsWaiting = 0\\n\\n\\tif (!scripts || !scripts.length) {\\n\\t\\treturn\\n\\t}\\n\\n\\tscripts\\n\\t\\t.filter(function (script) {\\n\\t\\t\\treturn script.always || (isEnhanced && script.enhanced) || (!isEnhanced && script.core)\\n\\t\\t})\\n\\t\\t.forEach(loadScript)\\n\\n\\tfunction loadScript(config) {\\n\\t\\ttry {\\n\\t\\t\\tconst script = document.createElement(\\'script\\')\\n\\t\\t\\tscript.onerror = onerror(config.src)\\n\\t\\t\\tscript.onload = onload(config.src)\\n\\t\\t\\tscript.async = config.async\\n\\t\\t\\tscript.defer = config.defer\\n\\t\\t\\tif (config.referrerPolicy) {\\n\\t\\t\\t\\tscript.referrerPolicy = config.referrerPolicy\\n\\t\\t\\t}\\n\\t\\t\\tdocument.currentScript.parentNode.insertBefore(script, document.currentScript)\\n\\t\\t\\tscript.src = config.src\\n\\t\\t\\tstatus[config.src] = null\\n\\t\\t\\tscriptsWaiting++\\n\\t\\t} catch (error) {\\n\\t\\t\\tc'"
      ]
     },
     "execution_count": 153,
     "metadata": {},
     "output_type": "execute_result"
    }
   ],
   "source": [
    "html[:5000]"
   ]
  },
  {
   "cell_type": "markdown",
   "id": "8f9e9656-48d5-4a7f-9c43-7f1636cb3375",
   "metadata": {},
   "source": [
    "### 2.2 HTML (HyperText Markup Language) Structure\n",
    "\n",
    "__HTML Tutorial__: https://www.w3schools.com/html/html_intro.asp"
   ]
  },
  {
   "cell_type": "markdown",
   "id": "79cc5f72-aa4b-4d89-881a-7efa4d16faff",
   "metadata": {},
   "source": [
    "<!DOCTYPE html>\n",
    "<html lang=\"en\">\n",
    "<head>\n",
    "  <meta charset=\"UTF-8\">\n",
    "  <title>Simple HTML Example</title>\n",
    "</head>\n",
    "<body>\n",
    "\n",
    "  <h3>My Simple Page</h3>\n",
    "\n",
    "  <p>This is a simple paragraph of text on my page.</p>\n",
    "\n",
    "  <img src=\"tarrif.avif\" alt=\"Placeholder image\">\n",
    "\n",
    "  <table>\n",
    "    <tr>\n",
    "      <th>Name</th>\n",
    "      <th>Age</th>\n",
    "    </tr>\n",
    "    <tr>\n",
    "      <td>Alice</td>\n",
    "      <td>30</td>\n",
    "    </tr>\n",
    "    <tr>\n",
    "      <td>Bob</td>\n",
    "      <td>25</td>\n",
    "    </tr>\n",
    "  </table>\n",
    "\n",
    "</body>\n",
    "</html>"
   ]
  },
  {
   "cell_type": "code",
   "execution_count": 45,
   "id": "059df3b6-3b78-4b6b-9fcc-265b2427f6fc",
   "metadata": {},
   "outputs": [
    {
     "data": {
      "text/plain": [
       "360420"
      ]
     },
     "execution_count": 45,
     "metadata": {},
     "output_type": "execute_result"
    }
   ],
   "source": [
    "len(html)"
   ]
  },
  {
   "cell_type": "markdown",
   "id": "a1c31c1a-1e98-4463-91de-33f6c53e97ca",
   "metadata": {},
   "source": [
    "## 3. Parse HTML Using `BeautifulSoup`\n",
    "Beautifulsoup transforms a complex HTML document into a tree of Python objects.\n",
    "\n",
    "__Beautifulsoup Tutorial__: https://beautiful-soup-4.readthedocs.io/en/latest/#"
   ]
  },
  {
   "cell_type": "markdown",
   "id": "f73bca42-fc55-4622-b44b-bf3d8b072aab",
   "metadata": {},
   "source": [
    "### 3.1 Make the Soup"
   ]
  },
  {
   "cell_type": "code",
   "execution_count": 47,
   "id": "4129b899-dcf0-4183-bf8a-c1bc1698c117",
   "metadata": {},
   "outputs": [
    {
     "data": {
      "text/plain": [
       "bs4.BeautifulSoup"
      ]
     },
     "execution_count": 47,
     "metadata": {},
     "output_type": "execute_result"
    }
   ],
   "source": [
    "from bs4 import BeautifulSoup\n",
    "\n",
    "soup = BeautifulSoup(html, 'html.parser')\n",
    "type(soup)"
   ]
  },
  {
   "cell_type": "code",
   "execution_count": 58,
   "id": "ce6df70f-2837-44c4-ac04-be9b0bd6b5bd",
   "metadata": {},
   "outputs": [
    {
     "data": {
      "text/plain": [
       "<title>Financial Times</title>"
      ]
     },
     "execution_count": 58,
     "metadata": {},
     "output_type": "execute_result"
    }
   ],
   "source": [
    "soup.title"
   ]
  },
  {
   "cell_type": "code",
   "execution_count": 70,
   "id": "c10a947f-a5cc-4847-b8ea-b56e8f247997",
   "metadata": {},
   "outputs": [
    {
     "data": {
      "text/plain": [
       "<img alt=\"Spain declares state of emergency in the wake of huge power outage\" class=\"image image--width-280\" src=\"https://www.ft.com/__origami/service/image/v2/images/raw/https%3A%2F%2Fd1e00ek4ebabms.cloudfront.net%2Fproduction%2F69f1fc45-c419-4011-888e-9fcc887f18b9.jpg?source=next-home-page&amp;dpr=2&amp;width=280&amp;fit=scale-down\"/>"
      ]
     },
     "execution_count": 70,
     "metadata": {},
     "output_type": "execute_result"
    }
   ],
   "source": [
    "soup.img"
   ]
  },
  {
   "cell_type": "code",
   "execution_count": 73,
   "id": "459cbb5c-132c-4af9-a43a-83021d9343ff",
   "metadata": {},
   "outputs": [
    {
     "data": {
      "text/plain": [
       "<p class=\"standfirst\"><a aria-hidden=\"false\" class=\"link\" data-trackable=\"standfirst-link\" data-trackable-context-story-link=\"standfirst-link\" href=\"/content/d790af03-8681-432d-88c8-ed7e980fcf85\" target=\"_self\"><span class=\"text text--color-black-60 text-sans--scale-0 text--style--no-active-state\" id=\"\">Many face night without electricity after train network, traffic lights and mobile connections shut down by mystery blackout</span></a></p>"
      ]
     },
     "execution_count": 73,
     "metadata": {},
     "output_type": "execute_result"
    }
   ],
   "source": [
    "soup.p"
   ]
  },
  {
   "cell_type": "markdown",
   "id": "34e9a8ad-3a7d-49cf-ad58-16907a6b1c9e",
   "metadata": {},
   "source": [
    "### 3.2 Search the Tree `.find_all()`"
   ]
  },
  {
   "cell_type": "code",
   "execution_count": 79,
   "id": "43a74b71-caf6-40c6-80e3-94a44fe3cbea",
   "metadata": {},
   "outputs": [
    {
     "name": "stdout",
     "output_type": "stream",
     "text": [
      "{'source', 'meta', 'small', 'form', 'input', 'title', 'br', 'span', 'picture', 'noscript', 'p', 'html', 'path', 'ul', 'li', 'section', 'time', 'label', 'div', 'a', 'h2', 'pg-slot', 'button', 'video', 'ol', 'link', 'header', 'nav', 'img', 'svg', 'footer', 'head', 'script', 'abbr', 'h1', 'iframe', 'main', 'body', 'h3'}\n"
     ]
    }
   ],
   "source": [
    "unique_tags = { tag.name for tag in soup.find_all(True) }\n",
    "print(unique_tags)"
   ]
  },
  {
   "cell_type": "markdown",
   "id": "5ec7a325-4b20-46d3-872b-06ee6aa9d2bc",
   "metadata": {},
   "source": [
    "- __Text Tags__: [`'p'`, `'a'`, `'h1'`, `'h2'`, `'h3'`]\n",
    "- __Table Tags__: [`'table'`, `'thead'`, `'tbody'`, `'tr'`, `'th'`, `'td'`]\n",
    "- __Image Tags__: [`'img'`, `'picture'`, `'source'`, `'svg'`]\n",
    "- __Video Tags__: [`'video'`, `'source'`, `'iframe'`]"
   ]
  },
  {
   "cell_type": "markdown",
   "id": "199f3fa7-baf1-4017-aa3a-78ef258c7a29",
   "metadata": {},
   "source": [
    "#### Find Text from Headers"
   ]
  },
  {
   "cell_type": "code",
   "execution_count": 192,
   "id": "e6987e96-0a30-44ad-be07-0803f045c4f2",
   "metadata": {},
   "outputs": [
    {
     "data": {
      "text/plain": [
       "['Brands target AI chatbots as users switch from Google search',\n",
       " 'Free edibles: foraging in London with a top chef',\n",
       " 'China stockpiles oil as Trump tariff shock hits crude prices',\n",
       " 'LNG companies say they cannot comply with Trump rules on Chinese ships',\n",
       " 'Give me fractal fronds over Kindleberger’s Spiral any day',\n",
       " 'Tech groups pivot to defence in neutral Ireland as EU re-arms',\n",
       " 'In charts: How Britain’s banking revolution failed',\n",
       " 'China and South Korea extend battery battle from EVs to grid storage',\n",
       " 'China says it can live without US farm and energy goods',\n",
       " 'Demand slump fuelled by Trump tariffs hits US ports and air freight',\n",
       " 'Lashing out at staff is bad for business',\n",
       " 'Five gadgets to cut the stress out of parenting',\n",
       " 'The S&P 500 is still significantly overpriced',\n",
       " 'In tough times, good policy becomes even more important',\n",
       " 'Channel 4 chief executive Alex Mahon to step down',\n",
       " 'Goldman Sachs-backed start-up to buy UK sound studio in bet on AI music-making',\n",
       " 'Gen Z is leading the charge back to the office',\n",
       " 'Musk needs to become a more normal CEO',\n",
       " 'The spectre of dollar doomsday still looms',\n",
       " 'American students turn to UK as Trump takes aim at US universities']"
      ]
     },
     "execution_count": 192,
     "metadata": {},
     "output_type": "execute_result"
    }
   ],
   "source": [
    "header_objs = soup.find_all(\n",
    "    'a',\n",
    "    class_='o-header__mega-link',\n",
    "    href=re.compile('content'),\n",
    "    attrs={'data-trackable': 'link'}\n",
    ")\n",
    "headers = [obj.get_text(strip=True) for obj in header_objs]\n",
    "headers = list(set(headers))\n",
    "headers[:20]"
   ]
  },
  {
   "cell_type": "code",
   "execution_count": 204,
   "id": "47a80516-a58e-46f1-8d21-23c2c072b8aa",
   "metadata": {},
   "outputs": [
    {
     "name": "stdout",
     "output_type": "stream",
     "text": [
      "<a class=\"o-header__mega-link\" data-trackable=\"link\" href=\"/content/bef8f66e-b377-41b9-8617-5ffe4bb98af7\">\n",
      " Trump tells Canada to vote for ‘51st state’ in election day intervention\n",
      "</a>\n",
      "\n"
     ]
    }
   ],
   "source": [
    "print(header_objs[0].prettify())"
   ]
  },
  {
   "cell_type": "code",
   "execution_count": 195,
   "id": "cc2debd6-3885-4f49-8720-e52e1441e325",
   "metadata": {},
   "outputs": [
    {
     "data": {
      "text/plain": [
       "['Demand slump fuelled by Trump tariffs hits US ports and air freight',\n",
       " 'American students turn to UK as Trump takes aim at US universities',\n",
       " 'China stockpiles oil as Trump tariff shock hits crude prices',\n",
       " 'LNG companies say they cannot comply with Trump rules on Chinese ships',\n",
       " 'Trump tells Canada to vote for ‘51st state’ in election day intervention']"
      ]
     },
     "execution_count": 195,
     "metadata": {},
     "output_type": "execute_result"
    }
   ],
   "source": [
    "header_objs = soup.find_all(\n",
    "    'a',\n",
    "    class_='o-header__mega-link',\n",
    "    href=re.compile('content'),\n",
    "    attrs={'data-trackable': 'link'},\n",
    "    string=re.compile('Trump')\n",
    ")\n",
    "headers = [obj.get_text(strip=True) for obj in header_objs]\n",
    "headers = list(set(headers))\n",
    "headers[:20]"
   ]
  },
  {
   "cell_type": "markdown",
   "id": "004d004f-0975-4f65-94e3-b708988dfcd9",
   "metadata": {},
   "source": [
    "#### Find Text from Paragraphs"
   ]
  },
  {
   "cell_type": "code",
   "execution_count": 181,
   "id": "6d10b205-3ed0-45f6-9e13-40d40f6add56",
   "metadata": {
    "scrolled": true
   },
   "outputs": [
    {
     "data": {
      "text/plain": [
       "['Many face night without electricity after train network, traffic lights and mobile connections shut down by mystery blackout',\n",
       " 'Top policymakers seek to reassure public that economy can withstand worst of trade war',\n",
       " 'Officials are worried US president will use minor progress in talks as ‘excuse’ to disengage',\n",
       " 'Searches for British courses surge following US president’s assault on Ivy League institutions, data shows',\n",
       " 'US president weighs in as battle between Mark Carney and Pierre Poilievre goes down to the wire',\n",
       " 'US capital in upheaval as government lay-offs pummel local economy and Maga allies embed in social scene',\n",
       " 'Data shows younger staff — more than baby boomers — crave the connection and routine of in-person work',\n",
       " 'Board’s vote is only a first step to ending tyre company’s links with Chinese state-owned group',\n",
       " 'Recommendation comes as another difficult vote on CEO’s remuneration package looms',\n",
       " 'News show criticises parent group seeking Trump administration approval for $8bn merger deal',\n",
       " 'Executive, 78, steps down after the value of the consumer-focused portfolio he built declined by $10.1bn in 2024',\n",
       " 'Aiman al-Mudaifer was appointed last year following increasing scrutiny of futuristic plan',\n",
       " 'Music samples group Splice agrees deal to acquire London-based Spitfire Audio for its library of orchestral sounds',\n",
       " 'The offering will test investor appetite for professional services firms amid a chill in new listings',\n",
       " 'Support is first funding from Riyadh as war-ravaged country seeks to rebuild its economy',\n",
       " 'Chancellor-in-waiting unveils CDU cabinet nominations a week before taking office',\n",
       " 'Call to recruit former regime soldiers comes as president seeks to rebuild military and stave off threats',\n",
       " 'Benjamin Netanyahu has embraced US president’s idea to expel Palestinian population',\n",
       " 'New Delhi’s efforts to downgrade ties with Islamabad will inflict damage on both sides of the border',\n",
       " 'Whatever happens with Trump’s tariffs, investors need to prepare for a new market paradigm']"
      ]
     },
     "execution_count": 181,
     "metadata": {},
     "output_type": "execute_result"
    }
   ],
   "source": [
    "para_objs = soup.find_all('p')\n",
    "texts = [obj.get_text(strip=True) for obj in para_objs]\n",
    "texts[:20]"
   ]
  },
  {
   "cell_type": "code",
   "execution_count": 205,
   "id": "b14a6970-0c97-4fed-93a8-29916439ddbf",
   "metadata": {},
   "outputs": [
    {
     "name": "stdout",
     "output_type": "stream",
     "text": [
      "<p class=\"standfirst\">\n",
      " <a aria-hidden=\"false\" class=\"link\" data-trackable=\"standfirst-link\" data-trackable-context-story-link=\"standfirst-link\" href=\"/content/d790af03-8681-432d-88c8-ed7e980fcf85\" target=\"_self\">\n",
      "  <span class=\"text text--color-black-60 text-sans--scale-0 text--style--no-active-state\" id=\"\">\n",
      "   Many face night without electricity after train network, traffic lights and mobile connections shut down by mystery blackout\n",
      "  </span>\n",
      " </a>\n",
      "</p>\n",
      "\n"
     ]
    }
   ],
   "source": [
    "print(para_objs[0].prettify())"
   ]
  },
  {
   "cell_type": "markdown",
   "id": "7dc5fa40-1c3b-484c-9441-1e4917904b7e",
   "metadata": {},
   "source": [
    "#### Find Images"
   ]
  },
  {
   "cell_type": "code",
   "execution_count": 258,
   "id": "bf31f5e7-2e4b-4b4d-a52f-d68925c70266",
   "metadata": {},
   "outputs": [
    {
     "data": {
      "text/plain": [
       "['Mark Carney’s Liberals win pivotal Canadian election',\n",
       " 'The 10 charts that define Trump’s tumultuous first 100 days',\n",
       " 'How Trump’s honeymoon turned sour so quickly ',\n",
       " 'Spain and Portugal race to restore vital infrastructure after massive blackout',\n",
       " 'China’s copper supplies set to run out as US tariffs bite, says Mercuria',\n",
       " 'Malta ‘golden passport’ scheme breaks law, EU’s top court rules',\n",
       " 'KKR and Capital Group seek to lure investors to private markets with new funds',\n",
       " 'Iranians face a sinking feeling as ground under Tehran cracks open',\n",
       " 'A&O Shearman wrestles with Trump and culture one year post-merger ',\n",
       " 'Chinese carmakers reset European ambitions as EU tariffs bite',\n",
       " 'HSBC’s Elhedery backs US dollar despite worsening economic outlook due to tariffs',\n",
       " 'How Apollo escaped Germany’s private equity trap',\n",
       " 'Europe fears Trump preparing to walk away from Ukraine talks',\n",
       " 'Europe’s battery makers seek a different path after Northvolt’s collapse ',\n",
       " 'BP profits halve as oil major struggles to turn around business',\n",
       " 'Amazon’s rival to Starlink makes first satellite launch',\n",
       " 'Pirelli strips China’s Sinochem of control in attempt to avert exclusion by Trump in US',\n",
       " 'How far can Reform and its brand of populism go in the UK?',\n",
       " 'Porsche and Volvo profits sink as industry reels from Trump tariffs',\n",
       " 'Syria’s defence ministry opens applications for Assad-era troops']"
      ]
     },
     "execution_count": 258,
     "metadata": {},
     "output_type": "execute_result"
    }
   ],
   "source": [
    "img_objs = soup.find_all('img')\n",
    "img_title = [obj.get('alt') for obj in img_objs]\n",
    "img_title[:20]"
   ]
  },
  {
   "cell_type": "code",
   "execution_count": 198,
   "id": "b615ec8f-a10a-4bfd-8e24-620424fdf8a9",
   "metadata": {
    "scrolled": true
   },
   "outputs": [
    {
     "data": {
      "text/plain": [
       "['https://www.ft.com/__origami/service/image/v2/images/raw/https%3A%2F%2Fd1e00ek4ebabms.cloudfront.net%2Fproduction%2F69f1fc45-c419-4011-888e-9fcc887f18b9.jpg?source=next-home-page&dpr=2&width=280&fit=scale-down',\n",
       " 'https://www.ft.com/__origami/service/image/v2/images/raw/https%3A%2F%2Fd1e00ek4ebabms.cloudfront.net%2Fproduction%2F6bffbc17-cbae-4fc5-aae9-b1f410c325ea.jpg?source=next-home-page&dpr=2&width=580&fit=scale-down',\n",
       " 'https://www.ft.com/__origami/service/image/v2/images/raw/https%3A%2F%2Fd1e00ek4ebabms.cloudfront.net%2Fproduction%2Fae4d89c9-685c-4e76-9457-7ed9b8bafaad.jpg?source=next-home-page&dpr=2&width=180&fit=scale-down',\n",
       " 'https://www.ft.com/__origami/service/image/v2/images/raw/https%3A%2F%2Fd1e00ek4ebabms.cloudfront.net%2Fproduction%2Fuploaded-files%2Fgideon_rachman_-0dfc38c0-901b-44b6-8ce3-31ab97af4d41.png?source=next-home-page&dpr=2&width=40&height=40&fit=cover&gravity=poi',\n",
       " 'https://www.ft.com/__origami/service/image/v2/images/raw/https%3A%2F%2Fd1e00ek4ebabms.cloudfront.net%2Fproduction%2Fuploaded-files%2FAndy%2520Haldane-31d496db-1c9f-48c5-b511-4842bbd1b27e.png?source=next-home-page&dpr=2&width=40&height=40&fit=cover&gravity=poi',\n",
       " 'https://www.ft.com/__origami/service/image/v2/images/raw/https%3A%2F%2Fd1e00ek4ebabms.cloudfront.net%2Fproduction%2F89ea9d2f-07dc-4bff-a674-342758bc8a87.jpg?source=next-home-page&dpr=2&width=280&fit=scale-down',\n",
       " 'https://www.ft.com/__origami/service/image/v2/images/raw/https%3A%2F%2Fd1e00ek4ebabms.cloudfront.net%2Fproduction%2Faaeb44db-ad1c-41f0-8446-5e92c2f43c06.jpg?source=next-home-page&dpr=2&width=280&fit=scale-down',\n",
       " 'https://www.ft.com/__origami/service/image/v2/images/raw/https%3A%2F%2Fd1e00ek4ebabms.cloudfront.net%2Fproduction%2F8ea5d49a-fb9f-4857-9ed4-b8f8f36be4fe.jpg?source=next-home-page&dpr=2&width=280&fit=scale-down',\n",
       " 'https://www.ft.com/__origami/service/image/v2/images/raw/https%3A%2F%2Fd1e00ek4ebabms.cloudfront.net%2Fproduction%2F614cc1ee-1df0-4755-9efb-65a4269985c4.jpg?source=next-home-page&dpr=2&width=280&fit=scale-down',\n",
       " 'https://www.ft.com/__origami/service/image/v2/images/raw/https%3A%2F%2Fd1e00ek4ebabms.cloudfront.net%2Fproduction%2F5edca538-28de-4755-9b21-25563cda7dae.jpg?source=next-home-page&dpr=2&width=580&fit=scale-down',\n",
       " 'https://www.ft.com/__origami/service/image/v2/images/raw/https%3A%2F%2Fd1e00ek4ebabms.cloudfront.net%2Fproduction%2F3e413f4e-0176-43f3-be6a-e09ecf884123.jpg?source=next-home-page&dpr=2&width=280&fit=scale-down',\n",
       " 'https://www.ft.com/__origami/service/image/v2/images/raw/https%3A%2F%2Fd1e00ek4ebabms.cloudfront.net%2Fproduction%2F59d0292d-058a-4bce-8ec8-4e978816546d.jpg?source=next-home-page&dpr=2&width=280&fit=scale-down',\n",
       " 'https://www.ft.com/__origami/service/image/v2/images/raw/https%3A%2F%2Fd1e00ek4ebabms.cloudfront.net%2Fproduction%2Fe912aadf-6ba9-4321-8482-ef8c9b6fd47d.jpg?source=next-home-page&dpr=2&width=280&fit=scale-down',\n",
       " 'https://www.ft.com/__origami/service/image/v2/images/raw/https%3A%2F%2Fd1e00ek4ebabms.cloudfront.net%2Fproduction%2F5694d303-4076-4a3f-91b5-4261f1057571.jpg?source=next-home-page&dpr=2&width=280&fit=scale-down',\n",
       " 'https://www.ft.com/__origami/service/image/v2/images/raw/https%3A%2F%2Fd1e00ek4ebabms.cloudfront.net%2Fproduction%2F712fc5f3-fe58-432a-947c-05ff170542f3.jpg?source=next-home-page&dpr=2&width=280&fit=scale-down',\n",
       " 'https://www.ft.com/__origami/service/image/v2/images/raw/https%3A%2F%2Fd1e00ek4ebabms.cloudfront.net%2Fproduction%2F5beec82f-90ce-4eb2-8710-fa19cca3230a.jpg?source=next-home-page&dpr=2&width=280&fit=scale-down',\n",
       " 'https://www.ft.com/__origami/service/image/v2/images/raw/https%3A%2F%2Fd1e00ek4ebabms.cloudfront.net%2Fproduction%2F10ac9e3d-9b41-41b4-8642-53d855aca129.jpg?source=next-home-page&dpr=2&width=280&fit=scale-down',\n",
       " 'https://www.ft.com/__origami/service/image/v2/images/raw/https%3A%2F%2Fd1e00ek4ebabms.cloudfront.net%2Fproduction%2Fcd9225b3-6620-48f2-98d4-ac419da3d6fa.png?source=next-home-page&dpr=2&width=280&fit=scale-down',\n",
       " 'https://www.ft.com/__origami/service/image/v2/images/raw/https%3A%2F%2Fd1e00ek4ebabms.cloudfront.net%2Fproduction%2F89bbc40f-75e2-4d11-9b7d-22b8b697f4f1.jpg?source=next-home-page&dpr=2&width=280&fit=scale-down',\n",
       " 'https://www.ft.com/__origami/service/image/v2/images/raw/https%3A%2F%2Fd1e00ek4ebabms.cloudfront.net%2Fproduction%2Fe21273ff-0be9-4942-8a77-315017bb9739.jpg?source=next-home-page&dpr=2&width=280&fit=scale-down']"
      ]
     },
     "execution_count": 198,
     "metadata": {},
     "output_type": "execute_result"
    }
   ],
   "source": [
    "img_url = [obj.get('src') for obj in img_objs]\n",
    "img_url[:20]"
   ]
  },
  {
   "cell_type": "code",
   "execution_count": 206,
   "id": "dc2f8671-e5b5-4eb1-98f5-29a6096806f7",
   "metadata": {
    "scrolled": true
   },
   "outputs": [
    {
     "name": "stdout",
     "output_type": "stream",
     "text": [
      "<img alt=\"Spain declares state of emergency in the wake of huge power outage\" class=\"image image--width-280\" src=\"https://www.ft.com/__origami/service/image/v2/images/raw/https%3A%2F%2Fd1e00ek4ebabms.cloudfront.net%2Fproduction%2F69f1fc45-c419-4011-888e-9fcc887f18b9.jpg?source=next-home-page&amp;dpr=2&amp;width=280&amp;fit=scale-down\"/>\n",
      "\n"
     ]
    }
   ],
   "source": [
    "print(img_objs[0].prettify())"
   ]
  },
  {
   "cell_type": "markdown",
   "id": "03c442dd-206a-4f41-8869-770ad0ce876c",
   "metadata": {},
   "source": [
    "## 4. Control Webpage Using `selenium`"
   ]
  },
  {
   "cell_type": "markdown",
   "id": "fc234329-4d71-43fd-9ecb-a9ae94b0e4e2",
   "metadata": {},
   "source": [
    "### 4.1 Connect Website\n",
    "#### Initiate Browser"
   ]
  },
  {
   "cell_type": "code",
   "execution_count": 320,
   "id": "b71a1047-9a6d-403a-b0c1-5f25ef17c8af",
   "metadata": {},
   "outputs": [],
   "source": [
    "import selenium.webdriver\n",
    "from selenium.webdriver.support.ui import WebDriverWait\n",
    "from selenium.webdriver.support import expected_conditions as EC\n",
    "\n",
    "driver = selenium.webdriver.Chrome()\n",
    "driver.get('http://www.ft.com')"
   ]
  },
  {
   "cell_type": "markdown",
   "id": "6e6ddf72-60bd-4f6c-9224-d65094258d0e",
   "metadata": {},
   "source": [
    "#### Accept Cookies"
   ]
  },
  {
   "cell_type": "code",
   "execution_count": 321,
   "id": "1b3c7eea-809c-4b2e-b887-8e36157b9169",
   "metadata": {},
   "outputs": [
    {
     "name": "stdout",
     "output_type": "stream",
     "text": [
      "Found 3 iframes.\n",
      "Iframe 0: <iframe name=\"__tcfapiLocator\" title=\"__tcfapiLocator\" style=\"display: none;\"></iframe>...\n",
      "Iframe 1: <iframe name=\"__gppLocator\" style=\"display: none;\"></iframe>...\n",
      "Iframe 2: <iframe src=\"https://consent-manager.ft.com/index.html?hasCsp=true&amp;message_id=1274423&amp;consentUUID=null&amp;consent_origin=https%3A%2F%2Fconsent-manager.ft.com%2Fconsent%2Ftcfv2&amp;preload_mes...\n"
     ]
    }
   ],
   "source": [
    "iframes = driver.find_elements(By.TAG_NAME, 'iframe')\n",
    "print(f\"Found {len(iframes)} iframes.\")\n",
    "\n",
    "for idx, iframe in enumerate(iframes):\n",
    "    print(f\"Iframe {idx}: {iframe.get_attribute('outerHTML')[:200]}...\")"
   ]
  },
  {
   "cell_type": "code",
   "execution_count": 322,
   "id": "ad8c02bc-fa06-4ff4-883e-5a64a4caf412",
   "metadata": {},
   "outputs": [],
   "source": [
    "driver.switch_to.frame(iframes[2])\n",
    "accept_btn = WebDriverWait(driver, 10).until(\n",
    "    EC.element_to_be_clickable((By.XPATH, \"//button[contains(text(), 'Accept Cookies')]\"))\n",
    ")\n",
    "accept_btn.click()"
   ]
  },
  {
   "cell_type": "markdown",
   "id": "e4bc8bea-7d80-4f8c-afad-c63a1642f6a3",
   "metadata": {},
   "source": [
    "#### Scroll Down to Show the Entire Page"
   ]
  },
  {
   "cell_type": "code",
   "execution_count": 270,
   "id": "f2303beb-c879-4585-ac30-6639aad868f8",
   "metadata": {},
   "outputs": [],
   "source": [
    "# def ScrollPage(ScrollNumber = 5, ScrollSleep = 1):\n",
    "#     for i in range(1,ScrollNumber):\n",
    "#         driver.execute_script(\"window.scrollTo(1,50000)\")\n",
    "#         time.sleep(ScrollSleep)\n",
    "\n",
    "# ScrollPage()"
   ]
  },
  {
   "cell_type": "markdown",
   "id": "1f24c609-8fa0-413b-85a0-674a20b62a53",
   "metadata": {},
   "source": [
    "### 4.2 Navigate the Page"
   ]
  },
  {
   "cell_type": "markdown",
   "id": "d96ee1bc-70cf-4a40-8281-7d3ec63f5fad",
   "metadata": {},
   "source": [
    "#### Click on A Link"
   ]
  },
  {
   "cell_type": "code",
   "execution_count": 286,
   "id": "038e65c3-0c9b-4d94-b92d-35301b8bc685",
   "metadata": {},
   "outputs": [
    {
     "data": {
      "text/plain": [
       "['How Trump’s honeymoon turned sour so quickly',\n",
       " 'Europe fears Trump preparing to walk away from Ukraine talks',\n",
       " 'The 10 charts that define Trump’s tumultuous first 100 days',\n",
       " 'Amazon pressures suppliers to cut prices to limit Trump tariff shock']"
      ]
     },
     "execution_count": 286,
     "metadata": {},
     "output_type": "execute_result"
    }
   ],
   "source": [
    "# List the First 20 Headers\n",
    "html = driver.page_source\n",
    "soup = BeautifulSoup(html, 'html.parser')\n",
    "header_objs = soup.find_all(\n",
    "    'a',\n",
    "    class_='o-header__mega-link',\n",
    "    href=re.compile('content'),\n",
    "    attrs={\"data-trackable\": \"link\"},\n",
    "    string=re.compile('Trump')\n",
    ")\n",
    "headers = [obj.get_text(strip=True) for obj in header_objs]\n",
    "headers = list(set(headers))\n",
    "headers[:20]"
   ]
  },
  {
   "cell_type": "code",
   "execution_count": 287,
   "id": "d089a2c2-6c38-44b7-b76d-4d0bc514f82b",
   "metadata": {},
   "outputs": [],
   "source": [
    "# Click on the First Header\n",
    "from selenium.webdriver.common.by import By\n",
    "\n",
    "# if you’ve already navigated to the page…\n",
    "link = driver.find_element(By.LINK_TEXT, headers[0])\n",
    "link.click()"
   ]
  },
  {
   "cell_type": "code",
   "execution_count": 288,
   "id": "a50fba5b-1f3d-46f9-b7d4-e02ce0356806",
   "metadata": {},
   "outputs": [],
   "source": [
    "url_save = driver.current_url"
   ]
  },
  {
   "cell_type": "markdown",
   "id": "3c7c64dc-d96f-4170-b870-7943318f993b",
   "metadata": {},
   "source": [
    "### 4.3 Fill in Forms"
   ]
  },
  {
   "cell_type": "code",
   "execution_count": 290,
   "id": "db48cf3b-d867-45d6-9e4c-e5fcb25b060b",
   "metadata": {},
   "outputs": [],
   "source": [
    "# Sign in FT.com Account\n",
    "url_login = 'https://accounts.ft.com/login'\n",
    "driver.get(url_login)"
   ]
  },
  {
   "cell_type": "code",
   "execution_count": 294,
   "id": "a0fa9237-4bf1-411f-ba82-1f0d80973ccd",
   "metadata": {},
   "outputs": [],
   "source": [
    "# Enter email address\n",
    "wait = WebDriverWait(driver, 15)\n",
    "email_field = wait.until(EC.element_to_be_clickable((By.ID, 'enter-email')))\n",
    "email_field.clear()\n",
    "email_field.send_keys('USERNAME')"
   ]
  },
  {
   "cell_type": "code",
   "execution_count": 295,
   "id": "7d2bc199-fb84-4ed2-9e30-284feb12bb7c",
   "metadata": {},
   "outputs": [],
   "source": [
    "# Click Next\n",
    "next_btn = driver.find_element(By.ID, 'enter-email-next')\n",
    "next_btn.click()"
   ]
  },
  {
   "cell_type": "code",
   "execution_count": 296,
   "id": "097de7ac-ebee-469d-ba54-c98690901bb4",
   "metadata": {},
   "outputs": [],
   "source": [
    "# Enter Passwords\n",
    "password_field = wait.until(EC.visibility_of_element_located((By.ID, 'enter-password')))\n",
    "password_field.clear()\n",
    "password_field.send_keys('PASSWORD')"
   ]
  },
  {
   "cell_type": "code",
   "execution_count": 297,
   "id": "aea2c168-71dd-4599-8a95-5395ee6dff5c",
   "metadata": {},
   "outputs": [],
   "source": [
    "# click the submit button\n",
    "login_btn = wait.until(EC.element_to_be_clickable((By.CSS_SELECTOR, \"button[type='submit']\")))\n",
    "login_btn.click()"
   ]
  },
  {
   "cell_type": "markdown",
   "id": "4d21021f-63ac-4b42-920d-c0ce3b6889a6",
   "metadata": {},
   "source": [
    "### 4.4 Scrape Current Page"
   ]
  },
  {
   "cell_type": "code",
   "execution_count": 298,
   "id": "e8512530-e097-45a2-9e56-d03e96b671bb",
   "metadata": {},
   "outputs": [],
   "source": [
    "driver.get(url_now)"
   ]
  },
  {
   "cell_type": "code",
   "execution_count": 300,
   "id": "e66b6811-ad47-4a9d-848f-8268e0590158",
   "metadata": {},
   "outputs": [
    {
     "data": {
      "text/plain": [
       "['',\n",
       " 'James PolitiandMyles McCormickin Washington',\n",
       " 'Published5 hours ago',\n",
       " 'Donald Trump launched his second presidency in the Capitol rotunda in January riding the political high of his 2024 election victory with a promise to deliver a new “golden age” to Americans.',\n",
       " 'But 100 days later, after a blizzard of actions to gut the federal government and remake the global economy through sweeping tariffs, Trump is back to being the unpopular and polarising president that he was during most of his first term in office.',\n",
       " 'At the 100-day mark, he has the lowest approval rating of any president in the past seven decades, according toone poll.',\n",
       " 'A dissatisfied US public has rapidly soured onTrump’s performance, according to recent polls, amid scepticism of his trade policies, aggressive spending cuts and even some concern that his crackdown on immigration is going too far.',\n",
       " 'According to the RealClearPoliticspolling average,Trump had an approval rating of 50.5 per cent at the end of January, with a disapproval rating of 44.3 per cent. The tables have turned now and he has a disapproval rating of 52.4 per cent and an approval rating of 45.3 per cent, according to the same average.',\n",
       " '“Big actions are prompting a big reaction,” said Kyle Kondik of the University of Virginia’s centre forpolitics.',\n",
       " 'While some erosion of support is natural for most presidents in the first year of a White House term, Trump’s honeymoon period has ended abruptly as he rapidly burnt presidential political capital.',\n",
       " 'For instance, Americans did not cool on Joe Biden until August of 2021 — eight months into his term — as they rejected his handling of the military withdrawal from Afghanistan, the resurgence of Covid-19 and the emergence of inflation.',\n",
       " 'Political analysts and strategists say Trump’s numbers now are particularly troubling on hishandling of the economy, where he had the upper hand during the 2024 campaign.',\n",
       " '“People still go to the grocery store and they get angry, and so, you know, that’s having an effect. And then there’s just the general chaos,” said Doug Heye, a Republican strategist. “He wasn’t elected to do all of those things that he seems to really be spending most of the time talking about.”',\n",
       " 'Trump will mark his 100th day in office with a high-profile speech in Michigan, a state he won back from the Democrats last year, on Tuesday evening — and then a university commencement address in the deeply conservative state of Alabama on Thursday.',\n",
       " 'He has dismissed his weak polling as the product of “Trump derangement syndrome” and said the pollsters behind surveys conducted for ABC/Washington Post, The New York Times and Fox — which all showed Trump’s disapproval ratings exceeding his approval by more than 10 percentage points\\xa0— “should be investigated for ELECTION FRAUD”.',\n",
       " 'Trump retains strong support from the Republican base and will not face another presidential vote as the US Constitution limits presidents to two terms. Despite this, Trump has said there are “methods” he could use to run again.',\n",
       " 'But some Republicans worry that members of Congress will have to deal with voter ire as soon as next November at the midterm elections, when the party controlling the White House traditionally loses seats.',\n",
       " '“When we see him losing independents, like we have, or women or in other places, it’s of less concern to the president, but it’s of more concern to Republican House members,” said Susan Del Percio, a Republican strategist.',\n",
       " '“If he’s able to show promises made promises delivered, then [numbers will rebound], but if we’re talking about going into Republican primaries next year with these kind of numbers, well we’ve been here before\\u2009.\\u2009.\\u2009.\\u2009and should know what to expect,” added Ron Bonjean, another Republican strategist.',\n",
       " 'Americans’ judgment of Trump’s trade policies has been particularly harsh, with polls showing voters believe he is spending too much time on tariffs and not enough on lowering the cost of living, as markets have slumped from their January high and his pledged tax cuts have not passed Congress.',\n",
       " '“People see [the tariffs] as haphazard,” said Del Percio. “They see a stock market that’s going up and down. Their 401ks — some days they have money to retire on, some days they don’t.”',\n",
       " 'Kondik said: “[H]is numbers are actually worse on the economy than they are overall, which is a new development and is, frankly, pretty striking and pretty bad for the president.”',\n",
       " 'Del Percio said there were signs that Americans believed Trump might be over-reaching on immigration, too, where he previously had some his broadest backing. “President Trump promised to deport people who were here illegally committing crimes. Everyone’s behind that. But\\u2009.\\u2009.\\u2009.\\u2009when you start denying due process to people, that’s where you start to have these problems.”',\n",
       " 'Still, many Republican operatives were unperturbed by the sliding poll numbers.',\n",
       " 'Recommended',\n",
       " '“In an overall sense, I’m not all that concerned. I mean he promised to be disruptive and disruption is hard,” said John Feehery, a Republican strategist. “I don’t think the party’s panicking.”',\n",
       " 'Adam Geller, a Republican pollster, dismissed the “background noise” around some of the recent numbers and said polls had consistently misread the public mood when it came to Trump. Private polling he carried out had cast the president in a better light, he said.',\n",
       " '“Is the public polling that we see a reason to be concerned? No, because the public polling has proven over and over and over again that they’re either unwilling or unable to properly poll when it comes to President Trump,” he added.',\n",
       " '',\n",
       " '',\n",
       " '',\n",
       " '',\n",
       " '',\n",
       " 'What the US-China confrontation means for the world']"
      ]
     },
     "execution_count": 300,
     "metadata": {},
     "output_type": "execute_result"
    }
   ],
   "source": [
    "html = driver.page_source\n",
    "soup = BeautifulSoup(html, 'html.parser')\n",
    "para_objs = soup.find_all('p')\n",
    "texts = [obj.get_text(strip=True) for obj in para_objs]\n",
    "texts"
   ]
  },
  {
   "cell_type": "markdown",
   "id": "65f8c0e8-eeb4-498e-aff2-c27feada04e0",
   "metadata": {},
   "source": [
    "### 4.5. Polite Request"
   ]
  },
  {
   "cell_type": "code",
   "execution_count": null,
   "id": "6cbad1a2-2d80-45ba-9ca5-e8d03811f561",
   "metadata": {},
   "outputs": [],
   "source": [
    "# Human-like Pauses\n",
    "import random, time\n",
    "\n",
    "def human_pause(mean=1.5, std=0.5):\n",
    "    time.sleep(max(0, random.gauss(mean, std)))\n",
    "\n",
    "# …after each navigation or click…\n",
    "human_pause()"
   ]
  },
  {
   "cell_type": "code",
   "execution_count": null,
   "id": "204a5df6-677d-47ee-858c-99ad83f913ca",
   "metadata": {},
   "outputs": [],
   "source": [
    "# Use exponential back-off on failures\n",
    "backoff = 1\n",
    "while True:\n",
    "    try:\n",
    "        driver.get(url)\n",
    "        break\n",
    "    except TimeoutException:\n",
    "        time.sleep(backoff)\n",
    "        backoff = min(backoff * 2, 30)"
   ]
  },
  {
   "cell_type": "code",
   "execution_count": null,
   "id": "3bd53e37-9bab-43d4-a951-e5ec359cebe2",
   "metadata": {},
   "outputs": [],
   "source": [
    "# Identify yourself\n",
    "opts = webdriver.ChromeOptions()\n",
    "opts.add_argument('user-agent=MyBot/1.0 (+https://mydomain.com/bot-info)')"
   ]
  },
  {
   "cell_type": "code",
   "execution_count": 304,
   "id": "777b560f-8cac-4966-9c9c-4324eaa83260",
   "metadata": {},
   "outputs": [],
   "source": [
    "# Close browser when finished\n",
    "driver.quit()"
   ]
  },
  {
   "cell_type": "markdown",
   "id": "13527ce6-f4e0-45f9-972f-e8bd3c416eb9",
   "metadata": {},
   "source": [
    "## 5. Scrape Online Tables\n",
    "__Tutorial__: https://oxylabs.io/blog/python-scrape-tables"
   ]
  },
  {
   "cell_type": "code",
   "execution_count": 307,
   "id": "13d87244-3526-43c8-8ee7-1ea44cf51a9d",
   "metadata": {},
   "outputs": [],
   "source": [
    "# Request HTML\n",
    "from urllib.request import Request, urlopen\n",
    "\n",
    "url = 'https://www.worldometers.info/world-population/population-by-country/'\n",
    "\n",
    "# Set a fake browser user agent\n",
    "headers = {'User-Agent': 'Mozilla/5.0 (Windows NT 10.0; Win64; x64) AppleWebKit/537.36 (KHTML, like Gecko) Chrome/122.0.0.0 Safari/537.36'}\n",
    "\n",
    "# Build a request with headers\n",
    "req = Request(url, headers=headers)\n",
    "\n",
    "page = urlopen(req)\n",
    "page_bytes = page.read()\n",
    "html = page_bytes.decode('utf-8')"
   ]
  },
  {
   "cell_type": "code",
   "execution_count": 308,
   "id": "bf378926-276a-48de-afae-a0bde799a6fd",
   "metadata": {},
   "outputs": [],
   "source": [
    "# Mkae the soup\n",
    "soup = BeautifulSoup(html, 'html.parser')\n",
    "\n",
    "# Find the table\n",
    "table = soup.find(\"table\")"
   ]
  },
  {
   "cell_type": "code",
   "execution_count": 313,
   "id": "b03842fe-0274-4567-b96b-3e8599d56849",
   "metadata": {},
   "outputs": [
    {
     "name": "stdout",
     "output_type": "stream",
     "text": [
      "['#', 'Country (ordependency)', 'Population(2025)', 'YearlyChange', 'NetChange', 'Density(P/Km²)', 'Land Area(Km²)', 'Migrants(net)', 'Fert.Rate', 'MedianAge', 'UrbanPop %', 'WorldShare']\n"
     ]
    }
   ],
   "source": [
    "# Extract headers\n",
    "headers = []\n",
    "for th in table.find_all('th'):\n",
    "    headers.append(th.get_text(strip=True))\n",
    "print(headers)"
   ]
  },
  {
   "cell_type": "code",
   "execution_count": 316,
   "id": "a06b1a89-9c1d-425d-83c9-a981f46f89cd",
   "metadata": {},
   "outputs": [
    {
     "name": "stdout",
     "output_type": "stream",
     "text": [
      "[['1', 'India', '1,463,865,525', '0.89%', '12,929,734', '492', '2,973,190', '−495,753', '1.94', '28.8', '37.1%', '17.78%'], ['2', 'China', '1,416,096,094', '−0.23%', '−3,225,184', '151', '9,388,211', '−268,126', '1.02', '40.1', '67.5%', '17.20%']]\n"
     ]
    }
   ],
   "source": [
    "# Extract all rows\n",
    "rows = []\n",
    "for tr in table.find_all('tr'):\n",
    "    cells = tr.find_all('td')\n",
    "    row = [cell.get_text(strip=True) for cell in cells]\n",
    "    if row:  # only append non-empty rows\n",
    "        rows.append(row)\n",
    "print(rows[:2])"
   ]
  },
  {
   "cell_type": "code",
   "execution_count": 319,
   "id": "0e02e9d2-cea0-45fc-9243-a9d8ef10e950",
   "metadata": {},
   "outputs": [
    {
     "data": {
      "text/html": [
       "<div>\n",
       "<style scoped>\n",
       "    .dataframe tbody tr th:only-of-type {\n",
       "        vertical-align: middle;\n",
       "    }\n",
       "\n",
       "    .dataframe tbody tr th {\n",
       "        vertical-align: top;\n",
       "    }\n",
       "\n",
       "    .dataframe thead th {\n",
       "        text-align: right;\n",
       "    }\n",
       "</style>\n",
       "<table border=\"1\" class=\"dataframe\">\n",
       "  <thead>\n",
       "    <tr style=\"text-align: right;\">\n",
       "      <th></th>\n",
       "      <th>#</th>\n",
       "      <th>Country (ordependency)</th>\n",
       "      <th>Population(2025)</th>\n",
       "      <th>YearlyChange</th>\n",
       "      <th>NetChange</th>\n",
       "      <th>Density(P/Km²)</th>\n",
       "      <th>Land Area(Km²)</th>\n",
       "      <th>Migrants(net)</th>\n",
       "      <th>Fert.Rate</th>\n",
       "      <th>MedianAge</th>\n",
       "      <th>UrbanPop %</th>\n",
       "      <th>WorldShare</th>\n",
       "    </tr>\n",
       "  </thead>\n",
       "  <tbody>\n",
       "    <tr>\n",
       "      <th>0</th>\n",
       "      <td>1</td>\n",
       "      <td>India</td>\n",
       "      <td>1,463,865,525</td>\n",
       "      <td>0.89%</td>\n",
       "      <td>12,929,734</td>\n",
       "      <td>492</td>\n",
       "      <td>2,973,190</td>\n",
       "      <td>−495,753</td>\n",
       "      <td>1.94</td>\n",
       "      <td>28.8</td>\n",
       "      <td>37.1%</td>\n",
       "      <td>17.78%</td>\n",
       "    </tr>\n",
       "    <tr>\n",
       "      <th>1</th>\n",
       "      <td>2</td>\n",
       "      <td>China</td>\n",
       "      <td>1,416,096,094</td>\n",
       "      <td>−0.23%</td>\n",
       "      <td>−3,225,184</td>\n",
       "      <td>151</td>\n",
       "      <td>9,388,211</td>\n",
       "      <td>−268,126</td>\n",
       "      <td>1.02</td>\n",
       "      <td>40.1</td>\n",
       "      <td>67.5%</td>\n",
       "      <td>17.20%</td>\n",
       "    </tr>\n",
       "    <tr>\n",
       "      <th>2</th>\n",
       "      <td>3</td>\n",
       "      <td>United States</td>\n",
       "      <td>347,275,807</td>\n",
       "      <td>0.54%</td>\n",
       "      <td>1,849,236</td>\n",
       "      <td>38</td>\n",
       "      <td>9,147,420</td>\n",
       "      <td>1,230,663</td>\n",
       "      <td>1.62</td>\n",
       "      <td>38.5</td>\n",
       "      <td>82.8%</td>\n",
       "      <td>4.22%</td>\n",
       "    </tr>\n",
       "    <tr>\n",
       "      <th>3</th>\n",
       "      <td>4</td>\n",
       "      <td>Indonesia</td>\n",
       "      <td>285,721,236</td>\n",
       "      <td>0.79%</td>\n",
       "      <td>2,233,305</td>\n",
       "      <td>158</td>\n",
       "      <td>1,811,570</td>\n",
       "      <td>−39,509</td>\n",
       "      <td>2.1</td>\n",
       "      <td>30.4</td>\n",
       "      <td>59.6%</td>\n",
       "      <td>3.47%</td>\n",
       "    </tr>\n",
       "    <tr>\n",
       "      <th>4</th>\n",
       "      <td>5</td>\n",
       "      <td>Pakistan</td>\n",
       "      <td>255,219,554</td>\n",
       "      <td>1.57%</td>\n",
       "      <td>3,950,390</td>\n",
       "      <td>331</td>\n",
       "      <td>770,880</td>\n",
       "      <td>−1,235,336</td>\n",
       "      <td>3.5</td>\n",
       "      <td>20.6</td>\n",
       "      <td>34.4%</td>\n",
       "      <td>3.10%</td>\n",
       "    </tr>\n",
       "  </tbody>\n",
       "</table>\n",
       "</div>"
      ],
      "text/plain": [
       "   # Country (ordependency) Population(2025) YearlyChange   NetChange  \\\n",
       "0  1                  India    1,463,865,525        0.89%  12,929,734   \n",
       "1  2                  China    1,416,096,094       −0.23%  −3,225,184   \n",
       "2  3          United States      347,275,807        0.54%   1,849,236   \n",
       "3  4              Indonesia      285,721,236        0.79%   2,233,305   \n",
       "4  5               Pakistan      255,219,554        1.57%   3,950,390   \n",
       "\n",
       "  Density(P/Km²) Land Area(Km²) Migrants(net) Fert.Rate MedianAge UrbanPop %  \\\n",
       "0            492      2,973,190      −495,753      1.94      28.8      37.1%   \n",
       "1            151      9,388,211      −268,126      1.02      40.1      67.5%   \n",
       "2             38      9,147,420     1,230,663      1.62      38.5      82.8%   \n",
       "3            158      1,811,570       −39,509       2.1      30.4      59.6%   \n",
       "4            331        770,880    −1,235,336       3.5      20.6      34.4%   \n",
       "\n",
       "  WorldShare  \n",
       "0     17.78%  \n",
       "1     17.20%  \n",
       "2      4.22%  \n",
       "3      3.47%  \n",
       "4      3.10%  "
      ]
     },
     "execution_count": 319,
     "metadata": {},
     "output_type": "execute_result"
    }
   ],
   "source": [
    "# Build pandas DataFrame\n",
    "df = pd.DataFrame(rows, columns=headers)\n",
    "df.head()"
   ]
  },
  {
   "cell_type": "markdown",
   "id": "31fb5862-7dde-440f-8cf1-e803383a7324",
   "metadata": {},
   "source": [
    "## 6. Scrape Multi-page Websites"
   ]
  },
  {
   "cell_type": "code",
   "execution_count": 324,
   "id": "83dcbc74-1972-432e-afd0-c45eb7c3b9b2",
   "metadata": {},
   "outputs": [],
   "source": [
    "# Request HTML\n",
    "from urllib.request import Request, urlopen\n",
    "\n",
    "url = 'https://scholar.google.com/citations?hl=en&vq=bus_economics&view_op=list_hcore&venue=6OFMzPxOGXUJ.2024'\n",
    "\n",
    "# Set a fake browser user agent\n",
    "headers = {'User-Agent': 'Mozilla/5.0 (Windows NT 10.0; Win64; x64) AppleWebKit/537.36 (KHTML, like Gecko) Chrome/122.0.0.0 Safari/537.36'}\n",
    "\n",
    "# Build a request with headers\n",
    "req = Request(url, headers=headers)\n",
    "\n",
    "page = urlopen(req)\n",
    "page_bytes = page.read()\n",
    "html = page_bytes.decode('utf-8')"
   ]
  },
  {
   "cell_type": "code",
   "execution_count": null,
   "id": "d6e5bc99-abfa-4a37-af53-2d875a3ae13b",
   "metadata": {},
   "outputs": [],
   "source": [
    "from selenium import webdriver\n",
    "from selenium.webdriver.common.by import By\n",
    "import time\n",
    "import csv"
   ]
  },
  {
   "cell_type": "code",
   "execution_count": 395,
   "id": "cd319217-0d50-44c1-b60e-f06dc5cf0caf",
   "metadata": {},
   "outputs": [],
   "source": [
    "import selenium.webdriver\n",
    "\n",
    "url = 'https://scholar.google.com/citations?hl=en&vq=bus_economics&view_op=list_hcore&venue=6OFMzPxOGXUJ.2024'\n",
    "driver = selenium.webdriver.Chrome()\n",
    "driver.get(url)"
   ]
  },
  {
   "cell_type": "code",
   "execution_count": 396,
   "id": "8e863b5b-be0e-466a-9608-09d664d40176",
   "metadata": {},
   "outputs": [
    {
     "name": "stdout",
     "output_type": "stream",
     "text": [
      "Reached last page.\n"
     ]
    }
   ],
   "source": [
    "all_data = []\n",
    "\n",
    "while True:\n",
    "    # Scrape data\n",
    "    titles = driver.find_elements(By.CSS_SELECTOR, \".gsc_mpat_ttl a\")\n",
    "    info = driver.find_elements(By.CSS_SELECTOR, \".gs_gray\")\n",
    "    info = info[:-1]\n",
    "    authors = info[0::2]\n",
    "    journals = info[1::2]\n",
    "    citations = driver.find_elements(By.CSS_SELECTOR, \".gsc_mpat_c a\")\n",
    "    years = driver.find_elements(By.CSS_SELECTOR, \".gsc_mpat_y span\")\n",
    "    years = years[1:]\n",
    "    \n",
    "    for title, author, journal, citation, year in zip(titles, authors, journals, citations, years):\n",
    "        all_data.append({\n",
    "            'title': title.text,\n",
    "            'author': author.text,\n",
    "            'journal': journal.text,\n",
    "            'citation': citation.text,\n",
    "            'year': year.text,\n",
    "            'link': title.get_attribute('href')\n",
    "        })\n",
    "    # Try to go to the next page\n",
    "    try:\n",
    "        button = driver.find_element(By.CSS_SELECTOR, \"button.gs_btnPR.gs_in_ib.gs_btn_half.gs_btn_lsb.gs_btn_srt.gsc_pgn_pnx\")\n",
    "        if not button.is_enabled():\n",
    "            print('Reached last page.')\n",
    "            break\n",
    "        button.click()\n",
    "        time.sleep(2)  # Wait for next page to load\n",
    "    except:\n",
    "        print(\"No more pages.\")\n",
    "        break"
   ]
  },
  {
   "cell_type": "code",
   "execution_count": 397,
   "id": "42842ee7-8adb-4e03-9a5e-8b308f9898f6",
   "metadata": {},
   "outputs": [
    {
     "data": {
      "text/plain": [
       "'164'"
      ]
     },
     "execution_count": 397,
     "metadata": {},
     "output_type": "execute_result"
    }
   ],
   "source": [
    "citations[0].text"
   ]
  },
  {
   "cell_type": "code",
   "execution_count": 406,
   "id": "2cc6aac1-f8c1-458a-bd6a-58a3f1c3abaf",
   "metadata": {},
   "outputs": [
    {
     "name": "stdout",
     "output_type": "stream",
     "text": [
      "(153, 6)\n"
     ]
    },
    {
     "data": {
      "text/html": [
       "<div>\n",
       "<style scoped>\n",
       "    .dataframe tbody tr th:only-of-type {\n",
       "        vertical-align: middle;\n",
       "    }\n",
       "\n",
       "    .dataframe tbody tr th {\n",
       "        vertical-align: top;\n",
       "    }\n",
       "\n",
       "    .dataframe thead th {\n",
       "        text-align: right;\n",
       "    }\n",
       "</style>\n",
       "<table border=\"1\" class=\"dataframe\">\n",
       "  <thead>\n",
       "    <tr style=\"text-align: right;\">\n",
       "      <th></th>\n",
       "      <th>title</th>\n",
       "      <th>author</th>\n",
       "      <th>journal</th>\n",
       "      <th>citation</th>\n",
       "      <th>year</th>\n",
       "      <th>link</th>\n",
       "    </tr>\n",
       "  </thead>\n",
       "  <tbody>\n",
       "    <tr>\n",
       "      <th>0</th>\n",
       "      <td>Two-Way Fixed Effects Estimators with Heteroge...</td>\n",
       "      <td>C de Chaisemartin, X D’Haultfœuille</td>\n",
       "      <td>American Economic Review 110 (9), 2964-2996</td>\n",
       "      <td>3639</td>\n",
       "      <td>2020</td>\n",
       "      <td>https://scholar.google.com/scholar?oi=bibs&amp;clu...</td>\n",
       "    </tr>\n",
       "    <tr>\n",
       "      <th>1</th>\n",
       "      <td>Bartik Instruments: What, When, Why, and How</td>\n",
       "      <td>P Goldsmith-Pinkham, I Sorkin, H Swift</td>\n",
       "      <td>American Economic Review 110 (8), 2586-2624</td>\n",
       "      <td>2027</td>\n",
       "      <td>2020</td>\n",
       "      <td>https://scholar.google.com/scholar?oi=bibs&amp;clu...</td>\n",
       "    </tr>\n",
       "    <tr>\n",
       "      <th>2</th>\n",
       "      <td>Macroeconomic Implications of COVID-19: Can Ne...</td>\n",
       "      <td>V Guerrieri, G Lorenzoni, L Straub, I Werning</td>\n",
       "      <td>American Economic Review 112 (5), 1437-1474</td>\n",
       "      <td>1594</td>\n",
       "      <td>2022</td>\n",
       "      <td>https://scholar.google.com/scholar?oi=bibs&amp;clu...</td>\n",
       "    </tr>\n",
       "    <tr>\n",
       "      <th>3</th>\n",
       "      <td>Importing Political Polarization? The Electora...</td>\n",
       "      <td>D Autor, D Dorn, G Hanson, K Majlesi</td>\n",
       "      <td>American Economic Review 110 (10), 3139-3183</td>\n",
       "      <td>1515</td>\n",
       "      <td>2020</td>\n",
       "      <td>https://scholar.google.com/scholar?oi=bibs&amp;clu...</td>\n",
       "    </tr>\n",
       "    <tr>\n",
       "      <th>4</th>\n",
       "      <td>Are Ideas Getting Harder to Find?</td>\n",
       "      <td>N Bloom, CI Jones, J Van Reenen, M Webb</td>\n",
       "      <td>American Economic Review 110 (4), 1104-1144</td>\n",
       "      <td>1318</td>\n",
       "      <td>2020</td>\n",
       "      <td>https://scholar.google.com/scholar?oi=bibs&amp;clu...</td>\n",
       "    </tr>\n",
       "  </tbody>\n",
       "</table>\n",
       "</div>"
      ],
      "text/plain": [
       "                                               title  \\\n",
       "0  Two-Way Fixed Effects Estimators with Heteroge...   \n",
       "1       Bartik Instruments: What, When, Why, and How   \n",
       "2  Macroeconomic Implications of COVID-19: Can Ne...   \n",
       "3  Importing Political Polarization? The Electora...   \n",
       "4                  Are Ideas Getting Harder to Find?   \n",
       "\n",
       "                                          author  \\\n",
       "0            C de Chaisemartin, X D’Haultfœuille   \n",
       "1         P Goldsmith-Pinkham, I Sorkin, H Swift   \n",
       "2  V Guerrieri, G Lorenzoni, L Straub, I Werning   \n",
       "3           D Autor, D Dorn, G Hanson, K Majlesi   \n",
       "4        N Bloom, CI Jones, J Van Reenen, M Webb   \n",
       "\n",
       "                                        journal citation  year  \\\n",
       "0   American Economic Review 110 (9), 2964-2996     3639  2020   \n",
       "1   American Economic Review 110 (8), 2586-2624     2027  2020   \n",
       "2   American Economic Review 112 (5), 1437-1474     1594  2022   \n",
       "3  American Economic Review 110 (10), 3139-3183     1515  2020   \n",
       "4   American Economic Review 110 (4), 1104-1144     1318  2020   \n",
       "\n",
       "                                                link  \n",
       "0  https://scholar.google.com/scholar?oi=bibs&clu...  \n",
       "1  https://scholar.google.com/scholar?oi=bibs&clu...  \n",
       "2  https://scholar.google.com/scholar?oi=bibs&clu...  \n",
       "3  https://scholar.google.com/scholar?oi=bibs&clu...  \n",
       "4  https://scholar.google.com/scholar?oi=bibs&clu...  "
      ]
     },
     "execution_count": 406,
     "metadata": {},
     "output_type": "execute_result"
    }
   ],
   "source": [
    "# create a DataFrame\n",
    "df = pd.DataFrame(all_data)\n",
    "print(df.shape)\n",
    "df.head()"
   ]
  },
  {
   "cell_type": "code",
   "execution_count": 419,
   "id": "49344e62-be1c-4aa4-82f8-38df317fce82",
   "metadata": {},
   "outputs": [],
   "source": [
    "# Close browser when finished\n",
    "df.to_csv('AER.csv', index='False')\n",
    "driver.quit()"
   ]
  },
  {
   "cell_type": "markdown",
   "id": "e10bc623-72da-4bac-8a8c-33ec4992da0a",
   "metadata": {},
   "source": [
    "## 7. Advanced Data I/O"
   ]
  },
  {
   "cell_type": "markdown",
   "id": "1f23218d-7ef5-4558-aa32-50f87d353459",
   "metadata": {},
   "source": [
    "### 7.1 Batch Read/Write"
   ]
  },
  {
   "cell_type": "code",
   "execution_count": 420,
   "id": "489b6c8e-242d-4607-b1fd-85a6bd3f73bf",
   "metadata": {},
   "outputs": [
    {
     "name": "stdout",
     "output_type": "stream",
     "text": [
      "Processing chunk 0, rows 20\n",
      "Processing chunk 1, rows 20\n",
      "Processing chunk 2, rows 20\n",
      "Processing chunk 3, rows 20\n",
      "Processing chunk 4, rows 20\n",
      "Processing chunk 5, rows 20\n",
      "Processing chunk 6, rows 20\n",
      "Processing chunk 7, rows 13\n"
     ]
    }
   ],
   "source": [
    "# Read csv in batches\n",
    "for i, chunk in enumerate(pd.read_csv('AER.csv', chunksize=20)):\n",
    "    # chunk is a DataFrame of up to chunksize rows\n",
    "    print(f\"Processing chunk {i}, rows {len(chunk)}\")\n",
    "    # … your processing logic here …\n",
    "    # e.g. transform, filter, write to DB, etc."
   ]
  },
  {
   "cell_type": "code",
   "execution_count": 421,
   "id": "8bb464f9-088f-48f3-a7dd-37a2958fc703",
   "metadata": {},
   "outputs": [
    {
     "name": "stdout",
     "output_type": "stream",
     "text": [
      "Wrote 50 rows to AER_00.csv\n",
      "Wrote 50 rows to AER_01.csv\n",
      "Wrote 50 rows to AER_02.csv\n",
      "Wrote 3 rows to AER_03.csv\n"
     ]
    }
   ],
   "source": [
    "# Write csv in batches\n",
    "rows_per_file = 50\n",
    "output_prefix = 'AER_'\n",
    "\n",
    "for i in range(0, len(df), rows_per_file):\n",
    "    chunk = df.iloc[i : i + rows_per_file]\n",
    "    file_idx = i // rows_per_file \n",
    "    filename = f\"{output_prefix}{file_idx:02d}.csv\"\n",
    "    chunk.to_csv(filename, index=False)\n",
    "    print(f\"Wrote {len(chunk)} rows to {filename}\")"
   ]
  },
  {
   "cell_type": "markdown",
   "id": "b6b9394a-1a51-4d10-bd16-2eeade978c64",
   "metadata": {},
   "source": [
    "### 7.2 Compression"
   ]
  },
  {
   "cell_type": "code",
   "execution_count": 437,
   "id": "215bd560-b047-4222-9e77-ab31f9cae904",
   "metadata": {},
   "outputs": [],
   "source": [
    "# Compress data into gzip format\n",
    "df.to_csv('AER.csv.gz', index=False, compression='gzip')\n",
    "\n",
    "# Compress data into zip format\n",
    "df.to_csv('AER.csv.zip', index=False, compression='zip')"
   ]
  },
  {
   "cell_type": "code",
   "execution_count": 438,
   "id": "e726ee52-db85-482f-9705-88e6a94b3e6f",
   "metadata": {},
   "outputs": [
    {
     "name": "stdout",
     "output_type": "stream",
     "text": [
      "Raw file size: 0.03 MB\n",
      "Gzip file size: 0.01 MB\n",
      "zip file size: 0.01 MB\n"
     ]
    }
   ],
   "source": [
    "# Compare sizes\n",
    "import os\n",
    "\n",
    "raw_size = os.path.getsize('AER.csv')\n",
    "gzip_size = os.path.getsize('AER.csv.gz')\n",
    "zip_size = os.path.getsize('AER.csv.zip')\n",
    "print(f\"Raw file size: {raw_size / (1024**2):.2f} MB\")\n",
    "print(f\"Gzip file size: {gzip_size / (1024**2):.2f} MB\")\n",
    "print(f\"zip file size: {zip_size / (1024**2):.2f} MB\")"
   ]
  },
  {
   "cell_type": "code",
   "execution_count": 446,
   "id": "ed3da344-8f20-4ca7-ac2d-d89a1acc8321",
   "metadata": {},
   "outputs": [
    {
     "data": {
      "text/html": [
       "<div>\n",
       "<style scoped>\n",
       "    .dataframe tbody tr th:only-of-type {\n",
       "        vertical-align: middle;\n",
       "    }\n",
       "\n",
       "    .dataframe tbody tr th {\n",
       "        vertical-align: top;\n",
       "    }\n",
       "\n",
       "    .dataframe thead th {\n",
       "        text-align: right;\n",
       "    }\n",
       "</style>\n",
       "<table border=\"1\" class=\"dataframe\">\n",
       "  <thead>\n",
       "    <tr style=\"text-align: right;\">\n",
       "      <th></th>\n",
       "      <th>title</th>\n",
       "      <th>author</th>\n",
       "      <th>journal</th>\n",
       "      <th>citation</th>\n",
       "      <th>year</th>\n",
       "      <th>link</th>\n",
       "    </tr>\n",
       "  </thead>\n",
       "  <tbody>\n",
       "    <tr>\n",
       "      <th>0</th>\n",
       "      <td>Two-Way Fixed Effects Estimators with Heteroge...</td>\n",
       "      <td>C de Chaisemartin, X D’Haultfœuille</td>\n",
       "      <td>American Economic Review 110 (9), 2964-2996</td>\n",
       "      <td>3639</td>\n",
       "      <td>2020</td>\n",
       "      <td>https://scholar.google.com/scholar?oi=bibs&amp;clu...</td>\n",
       "    </tr>\n",
       "    <tr>\n",
       "      <th>1</th>\n",
       "      <td>Bartik Instruments: What, When, Why, and How</td>\n",
       "      <td>P Goldsmith-Pinkham, I Sorkin, H Swift</td>\n",
       "      <td>American Economic Review 110 (8), 2586-2624</td>\n",
       "      <td>2027</td>\n",
       "      <td>2020</td>\n",
       "      <td>https://scholar.google.com/scholar?oi=bibs&amp;clu...</td>\n",
       "    </tr>\n",
       "    <tr>\n",
       "      <th>2</th>\n",
       "      <td>Macroeconomic Implications of COVID-19: Can Ne...</td>\n",
       "      <td>V Guerrieri, G Lorenzoni, L Straub, I Werning</td>\n",
       "      <td>American Economic Review 112 (5), 1437-1474</td>\n",
       "      <td>1594</td>\n",
       "      <td>2022</td>\n",
       "      <td>https://scholar.google.com/scholar?oi=bibs&amp;clu...</td>\n",
       "    </tr>\n",
       "    <tr>\n",
       "      <th>3</th>\n",
       "      <td>Importing Political Polarization? The Electora...</td>\n",
       "      <td>D Autor, D Dorn, G Hanson, K Majlesi</td>\n",
       "      <td>American Economic Review 110 (10), 3139-3183</td>\n",
       "      <td>1515</td>\n",
       "      <td>2020</td>\n",
       "      <td>https://scholar.google.com/scholar?oi=bibs&amp;clu...</td>\n",
       "    </tr>\n",
       "    <tr>\n",
       "      <th>4</th>\n",
       "      <td>Are Ideas Getting Harder to Find?</td>\n",
       "      <td>N Bloom, CI Jones, J Van Reenen, M Webb</td>\n",
       "      <td>American Economic Review 110 (4), 1104-1144</td>\n",
       "      <td>1318</td>\n",
       "      <td>2020</td>\n",
       "      <td>https://scholar.google.com/scholar?oi=bibs&amp;clu...</td>\n",
       "    </tr>\n",
       "  </tbody>\n",
       "</table>\n",
       "</div>"
      ],
      "text/plain": [
       "                                               title  \\\n",
       "0  Two-Way Fixed Effects Estimators with Heteroge...   \n",
       "1       Bartik Instruments: What, When, Why, and How   \n",
       "2  Macroeconomic Implications of COVID-19: Can Ne...   \n",
       "3  Importing Political Polarization? The Electora...   \n",
       "4                  Are Ideas Getting Harder to Find?   \n",
       "\n",
       "                                          author  \\\n",
       "0            C de Chaisemartin, X D’Haultfœuille   \n",
       "1         P Goldsmith-Pinkham, I Sorkin, H Swift   \n",
       "2  V Guerrieri, G Lorenzoni, L Straub, I Werning   \n",
       "3           D Autor, D Dorn, G Hanson, K Majlesi   \n",
       "4        N Bloom, CI Jones, J Van Reenen, M Webb   \n",
       "\n",
       "                                        journal  citation  year  \\\n",
       "0   American Economic Review 110 (9), 2964-2996      3639  2020   \n",
       "1   American Economic Review 110 (8), 2586-2624      2027  2020   \n",
       "2   American Economic Review 112 (5), 1437-1474      1594  2022   \n",
       "3  American Economic Review 110 (10), 3139-3183      1515  2020   \n",
       "4   American Economic Review 110 (4), 1104-1144      1318  2020   \n",
       "\n",
       "                                                link  \n",
       "0  https://scholar.google.com/scholar?oi=bibs&clu...  \n",
       "1  https://scholar.google.com/scholar?oi=bibs&clu...  \n",
       "2  https://scholar.google.com/scholar?oi=bibs&clu...  \n",
       "3  https://scholar.google.com/scholar?oi=bibs&clu...  \n",
       "4  https://scholar.google.com/scholar?oi=bibs&clu...  "
      ]
     },
     "execution_count": 446,
     "metadata": {},
     "output_type": "execute_result"
    }
   ],
   "source": [
    "# Read compressed file using pandas\n",
    "df_gz = pd.read_csv('AER.csv.gz', compression='gzip')\n",
    "df_gz.head()"
   ]
  },
  {
   "cell_type": "markdown",
   "id": "2dd9550b-53aa-4aaa-8e17-5be48487bb6b",
   "metadata": {},
   "source": [
    "### 7.3 Pickle"
   ]
  },
  {
   "cell_type": "code",
   "execution_count": 447,
   "id": "7023d2be-14b4-4697-b362-5125a8fffa58",
   "metadata": {},
   "outputs": [
    {
     "data": {
      "text/plain": [
       "title       object\n",
       "author      object\n",
       "journal     object\n",
       "citation    object\n",
       "year        object\n",
       "link        object\n",
       "dtype: object"
      ]
     },
     "execution_count": 447,
     "metadata": {},
     "output_type": "execute_result"
    }
   ],
   "source": [
    "df.dtypes"
   ]
  },
  {
   "cell_type": "code",
   "execution_count": 448,
   "id": "3c829fb6-62d6-4f3b-940b-29cbb5578f98",
   "metadata": {},
   "outputs": [
    {
     "data": {
      "text/plain": [
       "title       object\n",
       "author      object\n",
       "journal     object\n",
       "citation     int64\n",
       "year         int64\n",
       "link        object\n",
       "dtype: object"
      ]
     },
     "execution_count": 448,
     "metadata": {},
     "output_type": "execute_result"
    }
   ],
   "source": [
    "df_gz.dtypes"
   ]
  },
  {
   "cell_type": "code",
   "execution_count": 449,
   "id": "9878dbcb-5360-4862-9fff-578ff84dc1f5",
   "metadata": {},
   "outputs": [
    {
     "data": {
      "text/plain": [
       "False"
      ]
     },
     "execution_count": 449,
     "metadata": {},
     "output_type": "execute_result"
    }
   ],
   "source": [
    "df.equals(df_gz)"
   ]
  },
  {
   "cell_type": "code",
   "execution_count": 450,
   "id": "a2284442-cf11-4a86-8702-7ff2eb2e163e",
   "metadata": {},
   "outputs": [
    {
     "data": {
      "text/plain": [
       "True"
      ]
     },
     "execution_count": 450,
     "metadata": {},
     "output_type": "execute_result"
    }
   ],
   "source": [
    "df.to_pickle('AER.pkl')\n",
    "df_pickle = pd.read_pickle('AER.pkl')\n",
    "df.equals(df_pickle)"
   ]
  },
  {
   "cell_type": "markdown",
   "id": "5e17964a-41d5-4eeb-a663-6557144d6204",
   "metadata": {},
   "source": [
    "# ------------------------------------------------------"
   ]
  },
  {
   "cell_type": "code",
   "execution_count": null,
   "id": "22c5fe47-90e4-4b44-9a11-a5a9883b898c",
   "metadata": {},
   "outputs": [],
   "source": [
    "# advanced_session1.py\n",
    "# Advanced Session 1: Web Scraping & Advanced File Handling\n",
    "import time\n",
    "import requests\n",
    "from urllib.parse import urljoin, urlparse\n",
    "\n",
    "\n",
    "# 1. HTTP Requests and Scraping Ethics\n",
    "\n",
    "BASE_URL = \"https://example.com\"\n",
    "\n",
    "# Check robots.txt\n",
    "robots_txt = requests.get(urljoin(BASE_URL, \"/robots.txt\")).text\n",
    "print(\"robots.txt:\", robots_txt[:200], \"…\")\n",
    "\n",
    "# Polite request with rate-limiting\n",
    "def polite_get(url, session=None, pause=1.0, **kwargs):\n",
    "    \"\"\"Perform GET respecting a pause between requests.\"\"\"\n",
    "    if session is None:\n",
    "        session = requests.Session()\n",
    "    resp = session.get(url, **kwargs)\n",
    "    time.sleep(pause)\n",
    "    resp.raise_for_status()\n",
    "    return resp\n",
    "\n",
    "# 2. HTML Parsing with BeautifulSoup\n",
    "from bs4 import BeautifulSoup\n",
    "\n",
    "def parse_html(html):\n",
    "    soup = BeautifulSoup(html, \"html.parser\")\n",
    "    # Example: extract all links in a table\n",
    "    table = soup.find(\"table\", {\"id\": \"data-table\"})\n",
    "    rows = table.find_all(\"tr\")\n",
    "    data = []\n",
    "    for tr in rows:\n",
    "        cols = [td.get_text(strip=True) for td in tr.find_all(\"td\")]\n",
    "        if cols:\n",
    "            data.append(cols)\n",
    "    return data\n",
    "\n",
    "# 3. Advanced Scraping Techniques\n",
    "# 3a. JavaScript-rendered content via requests_html\n",
    "try:\n",
    "    from requests_html import HTMLSession\n",
    "    def scrape_js_page(url):\n",
    "        session = HTMLSession()\n",
    "        r = session.get(url)\n",
    "        r.html.render(timeout=20)         # renders JS\n",
    "        titles = [h.text for h in r.html.find(\"h2.article-title\")]\n",
    "        session.close()\n",
    "        return titles\n",
    "except ImportError:\n",
    "    print(\"requests_html not installed; skip JS rendering demo\")\n",
    "\n",
    "# 3b. Sessions, login, cookies\n",
    "LOGIN_URL = urljoin(BASE_URL, \"/login\")\n",
    "DATA_URL  = urljoin(BASE_URL, \"/protected/data\")\n",
    "\n",
    "def login_and_scrape(username, password):\n",
    "    sess = requests.Session()\n",
    "    # first get login page to grab csrf token if needed\n",
    "    login_page = sess.get(LOGIN_URL)\n",
    "    soup = BeautifulSoup(login_page.text, \"html.parser\")\n",
    "    csrf = soup.find(\"input\", {\"name\": \"csrf_token\"})[\"value\"]\n",
    "    payload = {\"username\": username, \"password\": password, \"csrf_token\": csrf}\n",
    "    resp = sess.post(LOGIN_URL, data=payload)\n",
    "    resp.raise_for_status()\n",
    "    # now scrape protected page\n",
    "    data_page = sess.get(DATA_URL)\n",
    "    return parse_html(data_page.text)\n",
    "\n",
    "# 4. Cleaning and Structuring Scraped Data\n",
    "import pandas as pd\n",
    "def to_dataframe(raw_rows, columns):\n",
    "    df = pd.DataFrame(raw_rows, columns=columns)\n",
    "    # clean numeric columns\n",
    "    for col in df.select_dtypes(include=\"object\"):\n",
    "        df[col] = (df[col]\n",
    "                   .str.replace(\",\", \"\")\n",
    "                   .replace(\"\", pd.NA)\n",
    "                   .astype(\"Float64\"))\n",
    "    return df\n",
    "\n",
    "# 5. Advanced File I/O Strategies\n",
    "# 5a. Reading/writing Excel, Stata, JSON, XML\n",
    "def demo_file_io(df, base_path=\"output/data\"):\n",
    "    df.to_csv(f\"{base_path}.csv\", index=False)\n",
    "    df.to_excel(f\"{base_path}.xlsx\", index=False)\n",
    "    df.to_stata(f\"{base_path}.dta\", write_index=False)\n",
    "    df.to_json(f\"{base_path}.json\", orient=\"records\", lines=True)\n",
    "\n",
    "# 5b. Binary formats: Parquet, Feather\n",
    "def save_binary(df, base_path=\"output/data\"):\n",
    "    df.to_parquet(f\"{base_path}.parquet\", index=False)\n",
    "    df.to_feather(f\"{base_path}.feather\")\n",
    "\n",
    "# 5c. Chunked processing for large CSVs\n",
    "def process_large_csv(path, chunksize=100_000):\n",
    "    reader = pd.read_csv(path, chunksize=chunksize)\n",
    "    for chunk in reader:\n",
    "        # example transform\n",
    "        chunk[\"log_value\"] = np.log(chunk[\"value\"] + 1)\n",
    "        # append to a master file, or aggregate\n",
    "        # chunk.to_parquet(\"output/aggregated.parquet\", mode=\"append\")\n",
    "\n",
    "# 6. Performance and Memory Management\n",
    "import numpy as np\n",
    "\n",
    "def optimize_df(df):\n",
    "    # downcast numeric types\n",
    "    df_int = df.select_dtypes(include=[\"int64\"])\n",
    "    df[df_int.columns] = df_int.apply(pd.to_numeric, downcast=\"unsigned\")\n",
    "    # convert low-cardinality object columns to categorical\n",
    "    for col in df.select_dtypes(include=[\"object\"]):\n",
    "        if df[col].nunique() / len(df) < 0.5:\n",
    "            df[col] = df[col].astype(\"category\")\n",
    "    return df\n",
    "\n",
    "# 7. Mini-Project: Scrape CPI table, clean, save CSV & Parquet\n",
    "def scrape_cpi_and_save():\n",
    "    url = \"https://www.bls.gov/cpi/tables/home.htm\"  # example link\n",
    "    resp = polite_get(url, pause=1.5)\n",
    "    soup = BeautifulSoup(resp.text, \"html.parser\")\n",
    "    # find the CPI table—this selector will vary by site\n",
    "    table = soup.select_one(\"table.cpi-data\")\n",
    "    headers = [th.get_text(strip=True) for th in table.find(\"tr\").find_all(\"th\")]\n",
    "    rows = []\n",
    "    for tr in table.find_all(\"tr\")[1:]:\n",
    "        rows.append([td.get_text(strip=True) for td in tr.find_all(\"td\")])\n",
    "    cpi_df = pd.DataFrame(rows, columns=headers)\n",
    "    # clean numeric columns\n",
    "    cpi_df = to_dataframe(cpi_df, headers)\n",
    "    # save out\n",
    "    cpi_df.to_csv(\"cpi_data.csv\", index=False)\n",
    "    cpi_df.to_parquet(\"cpi_data.parquet\", index=False)\n",
    "    print(\"Saved CPI data to CSV and Parquet.\")\n",
    "\n",
    "if __name__ == \"__main__\":\n",
    "    # Quick demo run of the mini-project\n",
    "    scrape_cpi_and_save()\n"
   ]
  }
 ],
 "metadata": {
  "kernelspec": {
   "display_name": "Python 3 (ipykernel)",
   "language": "python",
   "name": "python3"
  },
  "language_info": {
   "codemirror_mode": {
    "name": "ipython",
    "version": 3
   },
   "file_extension": ".py",
   "mimetype": "text/x-python",
   "name": "python",
   "nbconvert_exporter": "python",
   "pygments_lexer": "ipython3",
   "version": "3.12.9"
  }
 },
 "nbformat": 4,
 "nbformat_minor": 5
}
