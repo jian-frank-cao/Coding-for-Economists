{
 "cells": [
  {
   "cell_type": "markdown",
   "id": "287ce01a-1e6c-4019-8706-ffedab51322c",
   "metadata": {},
   "source": [
    "# Coding for Economists - Advanced Session 1"
   ]
  },
  {
   "cell_type": "markdown",
   "id": "ef7daa3c-fd9a-44e1-aa25-ec7b0ae40451",
   "metadata": {},
   "source": [
    "## 1. Setup Environment"
   ]
  },
  {
   "cell_type": "code",
   "execution_count": null,
   "id": "051b8e24-c904-47b0-817b-aa89e5df0cd0",
   "metadata": {},
   "outputs": [],
   "source": [
    "%pip install selenium"
   ]
  },
  {
   "cell_type": "code",
   "execution_count": 1,
   "id": "ce99a9a1-b0bd-434b-8bca-047437a1b625",
   "metadata": {},
   "outputs": [],
   "source": [
    "import pandas as pd\n",
    "import re\n",
    "import time"
   ]
  },
  {
   "cell_type": "markdown",
   "id": "6235ed9d-1ff0-4d11-ae1b-4b5986760f0d",
   "metadata": {},
   "source": [
    "## 2. HTTP Requests"
   ]
  },
  {
   "cell_type": "markdown",
   "id": "265d0e67-a804-48f1-9932-cd42f74f4831",
   "metadata": {},
   "source": [
    "### 2.1 Request HTML from URL"
   ]
  },
  {
   "cell_type": "code",
   "execution_count": 4,
   "id": "314f366d-840c-40c1-a2e9-673dfe0fa485",
   "metadata": {},
   "outputs": [
    {
     "data": {
      "text/plain": [
       "http.client.HTTPResponse"
      ]
     },
     "execution_count": 4,
     "metadata": {},
     "output_type": "execute_result"
    }
   ],
   "source": [
    "from urllib.request import urlopen\n",
    "\n",
    "url = 'https://www.ft.com/'\n",
    "page = urlopen(url)\n",
    "type(page)"
   ]
  },
  {
   "cell_type": "code",
   "execution_count": 5,
   "id": "afe6fcd0-b2e7-425b-986e-e525536e8199",
   "metadata": {},
   "outputs": [
    {
     "data": {
      "text/plain": [
       "bytes"
      ]
     },
     "execution_count": 5,
     "metadata": {},
     "output_type": "execute_result"
    }
   ],
   "source": [
    "page_bytes = page.read()\n",
    "type(page_bytes)"
   ]
  },
  {
   "cell_type": "markdown",
   "id": "2f6f02a8-d966-435e-ae09-b5e7c4e272cd",
   "metadata": {},
   "source": [
    "__Why Use Bytes__:\n",
    "1. Everything is 0s and 1s\n",
    "2. Read, write, cache or stream data without having to interpret it\n",
    "3. Send large files in chunks, resume interrupted downloads\n",
    "4. Avoid encoding problems"
   ]
  },
  {
   "cell_type": "code",
   "execution_count": 6,
   "id": "b7f0603b-99eb-4a47-b09d-b00999787bf0",
   "metadata": {},
   "outputs": [
    {
     "data": {
      "text/plain": [
       "b'<!DOCTYPE html><html lang=\"en-GB\" class=\"no-js core o-typography--loading-sans o-typography--loading-sans-bold o-typography--loading-display o-typography--loading-display-bold\" data-o-component=\"o-typography\" style=\"overflow-x:hidden;background-color:#fff1e5;color:#33302e\"><head><meta charSet=\"utf-8\"/><meta http-equiv=\"X-UA-Compatible\" content=\"IE=edge\"/><meta name=\"viewport\" content=\"width=device-width, initial-scale=1\"/><title>Financial Times</title><meta name=\"description\" content=\"News, analysis and opinion from the Financial Times on the latest in markets, economics and politics\"/><meta name=\"robots\" content=\"index,follow,max-snippet:200,max-image-preview:large\"/><meta name=\"google-site-verification\" content=\"4-t8sFaPvpO5FH_Gnw1dkM28CQepjzo8UjjAkdDflTw\"/><script type=\"application/ld+json\">{\"@context\":\"http://schema.org\",\"@type\":\"WebSite\",\"name\":\"Financial Times\",\"alternateName\":\"FT.com\",\"url\":\"https://www.ft.com/\"}</script><meta property=\"fb:pages\" content=\"8860325749\"/><meta prop'"
      ]
     },
     "execution_count": 6,
     "metadata": {},
     "output_type": "execute_result"
    }
   ],
   "source": [
    "page_bytes[:1000]"
   ]
  },
  {
   "cell_type": "code",
   "execution_count": 7,
   "id": "8b7cfc84-8faa-491c-a8b5-32ee15934a46",
   "metadata": {},
   "outputs": [
    {
     "data": {
      "text/plain": [
       "str"
      ]
     },
     "execution_count": 7,
     "metadata": {},
     "output_type": "execute_result"
    }
   ],
   "source": [
    "# Decode the bytes file into a str containing the html\n",
    "html = page_bytes.decode('utf-8')\n",
    "type(html)"
   ]
  },
  {
   "cell_type": "code",
   "execution_count": 8,
   "id": "3b1ccc7f-1b00-42b2-8eaf-04df7c777fa4",
   "metadata": {},
   "outputs": [
    {
     "data": {
      "text/plain": [
       "'<!DOCTYPE html><html lang=\"en-GB\" class=\"no-js core o-typography--loading-sans o-typography--loading-sans-bold o-typography--loading-display o-typography--loading-display-bold\" data-o-component=\"o-typography\" style=\"overflow-x:hidden;background-color:#fff1e5;color:#33302e\"><head><meta charSet=\"utf-8\"/><meta http-equiv=\"X-UA-Compatible\" content=\"IE=edge\"/><meta name=\"viewport\" content=\"width=device-width, initial-scale=1\"/><title>Financial Times</title><meta name=\"description\" content=\"News, analysis and opinion from the Financial Times on the latest in markets, economics and politics\"/><meta name=\"robots\" content=\"index,follow,max-snippet:200,max-image-preview:large\"/><meta name=\"google-site-verification\" content=\"4-t8sFaPvpO5FH_Gnw1dkM28CQepjzo8UjjAkdDflTw\"/><script type=\"application/ld+json\">{\"@context\":\"http://schema.org\",\"@type\":\"WebSite\",\"name\":\"Financial Times\",\"alternateName\":\"FT.com\",\"url\":\"https://www.ft.com/\"}</script><meta property=\"fb:pages\" content=\"8860325749\"/><meta prop'"
      ]
     },
     "execution_count": 8,
     "metadata": {},
     "output_type": "execute_result"
    }
   ],
   "source": [
    "html[:1000]"
   ]
  },
  {
   "cell_type": "markdown",
   "id": "8f9e9656-48d5-4a7f-9c43-7f1636cb3375",
   "metadata": {},
   "source": [
    "### 2.2 HTML (HyperText Markup Language) Structure\n",
    "\n",
    "__HTML Tutorial__: https://www.w3schools.com/html/html_intro.asp"
   ]
  },
  {
   "cell_type": "markdown",
   "id": "79cc5f72-aa4b-4d89-881a-7efa4d16faff",
   "metadata": {},
   "source": [
    "<!DOCTYPE html>\n",
    "<html lang=\"en\">\n",
    "<head>\n",
    "  <meta charset=\"UTF-8\">\n",
    "  <title>Simple HTML Example</title>\n",
    "</head>\n",
    "<body>\n",
    "\n",
    "  <h3>My Simple Page</h3>\n",
    "\n",
    "  <p>This is a simple paragraph of text on my page.</p>\n",
    "\n",
    "  <img src=\"ecb.avif\" alt=\"Placeholder image\">\n",
    "\n",
    "  <table>\n",
    "    <tr>\n",
    "      <th>Name</th>\n",
    "      <th>Age</th>\n",
    "    </tr>\n",
    "    <tr>\n",
    "      <td>Alice</td>\n",
    "      <td>30</td>\n",
    "    </tr>\n",
    "    <tr>\n",
    "      <td>Bob</td>\n",
    "      <td>25</td>\n",
    "    </tr>\n",
    "  </table>\n",
    "\n",
    "</body>\n",
    "</html>"
   ]
  },
  {
   "cell_type": "code",
   "execution_count": 9,
   "id": "059df3b6-3b78-4b6b-9fcc-265b2427f6fc",
   "metadata": {},
   "outputs": [
    {
     "data": {
      "text/plain": [
       "362708"
      ]
     },
     "execution_count": 9,
     "metadata": {},
     "output_type": "execute_result"
    }
   ],
   "source": [
    "len(html)"
   ]
  },
  {
   "cell_type": "markdown",
   "id": "a1c31c1a-1e98-4463-91de-33f6c53e97ca",
   "metadata": {},
   "source": [
    "## 3. Parse HTML Using `BeautifulSoup`\n",
    "Beautifulsoup transforms a complex HTML document into a tree of Python objects.\n",
    "\n",
    "__Beautifulsoup Tutorial__: https://beautiful-soup-4.readthedocs.io/en/latest/#"
   ]
  },
  {
   "cell_type": "markdown",
   "id": "f73bca42-fc55-4622-b44b-bf3d8b072aab",
   "metadata": {},
   "source": [
    "### 3.1 Make the Soup"
   ]
  },
  {
   "cell_type": "code",
   "execution_count": 10,
   "id": "4129b899-dcf0-4183-bf8a-c1bc1698c117",
   "metadata": {},
   "outputs": [
    {
     "data": {
      "text/plain": [
       "bs4.BeautifulSoup"
      ]
     },
     "execution_count": 10,
     "metadata": {},
     "output_type": "execute_result"
    }
   ],
   "source": [
    "from bs4 import BeautifulSoup\n",
    "\n",
    "soup = BeautifulSoup(html, 'html.parser')\n",
    "type(soup)"
   ]
  },
  {
   "cell_type": "code",
   "execution_count": 13,
   "id": "ce6df70f-2837-44c4-ac04-be9b0bd6b5bd",
   "metadata": {},
   "outputs": [
    {
     "data": {
      "text/plain": [
       "<title>Financial Times</title>"
      ]
     },
     "execution_count": 13,
     "metadata": {},
     "output_type": "execute_result"
    }
   ],
   "source": [
    "soup.title"
   ]
  },
  {
   "cell_type": "code",
   "execution_count": 14,
   "id": "c10a947f-a5cc-4847-b8ea-b56e8f247997",
   "metadata": {},
   "outputs": [
    {
     "data": {
      "text/plain": [
       "<img alt=\"US and Ukraine sign natural resources deal \" class=\"image image--width-280\" src=\"https://www.ft.com/__origami/service/image/v2/images/raw/https%3A%2F%2Fd1e00ek4ebabms.cloudfront.net%2Fproduction%2F93044edb-7182-4013-b2d5-e42f5047fbdd.jpg?source=next-home-page&amp;dpr=2&amp;width=280&amp;fit=scale-down\"/>"
      ]
     },
     "execution_count": 14,
     "metadata": {},
     "output_type": "execute_result"
    }
   ],
   "source": [
    "soup.img"
   ]
  },
  {
   "cell_type": "code",
   "execution_count": 15,
   "id": "459cbb5c-132c-4af9-a43a-83021d9343ff",
   "metadata": {},
   "outputs": [
    {
     "data": {
      "text/plain": [
       "<p class=\"standfirst\"><a aria-hidden=\"false\" class=\"link\" data-trackable=\"standfirst-link\" data-trackable-context-story-link=\"standfirst-link\" href=\"/content/1ae70f6c-6651-46e4-bc14-cfd6befc1474\" target=\"_self\"><span class=\"text text--color-black-60 text-sans--scale-0 text--style--no-active-state\" id=\"\">Agreement establishes a ‘reconstruction investment fund’ after weeks of fraught negotiations</span></a></p>"
      ]
     },
     "execution_count": 15,
     "metadata": {},
     "output_type": "execute_result"
    }
   ],
   "source": [
    "soup.p"
   ]
  },
  {
   "cell_type": "markdown",
   "id": "34e9a8ad-3a7d-49cf-ad58-16907a6b1c9e",
   "metadata": {},
   "source": [
    "### 3.2 Search the Soup `.find_all()`"
   ]
  },
  {
   "cell_type": "code",
   "execution_count": 16,
   "id": "43a74b71-caf6-40c6-80e3-94a44fe3cbea",
   "metadata": {},
   "outputs": [
    {
     "name": "stdout",
     "output_type": "stream",
     "text": [
      "{'br', 'html', 'small', 'picture', 'h3', 'button', 'time', 'svg', 'source', 'abbr', 'p', 'ol', 'path', 'section', 'a', 'label', 'head', 'iframe', 'footer', 'main', 'h2', 'header', 'ul', 'link', 'script', 'meta', 'span', 'h1', 'body', 'li', 'input', 'img', 'pg-slot', 'title', 'nav', 'noscript', 'form', 'div'}\n"
     ]
    }
   ],
   "source": [
    "unique_tags = { tag.name for tag in soup.find_all(True) }\n",
    "print(unique_tags)"
   ]
  },
  {
   "cell_type": "markdown",
   "id": "5ec7a325-4b20-46d3-872b-06ee6aa9d2bc",
   "metadata": {},
   "source": [
    "- __Text Tags__: [`'p'`, `'a'`, `'h1'`, `'h2'`, `'h3'`]\n",
    "- __Table Tags__: [`'table'`, `'thead'`, `'tbody'`, `'tr'`, `'th'`, `'td'`]\n",
    "- __Image Tags__: [`'img'`, `'picture'`, `'source'`, `'svg'`]\n",
    "- __Video Tags__: [`'video'`, `'source'`, `'iframe'`]"
   ]
  },
  {
   "cell_type": "markdown",
   "id": "199f3fa7-baf1-4017-aa3a-78ef258c7a29",
   "metadata": {},
   "source": [
    "#### Find Text from Headers"
   ]
  },
  {
   "cell_type": "code",
   "execution_count": 20,
   "id": "e6987e96-0a30-44ad-be07-0803f045c4f2",
   "metadata": {},
   "outputs": [
    {
     "data": {
      "text/plain": [
       "['What the US stands to lose from a dented dollar',\n",
       " 'The English town that can’t wait to be a theme park',\n",
       " 'When does punk protest become hate speech? Irish rappers Kneecap are testing the limits',\n",
       " 'Goldman’s Waldron says early US trade deals could set investor views on tariffs',\n",
       " 'The FT’s top tips for a weekend in Washington, DC',\n",
       " 'Sam Altman’s eyeball-scanning project World makes US debut',\n",
       " 'Tesla board denies launching search for Musk’s successor',\n",
       " 'Meet your new investment banker: an AI chatbot',\n",
       " 'S&P 500 closes higher as investors shrug off disappointing US data',\n",
       " 'ECB staff say bank promotes wrong people, survey finds',\n",
       " 'Welcome to ‘peak bloom’ — the country house market where ‘the garden is the clincher’',\n",
       " 'Microsoft vows to protect European operations from Trump',\n",
       " 'Norway’s oil fund aims to save $400mn of trading costs using AI',\n",
       " 'Rise of economics in English schools fails to close subject’s gender gap',\n",
       " 'A food tour of Flushing, Queens, America’s biggest Chinatown',\n",
       " 'Why the US will lose against China',\n",
       " 'Brexit lessons for Trump’s trade war',\n",
       " 'How to build a modern wardrobe',\n",
       " 'Canada is a warning to Britain’s Trump-loving Tories',\n",
       " 'Apple referred to criminal prosecutor for ‘thwarting’ order to change App Store',\n",
       " 'Microsoft shares jump after strong AI demand lifts cloud unit',\n",
       " 'Clothes fit for an Edwardian',\n",
       " 'US and Ukraine sign natural resources deal',\n",
       " 'US economy contracts at 0.3% rate as Trump’s tariffs prompt import surge',\n",
       " 'Shein explores US restructuring as tariffs threaten to derail London IPO',\n",
       " 'BlackRock shareholders urged to vote against Larry Fink’s pay by ISS',\n",
       " 'Why bother with No Mow May?']"
      ]
     },
     "execution_count": 20,
     "metadata": {},
     "output_type": "execute_result"
    }
   ],
   "source": [
    "header_objs = soup.find_all(\n",
    "    'a',\n",
    "    class_='o-header__mega-link',\n",
    "    href=re.compile('content'),\n",
    "    attrs={'data-trackable': 'link'}\n",
    ")\n",
    "headers = [obj.get_text(strip=True) for obj in header_objs]\n",
    "headers = list(set(headers))\n",
    "headers[:20]"
   ]
  },
  {
   "cell_type": "code",
   "execution_count": 18,
   "id": "47a80516-a58e-46f1-8d21-23c2c072b8aa",
   "metadata": {},
   "outputs": [
    {
     "name": "stdout",
     "output_type": "stream",
     "text": [
      "<a class=\"o-header__mega-link\" data-trackable=\"link\" href=\"/content/1ae70f6c-6651-46e4-bc14-cfd6befc1474\">\n",
      " US and Ukraine sign natural resources deal\n",
      "</a>\n",
      "\n"
     ]
    }
   ],
   "source": [
    "print(header_objs[0].prettify())"
   ]
  },
  {
   "cell_type": "code",
   "execution_count": 21,
   "id": "cc2debd6-3885-4f49-8720-e52e1441e325",
   "metadata": {},
   "outputs": [
    {
     "data": {
      "text/plain": [
       "['US economy contracts at 0.3% rate as Trump’s tariffs prompt import surge',\n",
       " 'Brexit lessons for Trump’s trade war',\n",
       " 'Microsoft vows to protect European operations from Trump',\n",
       " 'Canada is a warning to Britain’s Trump-loving Tories']"
      ]
     },
     "execution_count": 21,
     "metadata": {},
     "output_type": "execute_result"
    }
   ],
   "source": [
    "header_objs = soup.find_all(\n",
    "    'a',\n",
    "    class_='o-header__mega-link',\n",
    "    href=re.compile('content'),\n",
    "    attrs={'data-trackable': 'link'},\n",
    "    string=re.compile('Trump')\n",
    ")\n",
    "headers = [obj.get_text(strip=True) for obj in header_objs]\n",
    "headers = list(set(headers))\n",
    "headers[-20:]"
   ]
  },
  {
   "cell_type": "markdown",
   "id": "004d004f-0975-4f65-94e3-b708988dfcd9",
   "metadata": {},
   "source": [
    "#### Find Text from Paragraphs"
   ]
  },
  {
   "cell_type": "code",
   "execution_count": 25,
   "id": "6d10b205-3ed0-45f6-9e13-40d40f6add56",
   "metadata": {},
   "outputs": [
    {
     "data": {
      "text/plain": [
       "['More Opinion',\n",
       " 'More Europe News',\n",
       " 'More highlights',\n",
       " 'More markets news',\n",
       " 'More technology',\n",
       " 'Support',\n",
       " 'Legal & Privacy',\n",
       " 'Services',\n",
       " 'Tools',\n",
       " 'Community & Events',\n",
       " 'More from the FT Group']"
      ]
     },
     "execution_count": 25,
     "metadata": {},
     "output_type": "execute_result"
    }
   ],
   "source": [
    "para_objs = soup.find_all('h3')\n",
    "texts = [obj.get_text(strip=True) for obj in para_objs]\n",
    "texts[:20]"
   ]
  },
  {
   "cell_type": "code",
   "execution_count": null,
   "id": "b14a6970-0c97-4fed-93a8-29916439ddbf",
   "metadata": {},
   "outputs": [],
   "source": [
    "print(para_objs[0].prettify())"
   ]
  },
  {
   "cell_type": "markdown",
   "id": "7dc5fa40-1c3b-484c-9441-1e4917904b7e",
   "metadata": {},
   "source": [
    "#### Find Images"
   ]
  },
  {
   "cell_type": "code",
   "execution_count": 26,
   "id": "bf31f5e7-2e4b-4b4d-a52f-d68925c70266",
   "metadata": {},
   "outputs": [
    {
     "data": {
      "text/plain": [
       "['US and Ukraine sign natural resources deal ',\n",
       " 'Australia: caught between a slowing China and a chaotic US',\n",
       " 'Brexit lessons for Trump’s trade war',\n",
       " '',\n",
       " '',\n",
       " 'Tesla board denies launching search for Musk’s successor',\n",
       " 'China signals opening for trade talks with US',\n",
       " 'McDonald’s US sales drop by most since height of pandemic in 2020',\n",
       " 'Trump Organization strikes Gulf deals ahead of US president’s visit',\n",
       " 'How Pope Francis failed to close the Vatican’s financial gap',\n",
       " 'Wartime trauma endures through generations',\n",
       " '',\n",
       " 'KKR reports first quarterly loss since 2022',\n",
       " 'Goldman’s Waldron says early US trade deals could set investor views on tariffs',\n",
       " 'Spain and Portugal blackout blamed on solar power dependency',\n",
       " 'Sam Altman’s eyeball-scanning project World makes US debut',\n",
       " 'Trump’s bombing campaign against Houthis tests his vow to ‘stop wars’',\n",
       " 'Franklin Templeton to list $1.7bn of Uzbekistan state assets  ',\n",
       " 'Norway’s oil fund targets $400mn trading cost savings using AI',\n",
       " 'Trump’s Latin American fan club hopes for loans and access']"
      ]
     },
     "execution_count": 26,
     "metadata": {},
     "output_type": "execute_result"
    }
   ],
   "source": [
    "img_objs = soup.find_all('img')\n",
    "img_title = [obj.get('alt') for obj in img_objs]\n",
    "img_title[:20]"
   ]
  },
  {
   "cell_type": "code",
   "execution_count": 27,
   "id": "b615ec8f-a10a-4bfd-8e24-620424fdf8a9",
   "metadata": {
    "scrolled": true
   },
   "outputs": [
    {
     "data": {
      "text/plain": [
       "['https://www.ft.com/__origami/service/image/v2/images/raw/https%3A%2F%2Fd1e00ek4ebabms.cloudfront.net%2Fproduction%2F93044edb-7182-4013-b2d5-e42f5047fbdd.jpg?source=next-home-page&dpr=2&width=280&fit=scale-down',\n",
       " 'https://www.ft.com/__origami/service/image/v2/images/raw/https%3A%2F%2Fd1e00ek4ebabms.cloudfront.net%2Fproduction%2F70ed9a7d-a3c1-4910-bf15-60295e9f76cb.jpg?source=next-home-page&dpr=2&width=580&fit=scale-down',\n",
       " 'https://www.ft.com/__origami/service/image/v2/images/raw/https%3A%2F%2Fd1e00ek4ebabms.cloudfront.net%2Fproduction%2F2e233517-abfd-4c1c-b7bf-4aa36a61c9aa.jpg?source=next-home-page&dpr=2&width=180&fit=scale-down',\n",
       " 'https://www.ft.com/__origami/service/image/v2/images/raw/https%3A%2F%2Fd1e00ek4ebabms.cloudfront.net%2Fproduction%2Fuploaded-files%2FByline_ChrisGiles_v2-62a1bb26-c65a-417f-a325-d881ad51c48d.png?source=next-home-page&dpr=2&width=40&height=40&fit=cover&gravity=poi',\n",
       " 'https://www.ft.com/__origami/service/image/v2/images/raw/https%3A%2F%2Fd1e00ek4ebabms.cloudfront.net%2Fproduction%2Fuploaded-files%2FSam-Learner-4ffea6e7-ebb0-45bf-baac-c5f54ec44124.png?source=next-home-page&dpr=2&width=40&height=40&fit=cover&gravity=poi',\n",
       " 'https://www.ft.com/__origami/service/image/v2/images/raw/https%3A%2F%2Fd1e00ek4ebabms.cloudfront.net%2Fproduction%2F124a2dc1-6b5d-446a-b583-eef21bd6bbe5.jpg?source=next-home-page&dpr=2&width=280&fit=scale-down',\n",
       " 'https://www.ft.com/__origami/service/image/v2/images/raw/https%3A%2F%2Fd1e00ek4ebabms.cloudfront.net%2Fproduction%2F39dd5f9e-c2fd-4f7a-ab4d-22fcd75b2739.jpg?source=next-home-page&dpr=2&width=280&fit=scale-down',\n",
       " 'https://www.ft.com/__origami/service/image/v2/images/raw/https%3A%2F%2Fd1e00ek4ebabms.cloudfront.net%2Fproduction%2F1fbf8131-01c5-4a7b-a6f5-312687077c3b.jpg?source=next-home-page&dpr=2&width=280&fit=scale-down',\n",
       " 'https://www.ft.com/__origami/service/image/v2/images/raw/https%3A%2F%2Fd1e00ek4ebabms.cloudfront.net%2Fproduction%2F41f16af2-3ad1-4aa1-b3e3-7166922a42b2.jpg?source=next-home-page&dpr=2&width=280&fit=scale-down',\n",
       " 'https://www.ft.com/__origami/service/image/v2/images/raw/https%3A%2F%2Fd1e00ek4ebabms.cloudfront.net%2Fproduction%2F0d0c7141-a069-4314-887c-616b68ad49e9.jpg?source=next-home-page&dpr=2&width=580&fit=scale-down',\n",
       " 'https://www.ft.com/__origami/service/image/v2/images/raw/https%3A%2F%2Fd1e00ek4ebabms.cloudfront.net%2Fproduction%2F2802a833-ea0a-413a-bdf6-7e3c89d612df.jpg?source=next-home-page&dpr=2&width=280&fit=scale-down',\n",
       " 'https://www.ft.com/__origami/service/image/v2/images/raw/https%3A%2F%2Fd1e00ek4ebabms.cloudfront.net%2Fproduction%2Fuploaded-files%2Ffthead-v1_simon-kuper-2074514d-b419-4448-b602-1f0924c7462a.png?source=next-home-page&dpr=2&width=40&height=40&fit=cover&gravity=poi',\n",
       " 'https://www.ft.com/__origami/service/image/v2/images/raw/https%3A%2F%2Fd1e00ek4ebabms.cloudfront.net%2Fproduction%2F5f797ed8-6dee-4578-869e-45301da75507.jpg?source=next-home-page&dpr=2&width=280&fit=scale-down',\n",
       " 'https://www.ft.com/__origami/service/image/v2/images/raw/https%3A%2F%2Fd1e00ek4ebabms.cloudfront.net%2Fproduction%2Fa379b98b-284b-4c89-a230-6ab7a60a22ab.jpg?source=next-home-page&dpr=2&width=280&fit=scale-down',\n",
       " 'https://www.ft.com/__origami/service/image/v2/images/raw/https%3A%2F%2Fd1e00ek4ebabms.cloudfront.net%2Fproduction%2F0e31e6ba-7cfc-49f7-9d28-327cd2e9cb40.jpg?source=next-home-page&dpr=2&width=280&fit=scale-down',\n",
       " 'https://www.ft.com/__origami/service/image/v2/images/raw/https%3A%2F%2Fd1e00ek4ebabms.cloudfront.net%2Fproduction%2F03f4f265-0680-45f3-a9d0-42e6aafaf8af.jpg?source=next-home-page&dpr=2&width=280&fit=scale-down',\n",
       " 'https://www.ft.com/__origami/service/image/v2/images/raw/https%3A%2F%2Fd1e00ek4ebabms.cloudfront.net%2Fproduction%2F5cf87fa1-9019-4bb8-9ffd-0fe7c195d726.jpg?source=next-home-page&dpr=2&width=280&fit=scale-down',\n",
       " 'https://www.ft.com/__origami/service/image/v2/images/raw/https%3A%2F%2Fd1e00ek4ebabms.cloudfront.net%2Fproduction%2F042157da-e6c8-41a6-8e93-8427687eb3a2.jpg?source=next-home-page&dpr=2&width=280&fit=scale-down',\n",
       " 'https://www.ft.com/__origami/service/image/v2/images/raw/https%3A%2F%2Fd1e00ek4ebabms.cloudfront.net%2Fproduction%2Fa594af75-4cf1-4b3d-9b71-ab3b4937edbe.jpg?source=next-home-page&dpr=2&width=280&fit=scale-down',\n",
       " 'https://www.ft.com/__origami/service/image/v2/images/raw/https%3A%2F%2Fd1e00ek4ebabms.cloudfront.net%2Fproduction%2Fdcd280f7-f1ec-4221-8f3c-b79e6b667943.jpg?source=next-home-page&dpr=2&width=280&fit=scale-down']"
      ]
     },
     "execution_count": 27,
     "metadata": {},
     "output_type": "execute_result"
    }
   ],
   "source": [
    "img_url = [obj.get('src') for obj in img_objs]\n",
    "img_url[:20]"
   ]
  },
  {
   "cell_type": "code",
   "execution_count": 28,
   "id": "dc2f8671-e5b5-4eb1-98f5-29a6096806f7",
   "metadata": {
    "scrolled": true
   },
   "outputs": [
    {
     "name": "stdout",
     "output_type": "stream",
     "text": [
      "<img alt=\"US and Ukraine sign natural resources deal \" class=\"image image--width-280\" src=\"https://www.ft.com/__origami/service/image/v2/images/raw/https%3A%2F%2Fd1e00ek4ebabms.cloudfront.net%2Fproduction%2F93044edb-7182-4013-b2d5-e42f5047fbdd.jpg?source=next-home-page&amp;dpr=2&amp;width=280&amp;fit=scale-down\"/>\n",
      "\n"
     ]
    }
   ],
   "source": [
    "print(img_objs[0].prettify())"
   ]
  },
  {
   "cell_type": "markdown",
   "id": "03c442dd-206a-4f41-8869-770ad0ce876c",
   "metadata": {},
   "source": [
    "## 4. Control Webpage Using `selenium`\n",
    "__Selenium Tutorial__: https://www.selenium.dev/documentation/webdriver/getting_started/first_script/"
   ]
  },
  {
   "cell_type": "markdown",
   "id": "fc234329-4d71-43fd-9ecb-a9ae94b0e4e2",
   "metadata": {},
   "source": [
    "### 4.1 Connect Website\n",
    "#### Initiate Browser"
   ]
  },
  {
   "cell_type": "code",
   "execution_count": 29,
   "id": "b71a1047-9a6d-403a-b0c1-5f25ef17c8af",
   "metadata": {},
   "outputs": [],
   "source": [
    "import selenium.webdriver\n",
    "from selenium.webdriver.support.ui import WebDriverWait\n",
    "from selenium.webdriver.support import expected_conditions as EC\n",
    "from selenium.webdriver.common.by import By\n",
    "\n",
    "driver = selenium.webdriver.Chrome()\n",
    "driver.get('http://www.ft.com')"
   ]
  },
  {
   "cell_type": "markdown",
   "id": "6e6ddf72-60bd-4f6c-9224-d65094258d0e",
   "metadata": {},
   "source": [
    "#### Accept Cookies"
   ]
  },
  {
   "cell_type": "code",
   "execution_count": 30,
   "id": "1b3c7eea-809c-4b2e-b887-8e36157b9169",
   "metadata": {},
   "outputs": [
    {
     "name": "stdout",
     "output_type": "stream",
     "text": [
      "Found 3 iframes.\n",
      "Iframe 0: <iframe name=\"__tcfapiLocator\" title=\"__tcfapiLocator\" style=\"display: none;\"></iframe>...\n",
      "Iframe 1: <iframe name=\"__gppLocator\" style=\"display: none;\"></iframe>...\n",
      "Iframe 2: <iframe src=\"https://consent-manager.ft.com/index.html?hasCsp=true&amp;message_id=1274423&amp;consentUUID=null&amp;consent_origin=https%3A%2F%2Fconsent-manager.ft.com%2Fconsent%2Ftcfv2&amp;preload_mes...\n"
     ]
    }
   ],
   "source": [
    "iframes = driver.find_elements(By.TAG_NAME, 'iframe')\n",
    "print(f\"Found {len(iframes)} iframes.\")\n",
    "\n",
    "for idx, iframe in enumerate(iframes):\n",
    "    print(f\"Iframe {idx}: {iframe.get_attribute('outerHTML')[:200]}...\")"
   ]
  },
  {
   "cell_type": "code",
   "execution_count": 31,
   "id": "ad8c02bc-fa06-4ff4-883e-5a64a4caf412",
   "metadata": {},
   "outputs": [],
   "source": [
    "driver.switch_to.frame(iframes[2])\n",
    "accept_btn = WebDriverWait(driver, 10).until(\n",
    "    EC.element_to_be_clickable((By.XPATH, \"//button[contains(text(), 'Accept Cookies')]\"))\n",
    ")\n",
    "accept_btn.click()"
   ]
  },
  {
   "cell_type": "markdown",
   "id": "e4bc8bea-7d80-4f8c-afad-c63a1642f6a3",
   "metadata": {},
   "source": [
    "#### Scroll Down to Show the Entire Page"
   ]
  },
  {
   "cell_type": "code",
   "execution_count": null,
   "id": "f2303beb-c879-4585-ac30-6639aad868f8",
   "metadata": {},
   "outputs": [],
   "source": [
    "# def ScrollPage(ScrollNumber = 5, ScrollSleep = 1):\n",
    "#     for i in range(1,ScrollNumber):\n",
    "#         driver.execute_script(\"window.scrollTo(1,50000)\")\n",
    "#         time.sleep(ScrollSleep)\n",
    "\n",
    "# ScrollPage()"
   ]
  },
  {
   "cell_type": "markdown",
   "id": "1f24c609-8fa0-413b-85a0-674a20b62a53",
   "metadata": {},
   "source": [
    "### 4.2 Navigate the Page"
   ]
  },
  {
   "cell_type": "markdown",
   "id": "d96ee1bc-70cf-4a40-8281-7d3ec63f5fad",
   "metadata": {},
   "source": [
    "#### Click on A Link"
   ]
  },
  {
   "cell_type": "code",
   "execution_count": 32,
   "id": "038e65c3-0c9b-4d94-b92d-35301b8bc685",
   "metadata": {},
   "outputs": [
    {
     "data": {
      "text/plain": [
       "['Brexit lessons for Trump’s trade war',\n",
       " 'US economy contracts at 0.3% rate as Trump’s tariffs prompt import surge',\n",
       " 'Brexit lessons for Trump’s trade war',\n",
       " 'US economy contracts at 0.3% rate as Trump’s tariffs prompt import surge',\n",
       " 'Microsoft vows to protect European operations from Trump',\n",
       " 'Brexit lessons for Trump’s trade war',\n",
       " 'Canada is a warning to Britain’s Trump-loving Tories']"
      ]
     },
     "execution_count": 32,
     "metadata": {},
     "output_type": "execute_result"
    }
   ],
   "source": [
    "# List the First 20 Headers\n",
    "html = driver.page_source\n",
    "soup = BeautifulSoup(html, 'html.parser')\n",
    "header_objs = soup.find_all(\n",
    "    'a',\n",
    "    class_='o-header__mega-link',\n",
    "    href=re.compile('content'),\n",
    "    attrs={\"data-trackable\": \"link\"},\n",
    "    string=re.compile('Trump')\n",
    ")\n",
    "headers = [obj.get_text(strip=True) for obj in header_objs]\n",
    "headers[:20]"
   ]
  },
  {
   "cell_type": "code",
   "execution_count": 35,
   "id": "5060fc81-1c91-4b1b-968e-b40f2eeb8e96",
   "metadata": {},
   "outputs": [
    {
     "data": {
      "text/plain": [
       "'US economy contracts at 0.3% rate as Trump’s tariffs prompt import surge'"
      ]
     },
     "execution_count": 35,
     "metadata": {},
     "output_type": "execute_result"
    }
   ],
   "source": [
    "headers[1]"
   ]
  },
  {
   "cell_type": "code",
   "execution_count": 36,
   "id": "d089a2c2-6c38-44b7-b76d-4d0bc514f82b",
   "metadata": {},
   "outputs": [],
   "source": [
    "# Click on the First Header\n",
    "link = driver.find_element(By.LINK_TEXT, headers[1])\n",
    "link.click()"
   ]
  },
  {
   "cell_type": "code",
   "execution_count": 37,
   "id": "a50fba5b-1f3d-46f9-b7d4-e02ce0356806",
   "metadata": {},
   "outputs": [],
   "source": [
    "url_save = driver.current_url"
   ]
  },
  {
   "cell_type": "markdown",
   "id": "3c7c64dc-d96f-4170-b870-7943318f993b",
   "metadata": {},
   "source": [
    "### 4.3 Fill in Forms"
   ]
  },
  {
   "cell_type": "code",
   "execution_count": 38,
   "id": "db48cf3b-d867-45d6-9e4c-e5fcb25b060b",
   "metadata": {},
   "outputs": [],
   "source": [
    "# Sign in FT.com Account\n",
    "url_login = 'https://accounts.ft.com/login'\n",
    "driver.get(url_login)"
   ]
  },
  {
   "cell_type": "code",
   "execution_count": 39,
   "id": "a0fa9237-4bf1-411f-ba82-1f0d80973ccd",
   "metadata": {},
   "outputs": [],
   "source": [
    "# Enter email address\n",
    "wait = WebDriverWait(driver, 15)\n",
    "email_field = wait.until(EC.element_to_be_clickable((By.ID, 'enter-email')))\n",
    "email_field.clear()\n",
    "email_field.send_keys('USERNAME')"
   ]
  },
  {
   "cell_type": "code",
   "execution_count": 40,
   "id": "7d2bc199-fb84-4ed2-9e30-284feb12bb7c",
   "metadata": {},
   "outputs": [],
   "source": [
    "# Click Next\n",
    "next_btn = driver.find_element(By.ID, 'enter-email-next')\n",
    "next_btn.click()"
   ]
  },
  {
   "cell_type": "code",
   "execution_count": null,
   "id": "097de7ac-ebee-469d-ba54-c98690901bb4",
   "metadata": {},
   "outputs": [],
   "source": [
    "# Enter Passwords\n",
    "password_field = wait.until(EC.visibility_of_element_located((By.ID, 'enter-password')))\n",
    "password_field.clear()\n",
    "password_field.send_keys('PASSWORD')"
   ]
  },
  {
   "cell_type": "code",
   "execution_count": 41,
   "id": "2013d4b0-91c9-4e0e-b1eb-f9a1025cef7c",
   "metadata": {},
   "outputs": [],
   "source": [
    "# click the sign in button\n",
    "next_btn = driver.find_element(By.ID, 'sign-in-button')\n",
    "next_btn.click()"
   ]
  },
  {
   "cell_type": "markdown",
   "id": "4d21021f-63ac-4b42-920d-c0ce3b6889a6",
   "metadata": {},
   "source": [
    "### 4.4 Scrape Current Page"
   ]
  },
  {
   "cell_type": "code",
   "execution_count": 42,
   "id": "e8512530-e097-45a2-9e56-d03e96b671bb",
   "metadata": {},
   "outputs": [],
   "source": [
    "driver.get(url_save)"
   ]
  },
  {
   "cell_type": "code",
   "execution_count": 43,
   "id": "e66b6811-ad47-4a9d-848f-8268e0590158",
   "metadata": {},
   "outputs": [
    {
     "data": {
      "text/plain": [
       "['',\n",
       " 'Claire Jonesin Washington',\n",
       " 'Publishedyesterday',\n",
       " 'Updated17:46',\n",
       " 'The US economy contracted by an annualised 0.3 per cent over the first quarter, as companies in the world’s largest economy responded to Donald Trump’s trade war by rushing to import goods.',\n",
       " 'The fall in the GDP reading — the first since 2022 — was worse than economists’ most recent forecasts and compared with the 2.4 per cent rise for the fourth quarter.',\n",
       " 'It was largely the result of companies’ rush to buy goods from abroad ahead ofthe US president’s sweeping tariffs, with imports rising at an annualised rate of 41 per cent.',\n",
       " 'Many analysts argued that the headline GDP number was principally brought down by an extraordinaryincrease in the US trade deficit, rather than reflecting underlying trends.',\n",
       " 'The calculation used for Wednesday’s figure arrives at GDP by subtracting imports from total spending, including domestic consumption, investment and exports.',\n",
       " 'Morgan Stanley economists said the surge of imports ultimately contributed to inventories, consumption and investment — positive factors in calculating GDP that were not fully reflected in Wednesday’s data.',\n",
       " '“In effect, the imports don’t fully appear in the spending parts of the GDP accounts and therefore exaggerate GDP weakness,” they said.',\n",
       " 'Some economists focus instead on other measures, such as investment and consumer spending.',\n",
       " 'Wednesday’s figures showed that the sum of consumer spending and gross private fixed investment increased 3 per cent in the first quarter, up on the previous rate of 2.9 per cent.',\n",
       " 'In a post on his Truth Social network, Trump suggested the figures had “NOTHING TO DO WITH TARIFFS”.',\n",
       " 'Blaming former president Joe Biden, he added: “I didn’t take over until January 20th\\u2009.\\u2009.\\u2009. When the boom begins, it will be like no other. BE PATIENT!!!”',\n",
       " 'Acknowledging the stockpiling that took place ahead of Trump’s tariffs announcement this month, the Bureau of Economic Analysis, which produced Wednesday’s data, highlighted the rise in “private inventory investment”.',\n",
       " 'Without this contribution, the GDP figures would have contracted at an annualised rate of 2.5 per cent.',\n",
       " 'In a further indication of the scale of business’s efforts to import ahead of the tariffs, the US goods trade deficit reached a record high of $162bn for March in figures published this week.',\n",
       " 'Economists anticipate a measure of rebound in the second quarter as imports fall and previously stockpiled foreign goods are bought by US consumers.',\n",
       " 'Diane Swonk, chief economist at KPMG US, said Wednesday’s GDP figure had been distorted by tariffs, adding that the “extraordinary impact” would unwind as imports fell.',\n",
       " 'But she also expected GDP to shrink further in the second quarter, because of tariffs’ impact on domestic demand — “and domestic demand is ultimately what you worry about”.',\n",
       " 'Cargo volumes from the Port of Los Angeles, the biggest dock on the US West Coast, are down 30 per cent this week, while next week’s volumes are expected to be more than a third lower than the same time last year.',\n",
       " 'Stock futures dropped and bond yields rose slightly following the data. The two-year Treasury yield, which moves with interest rate expectations, was up 0.01 percentage points to 3.66 per cent.',\n",
       " 'There was no significant shift in interest rate cut expectations following the data, with traders in the futures market still pricing in roughly four cuts this year.',\n",
       " 'The BEA said the fall in output for the first quarter also reflected a decline in government spending.',\n",
       " 'It added that consumer spending was also among the factors that partly, but not wholly, offset the increase in imports and the fall in government spending.',\n",
       " '“The strong domestic demand figures are a poignant reminder of what might have been a graceful soft landing until the sweeping tariffs threw the economy off course,” said Eswar Prasad, professor at Cornell University.',\n",
       " 'Trump’s trade war is expected to lead to slower growth over the second half of this year, with higher prices weighing on consumption.',\n",
       " 'The IMF said last week that US GDP would expand by 1.8 per cent this year —\\xa0down from its January estimate of 2.7 per cent. Many private sector forecasters predict no growth at all.',\n",
       " 'Additional reporting by Kate Duguid in New York',\n",
       " 'Sheltering wealth from market volatility and geopolitical risk.']"
      ]
     },
     "execution_count": 43,
     "metadata": {},
     "output_type": "execute_result"
    }
   ],
   "source": [
    "html = driver.page_source\n",
    "soup = BeautifulSoup(html, 'html.parser')\n",
    "para_objs = soup.find_all('p')\n",
    "texts = [obj.get_text(strip=True) for obj in para_objs]\n",
    "texts"
   ]
  },
  {
   "cell_type": "code",
   "execution_count": 44,
   "id": "8d9b8719-56c6-4265-a3a6-6a051b1098bc",
   "metadata": {},
   "outputs": [
    {
     "data": {
      "text/plain": [
       "'Claire Jonesin WashingtonPublishedyesterdayUpdated17:46The US economy contracted by an annualised 0.3 per cent over the first quarter, as companies in the world’s largest economy responded to Donald Trump’s trade war by rushing to import goods.The fall in the GDP reading — the first since 2022 — was worse than economists’ most recent forecasts and compared with the 2.4 per cent rise for the fourth quarter.It was largely the result of companies’ rush to buy goods from abroad ahead ofthe US president’s sweeping tariffs, with imports rising at an annualised rate of 41 per cent.Many analysts argued that the headline GDP number was principally brought down by an extraordinaryincrease in the US trade deficit, rather than reflecting underlying trends.The calculation used for Wednesday’s figure arrives at GDP by subtracting imports from total spending, including domestic consumption, investment and exports.Morgan Stanley economists said the surge of imports ultimately contributed to inventories, consumption and investment — positive factors in calculating GDP that were not fully reflected in Wednesday’s data.“In effect, the imports don’t fully appear in the spending parts of the GDP accounts and therefore exaggerate GDP weakness,” they said.Some economists focus instead on other measures, such as investment and consumer spending.Wednesday’s figures showed that the sum of consumer spending and gross private fixed investment increased 3 per cent in the first quarter, up on the previous rate of 2.9 per cent.In a post on his Truth Social network, Trump suggested the figures had “NOTHING TO DO WITH TARIFFS”.Blaming former president Joe Biden, he added: “I didn’t take over until January 20th\\u2009.\\u2009.\\u2009. When the boom begins, it will be like no other. BE PATIENT!!!”Acknowledging the stockpiling that took place ahead of Trump’s tariffs announcement this month, the Bureau of Economic Analysis, which produced Wednesday’s data, highlighted the rise in “private inventory investment”.Without this contribution, the GDP figures would have contracted at an annualised rate of 2.5 per cent.In a further indication of the scale of business’s efforts to import ahead of the tariffs, the US goods trade deficit reached a record high of $162bn for March in figures published this week.Economists anticipate a measure of rebound in the second quarter as imports fall and previously stockpiled foreign goods are bought by US consumers.Diane Swonk, chief economist at KPMG US, said Wednesday’s GDP figure had been distorted by tariffs, adding that the “extraordinary impact” would unwind as imports fell.But she also expected GDP to shrink further in the second quarter, because of tariffs’ impact on domestic demand — “and domestic demand is ultimately what you worry about”.Cargo volumes from the Port of Los Angeles, the biggest dock on the US West Coast, are down 30 per cent this week, while next week’s volumes are expected to be more than a third lower than the same time last year.Stock futures dropped and bond yields rose slightly following the data. The two-year Treasury yield, which moves with interest rate expectations, was up 0.01 percentage points to 3.66 per cent.There was no significant shift in interest rate cut expectations following the data, with traders in the futures market still pricing in roughly four cuts this year.The BEA said the fall in output for the first quarter also reflected a decline in government spending.It added that consumer spending was also among the factors that partly, but not wholly, offset the increase in imports and the fall in government spending.“The strong domestic demand figures are a poignant reminder of what might have been a graceful soft landing until the sweeping tariffs threw the economy off course,” said Eswar Prasad, professor at Cornell University.Trump’s trade war is expected to lead to slower growth over the second half of this year, with higher prices weighing on consumption.The IMF said last week that US GDP would expand by 1.8 per cent this year —\\xa0down from its January estimate of 2.7 per cent. Many private sector forecasters predict no growth at all.Additional reporting by Kate Duguid in New YorkSheltering wealth from market volatility and geopolitical risk.'"
      ]
     },
     "execution_count": 44,
     "metadata": {},
     "output_type": "execute_result"
    }
   ],
   "source": [
    "''.join(texts)"
   ]
  },
  {
   "cell_type": "markdown",
   "id": "65f8c0e8-eeb4-498e-aff2-c27feada04e0",
   "metadata": {},
   "source": [
    "### 4.5. Polite Request"
   ]
  },
  {
   "cell_type": "code",
   "execution_count": null,
   "id": "6cbad1a2-2d80-45ba-9ca5-e8d03811f561",
   "metadata": {},
   "outputs": [],
   "source": [
    "# Human-like Pauses\n",
    "import random, time\n",
    "\n",
    "def human_pause(mean=1.5, std=0.5):\n",
    "    time.sleep(max(0, random.gauss(mean, std)))\n",
    "\n",
    "# after each navigation or click…\n",
    "human_pause()"
   ]
  },
  {
   "cell_type": "code",
   "execution_count": null,
   "id": "204a5df6-677d-47ee-858c-99ad83f913ca",
   "metadata": {},
   "outputs": [],
   "source": [
    "# Use exponential back-off on failures\n",
    "backoff = 1\n",
    "while True:\n",
    "    try:\n",
    "        driver.get(url)\n",
    "        break\n",
    "    except TimeoutException:\n",
    "        time.sleep(backoff)\n",
    "        backoff = min(backoff * 2, 30)"
   ]
  },
  {
   "cell_type": "code",
   "execution_count": null,
   "id": "3bd53e37-9bab-43d4-a951-e5ec359cebe2",
   "metadata": {},
   "outputs": [],
   "source": [
    "# Identify yourself\n",
    "opts = selenium.webdriver.ChromeOptions()\n",
    "opts.add_argument('user-agent=MyBot/1.0 (+https://mydomain.com/bot-info)')"
   ]
  },
  {
   "cell_type": "code",
   "execution_count": 45,
   "id": "777b560f-8cac-4966-9c9c-4324eaa83260",
   "metadata": {},
   "outputs": [],
   "source": [
    "# Close browser when finished\n",
    "driver.quit()"
   ]
  },
  {
   "cell_type": "markdown",
   "id": "13527ce6-f4e0-45f9-972f-e8bd3c416eb9",
   "metadata": {},
   "source": [
    "## 5. Scrape Online Tables\n",
    "__Tutorial__: https://oxylabs.io/blog/python-scrape-tables"
   ]
  },
  {
   "cell_type": "code",
   "execution_count": 46,
   "id": "13d87244-3526-43c8-8ee7-1ea44cf51a9d",
   "metadata": {},
   "outputs": [],
   "source": [
    "# Request HTML\n",
    "from urllib.request import Request, urlopen\n",
    "\n",
    "url = 'https://www.worldometers.info/world-population/population-by-country/'\n",
    "\n",
    "# Set a fake browser user agent\n",
    "headers = {'User-Agent': 'Mozilla/5.0 (Windows NT 10.0; Win64; x64) AppleWebKit/537.36 (KHTML, like Gecko) Chrome/122.0.0.0 Safari/537.36'}\n",
    "\n",
    "# Build a request with headers\n",
    "req = Request(url, headers=headers)\n",
    "\n",
    "page = urlopen(req)\n",
    "page_bytes = page.read()\n",
    "html = page_bytes.decode('utf-8')"
   ]
  },
  {
   "cell_type": "code",
   "execution_count": 47,
   "id": "bf378926-276a-48de-afae-a0bde799a6fd",
   "metadata": {},
   "outputs": [],
   "source": [
    "# Mkae the soup\n",
    "soup = BeautifulSoup(html, 'html.parser')\n",
    "\n",
    "# Find the table\n",
    "table = soup.find(\"table\")"
   ]
  },
  {
   "cell_type": "code",
   "execution_count": 48,
   "id": "b03842fe-0274-4567-b96b-3e8599d56849",
   "metadata": {},
   "outputs": [
    {
     "name": "stdout",
     "output_type": "stream",
     "text": [
      "['#', 'Country (ordependency)', 'Population(2025)', 'YearlyChange', 'NetChange', 'Density(P/Km²)', 'Land Area(Km²)', 'Migrants(net)', 'Fert.Rate', 'MedianAge', 'UrbanPop %', 'WorldShare']\n"
     ]
    }
   ],
   "source": [
    "# Extract headers\n",
    "headers = []\n",
    "for th in table.find_all('th'):\n",
    "    headers.append(th.get_text(strip=True))\n",
    "print(headers)"
   ]
  },
  {
   "cell_type": "code",
   "execution_count": 49,
   "id": "a06b1a89-9c1d-425d-83c9-a981f46f89cd",
   "metadata": {},
   "outputs": [
    {
     "name": "stdout",
     "output_type": "stream",
     "text": [
      "[['1', 'India', '1,463,865,525', '0.89%', '12,929,734', '492', '2,973,190', '−495,753', '1.94', '28.8', '37.1%', '17.78%'], ['2', 'China', '1,416,096,094', '−0.23%', '−3,225,184', '151', '9,388,211', '−268,126', '1.02', '40.1', '67.5%', '17.20%']]\n"
     ]
    }
   ],
   "source": [
    "# Extract all rows\n",
    "rows = []\n",
    "for tr in table.find_all('tr'):\n",
    "    cells = tr.find_all('td')\n",
    "    row = [cell.get_text(strip=True) for cell in cells]\n",
    "    if row:  # only append non-empty rows\n",
    "        rows.append(row)\n",
    "print(rows[:2])"
   ]
  },
  {
   "cell_type": "code",
   "execution_count": 50,
   "id": "0e02e9d2-cea0-45fc-9243-a9d8ef10e950",
   "metadata": {},
   "outputs": [
    {
     "data": {
      "text/html": [
       "<div>\n",
       "<style scoped>\n",
       "    .dataframe tbody tr th:only-of-type {\n",
       "        vertical-align: middle;\n",
       "    }\n",
       "\n",
       "    .dataframe tbody tr th {\n",
       "        vertical-align: top;\n",
       "    }\n",
       "\n",
       "    .dataframe thead th {\n",
       "        text-align: right;\n",
       "    }\n",
       "</style>\n",
       "<table border=\"1\" class=\"dataframe\">\n",
       "  <thead>\n",
       "    <tr style=\"text-align: right;\">\n",
       "      <th></th>\n",
       "      <th>#</th>\n",
       "      <th>Country (ordependency)</th>\n",
       "      <th>Population(2025)</th>\n",
       "      <th>YearlyChange</th>\n",
       "      <th>NetChange</th>\n",
       "      <th>Density(P/Km²)</th>\n",
       "      <th>Land Area(Km²)</th>\n",
       "      <th>Migrants(net)</th>\n",
       "      <th>Fert.Rate</th>\n",
       "      <th>MedianAge</th>\n",
       "      <th>UrbanPop %</th>\n",
       "      <th>WorldShare</th>\n",
       "    </tr>\n",
       "  </thead>\n",
       "  <tbody>\n",
       "    <tr>\n",
       "      <th>0</th>\n",
       "      <td>1</td>\n",
       "      <td>India</td>\n",
       "      <td>1,463,865,525</td>\n",
       "      <td>0.89%</td>\n",
       "      <td>12,929,734</td>\n",
       "      <td>492</td>\n",
       "      <td>2,973,190</td>\n",
       "      <td>−495,753</td>\n",
       "      <td>1.94</td>\n",
       "      <td>28.8</td>\n",
       "      <td>37.1%</td>\n",
       "      <td>17.78%</td>\n",
       "    </tr>\n",
       "    <tr>\n",
       "      <th>1</th>\n",
       "      <td>2</td>\n",
       "      <td>China</td>\n",
       "      <td>1,416,096,094</td>\n",
       "      <td>−0.23%</td>\n",
       "      <td>−3,225,184</td>\n",
       "      <td>151</td>\n",
       "      <td>9,388,211</td>\n",
       "      <td>−268,126</td>\n",
       "      <td>1.02</td>\n",
       "      <td>40.1</td>\n",
       "      <td>67.5%</td>\n",
       "      <td>17.20%</td>\n",
       "    </tr>\n",
       "    <tr>\n",
       "      <th>2</th>\n",
       "      <td>3</td>\n",
       "      <td>United States</td>\n",
       "      <td>347,275,807</td>\n",
       "      <td>0.54%</td>\n",
       "      <td>1,849,236</td>\n",
       "      <td>38</td>\n",
       "      <td>9,147,420</td>\n",
       "      <td>1,230,663</td>\n",
       "      <td>1.62</td>\n",
       "      <td>38.5</td>\n",
       "      <td>82.8%</td>\n",
       "      <td>4.22%</td>\n",
       "    </tr>\n",
       "    <tr>\n",
       "      <th>3</th>\n",
       "      <td>4</td>\n",
       "      <td>Indonesia</td>\n",
       "      <td>285,721,236</td>\n",
       "      <td>0.79%</td>\n",
       "      <td>2,233,305</td>\n",
       "      <td>158</td>\n",
       "      <td>1,811,570</td>\n",
       "      <td>−39,509</td>\n",
       "      <td>2.1</td>\n",
       "      <td>30.4</td>\n",
       "      <td>59.6%</td>\n",
       "      <td>3.47%</td>\n",
       "    </tr>\n",
       "    <tr>\n",
       "      <th>4</th>\n",
       "      <td>5</td>\n",
       "      <td>Pakistan</td>\n",
       "      <td>255,219,554</td>\n",
       "      <td>1.57%</td>\n",
       "      <td>3,950,390</td>\n",
       "      <td>331</td>\n",
       "      <td>770,880</td>\n",
       "      <td>−1,235,336</td>\n",
       "      <td>3.5</td>\n",
       "      <td>20.6</td>\n",
       "      <td>34.4%</td>\n",
       "      <td>3.10%</td>\n",
       "    </tr>\n",
       "  </tbody>\n",
       "</table>\n",
       "</div>"
      ],
      "text/plain": [
       "   # Country (ordependency) Population(2025) YearlyChange   NetChange  \\\n",
       "0  1                  India    1,463,865,525        0.89%  12,929,734   \n",
       "1  2                  China    1,416,096,094       −0.23%  −3,225,184   \n",
       "2  3          United States      347,275,807        0.54%   1,849,236   \n",
       "3  4              Indonesia      285,721,236        0.79%   2,233,305   \n",
       "4  5               Pakistan      255,219,554        1.57%   3,950,390   \n",
       "\n",
       "  Density(P/Km²) Land Area(Km²) Migrants(net) Fert.Rate MedianAge UrbanPop %  \\\n",
       "0            492      2,973,190      −495,753      1.94      28.8      37.1%   \n",
       "1            151      9,388,211      −268,126      1.02      40.1      67.5%   \n",
       "2             38      9,147,420     1,230,663      1.62      38.5      82.8%   \n",
       "3            158      1,811,570       −39,509       2.1      30.4      59.6%   \n",
       "4            331        770,880    −1,235,336       3.5      20.6      34.4%   \n",
       "\n",
       "  WorldShare  \n",
       "0     17.78%  \n",
       "1     17.20%  \n",
       "2      4.22%  \n",
       "3      3.47%  \n",
       "4      3.10%  "
      ]
     },
     "execution_count": 50,
     "metadata": {},
     "output_type": "execute_result"
    }
   ],
   "source": [
    "# Build pandas DataFrame\n",
    "df = pd.DataFrame(rows, columns=headers)\n",
    "df.head()"
   ]
  },
  {
   "cell_type": "markdown",
   "id": "31fb5862-7dde-440f-8cf1-e803383a7324",
   "metadata": {},
   "source": [
    "## 6. Scrape Multi-page Websites"
   ]
  },
  {
   "cell_type": "code",
   "execution_count": 51,
   "id": "83dcbc74-1972-432e-afd0-c45eb7c3b9b2",
   "metadata": {},
   "outputs": [],
   "source": [
    "# Request HTML\n",
    "from urllib.request import Request, urlopen\n",
    "\n",
    "url = 'https://scholar.google.com/citations?hl=en&vq=bus_economics&view_op=list_hcore&venue=6OFMzPxOGXUJ.2024'\n",
    "\n",
    "# Set a fake browser user agent\n",
    "headers = {'User-Agent': 'Mozilla/5.0 (Windows NT 10.0; Win64; x64) AppleWebKit/537.36 (KHTML, like Gecko) Chrome/122.0.0.0 Safari/537.36'}\n",
    "\n",
    "# Build a request with headers\n",
    "req = Request(url, headers=headers)\n",
    "\n",
    "page = urlopen(req)\n",
    "page_bytes = page.read()\n",
    "html = page_bytes.decode('utf-8')"
   ]
  },
  {
   "cell_type": "code",
   "execution_count": 52,
   "id": "cd319217-0d50-44c1-b60e-f06dc5cf0caf",
   "metadata": {},
   "outputs": [],
   "source": [
    "from selenium import webdriver\n",
    "from selenium.webdriver.common.by import By\n",
    "import time\n",
    "import csv\n",
    "\n",
    "url = 'https://scholar.google.com/citations?hl=en&vq=bus_economics&view_op=list_hcore&venue=6OFMzPxOGXUJ.2024'\n",
    "driver = selenium.webdriver.Chrome()\n",
    "driver.get(url)"
   ]
  },
  {
   "cell_type": "markdown",
   "id": "e0263bcb-9f01-40f6-ba9c-074968700c24",
   "metadata": {},
   "source": [
    "#### `.find_elements()` String Format\n",
    "- Starts with tag name `TAGNAME` (optional)\n",
    "- Use dots before class name `.CLASSNAME`\n",
    "- Connect multiple names in the same level without spaces `TAGNAME.CLASSNAME1.CLASSNAME2`\n",
    "- Connect names from a lower level with a space `.CLASSNAME TAGNAME_LOWER.CLASSNAME_LOWER`"
   ]
  },
  {
   "cell_type": "code",
   "execution_count": 53,
   "id": "8e863b5b-be0e-466a-9608-09d664d40176",
   "metadata": {},
   "outputs": [
    {
     "name": "stdout",
     "output_type": "stream",
     "text": [
      "Reached last page.\n"
     ]
    }
   ],
   "source": [
    "all_data = []\n",
    "\n",
    "while True:\n",
    "    # Scrape data\n",
    "    titles = driver.find_elements(By.CSS_SELECTOR, \".gsc_mpat_ttl a\")\n",
    "    info = driver.find_elements(By.CSS_SELECTOR, \".gs_gray\")\n",
    "    info = info[:-1]\n",
    "    authors = info[0::2]\n",
    "    journals = info[1::2]\n",
    "    citations = driver.find_elements(By.CSS_SELECTOR, \".gsc_mpat_c a\")\n",
    "    years = driver.find_elements(By.CSS_SELECTOR, \".gsc_mpat_y span\")\n",
    "    years = years[1:]\n",
    "    \n",
    "    for title, author, journal, citation, year in zip(titles, authors, journals, citations, years):\n",
    "        all_data.append({\n",
    "            'title': title.text,\n",
    "            'author': author.text,\n",
    "            'journal': journal.text,\n",
    "            'citation': citation.text,\n",
    "            'year': year.text,\n",
    "            'link': title.get_attribute('href')\n",
    "        })\n",
    "    # Try to go to the next page\n",
    "    try:\n",
    "        button = driver.find_element(By.CSS_SELECTOR, \"button.gs_btnPR.gs_in_ib.gs_btn_half.gs_btn_lsb.gs_btn_srt.gsc_pgn_pnx\")\n",
    "        if not button.is_enabled():\n",
    "            print('Reached last page.')\n",
    "            break\n",
    "        button.click()\n",
    "        time.sleep(2)  # Wait for next page to load\n",
    "    except:\n",
    "        print(\"No more pages.\")\n",
    "        break"
   ]
  },
  {
   "cell_type": "code",
   "execution_count": 54,
   "id": "2cc6aac1-f8c1-458a-bd6a-58a3f1c3abaf",
   "metadata": {},
   "outputs": [
    {
     "name": "stdout",
     "output_type": "stream",
     "text": [
      "(153, 6)\n"
     ]
    },
    {
     "data": {
      "text/html": [
       "<div>\n",
       "<style scoped>\n",
       "    .dataframe tbody tr th:only-of-type {\n",
       "        vertical-align: middle;\n",
       "    }\n",
       "\n",
       "    .dataframe tbody tr th {\n",
       "        vertical-align: top;\n",
       "    }\n",
       "\n",
       "    .dataframe thead th {\n",
       "        text-align: right;\n",
       "    }\n",
       "</style>\n",
       "<table border=\"1\" class=\"dataframe\">\n",
       "  <thead>\n",
       "    <tr style=\"text-align: right;\">\n",
       "      <th></th>\n",
       "      <th>title</th>\n",
       "      <th>author</th>\n",
       "      <th>journal</th>\n",
       "      <th>citation</th>\n",
       "      <th>year</th>\n",
       "      <th>link</th>\n",
       "    </tr>\n",
       "  </thead>\n",
       "  <tbody>\n",
       "    <tr>\n",
       "      <th>0</th>\n",
       "      <td>Two-Way Fixed Effects Estimators with Heteroge...</td>\n",
       "      <td>C de Chaisemartin, X D’Haultfœuille</td>\n",
       "      <td>American Economic Review 110 (9), 2964-2996</td>\n",
       "      <td>3639</td>\n",
       "      <td></td>\n",
       "      <td>https://scholar.google.com/scholar?oi=bibs&amp;clu...</td>\n",
       "    </tr>\n",
       "    <tr>\n",
       "      <th>1</th>\n",
       "      <td>Bartik Instruments: What, When, Why, and How</td>\n",
       "      <td>P Goldsmith-Pinkham, I Sorkin, H Swift</td>\n",
       "      <td>American Economic Review 110 (8), 2586-2624</td>\n",
       "      <td>2027</td>\n",
       "      <td></td>\n",
       "      <td>https://scholar.google.com/scholar?oi=bibs&amp;clu...</td>\n",
       "    </tr>\n",
       "    <tr>\n",
       "      <th>2</th>\n",
       "      <td>Macroeconomic Implications of COVID-19: Can Ne...</td>\n",
       "      <td>V Guerrieri, G Lorenzoni, L Straub, I Werning</td>\n",
       "      <td>American Economic Review 112 (5), 1437-1474</td>\n",
       "      <td>1594</td>\n",
       "      <td></td>\n",
       "      <td>https://scholar.google.com/scholar?oi=bibs&amp;clu...</td>\n",
       "    </tr>\n",
       "    <tr>\n",
       "      <th>3</th>\n",
       "      <td>Importing Political Polarization? The Electora...</td>\n",
       "      <td>D Autor, D Dorn, G Hanson, K Majlesi</td>\n",
       "      <td>American Economic Review 110 (10), 3139-3183</td>\n",
       "      <td>1515</td>\n",
       "      <td></td>\n",
       "      <td>https://scholar.google.com/scholar?oi=bibs&amp;clu...</td>\n",
       "    </tr>\n",
       "    <tr>\n",
       "      <th>4</th>\n",
       "      <td>Are Ideas Getting Harder to Find?</td>\n",
       "      <td>N Bloom, CI Jones, J Van Reenen, M Webb</td>\n",
       "      <td>American Economic Review 110 (4), 1104-1144</td>\n",
       "      <td>1318</td>\n",
       "      <td></td>\n",
       "      <td>https://scholar.google.com/scholar?oi=bibs&amp;clu...</td>\n",
       "    </tr>\n",
       "  </tbody>\n",
       "</table>\n",
       "</div>"
      ],
      "text/plain": [
       "                                               title  \\\n",
       "0  Two-Way Fixed Effects Estimators with Heteroge...   \n",
       "1       Bartik Instruments: What, When, Why, and How   \n",
       "2  Macroeconomic Implications of COVID-19: Can Ne...   \n",
       "3  Importing Political Polarization? The Electora...   \n",
       "4                  Are Ideas Getting Harder to Find?   \n",
       "\n",
       "                                          author  \\\n",
       "0            C de Chaisemartin, X D’Haultfœuille   \n",
       "1         P Goldsmith-Pinkham, I Sorkin, H Swift   \n",
       "2  V Guerrieri, G Lorenzoni, L Straub, I Werning   \n",
       "3           D Autor, D Dorn, G Hanson, K Majlesi   \n",
       "4        N Bloom, CI Jones, J Van Reenen, M Webb   \n",
       "\n",
       "                                        journal citation year  \\\n",
       "0   American Economic Review 110 (9), 2964-2996     3639        \n",
       "1   American Economic Review 110 (8), 2586-2624     2027        \n",
       "2   American Economic Review 112 (5), 1437-1474     1594        \n",
       "3  American Economic Review 110 (10), 3139-3183     1515        \n",
       "4   American Economic Review 110 (4), 1104-1144     1318        \n",
       "\n",
       "                                                link  \n",
       "0  https://scholar.google.com/scholar?oi=bibs&clu...  \n",
       "1  https://scholar.google.com/scholar?oi=bibs&clu...  \n",
       "2  https://scholar.google.com/scholar?oi=bibs&clu...  \n",
       "3  https://scholar.google.com/scholar?oi=bibs&clu...  \n",
       "4  https://scholar.google.com/scholar?oi=bibs&clu...  "
      ]
     },
     "execution_count": 54,
     "metadata": {},
     "output_type": "execute_result"
    }
   ],
   "source": [
    "# create a DataFrame\n",
    "df = pd.DataFrame(all_data)\n",
    "print(df.shape)\n",
    "df.head()"
   ]
  },
  {
   "cell_type": "code",
   "execution_count": 55,
   "id": "49344e62-be1c-4aa4-82f8-38df317fce82",
   "metadata": {},
   "outputs": [],
   "source": [
    "# Close browser when finished\n",
    "df.to_csv('AER.csv', index='False')\n",
    "driver.quit()"
   ]
  },
  {
   "cell_type": "markdown",
   "id": "e10bc623-72da-4bac-8a8c-33ec4992da0a",
   "metadata": {},
   "source": [
    "## 7. Advanced Data I/O"
   ]
  },
  {
   "cell_type": "markdown",
   "id": "1f23218d-7ef5-4558-aa32-50f87d353459",
   "metadata": {},
   "source": [
    "### 7.1 Batch Read/Write"
   ]
  },
  {
   "cell_type": "code",
   "execution_count": 56,
   "id": "489b6c8e-242d-4607-b1fd-85a6bd3f73bf",
   "metadata": {},
   "outputs": [
    {
     "name": "stdout",
     "output_type": "stream",
     "text": [
      "Processing chunk 0, rows 20\n",
      "Processing chunk 1, rows 20\n",
      "Processing chunk 2, rows 20\n",
      "Processing chunk 3, rows 20\n",
      "Processing chunk 4, rows 20\n",
      "Processing chunk 5, rows 20\n",
      "Processing chunk 6, rows 20\n",
      "Processing chunk 7, rows 13\n"
     ]
    }
   ],
   "source": [
    "# Read csv in batches\n",
    "for i, chunk in enumerate(pd.read_csv('AER.csv', chunksize=20)):\n",
    "    # chunk is a DataFrame of up to chunksize rows\n",
    "    print(f\"Processing chunk {i}, rows {len(chunk)}\")\n",
    "    # … your processing logic here …\n",
    "    # e.g. transform, filter, write to DB, etc."
   ]
  },
  {
   "cell_type": "code",
   "execution_count": 57,
   "id": "8bb464f9-088f-48f3-a7dd-37a2958fc703",
   "metadata": {},
   "outputs": [
    {
     "name": "stdout",
     "output_type": "stream",
     "text": [
      "Wrote 50 rows to AER_00.csv\n",
      "Wrote 50 rows to AER_01.csv\n",
      "Wrote 50 rows to AER_02.csv\n",
      "Wrote 3 rows to AER_03.csv\n"
     ]
    }
   ],
   "source": [
    "# Write csv in batches\n",
    "rows_per_file = 50\n",
    "output_prefix = 'AER_'\n",
    "\n",
    "for i in range(0, len(df), rows_per_file):\n",
    "    chunk = df.iloc[i : i + rows_per_file]\n",
    "    file_idx = i // rows_per_file \n",
    "    filename = f\"{output_prefix}{file_idx:02d}.csv\"\n",
    "    chunk.to_csv(filename, index=False)\n",
    "    print(f\"Wrote {len(chunk)} rows to {filename}\")"
   ]
  },
  {
   "cell_type": "markdown",
   "id": "b6b9394a-1a51-4d10-bd16-2eeade978c64",
   "metadata": {},
   "source": [
    "### 7.2 Compression"
   ]
  },
  {
   "cell_type": "markdown",
   "id": "7cd09d34-8e89-4761-b7b3-f1fa9938c727",
   "metadata": {},
   "source": [
    "#### Compression Ratio\n",
    "- `zip`: Reduces ~60%\n",
    "- `gzip`: Reduces ~70%\n",
    "- `7z`: Reduces ~75%"
   ]
  },
  {
   "cell_type": "code",
   "execution_count": 58,
   "id": "215bd560-b047-4222-9e77-ab31f9cae904",
   "metadata": {},
   "outputs": [],
   "source": [
    "# Compress data into gzip format\n",
    "df.to_csv('AER.csv.gz', index=False, compression='gzip')\n",
    "\n",
    "# Compress data into zip format\n",
    "df.to_csv('AER.csv.zip', index=False, compression='zip')"
   ]
  },
  {
   "cell_type": "code",
   "execution_count": 59,
   "id": "e726ee52-db85-482f-9705-88e6a94b3e6f",
   "metadata": {},
   "outputs": [
    {
     "name": "stdout",
     "output_type": "stream",
     "text": [
      "Raw file size: 0.03 MB\n",
      "Gzip file size: 0.01 MB\n",
      "zip file size: 0.01 MB\n"
     ]
    }
   ],
   "source": [
    "# Compare sizes\n",
    "import os\n",
    "\n",
    "raw_size = os.path.getsize('AER.csv')\n",
    "gzip_size = os.path.getsize('AER.csv.gz')\n",
    "zip_size = os.path.getsize('AER.csv.zip')\n",
    "print(f\"Raw file size: {raw_size / (1024**2):.2f} MB\")\n",
    "print(f\"Gzip file size: {gzip_size / (1024**2):.2f} MB\")\n",
    "print(f\"zip file size: {zip_size / (1024**2):.2f} MB\")"
   ]
  },
  {
   "cell_type": "code",
   "execution_count": 60,
   "id": "ed3da344-8f20-4ca7-ac2d-d89a1acc8321",
   "metadata": {},
   "outputs": [
    {
     "data": {
      "text/html": [
       "<div>\n",
       "<style scoped>\n",
       "    .dataframe tbody tr th:only-of-type {\n",
       "        vertical-align: middle;\n",
       "    }\n",
       "\n",
       "    .dataframe tbody tr th {\n",
       "        vertical-align: top;\n",
       "    }\n",
       "\n",
       "    .dataframe thead th {\n",
       "        text-align: right;\n",
       "    }\n",
       "</style>\n",
       "<table border=\"1\" class=\"dataframe\">\n",
       "  <thead>\n",
       "    <tr style=\"text-align: right;\">\n",
       "      <th></th>\n",
       "      <th>title</th>\n",
       "      <th>author</th>\n",
       "      <th>journal</th>\n",
       "      <th>citation</th>\n",
       "      <th>year</th>\n",
       "      <th>link</th>\n",
       "    </tr>\n",
       "  </thead>\n",
       "  <tbody>\n",
       "    <tr>\n",
       "      <th>0</th>\n",
       "      <td>Two-Way Fixed Effects Estimators with Heteroge...</td>\n",
       "      <td>C de Chaisemartin, X D’Haultfœuille</td>\n",
       "      <td>American Economic Review 110 (9), 2964-2996</td>\n",
       "      <td>3639</td>\n",
       "      <td>NaN</td>\n",
       "      <td>https://scholar.google.com/scholar?oi=bibs&amp;clu...</td>\n",
       "    </tr>\n",
       "    <tr>\n",
       "      <th>1</th>\n",
       "      <td>Bartik Instruments: What, When, Why, and How</td>\n",
       "      <td>P Goldsmith-Pinkham, I Sorkin, H Swift</td>\n",
       "      <td>American Economic Review 110 (8), 2586-2624</td>\n",
       "      <td>2027</td>\n",
       "      <td>NaN</td>\n",
       "      <td>https://scholar.google.com/scholar?oi=bibs&amp;clu...</td>\n",
       "    </tr>\n",
       "    <tr>\n",
       "      <th>2</th>\n",
       "      <td>Macroeconomic Implications of COVID-19: Can Ne...</td>\n",
       "      <td>V Guerrieri, G Lorenzoni, L Straub, I Werning</td>\n",
       "      <td>American Economic Review 112 (5), 1437-1474</td>\n",
       "      <td>1594</td>\n",
       "      <td>NaN</td>\n",
       "      <td>https://scholar.google.com/scholar?oi=bibs&amp;clu...</td>\n",
       "    </tr>\n",
       "    <tr>\n",
       "      <th>3</th>\n",
       "      <td>Importing Political Polarization? The Electora...</td>\n",
       "      <td>D Autor, D Dorn, G Hanson, K Majlesi</td>\n",
       "      <td>American Economic Review 110 (10), 3139-3183</td>\n",
       "      <td>1515</td>\n",
       "      <td>NaN</td>\n",
       "      <td>https://scholar.google.com/scholar?oi=bibs&amp;clu...</td>\n",
       "    </tr>\n",
       "    <tr>\n",
       "      <th>4</th>\n",
       "      <td>Are Ideas Getting Harder to Find?</td>\n",
       "      <td>N Bloom, CI Jones, J Van Reenen, M Webb</td>\n",
       "      <td>American Economic Review 110 (4), 1104-1144</td>\n",
       "      <td>1318</td>\n",
       "      <td>NaN</td>\n",
       "      <td>https://scholar.google.com/scholar?oi=bibs&amp;clu...</td>\n",
       "    </tr>\n",
       "  </tbody>\n",
       "</table>\n",
       "</div>"
      ],
      "text/plain": [
       "                                               title  \\\n",
       "0  Two-Way Fixed Effects Estimators with Heteroge...   \n",
       "1       Bartik Instruments: What, When, Why, and How   \n",
       "2  Macroeconomic Implications of COVID-19: Can Ne...   \n",
       "3  Importing Political Polarization? The Electora...   \n",
       "4                  Are Ideas Getting Harder to Find?   \n",
       "\n",
       "                                          author  \\\n",
       "0            C de Chaisemartin, X D’Haultfœuille   \n",
       "1         P Goldsmith-Pinkham, I Sorkin, H Swift   \n",
       "2  V Guerrieri, G Lorenzoni, L Straub, I Werning   \n",
       "3           D Autor, D Dorn, G Hanson, K Majlesi   \n",
       "4        N Bloom, CI Jones, J Van Reenen, M Webb   \n",
       "\n",
       "                                        journal  citation  year  \\\n",
       "0   American Economic Review 110 (9), 2964-2996      3639   NaN   \n",
       "1   American Economic Review 110 (8), 2586-2624      2027   NaN   \n",
       "2   American Economic Review 112 (5), 1437-1474      1594   NaN   \n",
       "3  American Economic Review 110 (10), 3139-3183      1515   NaN   \n",
       "4   American Economic Review 110 (4), 1104-1144      1318   NaN   \n",
       "\n",
       "                                                link  \n",
       "0  https://scholar.google.com/scholar?oi=bibs&clu...  \n",
       "1  https://scholar.google.com/scholar?oi=bibs&clu...  \n",
       "2  https://scholar.google.com/scholar?oi=bibs&clu...  \n",
       "3  https://scholar.google.com/scholar?oi=bibs&clu...  \n",
       "4  https://scholar.google.com/scholar?oi=bibs&clu...  "
      ]
     },
     "execution_count": 60,
     "metadata": {},
     "output_type": "execute_result"
    }
   ],
   "source": [
    "# Read compressed file using pandas\n",
    "df_gz = pd.read_csv('AER.csv.gz', compression='gzip')\n",
    "df_gz.head()"
   ]
  },
  {
   "cell_type": "markdown",
   "id": "2dd9550b-53aa-4aaa-8e17-5be48487bb6b",
   "metadata": {},
   "source": [
    "### 7.3 Pickle"
   ]
  },
  {
   "cell_type": "code",
   "execution_count": 61,
   "id": "7023d2be-14b4-4697-b362-5125a8fffa58",
   "metadata": {},
   "outputs": [
    {
     "data": {
      "text/plain": [
       "title       object\n",
       "author      object\n",
       "journal     object\n",
       "citation    object\n",
       "year        object\n",
       "link        object\n",
       "dtype: object"
      ]
     },
     "execution_count": 61,
     "metadata": {},
     "output_type": "execute_result"
    }
   ],
   "source": [
    "df.dtypes"
   ]
  },
  {
   "cell_type": "code",
   "execution_count": 62,
   "id": "3c829fb6-62d6-4f3b-940b-29cbb5578f98",
   "metadata": {},
   "outputs": [
    {
     "data": {
      "text/plain": [
       "title        object\n",
       "author       object\n",
       "journal      object\n",
       "citation      int64\n",
       "year        float64\n",
       "link         object\n",
       "dtype: object"
      ]
     },
     "execution_count": 62,
     "metadata": {},
     "output_type": "execute_result"
    }
   ],
   "source": [
    "df_gz.dtypes"
   ]
  },
  {
   "cell_type": "code",
   "execution_count": 63,
   "id": "9878dbcb-5360-4862-9fff-578ff84dc1f5",
   "metadata": {},
   "outputs": [
    {
     "data": {
      "text/plain": [
       "False"
      ]
     },
     "execution_count": 63,
     "metadata": {},
     "output_type": "execute_result"
    }
   ],
   "source": [
    "df.equals(df_gz)"
   ]
  },
  {
   "cell_type": "code",
   "execution_count": 64,
   "id": "a2284442-cf11-4a86-8702-7ff2eb2e163e",
   "metadata": {},
   "outputs": [
    {
     "data": {
      "text/plain": [
       "True"
      ]
     },
     "execution_count": 64,
     "metadata": {},
     "output_type": "execute_result"
    }
   ],
   "source": [
    "df.to_pickle('AER.pkl')\n",
    "df_pickle = pd.read_pickle('AER.pkl')\n",
    "df.equals(df_pickle)"
   ]
  },
  {
   "cell_type": "code",
   "execution_count": null,
   "id": "6698f374-ab74-499b-af38-d2e6a3b5a3d9",
   "metadata": {},
   "outputs": [],
   "source": []
  }
 ],
 "metadata": {
  "kernelspec": {
   "display_name": "Python 3 (ipykernel)",
   "language": "python",
   "name": "python3"
  },
  "language_info": {
   "codemirror_mode": {
    "name": "ipython",
    "version": 3
   },
   "file_extension": ".py",
   "mimetype": "text/x-python",
   "name": "python",
   "nbconvert_exporter": "python",
   "pygments_lexer": "ipython3",
   "version": "3.12.9"
  }
 },
 "nbformat": 4,
 "nbformat_minor": 5
}
