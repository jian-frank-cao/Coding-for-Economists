{
 "cells": [
  {
   "cell_type": "markdown",
   "id": "057bb604-0cf0-4e18-a164-13e999b0db34",
   "metadata": {},
   "source": [
    "# Coding for Economists - Session 9 & 10"
   ]
  },
  {
   "cell_type": "markdown",
   "id": "94440b20-855c-4012-b9e4-f4e0f2094ed6",
   "metadata": {},
   "source": [
    "***"
   ]
  },
  {
   "cell_type": "markdown",
   "id": "35dc0b30-6824-472f-9b65-a456c9692d5e",
   "metadata": {},
   "source": [
    "## 1. Setup Environment"
   ]
  },
  {
   "cell_type": "code",
   "execution_count": null,
   "id": "1534fbc5-f12d-4513-8c2f-14caf8ca6730",
   "metadata": {},
   "outputs": [],
   "source": [
    "%pip install econml"
   ]
  },
  {
   "cell_type": "code",
   "execution_count": null,
   "id": "0c7c6cb1-6fec-4df2-9ce3-cf2d56f1d3a5",
   "metadata": {},
   "outputs": [],
   "source": [
    "%pip install --upgrade jupyter ipywidgets"
   ]
  },
  {
   "cell_type": "code",
   "execution_count": null,
   "id": "98b7a4bb-545d-4483-8471-a60bed5e3e15",
   "metadata": {},
   "outputs": [],
   "source": [
    "import numpy as np\n",
    "import pandas as pd\n",
    "import matplotlib.pyplot as plt\n",
    "# Turn on copy on write\n",
    "pd.options.mode.copy_on_write = True"
   ]
  },
  {
   "cell_type": "markdown",
   "id": "e683af46-341e-46c8-8084-c6ae32c846b9",
   "metadata": {},
   "source": [
    "## 2. K-Means Clustering"
   ]
  },
  {
   "cell_type": "markdown",
   "id": "09feb6e0-ff7c-4754-ac7b-163f63e797f9",
   "metadata": {},
   "source": [
    "### 2.1 Read Data"
   ]
  },
  {
   "cell_type": "code",
   "execution_count": null,
   "id": "cde695aa-5259-4ad8-adee-e74ee5e15d6e",
   "metadata": {},
   "outputs": [],
   "source": [
    "# Load the publicly available macroeconomic dataset\n",
    "import statsmodels.api as sm\n",
    "data = sm.datasets.macrodata.load_pandas().data\n",
    "\n",
    "# Select a subset of economic indicators for clustering\n",
    "# Here we use real GDP, inflation, and unemployment\n",
    "df = data[['realgdp', 'infl', 'unemp']]\n",
    "df.head()"
   ]
  },
  {
   "cell_type": "markdown",
   "id": "7e3ffeaa-0206-46c5-ace5-956b2625aa4d",
   "metadata": {},
   "source": [
    "### 2.2 Preprocessing"
   ]
  },
  {
   "cell_type": "code",
   "execution_count": null,
   "id": "0bf19686-cfd6-402f-88fc-b8efe4ff16c5",
   "metadata": {},
   "outputs": [],
   "source": [
    "# Scale the data (important for clustering)\n",
    "from sklearn.preprocessing import StandardScaler\n",
    "scaler = StandardScaler()\n",
    "scaled_data = scaler.fit_transform(df)"
   ]
  },
  {
   "cell_type": "markdown",
   "id": "f603abb0-efaa-44ce-a130-6704df2278bf",
   "metadata": {},
   "source": [
    "### 2.3 Determine the Optimal Number of Clusters"
   ]
  },
  {
   "cell_type": "code",
   "execution_count": null,
   "id": "97347847-caea-4735-8588-17c7467904f0",
   "metadata": {},
   "outputs": [],
   "source": [
    "# Determine the optimal number of clusters using the elbow method\n",
    "from sklearn.cluster import KMeans\n",
    "inertia = []\n",
    "K_range = range(1, 11)\n",
    "for k in K_range:\n",
    "    kmeans = KMeans(n_clusters=k, random_state=1234)\n",
    "    kmeans.fit(scaled_data)\n",
    "    inertia.append(kmeans.inertia_)\n",
    "\n",
    "# Plot the elbow curve (within cluster sum of squares)\n",
    "plt.figure(figsize=(8, 4))\n",
    "plt.plot(K_range, inertia, 'bo-')\n",
    "plt.xlabel('Number of clusters (k)')\n",
    "plt.ylabel('Inertia')\n",
    "plt.title('Elbow Method for Optimal k')\n",
    "plt.show()"
   ]
  },
  {
   "cell_type": "code",
   "execution_count": null,
   "id": "e14398b6-6b34-485a-b531-a40cff137b52",
   "metadata": {},
   "outputs": [],
   "source": [
    "# Determine optimal k using silhouette scores (requires k>=2)\n",
    "from sklearn.metrics import silhouette_score\n",
    "silhouette_scores = []\n",
    "for k in range(2, 11):\n",
    "    kmeans = KMeans(n_clusters=k, random_state=42)\n",
    "    labels = kmeans.fit_predict(scaled_data)\n",
    "    score = silhouette_score(scaled_data, labels)\n",
    "    silhouette_scores.append(score)\n",
    "\n",
    "# Plot the silhouette scores\n",
    "plt.figure(figsize=(8, 4))\n",
    "plt.plot(range(2, 11), silhouette_scores, 'bo-')\n",
    "plt.xlabel('Number of clusters (k)')\n",
    "plt.ylabel('Silhouette Score')\n",
    "plt.title('Silhouette Scores for Different k')\n",
    "plt.show()"
   ]
  },
  {
   "cell_type": "code",
   "execution_count": null,
   "id": "e4ff89a5-ae1a-4f78-b8f2-25562dd340a0",
   "metadata": {},
   "outputs": [],
   "source": [
    "# Based on the elbow and silhouette methods, choose an optimal k\n",
    "optimal_k = 4\n",
    "kmeans = KMeans(n_clusters=optimal_k, random_state=42)\n",
    "clusters = kmeans.fit_predict(scaled_data)"
   ]
  },
  {
   "cell_type": "markdown",
   "id": "6d7b6129-3cbf-43d0-b792-97c91e9808a8",
   "metadata": {},
   "source": [
    "### 2.4 Visualize the Clusters"
   ]
  },
  {
   "cell_type": "code",
   "execution_count": null,
   "id": "9cc3d006-b809-4859-b1fb-e6dc272db01a",
   "metadata": {},
   "outputs": [],
   "source": [
    "# Add cluster labels to the dataframe\n",
    "df['cluster'] = clusters\n",
    "\n",
    "# Use PCA to reduce dimensions to 2 for visualization purposes\n",
    "from sklearn.decomposition import PCA\n",
    "pca = PCA(n_components=2, random_state=1234)\n",
    "pca_result = pca.fit_transform(scaled_data)\n",
    "df['pca1'] = pca_result[:, 0]\n",
    "df['pca2'] = pca_result[:, 1]\n",
    "df.head()"
   ]
  },
  {
   "cell_type": "code",
   "execution_count": null,
   "id": "2de8f4e9-77e1-482e-ab25-7cc7fd63fd1e",
   "metadata": {},
   "outputs": [],
   "source": [
    "# Plot the clusters in the PCA-reduced space\n",
    "plt.figure(figsize=(8, 6))\n",
    "for cluster in range(optimal_k):\n",
    "    subset = df[df['cluster'] == cluster]\n",
    "    plt.scatter(subset['pca1'], subset['pca2'], label=f'Cluster {cluster}')\n",
    "plt.xlabel('Principal Component 1')\n",
    "plt.ylabel('Principal Component 2')\n",
    "plt.title(f'K-Means Clustering (k={optimal_k})')\n",
    "plt.legend()\n",
    "plt.show()"
   ]
  },
  {
   "cell_type": "markdown",
   "id": "9084932e-dd22-4820-aa13-b028bc2087fe",
   "metadata": {},
   "source": [
    "## 3. Policy Evaluation: Causal Forest"
   ]
  },
  {
   "cell_type": "markdown",
   "id": "173b66e8-a130-4e83-a55b-ad6e862a6a74",
   "metadata": {},
   "source": [
    "### 3.1 Read Data"
   ]
  },
  {
   "cell_type": "code",
   "execution_count": null,
   "id": "09a513cd-526e-43f6-8339-1ec1f7d06c8d",
   "metadata": {},
   "outputs": [],
   "source": [
    "df = pd.read_csv('lalonde_data.csv', index_col=0)\n",
    "print(df.shape)\n",
    "df.head()"
   ]
  },
  {
   "cell_type": "markdown",
   "id": "c491c1d6-cdfd-4cfb-b1c3-05e6d24614e3",
   "metadata": {},
   "source": [
    "- __treat__: 1 participated in job training program, 0 otherwise\n",
    "- __age__: measured in years;\n",
    "- __educ__: measured in years;\n",
    "- __black__: indicating race (1 if black, 0 otherwise);\n",
    "- __hispan__: indicating race (1 if Hispanic, 0 otherwise);\n",
    "- __married__: indicating marital status (1 if married, 0 otherwise);\n",
    "- __nodegree__: indicating high school diploma (1 if no degree, 0 otherwise);\n",
    "- __re74__: real earnings in 1974;\n",
    "- __re75__: real earnings in 1975;\n",
    "- __re78__: real earnings in 1978."
   ]
  },
  {
   "cell_type": "code",
   "execution_count": null,
   "id": "c848f432-f0dd-4cbe-bb1a-0be6e71a1250",
   "metadata": {},
   "outputs": [],
   "source": [
    "df.describe()"
   ]
  },
  {
   "cell_type": "markdown",
   "id": "c3729436-dff2-41cd-8db4-41a1d4a33d7a",
   "metadata": {},
   "source": [
    "### 3.2 Data Cleaning"
   ]
  },
  {
   "cell_type": "code",
   "execution_count": null,
   "id": "8f08a94c-8d96-4b73-b180-4644169e199a",
   "metadata": {},
   "outputs": [],
   "source": [
    "print(\"Missing values per column:\\n\", df.isnull().sum())"
   ]
  },
  {
   "cell_type": "markdown",
   "id": "03779b1d-a11a-4241-8319-511d808f96b3",
   "metadata": {},
   "source": [
    "### 3.3 Preprocessing"
   ]
  },
  {
   "cell_type": "code",
   "execution_count": null,
   "id": "2010562e-51ac-44db-bc1a-985634659912",
   "metadata": {},
   "outputs": [],
   "source": [
    "df.dtypes"
   ]
  },
  {
   "cell_type": "markdown",
   "id": "30ff852a-36a3-4a9d-b716-10f97cac96f1",
   "metadata": {},
   "source": [
    "### 3.4 Prepare Train/Test Sets"
   ]
  },
  {
   "cell_type": "code",
   "execution_count": null,
   "id": "7265af77-02f0-4fa5-9226-f7f845b72935",
   "metadata": {},
   "outputs": [],
   "source": [
    "# Define outcome (Y), treatment (T), and covariates (X)\n",
    "Y = df['re78'].values       # outcome variable: earnings in 1978\n",
    "T = df['treat'].values      # treatment indicator\n",
    "# Use remaining columns as covariates\n",
    "X = df.drop(columns=['treat', 're78']).values\n",
    "\n",
    "# Split into training and testing sets\n",
    "from sklearn.model_selection import train_test_split\n",
    "X_train, X_test, Y_train, Y_test, T_train, T_test = train_test_split(\n",
    "    X, Y, T, test_size=0.2, random_state=1234\n",
    ")"
   ]
  },
  {
   "cell_type": "markdown",
   "id": "22ea040e-858d-4d77-bff1-b075c0500fa1",
   "metadata": {
    "jp-MarkdownHeadingCollapsed": true
   },
   "source": [
    "### 3.5 Implement Causal Forest and Tune Parameters"
   ]
  },
  {
   "cell_type": "markdown",
   "id": "cd774738-d338-4aa8-b884-8c6452dfdbd7",
   "metadata": {},
   "source": [
    "#### Define Hyperparameter Grid for Tuning\n",
    "- __n_estimators__: The number of trees in the forest.\n",
    "- __max_depth__: The maximum depth of the tree.\n",
    "- __min_samples_split__: The minimum number of samples required to split an internal node.\n",
    "- __max_features__: The number of features to consider when looking for the best split."
   ]
  },
  {
   "cell_type": "code",
   "execution_count": null,
   "id": "15fa9533-28bf-4c7c-aaf6-b752f260b8aa",
   "metadata": {},
   "outputs": [],
   "source": [
    "param_grid = {\n",
    "    'n_estimators': [300, 500],\n",
    "    'max_depth': [3, 5],\n",
    "    'min_samples_split': [2, 5],\n",
    "    'max_features': ['sqrt', 'log2']\n",
    "}\n",
    "\n",
    "best_model = None\n",
    "best_params = None\n",
    "best_cate_std = np.inf"
   ]
  },
  {
   "cell_type": "markdown",
   "id": "dd82fe97-25c3-4a22-bc6b-a93e546406bc",
   "metadata": {},
   "source": [
    "#### Grid Search"
   ]
  },
  {
   "cell_type": "code",
   "execution_count": null,
   "id": "3de7132d-f272-4517-a568-839c501a8ed7",
   "metadata": {
    "scrolled": true
   },
   "outputs": [],
   "source": [
    "from sklearn.model_selection import ParameterGrid\n",
    "from econml.dml import CausalForestDML\n",
    "# For causal inference, one approach is to choose the hyperparameters that provide stable (low-variance) CATE estimates.\n",
    "# Here, as a demo, we use the standard deviation of the estimated conditional Treatment Effects (TE)\n",
    "# on the test set as a proxy (lower variance can indicate more stable estimates).\n",
    "\n",
    "for params in ParameterGrid(param_grid):\n",
    "    model = CausalForestDML(\n",
    "        model_y='forest',\n",
    "        model_t='forest',\n",
    "        n_estimators=params['n_estimators'],\n",
    "        max_depth=params['max_depth'],\n",
    "        min_samples_split=params['min_samples_split'],\n",
    "        max_features=params['max_features'],\n",
    "        random_state=1234,\n",
    "        verbose=0\n",
    "    )\n",
    "    model.fit(Y_train, T_train, X=X_train)\n",
    "    # Estimate the CATE on the test set\n",
    "    cate_test = model.effect(X_test)\n",
    "    cate_std = np.std(cate_test)\n",
    "    print(f\"Params: {params}, CATE std: {cate_std:.2f}\")\n",
    "    \n",
    "    if cate_std < best_cate_std:\n",
    "        best_cate_std = cate_std\n",
    "        best_params = params\n",
    "        best_model = model\n",
    "\n",
    "print(\"\\nBest Hyperparameters:\", best_params)"
   ]
  },
  {
   "cell_type": "code",
   "execution_count": null,
   "id": "fa5d8511-6e8f-4a49-9e02-1d905fafe94d",
   "metadata": {},
   "outputs": [],
   "source": [
    "from econml.cate_interpreter import SingleTreeCateInterpreter\n",
    "plt.figure(figsize=(8, 6))\n",
    "intrp = SingleTreeCateInterpreter(max_depth=2).interpret(best_model, X_train)\n",
    "intrp.plot(feature_names=df.columns.values[1:-1], fontsize=12)"
   ]
  },
  {
   "cell_type": "markdown",
   "id": "88599d7f-5adc-4d37-aecd-ec642db496f3",
   "metadata": {},
   "source": [
    "### 3.6 Validate the Model"
   ]
  },
  {
   "cell_type": "code",
   "execution_count": null,
   "id": "3457389e-8925-4116-8a3c-00430ba9cdc4",
   "metadata": {},
   "outputs": [],
   "source": [
    "# Estimate the Average Treatment Effect (ATE) and its confidence interval on the test set.\n",
    "ate_point = best_model.ate(X_test)\n",
    "ate_lb, ate_ub = best_model.ate_interval(X_test, alpha=0.05)\n",
    "print(f\"\\nEstimated ATE: {ate_point:.2f}\")\n",
    "print(f\"95% Confidence Interval for ATE: ({ate_lb:.2f}, {ate_ub:.2f})\")\n",
    "\n",
    "# Also, compute CTE for each test observation\n",
    "cte_pred = best_model.effect(X_test)"
   ]
  },
  {
   "cell_type": "markdown",
   "id": "b2ee5c02-9b25-4a8c-8656-da372dc79f3b",
   "metadata": {},
   "source": [
    "### 3.7 Visualization"
   ]
  },
  {
   "cell_type": "code",
   "execution_count": null,
   "id": "2aceaffd-3a85-4590-9069-ed0ea370d90a",
   "metadata": {},
   "outputs": [],
   "source": [
    "# Plot 1: Histogram of Estimated CTE\n",
    "plt.figure(figsize=(8, 5))\n",
    "plt.hist(cate_pred, bins=30, edgecolor='k', alpha=0.7)\n",
    "plt.title(\"Distribution of Estimated Conditional Treatment Effects (CATE)\")\n",
    "plt.xlabel(\"Estimated Treatment Effect\")\n",
    "plt.ylabel(\"Frequency\")\n",
    "plt.grid(True)\n",
    "plt.show()"
   ]
  },
  {
   "cell_type": "code",
   "execution_count": null,
   "id": "daf1679f-ff5f-43ef-9eb8-7bafaeb73f93",
   "metadata": {},
   "outputs": [],
   "source": [
    "# Plot 2: Scatter Plot of CTE vs. a Covariate (e.g., Age)\n",
    "# Assuming the first column in X corresponds to age\n",
    "age_test = X_test[:, 0]\n",
    "plt.figure(figsize=(8, 5))\n",
    "plt.scatter(age_test, cate_pred, alpha=0.6, edgecolor='k')\n",
    "plt.title(\"Estimated Treatment Effect vs. Age\")\n",
    "plt.xlabel(\"Age\")\n",
    "plt.ylabel(\"Estimated Treatment Effect\")\n",
    "plt.grid(True)\n",
    "plt.show()"
   ]
  },
  {
   "cell_type": "code",
   "execution_count": null,
   "id": "0e407f0f-c5ab-4f26-81ab-db1ca74e6cc8",
   "metadata": {},
   "outputs": [],
   "source": [
    "# Plot 3: Visualize the ATE with its Confidence Interval\n",
    "plt.figure(figsize=(6, 4))\n",
    "plt.errorbar(1, ate_point, yerr=[[ate_point - ate_lb], [ate_ub - ate_point]], fmt='o', color='red', capsize=5)\n",
    "plt.xlim(0.5, 1.5)\n",
    "plt.xticks([1], ['ATE'])\n",
    "plt.title(\"Average Treatment Effect with 95% Confidence Interval\")\n",
    "plt.ylabel(\"Treatment Effect\")\n",
    "plt.grid(True)\n",
    "plt.show()"
   ]
  },
  {
   "cell_type": "markdown",
   "id": "dca6ca0a-d5e0-46aa-8cc4-8a60155ce114",
   "metadata": {},
   "source": [
    "## 4. Debugging"
   ]
  },
  {
   "cell_type": "code",
   "execution_count": null,
   "id": "4e060245-ab9a-4705-93e0-14395e0757ef",
   "metadata": {},
   "outputs": [],
   "source": [
    "# Reset the workspace\n",
    "%reset -f"
   ]
  },
  {
   "cell_type": "markdown",
   "id": "3eb2bbcc-2648-4bf6-86b1-44bb55308fa4",
   "metadata": {},
   "source": [
    "### 4.1 Trace Errors"
   ]
  },
  {
   "cell_type": "code",
   "execution_count": null,
   "id": "ff0af3c1-c433-4540-a213-963f4eaee028",
   "metadata": {},
   "outputs": [],
   "source": [
    "# Define two numbers\n",
    "a = 10\n",
    "b = 5\n",
    "\n",
    "# Print the sum\n",
    "print(\"Sum:\", a + b)\n",
    "b = 0\n",
    "\n",
    "# This line will cause a ZeroDivisionError intentionally\n",
    "error_line = a / 0  # Intentional error: division by zero\n",
    "\n",
    "# This line will not execute because of the error above\n",
    "print(\"This line will not be printed.\")"
   ]
  },
  {
   "cell_type": "markdown",
   "id": "a688b231-69f2-4a73-a14a-27d287ef9128",
   "metadata": {},
   "source": [
    "### 4.2 Jupyter Debugger\n",
    "https://blog.jupyter.org/a-visual-debugger-for-jupyter-914e61716559"
   ]
  },
  {
   "cell_type": "code",
   "execution_count": null,
   "id": "a1e1130b-b9ca-4f51-9277-46c16bfc0baf",
   "metadata": {},
   "outputs": [],
   "source": [
    "pets = ['Cat', 'Dog', 'Cat', 'Dog', 'Cat']\n",
    "pet_names = ['Whiskers', 'Buddy', 'Mittens', 'Rex', 'Shadow']\n",
    "owner_emails = [\n",
    "    'alice@example.com',\n",
    "    'bob@example.com',\n",
    "    'carol@example.com',\n",
    "    'dave@example.com',\n",
    "    'eve@example.com'\n",
    "]\n",
    "visited_last_month = [1, 0, 1, 1, 0]  # 1 = Yes, 0 = No"
   ]
  },
  {
   "cell_type": "code",
   "execution_count": null,
   "id": "26ba5b71-bfe4-4df5-acf9-c72df6ccd3f7",
   "metadata": {},
   "outputs": [],
   "source": [
    "reminder = {}\n",
    "for pet, name, email, visit in zip(pets, pet_names, owner_emails, visited_last_month):\n",
    "    if visit == 0:\n",
    "        reminder[name] = {'Type': pet, 'Email': email}"
   ]
  },
  {
   "cell_type": "markdown",
   "id": "d319d247-78a4-437f-a4a3-7dc0cfd06f39",
   "metadata": {},
   "source": [
    "### 4.3 try-except"
   ]
  },
  {
   "cell_type": "code",
   "execution_count": null,
   "id": "6447b250-131c-42c0-b1f4-3d355d976d51",
   "metadata": {},
   "outputs": [],
   "source": [
    "try:\n",
    "    # Attempt to divide by zero, which will raise an exception.\n",
    "    result = 10 / 0\n",
    "    print(\"Result:\", result)\n",
    "except ZeroDivisionError as e:\n",
    "    # This block executes if a ZeroDivisionError is raised.\n",
    "    print(\"Caught an error:\", e)\n",
    "else:\n",
    "    # This block executes if no exception is raised.\n",
    "    print(\"Division was successful!\")\n",
    "finally:\n",
    "    # This block always executes, regardless of whether an exception was raised.\n",
    "    print(\"Execution of the try-except block is complete.\")"
   ]
  },
  {
   "cell_type": "markdown",
   "id": "1534874d-f2c5-453f-94dc-75168cfafc03",
   "metadata": {},
   "source": [
    "### 4.4 Unit Testing"
   ]
  },
  {
   "cell_type": "code",
   "execution_count": null,
   "id": "d828dd01-083b-48fc-b07f-508bdf4263d6",
   "metadata": {},
   "outputs": [],
   "source": [
    "import unittest\n",
    "\n",
    "# Define the function to be tested\n",
    "def add_numbers(a, b):\n",
    "    \"\"\"Return the sum of two numbers.\"\"\"\n",
    "    return a + b\n",
    "\n",
    "# Define a TestCase class with test methods\n",
    "class TestAddNumbers(unittest.TestCase):\n",
    "    \n",
    "    def test_add_positive(self):\n",
    "        # Test with positive numbers\n",
    "        self.assertEqual(add_numbers(2, 3), 5)\n",
    "    \n",
    "    def test_add_negative(self):\n",
    "        # Test with negative numbers\n",
    "        self.assertEqual(add_numbers(-1, -1), -2)\n",
    "    \n",
    "    def test_add_mixed(self):\n",
    "        # Test with a mix of positive and negative numbers\n",
    "        self.assertEqual(add_numbers(-1, 5), 4)\n",
    "\n",
    "# Run the tests\n",
    "unittest.main(argv=[''], exit=False)"
   ]
  }
 ],
 "metadata": {
  "kernelspec": {
   "display_name": "Python 3 (ipykernel)",
   "language": "python",
   "name": "python3"
  },
  "language_info": {
   "codemirror_mode": {
    "name": "ipython",
    "version": 3
   },
   "file_extension": ".py",
   "mimetype": "text/x-python",
   "name": "python",
   "nbconvert_exporter": "python",
   "pygments_lexer": "ipython3",
   "version": "3.12.9"
  }
 },
 "nbformat": 4,
 "nbformat_minor": 5
}
