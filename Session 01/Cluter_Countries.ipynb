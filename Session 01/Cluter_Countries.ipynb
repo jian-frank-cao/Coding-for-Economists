{
 "cells": [
  {
   "cell_type": "markdown",
   "id": "4267e792-2b85-48a7-b769-ef4fbb458dfa",
   "metadata": {},
   "source": [
    "# Cluster Countries"
   ]
  },
  {
   "cell_type": "markdown",
   "id": "9971c655-022c-4ccc-b403-f62ae192c737",
   "metadata": {},
   "source": [
    "## 1. Setup Environment"
   ]
  },
  {
   "cell_type": "code",
   "execution_count": null,
   "id": "3afaa69c-16d9-48ed-9083-85b78ae657c1",
   "metadata": {},
   "outputs": [],
   "source": [
    "# use %conda to install modules in current environment\n",
    "%conda install pandas numpy scikit-learn plotly pandas-datareader -y\n",
    "\n",
    "# import modules\n",
    "import pandas as pd\n",
    "import numpy as np\n",
    "from pandas_datareader import wb\n",
    "from sklearn.preprocessing import StandardScaler\n",
    "from sklearn.cluster import KMeans\n",
    "import plotly.express as px\n",
    "import warnings"
   ]
  },
  {
   "cell_type": "markdown",
   "id": "6cb41020-e067-4759-b186-0246ff1a6df3",
   "metadata": {},
   "source": [
    "<div class=\"alert alert-block alert-info\">\n",
    "<b>Reminder:</b> Restart the kernel after installing any modules.\n",
    "</div>"
   ]
  },
  {
   "cell_type": "markdown",
   "id": "117e3e85-05e3-4680-9581-9d67a74b7f3a",
   "metadata": {},
   "source": [
    "## 2. Collect and Clean Data"
   ]
  },
  {
   "cell_type": "code",
   "execution_count": null,
   "id": "ffcf3e92-d57e-47b7-bea7-4d9990799169",
   "metadata": {},
   "outputs": [],
   "source": [
    "# Define the indicators you need\n",
    "indicators = {\n",
    "    'NY.GDP.PCAP.CD': 'GDP_per_capita',\n",
    "    'SL.UEM.TOTL.ZS': 'Unemployment_rate',\n",
    "    'FP.CPI.TOTL.ZG': 'Inflation_rate',\n",
    "    'SE.ADT.LITR.ZS': 'Literacy_rate',  # Proxy for Education index\n",
    "    'SH.XPD.CHEX.GD.ZS': 'Healthcare_expenditure'\n",
    "}\n",
    "\n",
    "# Fetch data for all countries from Wrold Bank API\n",
    "with warnings.catch_warnings():\n",
    "    warnings.simplefilter(\"ignore\", FutureWarning)\n",
    "    data = wb.download(indicator=indicators, \n",
    "                       country='all', \n",
    "                       start=2020, \n",
    "                       end=2020).reset_index()\n",
    "\n",
    "# Rename the columns\n",
    "data_pivot = data.drop(['year'], axis = 1)\n",
    "data_pivot.rename(columns=indicators, inplace=True)\n",
    "data_pivot.rename(columns={'country': 'Country'}, inplace=True)\n",
    "\n",
    "# Impute missing values using apply\n",
    "data_cleaned = data_pivot.copy()\n",
    "\n",
    "numeric_columns = data_cleaned.select_dtypes(include=[np.number]).columns\n",
    "\n",
    "# Function to replace NaN with column mean\n",
    "data_cleaned[numeric_columns] = data_cleaned[numeric_columns].apply(\n",
    "    lambda x: x.fillna(x.mean())\n",
    ")\n",
    "\n",
    "# Save to CSV for later use\n",
    "data_cleaned.to_csv('economic_indicators.csv', index=False)"
   ]
  },
  {
   "cell_type": "markdown",
   "id": "b69992b0-7e40-4bee-9ba2-445195070a57",
   "metadata": {},
   "source": [
    "## 3. Cluster Countries using K-means"
   ]
  },
  {
   "cell_type": "code",
   "execution_count": null,
   "id": "5eca97b4-76e5-4e8c-a358-7c423611f23a",
   "metadata": {},
   "outputs": [],
   "source": [
    "# Load the dataset\n",
    "data = pd.read_csv('economic_indicators.csv')\n",
    "\n",
    "# Select and rename relevant features\n",
    "features = data[['GDP_per_capita', 'Unemployment_rate', 'Inflation_rate', 'Literacy_rate', 'Healthcare_expenditure']]\n",
    "\n",
    "# Standardize the features\n",
    "scaler = StandardScaler()\n",
    "scaled_features = scaler.fit_transform(features)\n",
    "\n",
    "# Apply K-Means clustering\n",
    "kmeans = KMeans(n_clusters=5, random_state=42)\n",
    "clusters = kmeans.fit_predict(scaled_features)\n",
    "data['Cluster'] = clusters"
   ]
  },
  {
   "cell_type": "markdown",
   "id": "5ecaebb2-96cf-4453-be52-ee1aee57fe6b",
   "metadata": {},
   "source": [
    "## 4. Show Clusters in a World Map"
   ]
  },
  {
   "cell_type": "code",
   "execution_count": null,
   "id": "9b0fceff-b7b9-4660-ba20-68c7dce7cd73",
   "metadata": {},
   "outputs": [],
   "source": [
    "# Define a list of five distinct colors\n",
    "cluster_colors = ['#ee4035', '#f37736', '#fdf498', '#7bc043', '#0392cf']  # Example colors\n",
    "\n",
    "# Create a discrete colorscale\n",
    "discrete_colorscale = []\n",
    "for i, color in enumerate(cluster_colors):\n",
    "    discrete_colorscale.append([i/5, color])\n",
    "    discrete_colorscale.append([(i+1)/5, color])\n",
    "\n",
    "fig = px.choropleth(\n",
    "    data_frame=data,\n",
    "    locations='Country',\n",
    "    locationmode='country names',\n",
    "    color='Cluster',\n",
    "    hover_name='Country',\n",
    "    hover_data=['GDP_per_capita', 'Unemployment_rate', 'Inflation_rate', 'Literacy_rate', 'Healthcare_expenditure'],\n",
    "    color_continuous_scale=discrete_colorscale,\n",
    "    range_color=(-0.5, 4.5),\n",
    "    title='Economic Clusters of Countries'\n",
    ")\n",
    "\n",
    "fig.update_layout(\n",
    "    width=1000, \n",
    "    height=700,\n",
    "    margin=dict(l=50, r=50, t=50, b=50),\n",
    "    geo=dict(\n",
    "        projection=dict(type='natural earth'),\n",
    "        showframe=False,\n",
    "        showcoastlines=False,\n",
    "        fitbounds='locations'\n",
    "    )\n",
    ")\n",
    "\n",
    "fig.show()"
   ]
  }
 ],
 "metadata": {
  "kernelspec": {
   "display_name": "Python 3 (ipykernel)",
   "language": "python",
   "name": "python3"
  },
  "language_info": {
   "codemirror_mode": {
    "name": "ipython",
    "version": 3
   },
   "file_extension": ".py",
   "mimetype": "text/x-python",
   "name": "python",
   "nbconvert_exporter": "python",
   "pygments_lexer": "ipython3",
   "version": "3.12.8"
  }
 },
 "nbformat": 4,
 "nbformat_minor": 5
}
