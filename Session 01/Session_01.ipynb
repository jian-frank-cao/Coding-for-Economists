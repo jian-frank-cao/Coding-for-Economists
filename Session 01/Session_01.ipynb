{
 "cells": [
  {
   "cell_type": "markdown",
   "id": "057bb604-0cf0-4e18-a164-13e999b0db34",
   "metadata": {},
   "source": [
    "# Coding for Economists - Session 01"
   ]
  },
  {
   "cell_type": "markdown",
   "id": "dcaae376-3fda-48a1-af1b-d9e9540a6cd1",
   "metadata": {},
   "source": [
    "***"
   ]
  },
  {
   "cell_type": "markdown",
   "id": "24f74ca2-7e3f-4532-876e-3a6625de44d3",
   "metadata": {},
   "source": [
    "## 1. Jupyter Commands"
   ]
  },
  {
   "cell_type": "markdown",
   "id": "4e75f8c4-ceb8-42b2-90f8-aeb32f8cb747",
   "metadata": {},
   "source": [
    "- **Add a cell above** `a`\n",
    "- **Add a cell below** `b`\n",
    "- **Delete cell** `d`, `d`\n",
    "- **Change to markdown cell type** `m`\n",
    "- **Execute cell** `shift`+`return`\n",
    "- Copy cell `c`\n",
    "- Cut cell `x`\n",
    "- Paste cell `v`"
   ]
  },
  {
   "cell_type": "markdown",
   "id": "02134c60-029a-44f5-a614-d5c986057307",
   "metadata": {},
   "source": [
    "***"
   ]
  },
  {
   "cell_type": "markdown",
   "id": "fa0d15ed-4c4b-461d-8e45-1fe35520788b",
   "metadata": {},
   "source": [
    "## 2. Markdown Formatting"
   ]
  },
  {
   "cell_type": "markdown",
   "id": "4bbbd1ba-5e83-48b0-afbd-2bb0e32ed81c",
   "metadata": {},
   "source": [
    "#### Headings\n",
    "Use the number sign (#) followed by a blank space for notebook titles and section headings:  <br>\n",
    "`#` for titles  <br>\n",
    "`##` for major headings  <br>\n",
    "`###` for subheadings  <br>\n",
    "`####` for 4th level subheadings  <br>\n",
    "\n",
    "#### Bullets\n",
    "Use a hyphen (-) followed by one or two spaces to create bullets: <br>\n",
    "- Item 1\n",
    "- Item 2\n",
    "    - Item 3\n",
    "\n",
    "#### Numbered Lists\n",
    "Enter `1.` followed by a space to create numbered lists: <br>\n",
    "1. Item 1\n",
    "1. Item 2\n",
    "    1. Item 3\n",
    "\n",
    "#### Indenting\n",
    "Use the greater than sign (>) followed by a space: <br>\n",
    "> Single indentation\n",
    ">> Double indentation\n",
    "\n",
    "#### Horizontal Line\n",
    "Use `***` to draw a line and separate the sections\n",
    "\n",
    "#### Emphasis\n",
    "\n",
    "Use the following code to emphasize text: <br>\n",
    "__Bold__ text: `__string__` or `**string**` <br>\n",
    "_Italic_ text: `_string_` or `*string*` <br>\n",
    "<span style=\"color: red;\">Colored</span> text: `<span style=\"color: red;\">string</span>` <br>\n",
    "`Monospace` font: `` `string` `` <br>\n",
    "Mathematical $\\sum$ Symbols : `$symbol$`"
   ]
  },
  {
   "cell_type": "markdown",
   "id": "92250a97-80ea-4d8b-8a3a-c56d7f898a4c",
   "metadata": {},
   "source": [
    "***"
   ]
  },
  {
   "cell_type": "markdown",
   "id": "17d75041-b852-42d4-8937-9b62d661855d",
   "metadata": {},
   "source": [
    "## 3. Python Syntax"
   ]
  },
  {
   "cell_type": "markdown",
   "id": "29c2a499-f10d-43fb-b54a-3081da202ee8",
   "metadata": {
    "jp-MarkdownHeadingCollapsed": true
   },
   "source": [
    "### Data Types\n",
    "\n",
    "- __Integers__: `-1,0,1,2,3,4,5`\n",
    "- __Floating-point numbers__: `-1.0, -0.5, 0, 0.25, 0.75, 1.5`\n",
    "- __Strings__: `'a', 'b', 'abc', 'Hellow, world!'`"
   ]
  },
  {
   "cell_type": "markdown",
   "id": "413aa33f-ebcb-418f-83f0-37f47eb15ad4",
   "metadata": {},
   "source": [
    "### Math Operators\n",
    "\n",
    "- __Addition__: `1+2=3`\n",
    "- __Subtraction__: `5-3=2`\n",
    "- __Multiplication__: `2*3=6`\n",
    "- __Division__: `8/2=4`\n",
    "- __Integer division__: `20//7=2`\n",
    "- __Remainder__: `20%7=6`\n",
    "- __Exponent__: `2**3=8`"
   ]
  },
  {
   "cell_type": "code",
   "execution_count": null,
   "id": "8609dee5-8a64-4285-a63c-354d4733efe9",
   "metadata": {},
   "outputs": [],
   "source": [
    "20//7"
   ]
  },
  {
   "cell_type": "code",
   "execution_count": null,
   "id": "36392453-37ba-4e53-b777-8bd62fa93ab2",
   "metadata": {},
   "outputs": [],
   "source": [
    "20%7"
   ]
  },
  {
   "cell_type": "code",
   "execution_count": null,
   "id": "c216ecad-6ac4-4915-a082-2d2e88653443",
   "metadata": {},
   "outputs": [],
   "source": [
    "2**3"
   ]
  },
  {
   "cell_type": "markdown",
   "id": "7b51ea71-8594-44b4-9c01-9e848adfa45f",
   "metadata": {},
   "source": [
    "### Assign a Variable\n",
    "- `var1 = 1234`\n",
    "- `var_2 = 'Hello, world!'`"
   ]
  },
  {
   "cell_type": "code",
   "execution_count": null,
   "id": "6057c210-b587-4647-8cfa-133c4c362b91",
   "metadata": {},
   "outputs": [],
   "source": [
    "my var = 1234"
   ]
  },
  {
   "cell_type": "code",
   "execution_count": null,
   "id": "438a3b64-1495-477b-aa18-7b22133bb3a7",
   "metadata": {},
   "outputs": [],
   "source": [
    "123var = 1234"
   ]
  },
  {
   "attachments": {},
   "cell_type": "markdown",
   "id": "5f396d50-51a4-4949-82c0-2288170aaba1",
   "metadata": {},
   "source": [
    "Use any math operator before `=`:\n",
    "- `var += 1` is equivalent to `var = var + 1`\n",
    "- `var /= 1` is equivalent to `var = var/1`"
   ]
  },
  {
   "cell_type": "markdown",
   "id": "1903d164-84a1-463f-8b88-b99f35b13d55",
   "metadata": {},
   "source": [
    "### String Manipulation\n",
    "- __Indexing__:"
   ]
  },
  {
   "cell_type": "code",
   "execution_count": null,
   "id": "75beaab8-c6dc-434a-abc5-4486c972fb2b",
   "metadata": {},
   "outputs": [],
   "source": [
    "var = 'Hello, world!'\n",
    "var[0]"
   ]
  },
  {
   "cell_type": "code",
   "execution_count": null,
   "id": "baa5b159-8991-4708-bca5-3b565fb77e29",
   "metadata": {},
   "outputs": [],
   "source": [
    "var[-1]"
   ]
  },
  {
   "cell_type": "markdown",
   "id": "eb5ddc5e-fb26-4dd4-bb98-c271901b3d13",
   "metadata": {},
   "source": [
    "- __Slicing__:"
   ]
  },
  {
   "cell_type": "code",
   "execution_count": null,
   "id": "85d2d0b1-fc58-446a-b5a9-7b419f2a6e97",
   "metadata": {},
   "outputs": [],
   "source": [
    "var[0:5]"
   ]
  },
  {
   "cell_type": "code",
   "execution_count": null,
   "id": "f9a9f18f-06e8-46c4-9669-6aaf6c094c47",
   "metadata": {},
   "outputs": [],
   "source": [
    "var[:5]"
   ]
  },
  {
   "cell_type": "code",
   "execution_count": null,
   "id": "c86c95b1-2fd0-4e6d-9da7-b5a4da3eba3e",
   "metadata": {},
   "outputs": [],
   "source": [
    "var[:-1]"
   ]
  },
  {
   "cell_type": "markdown",
   "id": "211caf1a-dd30-4efb-ae1d-e9186c6a38ad",
   "metadata": {},
   "source": [
    "- __Concat and Replicate__:"
   ]
  },
  {
   "cell_type": "code",
   "execution_count": null,
   "id": "1fb835db-d4f3-4f45-9967-1bc8b410397c",
   "metadata": {},
   "outputs": [],
   "source": [
    "'Hello'+ ' ' + 'World' + '!'"
   ]
  },
  {
   "cell_type": "code",
   "execution_count": null,
   "id": "8564960d-fd91-4b93-aa6e-be531524efe0",
   "metadata": {},
   "outputs": [],
   "source": [
    "'Hello'*3"
   ]
  },
  {
   "cell_type": "markdown",
   "id": "c1ff8f94-2028-4389-8b24-d6602f462132",
   "metadata": {},
   "source": [
    "- `in` __and__ `not in`:"
   ]
  },
  {
   "cell_type": "code",
   "execution_count": null,
   "id": "07dfa9fc-5481-4c45-9359-e0a0ec108cec",
   "metadata": {},
   "outputs": [],
   "source": [
    "'Hello' in 'Hello World'"
   ]
  },
  {
   "cell_type": "code",
   "execution_count": null,
   "id": "10dae594-de79-4f84-a6b0-f7650c884e58",
   "metadata": {},
   "outputs": [],
   "source": [
    "'HELLO' not in 'Hello World'"
   ]
  },
  {
   "cell_type": "markdown",
   "id": "8a42ded0-1a47-43ec-b1dc-34a0301ca437",
   "metadata": {},
   "source": [
    "- `upper()` __and__ `lower()`:"
   ]
  },
  {
   "cell_type": "code",
   "execution_count": null,
   "id": "6e165921-86d4-45ff-b11d-543c76f8a5f7",
   "metadata": {},
   "outputs": [],
   "source": [
    "var.upper()"
   ]
  },
  {
   "cell_type": "markdown",
   "id": "c41d0846-93c5-4d1d-80d1-7c936aae82c1",
   "metadata": {},
   "source": [
    "- `join()` __and__ `split()`:"
   ]
  },
  {
   "cell_type": "code",
   "execution_count": null,
   "id": "ea2948e2-e2f7-4f4c-9728-8ba8538bdf7a",
   "metadata": {},
   "outputs": [],
   "source": [
    "' '.join(['Hello', 'world!'])"
   ]
  },
  {
   "cell_type": "code",
   "execution_count": null,
   "id": "4cfc1b10-d088-4c1c-9c38-e5d20c4b034e",
   "metadata": {},
   "outputs": [],
   "source": [
    "'Hellow world!'.split()"
   ]
  },
  {
   "cell_type": "markdown",
   "id": "b680306a-7d28-4cd4-b1c9-48c98adc9e8b",
   "metadata": {},
   "source": [
    "- `replace()`:"
   ]
  },
  {
   "cell_type": "code",
   "execution_count": null,
   "id": "9f3b6b7b-bf51-4f33-ad9c-23e5c4ea44ce",
   "metadata": {},
   "outputs": [],
   "source": [
    "var.replace('world', 'TCD')"
   ]
  },
  {
   "cell_type": "code",
   "execution_count": null,
   "id": "88f9f4df-08da-42bc-a4e3-589cc06c1301",
   "metadata": {},
   "outputs": [],
   "source": [
    "var"
   ]
  },
  {
   "cell_type": "markdown",
   "id": "d7489725-953d-42d3-9aea-437cebc19e8e",
   "metadata": {},
   "source": [
    "### Control Flow and Indentation\n",
    "<span style=\"color: red;\">__Python uses indentation to distinguish code blocks. Ensure that the indentation is correct.__</span>\n",
    "- `if` `else` `elif` __Statements__: <br>"
   ]
  },
  {
   "cell_type": "code",
   "execution_count": null,
   "id": "9055deaf-a033-474e-bb5a-b0dc04fa2dc5",
   "metadata": {},
   "outputs": [],
   "source": [
    "name = 'Tommy'\n",
    "if name == 'Lisa':\n",
    "    print('Hi, Lisa!')\n",
    "elif name == 'Tommy':\n",
    "    print('Hi, Tommy!')\n",
    "else:\n",
    "    print('Who are you?')"
   ]
  },
  {
   "cell_type": "markdown",
   "id": "d693c6d0-4872-4f7b-87e3-03e3b9f5889c",
   "metadata": {},
   "source": [
    "- __Switch-Case Statement__:"
   ]
  },
  {
   "cell_type": "code",
   "execution_count": null,
   "id": "73d9e67d-e344-44eb-a662-60b1aa4e47ec",
   "metadata": {},
   "outputs": [],
   "source": [
    "response = 200\n",
    "match response:\n",
    "    case 200 | 201:\n",
    "        print('OK')\n",
    "    case 300 | 307:\n",
    "        print('Redirect')\n",
    "    case 400 | 401:\n",
    "        print('Bad Request')\n",
    "    case 500 | 502:\n",
    "        print('Internal Server Error')\n",
    "    case _:\n",
    "        print('Invalid Code')"
   ]
  },
  {
   "cell_type": "markdown",
   "id": "250cf550-a75b-4f88-beaa-a9782f2d01b0",
   "metadata": {},
   "source": [
    "- `for` __loop__:"
   ]
  },
  {
   "cell_type": "code",
   "execution_count": null,
   "id": "1fc3f6a9-336a-4d71-a81f-f5bc86809e75",
   "metadata": {},
   "outputs": [],
   "source": [
    "for i in range(10):\n",
    "    if i%2 == 0:\n",
    "        print(i)"
   ]
  },
  {
   "cell_type": "markdown",
   "id": "c7a43327-28db-4ba8-9196-6e9beb180b29",
   "metadata": {},
   "source": [
    "- `while` __loop__:"
   ]
  },
  {
   "cell_type": "code",
   "execution_count": null,
   "id": "337f09a1-a518-4f1d-9aa5-5df94bdccde2",
   "metadata": {},
   "outputs": [],
   "source": [
    "count = 1\n",
    "while count <= 5:\n",
    "    print(count)\n",
    "    count += 1"
   ]
  },
  {
   "cell_type": "markdown",
   "id": "ae7e75e3-333c-4d1e-a243-6158f6f503b9",
   "metadata": {},
   "source": [
    "- `break` __Statement__:"
   ]
  },
  {
   "cell_type": "code",
   "execution_count": null,
   "id": "0f477eb2-73ed-418c-8967-8887f773a4e9",
   "metadata": {},
   "outputs": [],
   "source": [
    "while True:\n",
    "    answer = input('1+1 =')\n",
    "    if answer == '2':\n",
    "        print('Correct!')\n",
    "        break\n",
    "    else:\n",
    "        print('Try again')"
   ]
  },
  {
   "cell_type": "markdown",
   "id": "2b7dabca-30d2-4bbc-8815-a2fc9c89841a",
   "metadata": {},
   "source": [
    "- `continue` __Statement__:"
   ]
  },
  {
   "cell_type": "code",
   "execution_count": null,
   "id": "ac4475cd-05b1-4356-bffe-d383b836c17e",
   "metadata": {},
   "outputs": [],
   "source": [
    "while True:\n",
    "    name = input('Who are you? ')\n",
    "    if name != 'jian':\n",
    "        continue\n",
    "    password = input('Password? (favorate sport):')\n",
    "    if password == 'football':\n",
    "        print('Access granted.')\n",
    "        break"
   ]
  },
  {
   "cell_type": "markdown",
   "id": "6bdd9a25-2963-4531-a693-02d23dfca737",
   "metadata": {},
   "source": [
    "### Data Structures\n",
    "\n",
    "A. __Lists__: `['rabbit', 'fish', 'cat', 'dog']` <br>\n",
    "B. __Tuples__: `('rabbit', 'fish', 'cat', 'dog')`<br>\n",
    "C. __Dictionaries__: `{'type': 'cat', 'color': 'orange', 'age': '6 months'}`<br>\n",
    "D. __Sets__: `{'rabbit', 'fish', 'cat', 'dog'}`"
   ]
  },
  {
   "cell_type": "markdown",
   "id": "56a4ede2-fef0-4cfd-b8cb-45678b1fa454",
   "metadata": {},
   "source": [
    "#### __A. Lists__ (<span style=\"color: green;\">ordered</span>, <span style=\"color: blue;\">mutable</span>, most commonly used)"
   ]
  },
  {
   "cell_type": "markdown",
   "id": "d41ee594-ff0d-40b5-8087-eb5d85561d51",
   "metadata": {},
   "source": [
    "- __Indexing and Slicing__:"
   ]
  },
  {
   "cell_type": "code",
   "execution_count": null,
   "id": "476b0251-03d1-4f28-ae14-669f3243b40e",
   "metadata": {},
   "outputs": [],
   "source": [
    "pets = ['rabbit', 'fish', 'cat', 'dog']\n",
    "pets[2]"
   ]
  },
  {
   "cell_type": "code",
   "execution_count": null,
   "id": "a4dd5b96-38e5-43d0-8dee-0de7129974b3",
   "metadata": {},
   "outputs": [],
   "source": [
    "pets = ['rabbit', 'fish', 'cat', 'dog']\n",
    "pets[1:3]"
   ]
  },
  {
   "cell_type": "markdown",
   "id": "43eadccf-82ee-4fda-a23e-05adda0a42a8",
   "metadata": {},
   "source": [
    "- __Change Values__:"
   ]
  },
  {
   "cell_type": "code",
   "execution_count": null,
   "id": "7785b411-e7ce-4c40-8b31-e56aa2acaa3a",
   "metadata": {},
   "outputs": [],
   "source": [
    "pets = ['rabbit', 'fish', 'cat', 'dog']\n",
    "pets[1] = 'bird'\n",
    "pets"
   ]
  },
  {
   "cell_type": "markdown",
   "id": "4c02ad6d-e3e7-46c2-89a0-1962941d2006",
   "metadata": {},
   "source": [
    "- __Concat and Replicate__:"
   ]
  },
  {
   "cell_type": "code",
   "execution_count": null,
   "id": "ac004af4-1b9f-43d6-b0a4-7ea02b92ea07",
   "metadata": {},
   "outputs": [],
   "source": [
    "[1,2,3,4] + ['rabbit', 'fish', 'cat', 'dog']"
   ]
  },
  {
   "cell_type": "code",
   "execution_count": null,
   "id": "58aadadf-451c-45f3-931e-b9e0f28b327d",
   "metadata": {},
   "outputs": [],
   "source": [
    "[1,2,3,4]*3"
   ]
  },
  {
   "cell_type": "markdown",
   "id": "c1ab588d-ed52-4bb1-8990-0ee99bd330bf",
   "metadata": {},
   "source": [
    "- __Use Lists in for Loops__:"
   ]
  },
  {
   "cell_type": "code",
   "execution_count": null,
   "id": "c832030f-68f7-4cdc-9bd1-a08e855e02a8",
   "metadata": {},
   "outputs": [],
   "source": [
    "for pet in ['rabbit', 'fish', 'cat', 'dog']:\n",
    "    print(pet)"
   ]
  },
  {
   "cell_type": "code",
   "execution_count": null,
   "id": "db16940b-3958-4b82-9936-d30e573bf040",
   "metadata": {},
   "outputs": [],
   "source": [
    "pets = ['rabbit', 'fish', 'cat', 'dog']\n",
    "for index, item in enumerate(pets):\n",
    "    print(f'index: {index} - item: {item}')"
   ]
  },
  {
   "cell_type": "markdown",
   "id": "43fb3257-0ffc-49f7-b919-23c529bf95aa",
   "metadata": {},
   "source": [
    "- `in` __and__ `not in`:"
   ]
  },
  {
   "cell_type": "code",
   "execution_count": null,
   "id": "0a590bda-970a-4f36-badd-1fd4244d8d1e",
   "metadata": {},
   "outputs": [],
   "source": [
    "'cat' in ['rabbit', 'fish', 'cat', 'dog']"
   ]
  },
  {
   "cell_type": "code",
   "execution_count": null,
   "id": "3084d03c-5e50-47d2-985d-c10eb6b2788f",
   "metadata": {},
   "outputs": [],
   "source": [
    "'snake' not in ['rabbit', 'fish', 'cat', 'dog']"
   ]
  },
  {
   "cell_type": "markdown",
   "id": "bef345dd-9fde-477a-b3b9-fcaaddebbe7c",
   "metadata": {},
   "source": [
    "- `.index()` __Method__:"
   ]
  },
  {
   "cell_type": "code",
   "execution_count": null,
   "id": "818a9315-2e9d-478f-8536-f12ef0a6ce35",
   "metadata": {},
   "outputs": [],
   "source": [
    "pets = ['rabbit', 'fish', 'cat', 'dog']\n",
    "pets.index('cat')"
   ]
  },
  {
   "cell_type": "markdown",
   "id": "1b472b1f-323b-4684-ad4d-76dfaf831dfe",
   "metadata": {},
   "source": [
    "- `.append()` __Method__:"
   ]
  },
  {
   "cell_type": "code",
   "execution_count": null,
   "id": "8f57b3fe-5fb2-449e-bd4f-f9b13fc34bcc",
   "metadata": {},
   "outputs": [],
   "source": [
    "pets = ['rabbit', 'fish', 'cat', 'dog']\n",
    "pets.append('hamster')\n",
    "pets"
   ]
  },
  {
   "cell_type": "markdown",
   "id": "498e5053-0712-4408-a439-6e341acc6cd8",
   "metadata": {},
   "source": [
    "- `.insert()` __Method__:"
   ]
  },
  {
   "cell_type": "code",
   "execution_count": null,
   "id": "6fcf7428-f024-4015-ba1d-13eaae92038c",
   "metadata": {},
   "outputs": [],
   "source": [
    "pets = ['rabbit', 'fish', 'cat', 'dog']\n",
    "pets.insert(3, 'turtle')\n",
    "pets"
   ]
  },
  {
   "cell_type": "markdown",
   "id": "bfff1971-59d5-4541-82ae-78c979d782f0",
   "metadata": {},
   "source": [
    "- `.remove()` __Method__:"
   ]
  },
  {
   "cell_type": "code",
   "execution_count": null,
   "id": "7bf03ff3-0433-4c7b-913d-4a644177a374",
   "metadata": {},
   "outputs": [],
   "source": [
    "pets = ['rabbit', 'fish', 'cat', 'dog']\n",
    "pets.remove('fish')\n",
    "pets"
   ]
  },
  {
   "cell_type": "markdown",
   "id": "09116452-80d0-4cf1-a733-6b1cac0ae321",
   "metadata": {},
   "source": [
    "- `.pop()` __Method__:"
   ]
  },
  {
   "cell_type": "code",
   "execution_count": null,
   "id": "b17526a1-68ea-43ab-9bcf-637cfb688198",
   "metadata": {},
   "outputs": [],
   "source": [
    "pets = ['rabbit', 'fish', 'cat', 'dog']\n",
    "pets.pop(0)"
   ]
  },
  {
   "cell_type": "code",
   "execution_count": null,
   "id": "4189a600-0e5d-464a-bcee-6a0b9c31255c",
   "metadata": {},
   "outputs": [],
   "source": [
    "pets"
   ]
  },
  {
   "cell_type": "markdown",
   "id": "d26ae352-bbc5-4d0b-ad28-21b7014c6c95",
   "metadata": {},
   "source": [
    "- `.sort()` __Method__:"
   ]
  },
  {
   "cell_type": "code",
   "execution_count": null,
   "id": "89120afe-446e-4a79-9451-334fcf53cbe2",
   "metadata": {},
   "outputs": [],
   "source": [
    "pets = ['rabbit', 'fish', 'cat', 'dog']\n",
    "pets.sort()\n",
    "pets"
   ]
  },
  {
   "cell_type": "markdown",
   "id": "2f2608d0-a9e0-4dc1-b06c-699c56a42a7d",
   "metadata": {
    "jp-MarkdownHeadingCollapsed": true
   },
   "source": [
    "#### __B. Tuples__ (<span style=\"color: green;\">ordered</span>, <span style=\"color: red;\">immutable</span>)"
   ]
  },
  {
   "cell_type": "code",
   "execution_count": null,
   "id": "eef6f7d0-1969-49d7-acd8-7b6fbeda0c9a",
   "metadata": {},
   "outputs": [],
   "source": [
    "pets_tuple = ('rabbit', 'fish', 'cat', 'dog')\n",
    "pets_tuple"
   ]
  },
  {
   "cell_type": "code",
   "execution_count": null,
   "id": "8fb33eb6-b6e3-48f3-9037-ed238f1ed441",
   "metadata": {},
   "outputs": [],
   "source": [
    "pets_tuple[1] = 'bird'"
   ]
  },
  {
   "cell_type": "markdown",
   "id": "34ca3f1f-bf13-4a9d-997e-883f1ff37c95",
   "metadata": {
    "jp-MarkdownHeadingCollapsed": true
   },
   "source": [
    "#### __C. Dictionaries__ (<span style=\"color: orange;\">unordered</span>, <span style=\"color: blue;\">mutable</span>, ideal for relationships)"
   ]
  },
  {
   "cell_type": "markdown",
   "id": "1c2e6b6b-aefe-41d5-a6f1-b64fccc39320",
   "metadata": {},
   "source": [
    "- __Add/Change Items__:"
   ]
  },
  {
   "cell_type": "code",
   "execution_count": null,
   "id": "e2856af8-29d6-4d2f-82cd-0445f6d3984a",
   "metadata": {},
   "outputs": [],
   "source": [
    "pet = {\n",
    "    'name': 'NAME',\n",
    "    'type': 'cat',\n",
    "    'color': 'orange',\n",
    "    'age': '6 months'\n",
    "}\n",
    "pet['name'] = 'coco'\n",
    "pet['appetite'] = 'good'\n",
    "pet"
   ]
  },
  {
   "cell_type": "markdown",
   "id": "e799d75c-bed1-4c79-946e-30f22b3513d4",
   "metadata": {},
   "source": [
    "- __Get Value__:"
   ]
  },
  {
   "cell_type": "code",
   "execution_count": null,
   "id": "8df519b1-565e-40f5-a729-5887a1f3814e",
   "metadata": {},
   "outputs": [],
   "source": [
    "pet = {\n",
    "    'name': 'coco',\n",
    "    'type': 'cat',\n",
    "    'color': 'orange',\n",
    "    'age': '6 months'\n",
    "}\n",
    "pet['color']"
   ]
  },
  {
   "cell_type": "markdown",
   "id": "702b0180-a45d-4750-b161-631220574b00",
   "metadata": {},
   "source": [
    "- `.keys()` __Method__:"
   ]
  },
  {
   "cell_type": "code",
   "execution_count": null,
   "id": "4e18eb27-ccc0-4318-b3d8-926283883907",
   "metadata": {},
   "outputs": [],
   "source": [
    "pet = {\n",
    "    'name': 'coco',\n",
    "    'type': 'cat',\n",
    "    'color': 'orange',\n",
    "    'age': '6 months'\n",
    "}\n",
    "for key in pet.keys():\n",
    "    print(key)"
   ]
  },
  {
   "cell_type": "markdown",
   "id": "7dc28346-9e13-4d36-b3b0-fed223b4beef",
   "metadata": {},
   "source": [
    "- `.values()` __Method__:"
   ]
  },
  {
   "cell_type": "code",
   "execution_count": null,
   "id": "faa06756-0c71-477f-b94a-e03e65b08a1d",
   "metadata": {},
   "outputs": [],
   "source": [
    "pet = {\n",
    "    'name': 'coco',\n",
    "    'type': 'cat',\n",
    "    'color': 'orange',\n",
    "    'age': '6 months'\n",
    "}\n",
    "for value in pet.values():\n",
    "    print(value)"
   ]
  },
  {
   "cell_type": "markdown",
   "id": "023bfc48-69bf-4728-83ec-4f6543c91a85",
   "metadata": {},
   "source": [
    "- `.del()` __Method__:"
   ]
  },
  {
   "cell_type": "code",
   "execution_count": null,
   "id": "a7055e2a-caba-47ca-843e-e66caac59ca9",
   "metadata": {},
   "outputs": [],
   "source": [
    "pet = {\n",
    "    'name': 'coco',\n",
    "    'type': 'cat',\n",
    "    'color': 'orange',\n",
    "    'age': '6 months'\n",
    "}\n",
    "del pet['type']\n",
    "pet"
   ]
  },
  {
   "cell_type": "markdown",
   "id": "5bbb8836-13eb-4c48-b461-67190f69777f",
   "metadata": {},
   "source": [
    "- `in` __and__ `not in`:"
   ]
  },
  {
   "cell_type": "code",
   "execution_count": null,
   "id": "622daa5c-28ed-44f8-89a4-67c90beb8c40",
   "metadata": {},
   "outputs": [],
   "source": [
    "pet = {\n",
    "    'name': 'coco',\n",
    "    'type': 'cat',\n",
    "    'color': 'orange',\n",
    "    'age': '6 months'\n",
    "}\n",
    "'appetite' in pet.keys()"
   ]
  },
  {
   "cell_type": "code",
   "execution_count": null,
   "id": "c9d59731-8473-4673-856d-f8ea08c7f1d0",
   "metadata": {},
   "outputs": [],
   "source": [
    "pet = {\n",
    "    'name': 'coco',\n",
    "    'type': 'cat',\n",
    "    'color': 'orange',\n",
    "    'age': '6 months'\n",
    "}\n",
    "'dog' not in pet.values()"
   ]
  },
  {
   "cell_type": "markdown",
   "id": "b0991339-55b4-4e1c-9234-3a263c71f2ea",
   "metadata": {},
   "source": [
    "- __Merge Two Dictionaries__:"
   ]
  },
  {
   "cell_type": "code",
   "execution_count": null,
   "id": "006ddddf-90b4-4836-b5bf-a73c879dcdf8",
   "metadata": {},
   "outputs": [],
   "source": [
    "pet_part1 =  {'name': 'coco', 'type': 'cat'}\n",
    "pet_part2 =  {'color': 'orange','age': '6 months'}\n",
    "pet = {**pet_part1, **pet_part2}\n",
    "pet"
   ]
  },
  {
   "cell_type": "markdown",
   "id": "2a0ab276-4e5b-4d9e-8a24-51775a17d3c1",
   "metadata": {},
   "source": [
    "#### __D. Sets__ (<span style=\"color: orange;\">unordered</span>, <span style=\"color: blue;\">mutable</span>, <span style=\"color: purple;\">unique</span>, ideal for searching items)"
   ]
  },
  {
   "cell_type": "markdown",
   "id": "687e44f9-9919-4261-bda4-91fcbca51822",
   "metadata": {},
   "source": [
    "- __Create a Set__:"
   ]
  },
  {
   "cell_type": "code",
   "execution_count": null,
   "id": "f49fbfff-832e-43ef-8372-cc9ddaf2a9bc",
   "metadata": {},
   "outputs": [],
   "source": [
    "pets = {'rabbit', 'fish', 'cat', 'dog', 'cat'}\n",
    "pets"
   ]
  },
  {
   "cell_type": "markdown",
   "id": "22fabf32-5427-4a2a-872a-01e570de1003",
   "metadata": {},
   "source": [
    "- `.add()` __and__ `.update()` __Method__:"
   ]
  },
  {
   "cell_type": "code",
   "execution_count": null,
   "id": "3b585fb7-cdd9-4aef-ae61-adc43f099400",
   "metadata": {},
   "outputs": [],
   "source": [
    "pets = {'rabbit', 'fish', 'cat', 'dog'}\n",
    "pets.add('bird')\n",
    "pets"
   ]
  },
  {
   "cell_type": "code",
   "execution_count": null,
   "id": "2352a0fa-5d96-421d-8925-50cc91cb2ed0",
   "metadata": {},
   "outputs": [],
   "source": [
    "pets = {'rabbit', 'fish', 'cat', 'dog'}\n",
    "pets.update(['cat', 'dog', 'bird', 'turtle'])\n",
    "pets"
   ]
  },
  {
   "cell_type": "markdown",
   "id": "e30b5a7e-3d1d-407b-b1dc-3a30e915b716",
   "metadata": {},
   "source": [
    "- `.discard()` __Method__:"
   ]
  },
  {
   "cell_type": "code",
   "execution_count": null,
   "id": "b191c0ab-c5b6-4ab8-9a0b-7ff21ded7afc",
   "metadata": {},
   "outputs": [],
   "source": [
    "pets = {'rabbit', 'fish', 'cat', 'dog'}\n",
    "pets.discard('fish')\n",
    "pets"
   ]
  },
  {
   "cell_type": "markdown",
   "id": "471760b5-1eed-45a2-8505-bf39660ffadc",
   "metadata": {},
   "source": [
    "- `.union()` __Method__:"
   ]
  },
  {
   "cell_type": "code",
   "execution_count": null,
   "id": "23aa92b1-51b5-4fc7-b67b-e3427c4d8c43",
   "metadata": {},
   "outputs": [],
   "source": [
    "pets_1 = {'rabbit', 'fish'}\n",
    "pets_2 = {'cat', 'dog'}\n",
    "pets = pets_1.union(pets_2)\n",
    "pets"
   ]
  },
  {
   "cell_type": "markdown",
   "id": "00229796-35ab-47a1-bc22-5aa63e0cde99",
   "metadata": {},
   "source": [
    "- `.intersection()` __Method__:"
   ]
  },
  {
   "cell_type": "code",
   "execution_count": null,
   "id": "5b2bf860-96ed-46f4-a05c-63f889a8a6a0",
   "metadata": {},
   "outputs": [],
   "source": [
    "pets_1 = {'rabbit', 'cat'}\n",
    "pets_2 = {'cat', 'dog'}\n",
    "pets_3 = {'fish', 'cat'}\n",
    "pets_1.intersection(pets_2, pets_3)"
   ]
  },
  {
   "cell_type": "markdown",
   "id": "770c88be-8fd1-4a9c-80b0-d24bfc0aca22",
   "metadata": {},
   "source": [
    "- `.difference()` __Method__:"
   ]
  },
  {
   "cell_type": "code",
   "execution_count": null,
   "id": "5dbc500f-5218-4895-89e9-ac90c77649db",
   "metadata": {},
   "outputs": [],
   "source": [
    "pets_1 = {'rabbit', 'fish', 'cat'}\n",
    "pets_2 = {'cat', 'fish', 'dog'}\n",
    "pets_1.difference(pets_2)"
   ]
  },
  {
   "cell_type": "code",
   "execution_count": null,
   "id": "c20c4838-3886-4746-9d79-9c263577b99a",
   "metadata": {},
   "outputs": [],
   "source": [
    "pets_1 = {'rabbit', 'fish', 'cat'}\n",
    "pets_2 = {'cat', 'fish', 'dog'}\n",
    "pets_2.difference(pets_1)"
   ]
  },
  {
   "cell_type": "markdown",
   "id": "63b08af4-b5ce-44bf-9cdf-6470b36b2f73",
   "metadata": {},
   "source": [
    "#### __Alias and Copy__"
   ]
  },
  {
   "cell_type": "markdown",
   "id": "74979b71-497a-4470-a095-24d057de6c82",
   "metadata": {},
   "source": [
    "For <span style=\"color: blue;\">mutable</span> data structures, i.e. __lists, dictionaries, and sets__, please pay close attention to the difference between a <span style=\"color: red;\">__alias__</span> and a <span style=\"color: red;\">__copy__</span>."
   ]
  },
  {
   "cell_type": "code",
   "execution_count": null,
   "id": "6d652dd4-f800-4844-9e9a-68f2f6ed1c0f",
   "metadata": {},
   "outputs": [],
   "source": [
    "pets1 = ['rabbit', 'fish', 'cat', 'dog']\n",
    "pets2 = pets1    # create a alias\n",
    "pets2.remove('fish')\n",
    "pets1"
   ]
  },
  {
   "cell_type": "code",
   "execution_count": null,
   "id": "1b2198c5-5309-4ccc-bd21-b90015a395f9",
   "metadata": {},
   "outputs": [],
   "source": [
    "pets1 = ['rabbit', 'fish', 'cat', 'dog']\n",
    "pets2 = pets1.copy()    # create a copy\n",
    "pets2.remove('fish')\n",
    "pets1"
   ]
  },
  {
   "cell_type": "markdown",
   "id": "34f22991-866c-436c-9798-0f5c480137f4",
   "metadata": {},
   "source": [
    "***"
   ]
  },
  {
   "cell_type": "markdown",
   "id": "ce3ddd95-19f3-43c8-9941-bab36b3170c0",
   "metadata": {},
   "source": [
    "## 4. Functions"
   ]
  },
  {
   "cell_type": "markdown",
   "id": "da4a6b31-dd93-4ff2-b892-f32513819beb",
   "metadata": {},
   "source": [
    "### Define a Function"
   ]
  },
  {
   "cell_type": "code",
   "execution_count": null,
   "id": "3ba73ec7-ce7b-4c1f-bb7d-46d5225cf4d0",
   "metadata": {},
   "outputs": [],
   "source": [
    "def count_vowels(string):\n",
    "    vowels = 'aeiouAEIOU'\n",
    "    count = 0\n",
    "    for char in string:\n",
    "        if char in vowels:\n",
    "            count += 1\n",
    "    return count\n",
    "count_vowels(string = 'hello')"
   ]
  },
  {
   "cell_type": "markdown",
   "id": "4b3e9126-865f-48cc-bc22-10a6e932eeba",
   "metadata": {},
   "source": [
    "- __Indentation is Important__:"
   ]
  },
  {
   "cell_type": "code",
   "execution_count": null,
   "id": "d848b43d-e7d9-477e-9cf4-ad087502aae6",
   "metadata": {},
   "outputs": [],
   "source": [
    "def count_vowels(string):\n",
    "    vowels = 'aeiouAEIOU'\n",
    "    count = 0\n",
    "    for char in string:\n",
    "        if char in vowels:\n",
    "            count += 1\n",
    "    return count\n",
    "    count_vowels(string = 'hello')"
   ]
  },
  {
   "cell_type": "markdown",
   "id": "14b44014-7083-4afc-a164-db5f54cbf2e1",
   "metadata": {},
   "source": [
    "- __Global and Local Variables__:"
   ]
  },
  {
   "cell_type": "code",
   "execution_count": null,
   "id": "07f302a5-762e-4634-99a0-9085933ed424",
   "metadata": {},
   "outputs": [],
   "source": [
    "var_global = 'banana'\n",
    "def my_function(n):\n",
    "    print(var_global)\n",
    "    var_local = 'apple'\n",
    "    for i in range(n):\n",
    "        print(var_local)\n",
    "my_function(n = 1)"
   ]
  },
  {
   "cell_type": "code",
   "execution_count": null,
   "id": "695aa98b-3ed3-490e-8873-62d28574998b",
   "metadata": {
    "scrolled": true
   },
   "outputs": [],
   "source": [
    "print(var_local)"
   ]
  },
  {
   "cell_type": "markdown",
   "id": "df9b0f5d-e04d-4948-9499-e1d02d7302c1",
   "metadata": {},
   "source": [
    "### Frenquently Used Built-in Functions"
   ]
  },
  {
   "cell_type": "markdown",
   "id": "808e04c9-5d05-4ba4-bcc7-2392cb0cdfec",
   "metadata": {},
   "source": [
    "- `print()`:\n",
    "- `input()`:\n",
    "- `range()`:\n",
    "- `enumerate()`:\n",
    "- `len()`:"
   ]
  },
  {
   "cell_type": "code",
   "execution_count": null,
   "id": "18a1f1da-2544-4362-bf1f-51685d6967a2",
   "metadata": {},
   "outputs": [],
   "source": [
    "pets = ['rabbit', 'fish', 'cat', 'dog']\n",
    "len(pets)"
   ]
  },
  {
   "cell_type": "code",
   "execution_count": null,
   "id": "a1339248-44e8-43f6-bce6-3694739f8aa0",
   "metadata": {},
   "outputs": [],
   "source": [
    "print(pets[2])\n",
    "print(len(pets[2]))"
   ]
  },
  {
   "cell_type": "markdown",
   "id": "f8d118b9-cacd-4693-9b7e-70220bd397a9",
   "metadata": {},
   "source": [
    "- `any()` __and__ `all()`:"
   ]
  },
  {
   "cell_type": "code",
   "execution_count": null,
   "id": "6b2947ab-49e7-4387-bf14-98f7d771b21d",
   "metadata": {},
   "outputs": [],
   "source": [
    "any([3 >= 2, 5 < 4])"
   ]
  },
  {
   "cell_type": "code",
   "execution_count": null,
   "id": "96163dc2-fec5-4bfa-9fa8-66da6448a1bc",
   "metadata": {},
   "outputs": [],
   "source": [
    "all([3 >= 2, 5 < 4])"
   ]
  },
  {
   "cell_type": "markdown",
   "id": "29315c8f-9b59-445a-8149-835b0cfdab25",
   "metadata": {},
   "source": [
    "- `help()`:"
   ]
  },
  {
   "cell_type": "code",
   "execution_count": null,
   "id": "0aa4adc1-752e-45be-97ae-3e33abc7a39d",
   "metadata": {},
   "outputs": [],
   "source": [
    "help(enumerate)"
   ]
  },
  {
   "cell_type": "markdown",
   "id": "160f686d-4cfc-4c57-a3fa-2d735305df6d",
   "metadata": {},
   "source": [
    "### Frenquently Used Built-in Modules"
   ]
  },
  {
   "cell_type": "markdown",
   "id": "5e73da92-19ee-4026-8d89-5a58dd9620f0",
   "metadata": {},
   "source": [
    "- `sys`\n",
    "- `os`\n",
    "- `math`\n",
    "- `datetime`\n",
    "- `json`\n",
    "- `re`\n",
    "- `collections`\n",
    "- `itertools`\n",
    "- `random`"
   ]
  },
  {
   "cell_type": "markdown",
   "id": "f8e41977-3254-4fb6-a1c1-f8588a961472",
   "metadata": {},
   "source": [
    "### Frenquently Used External Modules"
   ]
  },
  {
   "cell_type": "markdown",
   "id": "08ffc8ea-fab5-4020-baf1-adabaae44bb0",
   "metadata": {},
   "source": [
    "- `numpy`\n",
    "- `pandas`\n",
    "- `scikit-learn`\n",
    "- `tensorflow`\n",
    "- `plotly`\n",
    "- `matplotlib`\n",
    "- `torch`\n",
    "- `requests`\n",
    "- `beautifulsoup4`"
   ]
  },
  {
   "cell_type": "markdown",
   "id": "94440b20-855c-4012-b9e4-f4e0f2094ed6",
   "metadata": {},
   "source": [
    "***"
   ]
  },
  {
   "cell_type": "markdown",
   "id": "fdd0c543-16a0-4817-a3b0-cec487246dad",
   "metadata": {},
   "source": [
    "## 5. Environment Setup "
   ]
  },
  {
   "cell_type": "code",
   "execution_count": null,
   "id": "855dfdd0-3d12-4431-87e5-035786e3275b",
   "metadata": {},
   "outputs": [],
   "source": [
    "# make sure current environment is correct\n",
    "import sys\n",
    "print(sys.executable)"
   ]
  },
  {
   "cell_type": "code",
   "execution_count": null,
   "id": "a43868f2-46ec-4f9e-a12e-d069a7959ace",
   "metadata": {
    "scrolled": true
   },
   "outputs": [],
   "source": [
    "# use %conda to install modules in current environment\n",
    "%conda install pandas numpy -y"
   ]
  },
  {
   "cell_type": "code",
   "execution_count": null,
   "id": "12dadc70-87de-4b77-ac17-5022f5242d64",
   "metadata": {},
   "outputs": [],
   "source": [
    "import numpy as np\n",
    "import pandas as pd\n",
    "from datetime import date"
   ]
  }
 ],
 "metadata": {
  "kernelspec": {
   "display_name": "Python 3 (ipykernel)",
   "language": "python",
   "name": "python3"
  },
  "language_info": {
   "codemirror_mode": {
    "name": "ipython",
    "version": 3
   },
   "file_extension": ".py",
   "mimetype": "text/x-python",
   "name": "python",
   "nbconvert_exporter": "python",
   "pygments_lexer": "ipython3",
   "version": "3.12.8"
  }
 },
 "nbformat": 4,
 "nbformat_minor": 5
}
