{
 "cells": [
  {
   "cell_type": "markdown",
   "id": "057bb604-0cf0-4e18-a164-13e999b0db34",
   "metadata": {},
   "source": [
    "# Coding for Economists - Session 3"
   ]
  },
  {
   "cell_type": "markdown",
   "id": "92250a97-80ea-4d8b-8a3a-c56d7f898a4c",
   "metadata": {},
   "source": [
    "***"
   ]
  },
  {
   "cell_type": "markdown",
   "id": "17d75041-b852-42d4-8937-9b62d661855d",
   "metadata": {},
   "source": [
    "## 1. Python Syntax"
   ]
  },
  {
   "cell_type": "markdown",
   "id": "6bdd9a25-2963-4531-a693-02d23dfca737",
   "metadata": {},
   "source": [
    "### Data Structures\n",
    "\n",
    "A. __Lists__: `['rabbit', 'fish', 'cat', 'dog']` <br>\n",
    "B. __Tuples__: `('rabbit', 'fish', 'cat', 'dog')`<br>\n",
    "C. __Dictionaries__: `{'type': 'cat', 'color': 'orange', 'age': '6 months'}`<br>\n",
    "D. __Sets__: `{'rabbit', 'fish', 'cat', 'dog'}`"
   ]
  },
  {
   "cell_type": "markdown",
   "id": "56a4ede2-fef0-4cfd-b8cb-45678b1fa454",
   "metadata": {},
   "source": [
    "#### __A. Lists__ (<span style=\"color: green;\">ordered</span>, <span style=\"color: blue;\">mutable</span>, most commonly used)"
   ]
  },
  {
   "cell_type": "markdown",
   "id": "d41ee594-ff0d-40b5-8087-eb5d85561d51",
   "metadata": {},
   "source": [
    "- __Indexing and Slicing__:"
   ]
  },
  {
   "cell_type": "code",
   "execution_count": null,
   "id": "476b0251-03d1-4f28-ae14-669f3243b40e",
   "metadata": {},
   "outputs": [],
   "source": [
    "pets = ['rabbit', 'fish', 'cat', 'dog']\n",
    "pets[2]"
   ]
  },
  {
   "cell_type": "code",
   "execution_count": null,
   "id": "a4dd5b96-38e5-43d0-8dee-0de7129974b3",
   "metadata": {},
   "outputs": [],
   "source": [
    "pets = ['rabbit', 'fish', 'cat', 'dog']\n",
    "pets[1:3]"
   ]
  },
  {
   "cell_type": "markdown",
   "id": "43eadccf-82ee-4fda-a23e-05adda0a42a8",
   "metadata": {},
   "source": [
    "- __Change Values__:"
   ]
  },
  {
   "cell_type": "code",
   "execution_count": null,
   "id": "7785b411-e7ce-4c40-8b31-e56aa2acaa3a",
   "metadata": {},
   "outputs": [],
   "source": [
    "pets = ['rabbit', 'fish', 'cat', 'dog']\n",
    "pets[1] = 'bird'\n",
    "pets"
   ]
  },
  {
   "cell_type": "markdown",
   "id": "4c02ad6d-e3e7-46c2-89a0-1962941d2006",
   "metadata": {},
   "source": [
    "- __Concat and Replicate__:"
   ]
  },
  {
   "cell_type": "code",
   "execution_count": null,
   "id": "ac004af4-1b9f-43d6-b0a4-7ea02b92ea07",
   "metadata": {},
   "outputs": [],
   "source": [
    "[1,2,3,4] + ['rabbit', 'fish', 'cat', 'dog']"
   ]
  },
  {
   "cell_type": "code",
   "execution_count": null,
   "id": "58aadadf-451c-45f3-931e-b9e0f28b327d",
   "metadata": {},
   "outputs": [],
   "source": [
    "[1,2,3,4]*3"
   ]
  },
  {
   "cell_type": "markdown",
   "id": "c1ab588d-ed52-4bb1-8990-0ee99bd330bf",
   "metadata": {},
   "source": [
    "- __Use Lists in for Loops__:"
   ]
  },
  {
   "cell_type": "code",
   "execution_count": null,
   "id": "c832030f-68f7-4cdc-9bd1-a08e855e02a8",
   "metadata": {},
   "outputs": [],
   "source": [
    "for pet in ['rabbit', 'fish', 'cat', 'dog']:\n",
    "    print(pet)"
   ]
  },
  {
   "cell_type": "code",
   "execution_count": null,
   "id": "db16940b-3958-4b82-9936-d30e573bf040",
   "metadata": {},
   "outputs": [],
   "source": [
    "pets = ['rabbit', 'fish', 'cat', 'dog']\n",
    "for index, item in enumerate(pets):\n",
    "    print(f'index: {index} - item: {item}')"
   ]
  },
  {
   "cell_type": "markdown",
   "id": "43fb3257-0ffc-49f7-b919-23c529bf95aa",
   "metadata": {},
   "source": [
    "- `in` __and__ `not in`:"
   ]
  },
  {
   "cell_type": "code",
   "execution_count": null,
   "id": "0a590bda-970a-4f36-badd-1fd4244d8d1e",
   "metadata": {},
   "outputs": [],
   "source": [
    "'cat' in ['rabbit', 'fish', 'cat', 'dog']"
   ]
  },
  {
   "cell_type": "code",
   "execution_count": null,
   "id": "3084d03c-5e50-47d2-985d-c10eb6b2788f",
   "metadata": {},
   "outputs": [],
   "source": [
    "'snake' not in ['rabbit', 'fish', 'cat', 'dog']"
   ]
  },
  {
   "cell_type": "markdown",
   "id": "bef345dd-9fde-477a-b3b9-fcaaddebbe7c",
   "metadata": {},
   "source": [
    "- `.index()` __Method__:"
   ]
  },
  {
   "cell_type": "code",
   "execution_count": null,
   "id": "818a9315-2e9d-478f-8536-f12ef0a6ce35",
   "metadata": {},
   "outputs": [],
   "source": [
    "pets = ['rabbit', 'fish', 'cat', 'dog']\n",
    "pets.index('cat')"
   ]
  },
  {
   "cell_type": "markdown",
   "id": "1b472b1f-323b-4684-ad4d-76dfaf831dfe",
   "metadata": {},
   "source": [
    "- `.append()` __Method__:"
   ]
  },
  {
   "cell_type": "code",
   "execution_count": null,
   "id": "8f57b3fe-5fb2-449e-bd4f-f9b13fc34bcc",
   "metadata": {},
   "outputs": [],
   "source": [
    "pets = ['rabbit', 'fish', 'cat', 'dog']\n",
    "pets.append('hamster')\n",
    "pets"
   ]
  },
  {
   "cell_type": "markdown",
   "id": "498e5053-0712-4408-a439-6e341acc6cd8",
   "metadata": {},
   "source": [
    "- `.insert()` __Method__:"
   ]
  },
  {
   "cell_type": "code",
   "execution_count": null,
   "id": "6fcf7428-f024-4015-ba1d-13eaae92038c",
   "metadata": {},
   "outputs": [],
   "source": [
    "pets = ['rabbit', 'fish', 'cat', 'dog']\n",
    "pets.insert(3, 'turtle')\n",
    "pets"
   ]
  },
  {
   "cell_type": "markdown",
   "id": "bfff1971-59d5-4541-82ae-78c979d782f0",
   "metadata": {},
   "source": [
    "- `.remove()` __Method__:"
   ]
  },
  {
   "cell_type": "code",
   "execution_count": null,
   "id": "7bf03ff3-0433-4c7b-913d-4a644177a374",
   "metadata": {},
   "outputs": [],
   "source": [
    "pets = ['rabbit', 'fish', 'cat', 'dog']\n",
    "pets.remove('fish')\n",
    "pets"
   ]
  },
  {
   "cell_type": "markdown",
   "id": "09116452-80d0-4cf1-a733-6b1cac0ae321",
   "metadata": {},
   "source": [
    "- `.pop()` __Method__:"
   ]
  },
  {
   "cell_type": "code",
   "execution_count": null,
   "id": "b17526a1-68ea-43ab-9bcf-637cfb688198",
   "metadata": {},
   "outputs": [],
   "source": [
    "pets = ['rabbit', 'fish', 'cat', 'dog']\n",
    "pets.pop(0)"
   ]
  },
  {
   "cell_type": "code",
   "execution_count": null,
   "id": "4189a600-0e5d-464a-bcee-6a0b9c31255c",
   "metadata": {},
   "outputs": [],
   "source": [
    "pets"
   ]
  },
  {
   "cell_type": "markdown",
   "id": "d26ae352-bbc5-4d0b-ad28-21b7014c6c95",
   "metadata": {},
   "source": [
    "- `.sort()` __Method__:"
   ]
  },
  {
   "cell_type": "code",
   "execution_count": null,
   "id": "89120afe-446e-4a79-9451-334fcf53cbe2",
   "metadata": {},
   "outputs": [],
   "source": [
    "pets = ['rabbit', 'fish', 'cat', 'dog']\n",
    "pets.sort()\n",
    "pets"
   ]
  },
  {
   "cell_type": "markdown",
   "id": "2f2608d0-a9e0-4dc1-b06c-699c56a42a7d",
   "metadata": {},
   "source": [
    "#### __B. Tuples__ (<span style=\"color: green;\">ordered</span>, <span style=\"color: red;\">immutable</span>)"
   ]
  },
  {
   "cell_type": "code",
   "execution_count": null,
   "id": "eef6f7d0-1969-49d7-acd8-7b6fbeda0c9a",
   "metadata": {},
   "outputs": [],
   "source": [
    "pets_tuple = ('rabbit', 'fish', 'cat', 'dog')\n",
    "pets_tuple"
   ]
  },
  {
   "cell_type": "code",
   "execution_count": null,
   "id": "e8b82435-9c7b-45b5-90ae-919177d5e930",
   "metadata": {},
   "outputs": [],
   "source": [
    "y = (40.7128, -74.0060)"
   ]
  },
  {
   "cell_type": "code",
   "execution_count": null,
   "id": "8fb33eb6-b6e3-48f3-9037-ed238f1ed441",
   "metadata": {},
   "outputs": [],
   "source": [
    "pets_tuple[1] = 'bird'"
   ]
  },
  {
   "cell_type": "markdown",
   "id": "34ca3f1f-bf13-4a9d-997e-883f1ff37c95",
   "metadata": {},
   "source": [
    "#### __C. Dictionaries__ (<span style=\"color: orange;\">unordered</span>, <span style=\"color: blue;\">mutable</span>, ideal for relationships)"
   ]
  },
  {
   "cell_type": "markdown",
   "id": "1c2e6b6b-aefe-41d5-a6f1-b64fccc39320",
   "metadata": {},
   "source": [
    "- __Add/Change Items__:"
   ]
  },
  {
   "cell_type": "code",
   "execution_count": null,
   "id": "e2856af8-29d6-4d2f-82cd-0445f6d3984a",
   "metadata": {},
   "outputs": [],
   "source": [
    "pet = {\n",
    "    'name': 'NAME',\n",
    "    'type': 'cat',\n",
    "    'color': 'orange',\n",
    "    'age': '6 months'\n",
    "}\n",
    "pet['name'] = 'coco'\n",
    "pet['appetite'] = 'good'\n",
    "pet"
   ]
  },
  {
   "cell_type": "markdown",
   "id": "e799d75c-bed1-4c79-946e-30f22b3513d4",
   "metadata": {},
   "source": [
    "- __Get Value__:"
   ]
  },
  {
   "cell_type": "code",
   "execution_count": null,
   "id": "8df519b1-565e-40f5-a729-5887a1f3814e",
   "metadata": {},
   "outputs": [],
   "source": [
    "pet = {\n",
    "    'name': 'coco',\n",
    "    'type': 'cat',\n",
    "    'color': 'orange',\n",
    "    'age': '6 months'\n",
    "}\n",
    "pet['color']"
   ]
  },
  {
   "cell_type": "markdown",
   "id": "702b0180-a45d-4750-b161-631220574b00",
   "metadata": {},
   "source": [
    "- `.keys()` __Method__:"
   ]
  },
  {
   "cell_type": "code",
   "execution_count": null,
   "id": "4e18eb27-ccc0-4318-b3d8-926283883907",
   "metadata": {},
   "outputs": [],
   "source": [
    "pet = {\n",
    "    'name': 'coco',\n",
    "    'type': 'cat',\n",
    "    'color': 'orange',\n",
    "    'age': '6 months'\n",
    "}\n",
    "for key in pet.keys():\n",
    "    print(key)"
   ]
  },
  {
   "cell_type": "markdown",
   "id": "7dc28346-9e13-4d36-b3b0-fed223b4beef",
   "metadata": {},
   "source": [
    "- `.values()` __Method__:"
   ]
  },
  {
   "cell_type": "code",
   "execution_count": null,
   "id": "faa06756-0c71-477f-b94a-e03e65b08a1d",
   "metadata": {},
   "outputs": [],
   "source": [
    "pet = {\n",
    "    'name': 'coco',\n",
    "    'type': 'cat',\n",
    "    'color': 'orange',\n",
    "    'age': '6 months'\n",
    "}\n",
    "for value in pet.values():\n",
    "    print(value)"
   ]
  },
  {
   "cell_type": "markdown",
   "id": "023bfc48-69bf-4728-83ec-4f6543c91a85",
   "metadata": {},
   "source": [
    "- `.del()` __Method__:"
   ]
  },
  {
   "cell_type": "code",
   "execution_count": null,
   "id": "a7055e2a-caba-47ca-843e-e66caac59ca9",
   "metadata": {},
   "outputs": [],
   "source": [
    "pet = {\n",
    "    'name': 'coco',\n",
    "    'type': 'cat',\n",
    "    'color': 'orange',\n",
    "    'age': '6 months'\n",
    "}\n",
    "del pet['type']\n",
    "pet"
   ]
  },
  {
   "cell_type": "markdown",
   "id": "5bbb8836-13eb-4c48-b461-67190f69777f",
   "metadata": {},
   "source": [
    "- `in` __and__ `not in`:"
   ]
  },
  {
   "cell_type": "code",
   "execution_count": null,
   "id": "622daa5c-28ed-44f8-89a4-67c90beb8c40",
   "metadata": {},
   "outputs": [],
   "source": [
    "pet = {\n",
    "    'name': 'coco',\n",
    "    'type': 'cat',\n",
    "    'color': 'orange',\n",
    "    'age': '6 months'\n",
    "}\n",
    "'appetite' in pet.keys()"
   ]
  },
  {
   "cell_type": "code",
   "execution_count": null,
   "id": "c9d59731-8473-4673-856d-f8ea08c7f1d0",
   "metadata": {},
   "outputs": [],
   "source": [
    "pet = {\n",
    "    'name': 'coco',\n",
    "    'type': 'cat',\n",
    "    'color': 'orange',\n",
    "    'age': '6 months'\n",
    "}\n",
    "'dog' not in pet.values()"
   ]
  },
  {
   "cell_type": "markdown",
   "id": "b0991339-55b4-4e1c-9234-3a263c71f2ea",
   "metadata": {},
   "source": [
    "- __Merge Two Dictionaries__:"
   ]
  },
  {
   "cell_type": "code",
   "execution_count": null,
   "id": "006ddddf-90b4-4836-b5bf-a73c879dcdf8",
   "metadata": {},
   "outputs": [],
   "source": [
    "pet_part1 =  {'name': 'coco', 'type': 'cat'}\n",
    "pet_part2 =  {'color': 'orange','age': '6 months'}\n",
    "pet = {**pet_part1, **pet_part2}\n",
    "pet"
   ]
  },
  {
   "cell_type": "markdown",
   "id": "2a0ab276-4e5b-4d9e-8a24-51775a17d3c1",
   "metadata": {},
   "source": [
    "#### __D. Sets__ (<span style=\"color: orange;\">unordered</span>, <span style=\"color: blue;\">mutable</span>, <span style=\"color: purple;\">unique</span>, ideal for searching items)"
   ]
  },
  {
   "cell_type": "markdown",
   "id": "687e44f9-9919-4261-bda4-91fcbca51822",
   "metadata": {},
   "source": [
    "- __Create a Set__:"
   ]
  },
  {
   "cell_type": "code",
   "execution_count": null,
   "id": "f49fbfff-832e-43ef-8372-cc9ddaf2a9bc",
   "metadata": {},
   "outputs": [],
   "source": [
    "pets = {'rabbit', 'fish', 'cat', 'dog', 'cat'}\n",
    "pets"
   ]
  },
  {
   "cell_type": "code",
   "execution_count": null,
   "id": "bba6f801-edc4-45d4-8f31-0ce047ed54ee",
   "metadata": {},
   "outputs": [],
   "source": [
    "y = {'a', 'b', 'c'}"
   ]
  },
  {
   "cell_type": "markdown",
   "id": "22fabf32-5427-4a2a-872a-01e570de1003",
   "metadata": {},
   "source": [
    "- `.add()` __and__ `.update()` __Method__:"
   ]
  },
  {
   "cell_type": "code",
   "execution_count": null,
   "id": "3b585fb7-cdd9-4aef-ae61-adc43f099400",
   "metadata": {},
   "outputs": [],
   "source": [
    "pets = {'rabbit', 'fish', 'cat', 'dog'}\n",
    "pets.add('bird')\n",
    "pets"
   ]
  },
  {
   "cell_type": "code",
   "execution_count": null,
   "id": "2352a0fa-5d96-421d-8925-50cc91cb2ed0",
   "metadata": {},
   "outputs": [],
   "source": [
    "pets = {'rabbit', 'fish', 'cat', 'dog'}\n",
    "pets.update(['cat', 'dog', 'bird', 'turtle'])\n",
    "pets"
   ]
  },
  {
   "cell_type": "markdown",
   "id": "e30b5a7e-3d1d-407b-b1dc-3a30e915b716",
   "metadata": {},
   "source": [
    "- `.discard()` __Method__:"
   ]
  },
  {
   "cell_type": "code",
   "execution_count": null,
   "id": "b191c0ab-c5b6-4ab8-9a0b-7ff21ded7afc",
   "metadata": {},
   "outputs": [],
   "source": [
    "pets = {'rabbit', 'fish', 'cat', 'dog'}\n",
    "pets.discard('fish')\n",
    "pets"
   ]
  },
  {
   "cell_type": "markdown",
   "id": "471760b5-1eed-45a2-8505-bf39660ffadc",
   "metadata": {},
   "source": [
    "- `.union()` __Method__:"
   ]
  },
  {
   "cell_type": "code",
   "execution_count": null,
   "id": "23aa92b1-51b5-4fc7-b67b-e3427c4d8c43",
   "metadata": {},
   "outputs": [],
   "source": [
    "pets_1 = {'rabbit', 'fish'}\n",
    "pets_2 = {'cat', 'dog'}\n",
    "pets = pets_1.union(pets_2)\n",
    "pets"
   ]
  },
  {
   "cell_type": "markdown",
   "id": "00229796-35ab-47a1-bc22-5aa63e0cde99",
   "metadata": {},
   "source": [
    "- `.intersection()` __Method__:"
   ]
  },
  {
   "cell_type": "code",
   "execution_count": null,
   "id": "5b2bf860-96ed-46f4-a05c-63f889a8a6a0",
   "metadata": {},
   "outputs": [],
   "source": [
    "pets_1 = {'rabbit', 'cat'}\n",
    "pets_2 = {'cat', 'dog'}\n",
    "pets_3 = {'fish', 'cat'}\n",
    "pets_1.intersection(pets_2, pets_3)"
   ]
  },
  {
   "cell_type": "markdown",
   "id": "770c88be-8fd1-4a9c-80b0-d24bfc0aca22",
   "metadata": {},
   "source": [
    "- `.difference()` __Method__:"
   ]
  },
  {
   "cell_type": "code",
   "execution_count": null,
   "id": "5dbc500f-5218-4895-89e9-ac90c77649db",
   "metadata": {},
   "outputs": [],
   "source": [
    "pets_1 = {'rabbit', 'fish', 'cat'}\n",
    "pets_2 = {'cat', 'fish', 'dog'}\n",
    "pets_1.difference(pets_2)"
   ]
  },
  {
   "cell_type": "code",
   "execution_count": null,
   "id": "c20c4838-3886-4746-9d79-9c263577b99a",
   "metadata": {},
   "outputs": [],
   "source": [
    "pets_1 = {'rabbit', 'fish', 'cat'}\n",
    "pets_2 = {'cat', 'fish', 'dog'}\n",
    "pets_2.difference(pets_1)"
   ]
  },
  {
   "cell_type": "markdown",
   "id": "63b08af4-b5ce-44bf-9cdf-6470b36b2f73",
   "metadata": {
    "jp-MarkdownHeadingCollapsed": true
   },
   "source": [
    "#### __Alias and Copy__"
   ]
  },
  {
   "cell_type": "markdown",
   "id": "74979b71-497a-4470-a095-24d057de6c82",
   "metadata": {},
   "source": [
    "For <span style=\"color: blue;\">mutable</span> data structures, i.e. __lists, dictionaries, and sets__, please pay close attention to the difference between a <span style=\"color: red;\">__alias__</span> and a <span style=\"color: red;\">__copy__</span>."
   ]
  },
  {
   "cell_type": "code",
   "execution_count": null,
   "id": "6d652dd4-f800-4844-9e9a-68f2f6ed1c0f",
   "metadata": {},
   "outputs": [],
   "source": [
    "pets1 = ['rabbit', 'fish', 'cat', 'dog']\n",
    "pets2 = pets1    # create a alias\n",
    "pets2.remove('fish')\n",
    "pets1"
   ]
  },
  {
   "cell_type": "code",
   "execution_count": null,
   "id": "1b2198c5-5309-4ccc-bd21-b90015a395f9",
   "metadata": {},
   "outputs": [],
   "source": [
    "pets1 = ['rabbit', 'fish', 'cat', 'dog']\n",
    "pets2 = pets1.copy()    # create a copy\n",
    "pets2.remove('fish')\n",
    "pets1"
   ]
  },
  {
   "cell_type": "markdown",
   "id": "34f22991-866c-436c-9798-0f5c480137f4",
   "metadata": {},
   "source": [
    "***"
   ]
  },
  {
   "cell_type": "markdown",
   "id": "ce3ddd95-19f3-43c8-9941-bab36b3170c0",
   "metadata": {},
   "source": [
    "## 2. Functions"
   ]
  },
  {
   "cell_type": "markdown",
   "id": "da4a6b31-dd93-4ff2-b892-f32513819beb",
   "metadata": {
    "jp-MarkdownHeadingCollapsed": true
   },
   "source": [
    "### Define a Function"
   ]
  },
  {
   "cell_type": "code",
   "execution_count": null,
   "id": "3ba73ec7-ce7b-4c1f-bb7d-46d5225cf4d0",
   "metadata": {},
   "outputs": [],
   "source": [
    "def count_vowels(string):\n",
    "    vowels = 'aeiouAEIOU'\n",
    "    count = 0\n",
    "    for char in string:\n",
    "        if char in vowels:\n",
    "            count += 1\n",
    "    return count\n",
    "count_vowels(string = 'hello')"
   ]
  },
  {
   "cell_type": "markdown",
   "id": "4b3e9126-865f-48cc-bc22-10a6e932eeba",
   "metadata": {},
   "source": [
    "- __Indentation is Important__:"
   ]
  },
  {
   "cell_type": "code",
   "execution_count": null,
   "id": "d848b43d-e7d9-477e-9cf4-ad087502aae6",
   "metadata": {},
   "outputs": [],
   "source": [
    "def count_vowels(string):\n",
    "    vowels = 'aeiouAEIOU'\n",
    "    count = 0\n",
    "    for char in string:\n",
    "        if char in vowels:\n",
    "            count += 1\n",
    "    return count\n",
    "    count_vowels(string = 'hello')"
   ]
  },
  {
   "cell_type": "markdown",
   "id": "14b44014-7083-4afc-a164-db5f54cbf2e1",
   "metadata": {},
   "source": [
    "- __Global and Local Variables__:"
   ]
  },
  {
   "cell_type": "code",
   "execution_count": null,
   "id": "07f302a5-762e-4634-99a0-9085933ed424",
   "metadata": {},
   "outputs": [],
   "source": [
    "var_global = 'banana'\n",
    "def my_function(n):\n",
    "    print(var_global)\n",
    "    var_local = 'apple'\n",
    "    for i in range(n):\n",
    "        print(var_local)\n",
    "my_function(n = 1)"
   ]
  },
  {
   "cell_type": "code",
   "execution_count": null,
   "id": "695aa98b-3ed3-490e-8873-62d28574998b",
   "metadata": {
    "scrolled": true
   },
   "outputs": [],
   "source": [
    "print(var_local)"
   ]
  },
  {
   "cell_type": "markdown",
   "id": "df9b0f5d-e04d-4948-9499-e1d02d7302c1",
   "metadata": {
    "jp-MarkdownHeadingCollapsed": true
   },
   "source": [
    "### Frenquently Used Built-in Functions"
   ]
  },
  {
   "cell_type": "markdown",
   "id": "808e04c9-5d05-4ba4-bcc7-2392cb0cdfec",
   "metadata": {},
   "source": [
    "- `print()`:\n",
    "- `input()`:\n",
    "- `range()`:\n",
    "- `enumerate()`:\n",
    "- `len()`:"
   ]
  },
  {
   "cell_type": "code",
   "execution_count": null,
   "id": "18a1f1da-2544-4362-bf1f-51685d6967a2",
   "metadata": {},
   "outputs": [],
   "source": [
    "pets = ['rabbit', 'fish', 'cat', 'dog']\n",
    "len(pets)"
   ]
  },
  {
   "cell_type": "code",
   "execution_count": null,
   "id": "a1339248-44e8-43f6-bce6-3694739f8aa0",
   "metadata": {},
   "outputs": [],
   "source": [
    "print(pets[2])\n",
    "print(len(pets[2]))"
   ]
  },
  {
   "cell_type": "markdown",
   "id": "f8d118b9-cacd-4693-9b7e-70220bd397a9",
   "metadata": {},
   "source": [
    "- `any()` __and__ `all()`:"
   ]
  },
  {
   "cell_type": "code",
   "execution_count": null,
   "id": "6b2947ab-49e7-4387-bf14-98f7d771b21d",
   "metadata": {},
   "outputs": [],
   "source": [
    "any([3 >= 2, 5 < 4])"
   ]
  },
  {
   "cell_type": "code",
   "execution_count": null,
   "id": "96163dc2-fec5-4bfa-9fa8-66da6448a1bc",
   "metadata": {},
   "outputs": [],
   "source": [
    "all([3 >= 2, 5 < 4])"
   ]
  },
  {
   "cell_type": "markdown",
   "id": "29315c8f-9b59-445a-8149-835b0cfdab25",
   "metadata": {},
   "source": [
    "- `help()`:"
   ]
  },
  {
   "cell_type": "code",
   "execution_count": null,
   "id": "0aa4adc1-752e-45be-97ae-3e33abc7a39d",
   "metadata": {},
   "outputs": [],
   "source": [
    "help(enumerate)"
   ]
  },
  {
   "cell_type": "markdown",
   "id": "160f686d-4cfc-4c57-a3fa-2d735305df6d",
   "metadata": {
    "jp-MarkdownHeadingCollapsed": true
   },
   "source": [
    "### Frenquently Used Built-in Libraries"
   ]
  },
  {
   "cell_type": "markdown",
   "id": "5e73da92-19ee-4026-8d89-5a58dd9620f0",
   "metadata": {},
   "source": [
    "- `sys`\n",
    "- `os`\n",
    "- `math`\n",
    "- `datetime`\n",
    "- `json`\n",
    "- `re`\n",
    "- `collections`\n",
    "- `itertools`\n",
    "- `random`"
   ]
  },
  {
   "cell_type": "markdown",
   "id": "f8e41977-3254-4fb6-a1c1-f8588a961472",
   "metadata": {},
   "source": [
    "### Frenquently Used External Libraries"
   ]
  },
  {
   "cell_type": "markdown",
   "id": "08ffc8ea-fab5-4020-baf1-adabaae44bb0",
   "metadata": {},
   "source": [
    "- `numpy`\n",
    "- `pandas`\n",
    "- `scikit-learn`\n",
    "- `tensorflow`\n",
    "- `plotly`\n",
    "- `matplotlib`\n",
    "- `torch`\n",
    "- `requests`\n",
    "- `beautifulsoup4`"
   ]
  },
  {
   "cell_type": "markdown",
   "id": "94440b20-855c-4012-b9e4-f4e0f2094ed6",
   "metadata": {},
   "source": [
    "***"
   ]
  },
  {
   "cell_type": "markdown",
   "id": "fdd0c543-16a0-4817-a3b0-cec487246dad",
   "metadata": {},
   "source": [
    "## 3. Environment Setup "
   ]
  },
  {
   "cell_type": "code",
   "execution_count": null,
   "id": "855dfdd0-3d12-4431-87e5-035786e3275b",
   "metadata": {},
   "outputs": [],
   "source": [
    "# make sure current environment is correct\n",
    "import sys\n",
    "print(sys.executable)"
   ]
  },
  {
   "cell_type": "code",
   "execution_count": null,
   "id": "a43868f2-46ec-4f9e-a12e-d069a7959ace",
   "metadata": {
    "scrolled": true
   },
   "outputs": [],
   "source": [
    "# use %conda to install libraries in current environment\n",
    "%conda install pandas numpy openpyxl -y"
   ]
  },
  {
   "cell_type": "code",
   "execution_count": null,
   "id": "377237ab-89ac-4758-9a67-1a515b9d89cb",
   "metadata": {},
   "outputs": [],
   "source": [
    "# Use %pip to install libraries not available in conda\n",
    "%pip install yfinance pandas_datareader"
   ]
  },
  {
   "cell_type": "markdown",
   "id": "3dbdb5cd-9e4d-4ca5-bd1f-d30bd2cc9918",
   "metadata": {},
   "source": [
    "<div class=\"alert alert-block alert-info\">\n",
    "<b>Reminder:</b> Restart the kernel after installing any libraries.\n",
    "</div>"
   ]
  },
  {
   "cell_type": "code",
   "execution_count": null,
   "id": "12dadc70-87de-4b77-ac17-5022f5242d64",
   "metadata": {},
   "outputs": [],
   "source": [
    "import numpy as np\n",
    "import pandas as pd\n",
    "from datetime import date"
   ]
  },
  {
   "cell_type": "markdown",
   "id": "cc1c52b7-2947-440e-9869-2dea3f5adb1e",
   "metadata": {},
   "source": [
    "***"
   ]
  },
  {
   "cell_type": "markdown",
   "id": "68b1a953-fdfa-41cb-9f42-fa24b251f06a",
   "metadata": {},
   "source": [
    "## 4. File Handling"
   ]
  },
  {
   "cell_type": "markdown",
   "id": "43f6d1d9-6926-45f8-a536-1baaa903a661",
   "metadata": {
    "jp-MarkdownHeadingCollapsed": true
   },
   "source": [
    "### Directory Paths"
   ]
  },
  {
   "cell_type": "markdown",
   "id": "22f4b456-5ecd-4adc-8e8c-9a8e334eaee0",
   "metadata": {},
   "source": [
    "- __Windows__: `'C:\\\\Users\\\\Tommy\\\\'`\n",
    "- __MacOS(Linux)__: `'/home/Tommy/'`"
   ]
  },
  {
   "cell_type": "code",
   "execution_count": null,
   "id": "6c4d0721-07d5-47e8-a447-3386539c3d7f",
   "metadata": {},
   "outputs": [],
   "source": [
    "import os\n",
    "os.path.join('C:', 'Users', 'Tommy')"
   ]
  },
  {
   "cell_type": "code",
   "execution_count": null,
   "id": "20814968-0e23-4431-a60a-ad369eb7cdf0",
   "metadata": {},
   "outputs": [],
   "source": [
    "os.path.join('home', 'Tommy')"
   ]
  },
  {
   "cell_type": "markdown",
   "id": "5bee6ca3-5082-4d35-953b-34fc8fa0293a",
   "metadata": {
    "jp-MarkdownHeadingCollapsed": true
   },
   "source": [
    "### Current Working Directory"
   ]
  },
  {
   "cell_type": "markdown",
   "id": "3bf9a1f8-f43b-4a58-a245-55596980c301",
   "metadata": {},
   "source": [
    "- __Print Current Working Directory__ `os.getcwd()`:"
   ]
  },
  {
   "cell_type": "code",
   "execution_count": null,
   "id": "4017fcc2-d03c-458a-a483-cd6521c308bd",
   "metadata": {},
   "outputs": [],
   "source": [
    "os.getcwd()"
   ]
  },
  {
   "cell_type": "markdown",
   "id": "b424c7c7-b356-48d6-bc7f-063476ffa709",
   "metadata": {},
   "source": [
    "- __Change Current Working Directory__ `os.chdir()`:"
   ]
  },
  {
   "cell_type": "code",
   "execution_count": null,
   "id": "05d9cd79-83c3-4852-bfd6-3094e636f39d",
   "metadata": {},
   "outputs": [],
   "source": [
    "os.chdir(os.getcwd().replace('Session 3', ''))\n",
    "os.getcwd()"
   ]
  },
  {
   "cell_type": "code",
   "execution_count": null,
   "id": "50e5892c-118b-4d7c-8959-9ed50188882d",
   "metadata": {},
   "outputs": [],
   "source": [
    "os.chdir(os.path.join(os.getcwd(), 'Session 3'))\n",
    "os.getcwd()"
   ]
  },
  {
   "cell_type": "markdown",
   "id": "d0db84ce-8a95-453d-b437-49882fd65463",
   "metadata": {
    "jp-MarkdownHeadingCollapsed": true
   },
   "source": [
    "### Absolute and Relative Paths:\n",
    "> 1. `'.'`: current folder\n",
    "> 2. `'..'` parent folder"
   ]
  },
  {
   "cell_type": "code",
   "execution_count": null,
   "id": "515da835-ba21-4816-b71a-4b93aa8ea97b",
   "metadata": {},
   "outputs": [],
   "source": [
    "os.listdir('.')"
   ]
  },
  {
   "cell_type": "code",
   "execution_count": null,
   "id": "6e260f11-162e-4db2-9f91-76ee555554a8",
   "metadata": {},
   "outputs": [],
   "source": [
    "os.listdir('..')"
   ]
  },
  {
   "cell_type": "code",
   "execution_count": null,
   "id": "57e72e66-ba1d-4ecd-ae6c-19e9477bc0ef",
   "metadata": {},
   "outputs": [],
   "source": [
    "print(os.getcwd())\n",
    "os.listdir(os.getcwd())"
   ]
  },
  {
   "cell_type": "markdown",
   "id": "8ae373b8-3fab-4226-95db-e6e6f9cf794d",
   "metadata": {
    "jp-MarkdownHeadingCollapsed": true
   },
   "source": [
    "### Directory Manipulation"
   ]
  },
  {
   "cell_type": "markdown",
   "id": "541bea95-b6d1-4e31-9669-9c1d7d7835e9",
   "metadata": {},
   "source": [
    "- __Create New Folders__ `os.makedirs()`:"
   ]
  },
  {
   "cell_type": "code",
   "execution_count": null,
   "id": "ee7e1e40-ea1f-49ee-9a77-e9fff3bd8c57",
   "metadata": {},
   "outputs": [],
   "source": [
    "os.makedirs('FOLDER_A')"
   ]
  },
  {
   "cell_type": "code",
   "execution_count": null,
   "id": "e2b2c4f0-914a-4d6d-b416-0e871c3bc82f",
   "metadata": {},
   "outputs": [],
   "source": [
    "os.chdir('FOLDER_A')\n",
    "os.getcwd()"
   ]
  },
  {
   "cell_type": "code",
   "execution_count": null,
   "id": "1f16b8ca-e026-47f6-846a-63b1a4a58f8c",
   "metadata": {},
   "outputs": [],
   "source": [
    "os.chdir('..')\n",
    "os.getcwd()"
   ]
  },
  {
   "cell_type": "markdown",
   "id": "94cfeb3a-2079-4034-ac9b-0894dff94172",
   "metadata": {},
   "source": [
    "- __Copy Files__ `shutil.copy()`:"
   ]
  },
  {
   "cell_type": "code",
   "execution_count": null,
   "id": "a220822f-2cd0-45c7-bf67-104ee9725efb",
   "metadata": {},
   "outputs": [],
   "source": [
    "# Create an empty file in folder 'FOLDER_A'\n",
    "open(os.path.join('FOLDER_A', 'FILE_1.txt'), 'w').close()\n",
    "os.listdir('FOLDER_A')"
   ]
  },
  {
   "cell_type": "code",
   "execution_count": null,
   "id": "d58bfc91-176c-4c28-aede-dff4dc07b4f9",
   "metadata": {},
   "outputs": [],
   "source": [
    "# Create another folder 'FOLDER_B'\n",
    "os.makedirs('FOLDER_B')"
   ]
  },
  {
   "cell_type": "code",
   "execution_count": null,
   "id": "e89b2223-ac59-4f34-8e87-09663c09fb83",
   "metadata": {},
   "outputs": [],
   "source": [
    "# Copy file 'FILE_1.txt' from folder 'FOLDER_A' to 'FOLDER_B'\n",
    "import shutil\n",
    "shutil.copy(os.path.join('FOLDER_A', 'FILE_1.txt'), 'FOLDER_B')\n",
    "print(os.listdir('FOLDER_A'))\n",
    "print(os.listdir('FOLDER_B'))"
   ]
  },
  {
   "cell_type": "markdown",
   "id": "2a71ad54-6abb-422e-9ce5-1206eadcbcd2",
   "metadata": {},
   "source": [
    "- __Move Files__ `shutil.move()`:"
   ]
  },
  {
   "cell_type": "code",
   "execution_count": null,
   "id": "c49ee97b-ea96-4636-8070-c95f5b6f9d9a",
   "metadata": {},
   "outputs": [],
   "source": [
    "# Create another empty file in folder 'FOLDER_A'\n",
    "open(os.path.join('FOLDER_A', 'FILE_2.txt'), 'w').close()\n",
    "os.listdir('FOLDER_A')"
   ]
  },
  {
   "cell_type": "code",
   "execution_count": null,
   "id": "927d02e3-1a3a-4001-80be-0c1a5b2287e8",
   "metadata": {},
   "outputs": [],
   "source": [
    "# Move 'FILE_2.txt' to folder 'FOLDER_B'\n",
    "shutil.move(os.path.join('FOLDER_A', 'FILE_2.txt'), 'FOLDER_B')\n",
    "print(os.listdir('FOLDER_A'))\n",
    "print(os.listdir('FOLDER_B'))"
   ]
  },
  {
   "cell_type": "markdown",
   "id": "cde3d57b-841d-4d62-a359-c65c76c96cd6",
   "metadata": {},
   "source": [
    "- __Delete Folders__ `os.rmdir()`:"
   ]
  },
  {
   "cell_type": "code",
   "execution_count": null,
   "id": "c792ae5b-e086-40f0-a81d-388bfeb94b60",
   "metadata": {},
   "outputs": [],
   "source": [
    "# Cannot delete folder if it is not empty\n",
    "os.rmdir('FOLDER_A')"
   ]
  },
  {
   "cell_type": "markdown",
   "id": "c86389b2-3ef5-4798-ad6b-4b0f1bf08641",
   "metadata": {},
   "source": [
    "- __Delete Files__ `os.remove()`:"
   ]
  },
  {
   "cell_type": "code",
   "execution_count": null,
   "id": "f64938f8-c3ae-4882-bab7-7ebae2a0d018",
   "metadata": {},
   "outputs": [],
   "source": [
    "# Delete 'FILE_1.txt'\n",
    "os.remove(os.path.join('FOLDER_A', 'FILE_1.txt'))\n",
    "os.listdir('FOLDER_A')"
   ]
  },
  {
   "cell_type": "code",
   "execution_count": null,
   "id": "c37de407-b092-4c7f-be01-8d54bec1bbf3",
   "metadata": {},
   "outputs": [],
   "source": [
    "# Delete folder 'FOLDER_A'\n",
    "os.rmdir('FOLDER_A')\n",
    "os.listdir()"
   ]
  },
  {
   "cell_type": "markdown",
   "id": "bd82b734-16bd-44c5-855c-0713aaf893f3",
   "metadata": {
    "jp-MarkdownHeadingCollapsed": true
   },
   "source": [
    "### Read Files"
   ]
  },
  {
   "cell_type": "markdown",
   "id": "be6745f6-e1b3-4bfb-a6d2-c878e4f58b0f",
   "metadata": {},
   "source": [
    "- __(Not Useful) Built-in Method__ `csv.reader()`:"
   ]
  },
  {
   "cell_type": "code",
   "execution_count": null,
   "id": "bb3395ed-291b-45ee-9b8e-670888c08885",
   "metadata": {},
   "outputs": [],
   "source": [
    "import csv\n",
    "with open('economic_indicators.csv') as file:\n",
    "    reader = csv.reader(file)\n",
    "    data = list(reader) # Convert csv data into a list\n",
    "data[:5]"
   ]
  },
  {
   "cell_type": "markdown",
   "id": "01f75160-6d73-4314-80f8-c6b7f8ac47ca",
   "metadata": {},
   "source": [
    "- __Read <span style=\"color: red;\">csv</span> Files__ `pd.read_csv()`:"
   ]
  },
  {
   "cell_type": "code",
   "execution_count": null,
   "id": "3796856e-c412-4f87-8f45-1a3b12c411f8",
   "metadata": {},
   "outputs": [],
   "source": [
    "import pandas as pd\n",
    "data = pd.read_csv('economic_indicators.csv')\n",
    "data.head()"
   ]
  },
  {
   "cell_type": "markdown",
   "id": "766fea3c-1d28-484a-8c7f-70be88cd6525",
   "metadata": {},
   "source": [
    "- __Read <span style=\"color: red;\">Excel</span>(xlsx) Files__ `pd.read_excel()`:"
   ]
  },
  {
   "cell_type": "code",
   "execution_count": null,
   "id": "40d302f6-78e2-4230-9774-38d967df84ff",
   "metadata": {},
   "outputs": [],
   "source": [
    "# Need to install library openpyxl\n",
    "data = pd.read_excel('economic_indicators.xlsx')\n",
    "data.head()"
   ]
  },
  {
   "cell_type": "markdown",
   "id": "0b3463fb-a466-4b33-9492-7fe5ce691366",
   "metadata": {},
   "source": [
    "- __Read <span style=\"color: red;\">Stata</span>(dta) Files__ `pd.read_stata()`:"
   ]
  },
  {
   "cell_type": "code",
   "execution_count": null,
   "id": "fbd76de1-1905-438d-a34c-e525cafd9688",
   "metadata": {},
   "outputs": [],
   "source": [
    "data = pd.read_stata('economic_indicators.dta')\n",
    "data.head()"
   ]
  },
  {
   "cell_type": "markdown",
   "id": "5d9d3ebb-7562-4e67-b9b5-78a6035fd2a2",
   "metadata": {
    "jp-MarkdownHeadingCollapsed": true
   },
   "source": [
    "### Write Files"
   ]
  },
  {
   "cell_type": "markdown",
   "id": "e271082d-b6f1-42ce-ab87-38a799d686c6",
   "metadata": {},
   "source": [
    "- __(Not Useful) Built-in Method__ `csv.writer()`:"
   ]
  },
  {
   "cell_type": "code",
   "execution_count": null,
   "id": "8879330a-1cc7-4f7f-82e5-fceefee6bfd7",
   "metadata": {},
   "outputs": [],
   "source": [
    "# Read the csv file into a list\n",
    "with open('economic_indicators.csv') as file:\n",
    "    reader = csv.reader(file)\n",
    "    data = list(reader)\n",
    "\n",
    "# Write the list into a csv file\n",
    "with open('economic_indicators_csv_writer.csv', mode='w', newline='', encoding='utf-8') as file:\n",
    "    writer = csv.writer(file)\n",
    "    \n",
    "    # Write all rows from data\n",
    "    writer.writerows(data)"
   ]
  },
  {
   "cell_type": "markdown",
   "id": "842aace0-0523-469a-8b6d-cf1a2fefb039",
   "metadata": {},
   "source": [
    "- __Write <span style=\"color: red;\">csv</span> Files__ `pd.to_csv()`:"
   ]
  },
  {
   "cell_type": "code",
   "execution_count": null,
   "id": "3a417efb-bdc8-4389-99f5-c5878bea04ae",
   "metadata": {},
   "outputs": [],
   "source": [
    "# Read the csv file into a pd.DataFrame\n",
    "data = pd.read_csv('economic_indicators.csv')\n",
    "\n",
    "# Write the pd.DataFrame into a csv file\n",
    "data.to_csv('economic_indicators_pandas.csv', index=False)"
   ]
  },
  {
   "cell_type": "markdown",
   "id": "0121dcb5-d43d-440f-aa46-d1990c26cbd2",
   "metadata": {},
   "source": [
    "- __Write <span style=\"color: red;\">Excel</span>(xlsx) Files__ `pd.to_excel()`:"
   ]
  },
  {
   "cell_type": "code",
   "execution_count": null,
   "id": "9049444c-9e99-420f-9588-f3cf23741605",
   "metadata": {},
   "outputs": [],
   "source": [
    "data.to_excel('economic_indicators_pandas.xlsx', index=False)"
   ]
  },
  {
   "cell_type": "markdown",
   "id": "66ebb59e-b11c-4cab-9058-f76e34ce099b",
   "metadata": {},
   "source": [
    "- __Write <span style=\"color: red;\">Stata</span>(dta) Files__ `pd.to_stata()`:"
   ]
  },
  {
   "cell_type": "code",
   "execution_count": null,
   "id": "7eb4dfad-2028-4c41-b7a6-689f5a455e53",
   "metadata": {},
   "outputs": [],
   "source": [
    "data.to_stata('economic_indicators_pandas.dta', write_index=False)"
   ]
  },
  {
   "cell_type": "markdown",
   "id": "78b9b999-c315-48fb-9817-28cf1ce12d85",
   "metadata": {},
   "source": [
    "### Best Practice in File Handling\n",
    "\n",
    "- Use folders to organize files\n",
    "- Use relative path\n",
    "- Use `pandas` to read and write files\n",
    "- Use meaningful file names"
   ]
  },
  {
   "cell_type": "markdown",
   "id": "40983be4-c90a-4c5d-b064-e6f5a5be6386",
   "metadata": {},
   "source": [
    "***"
   ]
  },
  {
   "cell_type": "markdown",
   "id": "43bb1430-9da3-43f0-81c3-8dda76cc0895",
   "metadata": {},
   "source": [
    "## 5. Data Collection"
   ]
  },
  {
   "cell_type": "markdown",
   "id": "a99671cd-d6e2-4322-aa8d-ffbe4af9bc73",
   "metadata": {
    "jp-MarkdownHeadingCollapsed": true
   },
   "source": [
    "#### __World Bank__ `pandas_datareader.wb`\n",
    "\n",
    "Use __World Bank Indicators__ webpage https://data.worldbank.org/indicator to find the indicator ID\n",
    "1. Search for the keyword \"GDP\"\n",
    "2. Click on the indicator `GDP (current US$)` from the search results\n",
    "3. The indicator ID is found in the URL address: https:\\/\\/data.worldbank.org/indicator/<span style=\"color: red;\">NY.GDP.MKTP.CD</span>?view=chart"
   ]
  },
  {
   "cell_type": "code",
   "execution_count": null,
   "id": "b557bb16-e36e-4eb6-935e-54e012db6b86",
   "metadata": {},
   "outputs": [],
   "source": [
    "import warnings\n",
    "warnings.simplefilter(action='ignore', category=FutureWarning)\n",
    "import pandas as pd\n",
    "from pandas_datareader import wb\n",
    "\n",
    "# Define indicators & country list\n",
    "indicators_dict = {\n",
    "    \"NY.GDP.MKTP.CD\": \"GDP (Current US$)\",  # GDP in current US dollars\n",
    "    \"FP.CPI.TOTL.ZG\": \"Inflation (CPI)\"  # Inflation (Consumer Price Index)\n",
    "}\n",
    "\n",
    "countries = [\"USA\", \"CHN\", \"DEU\"]  # Using ISO country codes\n",
    "\n",
    "# Fetch data from World Bank\n",
    "data = wb.download(\n",
    "    indicator=list(indicators_dict.keys()),\n",
    "    country=countries,\n",
    "    start=2019,\n",
    "    end=2024\n",
    ")\n",
    "\n",
    "# Display the data\n",
    "print(data)"
   ]
  },
  {
   "cell_type": "markdown",
   "id": "5300d15d-c11c-4f2c-b922-44aa263e955e",
   "metadata": {
    "jp-MarkdownHeadingCollapsed": true
   },
   "source": [
    "#### __Federal Reserve Economic Data (FRED)__ `pandas_datareader.data`\n",
    "\n",
    "Use __FRED__ webpage https://fred.stlouisfed.org/ to find the indicator ID\n",
    "1. Search for the keyword \"GDP\"\n",
    "2. Click on the indicator `Gross Domestic Product` from the search results\n",
    "3. The indicator ID is found in the URL address: https:\\/\\/fred.stlouisfed.org/series/<span style=\"color: red;\">GDP</span>\n"
   ]
  },
  {
   "cell_type": "code",
   "execution_count": null,
   "id": "705eece4-bacf-46fe-b5f1-2ef10fd1c4cc",
   "metadata": {},
   "outputs": [],
   "source": [
    "import pandas_datareader.data as web\n",
    "import datetime\n",
    "\n",
    "# Define the time period\n",
    "start = datetime.datetime(2019, 1, 1)\n",
    "end = datetime.datetime(2024, 12, 31)\n",
    "\n",
    "# Fetch the US unemployment rate and CPI from FRED\n",
    "data = web.DataReader(['UNRATE', 'CPIAUCSL'], 'fred', start, end)\n",
    "\n",
    "# Display the data\n",
    "print(data)"
   ]
  },
  {
   "cell_type": "markdown",
   "id": "4c2b0a0c-41c2-4760-b8f9-0db46685b3ea",
   "metadata": {
    "jp-MarkdownHeadingCollapsed": true
   },
   "source": [
    "#### __Fama/French Data__ `pandas_datareader.data`\n",
    "\n",
    "Use the `get_available_datasets()` function from `pandas_datareader.famafrench` to list all available data sets"
   ]
  },
  {
   "cell_type": "code",
   "execution_count": null,
   "id": "d80e2f11-b627-4947-ba75-f886a98d8a36",
   "metadata": {},
   "outputs": [],
   "source": [
    "from pandas_datareader.famafrench import get_available_datasets\n",
    "get_available_datasets()[:20]"
   ]
  },
  {
   "cell_type": "code",
   "execution_count": null,
   "id": "5fc64df0-4172-4c13-8f19-65b4c31be278",
   "metadata": {},
   "outputs": [],
   "source": [
    "import pandas_datareader.data as web\n",
    "ds = web.DataReader('6_Portfolios_2x3', 'famafrench')\n",
    "print(ds['DESCR'])"
   ]
  },
  {
   "cell_type": "code",
   "execution_count": null,
   "id": "50e5ae3a-ee92-46a3-9470-9a5f9e5b86d7",
   "metadata": {},
   "outputs": [],
   "source": [
    "ds[2].head()"
   ]
  },
  {
   "cell_type": "markdown",
   "id": "c4413011-335d-497e-9ab3-faa3703cf9e5",
   "metadata": {
    "jp-MarkdownHeadingCollapsed": true
   },
   "source": [
    "#### __Yahoo Finance__ `yfinance`\n",
    "\n",
    "Use standard stock tickers to fetch data"
   ]
  },
  {
   "cell_type": "code",
   "execution_count": null,
   "id": "316ab900-b418-4fb8-b15f-6f9451dda519",
   "metadata": {},
   "outputs": [],
   "source": [
    "import yfinance as yf\n",
    "import pandas as pd\n",
    "\n",
    "# Define stock tickers\n",
    "tickers = [\"AAPL\", \"MSFT\"]\n",
    "\n",
    "# Define date range (Optional: adjust as needed)\n",
    "start_date = \"2025-02-01\"\n",
    "end_date = \"2025-02-15\"\n",
    "\n",
    "# Fetch daily historical data\n",
    "df = yf.download(tickers, start=start_date, end=end_date, interval=\"1d\")\n",
    "\n",
    "# Display first few rows\n",
    "print(df.head())"
   ]
  },
  {
   "cell_type": "markdown",
   "id": "d70478e0-5e87-4fab-8098-0a65968e50c6",
   "metadata": {
    "jp-MarkdownHeadingCollapsed": true
   },
   "source": [
    "#### __International Monetary Fund (IMF) Data__ `requests`\n",
    "\n",
    "Follow these steps to find the data set codes: https://www.bd-econ.com/imfapi2.html"
   ]
  },
  {
   "cell_type": "code",
   "execution_count": null,
   "id": "2dde84aa-faae-4af8-bc4e-9fdc9266b52d",
   "metadata": {},
   "outputs": [],
   "source": [
    "import requests\n",
    "\n",
    "url = 'http://dataservices.imf.org/REST/SDMX_JSON.svc/'\n",
    "key = 'CompactData/IFS/M.GB.PMP_IX' # adjust codes here\n",
    "\n",
    "# Navigate to series in API-returned JSON data\n",
    "obj = requests.get(f'{url}{key}').json()\n",
    "data = obj['CompactData']['DataSet']['Series']\n",
    "\n",
    "print(data['Obs'][:5])"
   ]
  },
  {
   "cell_type": "markdown",
   "id": "f0cc22b9-1622-4000-825f-c0ad5e22e738",
   "metadata": {
    "jp-MarkdownHeadingCollapsed": true
   },
   "source": [
    "#### __JSON Object__"
   ]
  },
  {
   "cell_type": "code",
   "execution_count": null,
   "id": "4d553e4e-b9bf-4ef9-90e4-038663ba827c",
   "metadata": {},
   "outputs": [],
   "source": [
    "# Create a JSON object.\n",
    "data = {\n",
    "  \"pets\": [\n",
    "    {\n",
    "      \"type\": \"dog\",\n",
    "      \"name\": \"Buddy\",\n",
    "      \"age\": 5,\n",
    "      \"vaccinations\": [\"rabies\", \"distemper\", \"parvovirus\"],\n",
    "      \"owner\": {\n",
    "        \"name\": \"Alice\",\n",
    "        \"contact\": \"alice@example.com\"\n",
    "      }\n",
    "    },\n",
    "    {\n",
    "      \"type\": \"cat\",\n",
    "      \"name\": \"Whiskers\",\n",
    "      \"age\": 3,\n",
    "      \"vaccinations\": [\"feline distemper\", \"rabies\"],\n",
    "      \"owner\": {\n",
    "        \"name\": \"Bob\",\n",
    "        \"contact\": \"bob@example.com\"\n",
    "      }\n",
    "    },\n",
    "    {\n",
    "      \"type\": \"parrot\",\n",
    "      \"name\": \"Polly\",\n",
    "      \"age\": 2,\n",
    "      \"vaccinations\": [],\n",
    "      \"owner\": {\n",
    "        \"name\": \"Charlie\",\n",
    "        \"contact\": \"charlie@example.com\"\n",
    "      }\n",
    "    }\n",
    "  ]\n",
    "}"
   ]
  },
  {
   "cell_type": "code",
   "execution_count": null,
   "id": "b40bc32c-7aba-4f8a-a560-609e3e9fde52",
   "metadata": {},
   "outputs": [],
   "source": [
    "data['pets'][1]"
   ]
  },
  {
   "cell_type": "code",
   "execution_count": null,
   "id": "cbf8a1eb-dd57-40e6-b960-2c750c133e88",
   "metadata": {},
   "outputs": [],
   "source": [
    "data['pets'][1]['name']"
   ]
  }
 ],
 "metadata": {
  "kernelspec": {
   "display_name": "Python 3 (ipykernel)",
   "language": "python",
   "name": "python3"
  },
  "language_info": {
   "codemirror_mode": {
    "name": "ipython",
    "version": 3
   },
   "file_extension": ".py",
   "mimetype": "text/x-python",
   "name": "python",
   "nbconvert_exporter": "python",
   "pygments_lexer": "ipython3",
   "version": "3.12.9"
  }
 },
 "nbformat": 4,
 "nbformat_minor": 5
}
