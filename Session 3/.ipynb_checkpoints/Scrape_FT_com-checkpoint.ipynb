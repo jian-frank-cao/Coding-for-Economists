{
 "cells": [
  {
   "cell_type": "markdown",
   "metadata": {
    "id": "f8kdeAsQBtnV"
   },
   "source": [
    "# Scrape Headlines of FT.com"
   ]
  },
  {
   "cell_type": "markdown",
   "metadata": {
    "id": "EcbSdcsMB-qQ"
   },
   "source": [
    "## 1. Setup Environment"
   ]
  },
  {
   "cell_type": "code",
   "execution_count": null,
   "metadata": {
    "executionInfo": {
     "elapsed": 566,
     "status": "ok",
     "timestamp": 1738791793123,
     "user": {
      "displayName": "Jian Cao",
      "userId": "09445483316481323516"
     },
     "user_tz": 0
    },
    "id": "fovCEAE5p2Ek"
   },
   "outputs": [],
   "source": [
    "import requests\n",
    "from bs4 import BeautifulSoup\n",
    "import re\n",
    "import matplotlib.pyplot as plt\n",
    "from wordcloud import WordCloud, STOPWORDS"
   ]
  },
  {
   "cell_type": "markdown",
   "metadata": {
    "id": "yJtQtKjfCPQP"
   },
   "source": [
    "## 2. Scrape FT.com"
   ]
  },
  {
   "cell_type": "code",
   "execution_count": null,
   "metadata": {
    "colab": {
     "base_uri": "https://localhost:8080/"
    },
    "executionInfo": {
     "elapsed": 479,
     "status": "ok",
     "timestamp": 1738791795137,
     "user": {
      "displayName": "Jian Cao",
      "userId": "09445483316481323516"
     },
     "user_tz": 0
    },
    "id": "rRArz46ICZGD",
    "outputId": "3f2d92ae-a4e7-41ce-dab5-6cc8b6edce93"
   },
   "outputs": [],
   "source": [
    "def scrape_ft_headlines():\n",
    "    \"\"\"\n",
    "    Scrapes headlines from the Financial Times homepage.\n",
    "    Adjust the selectors as needed if the site structure changes.\n",
    "    \"\"\"\n",
    "    url = \"https://www.ft.com/\"\n",
    "    headers = {\n",
    "        \"User-Agent\": (\n",
    "            \"Mozilla/5.0 (Windows NT 10.0; Win64; x64) \"\n",
    "            \"AppleWebKit/537.36 (KHTML, like Gecko) \"\n",
    "            \"Chrome/90.0.4430.93 Safari/537.36\"\n",
    "        )\n",
    "    }\n",
    "\n",
    "    response = requests.get(url, headers=headers)\n",
    "    if response.status_code != 200:\n",
    "        print(\"Failed to retrieve the page. HTTP Status Code:\", response.status_code)\n",
    "        return []\n",
    "\n",
    "    soup = BeautifulSoup(response.content, 'html.parser')\n",
    "    headlines = []\n",
    "\n",
    "    # Look for common headline tags; you might need to adjust these if FT changes their layout.\n",
    "    for tag in soup.find_all(['a', 'h3']):\n",
    "        text = tag.get_text(strip=True)\n",
    "        if text and len(text) > 20:\n",
    "            headlines.append(text)\n",
    "\n",
    "    return headlines\n",
    "\n",
    "print(\"Scraping the Financial Times homepage for headlines...\")\n",
    "headlines = scrape_ft_headlines()\n",
    "\n",
    "if not headlines:\n",
    "    print(\"No headlines found. The page structure may have changed or scraping might be blocked.\")\n",
    "else:\n",
    "  print(\"\\nScraped Headlines:\")\n",
    "  for idx, headline in enumerate(headlines, start=1):\n",
    "      print(f\"{idx}. {headline}\")"
   ]
  },
  {
   "cell_type": "markdown",
   "metadata": {
    "id": "eTAMMBkVCv_Q"
   },
   "source": [
    "## 3. Plot Word Cloud of Headlines"
   ]
  },
  {
   "cell_type": "code",
   "execution_count": null,
   "metadata": {
    "colab": {
     "base_uri": "https://localhost:8080/",
     "height": 680
    },
    "executionInfo": {
     "elapsed": 1399,
     "status": "ok",
     "timestamp": 1738791820006,
     "user": {
      "displayName": "Jian Cao",
      "userId": "09445483316481323516"
     },
     "user_tz": 0
    },
    "id": "98LDPAC_p_V5",
    "outputId": "0d012406-4103-48e6-dd98-f14489023eba"
   },
   "outputs": [],
   "source": [
    "def generate_wordcloud(headlines):\n",
    "    \"\"\"\n",
    "    Generates and displays a word cloud from the provided headlines.\n",
    "    \"\"\"\n",
    "    # Combine all headlines into one text string\n",
    "    text = \" \".join(headlines)\n",
    "\n",
    "    # Remove non-alphabetic characters and convert to lowercase\n",
    "    text = re.sub(r\"[^a-zA-Z\\s]\", \"\", text).lower()\n",
    "\n",
    "    # Define additional stopwords if needed\n",
    "    custom_stopwords = {\"ft\", \"financial\", \"times\"}\n",
    "    stopwords = STOPWORDS.union(custom_stopwords)\n",
    "\n",
    "    # Generate the word cloud\n",
    "    wordcloud = WordCloud(\n",
    "        width=800,\n",
    "        height=400,\n",
    "        background_color='white',\n",
    "        stopwords=stopwords,\n",
    "        collocations=False  # Prevents joining words that appear together often\n",
    "    ).generate(text)\n",
    "\n",
    "    # Display the generated word cloud using matplotlib\n",
    "    plt.figure(figsize=(15, 7.5))\n",
    "    plt.imshow(wordcloud, interpolation='bilinear')\n",
    "    plt.axis(\"off\")\n",
    "    plt.title(\"Word Cloud of FT Headlines\", fontsize=20)\n",
    "    plt.show()\n",
    "\n",
    "print(\"\\nGenerating word cloud...\")\n",
    "generate_wordcloud(headlines)"
   ]
  }
 ],
 "metadata": {
  "colab": {
   "authorship_tag": "ABX9TyOjkTK/DoAWBX85ZmJDUk93",
   "provenance": []
  },
  "kernelspec": {
   "display_name": "Python 3 (ipykernel)",
   "language": "python",
   "name": "python3"
  },
  "language_info": {
   "codemirror_mode": {
    "name": "ipython",
    "version": 3
   },
   "file_extension": ".py",
   "mimetype": "text/x-python",
   "name": "python",
   "nbconvert_exporter": "python",
   "pygments_lexer": "ipython3",
   "version": "3.12.9"
  }
 },
 "nbformat": 4,
 "nbformat_minor": 4
}
