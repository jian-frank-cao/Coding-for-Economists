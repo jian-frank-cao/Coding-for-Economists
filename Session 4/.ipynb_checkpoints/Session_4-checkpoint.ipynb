{
 "cells": [
  {
   "cell_type": "markdown",
   "id": "057bb604-0cf0-4e18-a164-13e999b0db34",
   "metadata": {},
   "source": [
    "# Coding for Economists - Session 4"
   ]
  },
  {
   "cell_type": "markdown",
   "id": "94440b20-855c-4012-b9e4-f4e0f2094ed6",
   "metadata": {},
   "source": [
    "***"
   ]
  },
  {
   "cell_type": "markdown",
   "id": "fdd0c543-16a0-4817-a3b0-cec487246dad",
   "metadata": {
    "jp-MarkdownHeadingCollapsed": true
   },
   "source": [
    "## 1. Environment Setup "
   ]
  },
  {
   "cell_type": "code",
   "execution_count": null,
   "id": "855dfdd0-3d12-4431-87e5-035786e3275b",
   "metadata": {},
   "outputs": [],
   "source": [
    "# make sure current environment is correct\n",
    "import sys\n",
    "print(sys.executable)"
   ]
  },
  {
   "cell_type": "code",
   "execution_count": null,
   "id": "a43868f2-46ec-4f9e-a12e-d069a7959ace",
   "metadata": {
    "scrolled": true
   },
   "outputs": [],
   "source": [
    "# use %conda to install libraries in current environment\n",
    "%conda install pandas numpy openpyxl -y"
   ]
  },
  {
   "cell_type": "code",
   "execution_count": null,
   "id": "377237ab-89ac-4758-9a67-1a515b9d89cb",
   "metadata": {},
   "outputs": [],
   "source": [
    "# Use %pip to install libraries not available in conda\n",
    "%pip install yfinance pandas_datareader"
   ]
  },
  {
   "cell_type": "markdown",
   "id": "3dbdb5cd-9e4d-4ca5-bd1f-d30bd2cc9918",
   "metadata": {},
   "source": [
    "<div class=\"alert alert-block alert-info\">\n",
    "<b>Reminder:</b> Restart the kernel after installing any libraries.\n",
    "</div>"
   ]
  },
  {
   "cell_type": "code",
   "execution_count": null,
   "id": "12dadc70-87de-4b77-ac17-5022f5242d64",
   "metadata": {},
   "outputs": [],
   "source": [
    "import numpy as np\n",
    "import pandas as pd\n",
    "from datetime import date"
   ]
  },
  {
   "cell_type": "markdown",
   "id": "cc1c52b7-2947-440e-9869-2dea3f5adb1e",
   "metadata": {},
   "source": [
    "***"
   ]
  },
  {
   "cell_type": "markdown",
   "id": "68b1a953-fdfa-41cb-9f42-fa24b251f06a",
   "metadata": {},
   "source": [
    "## 2. File Handling"
   ]
  },
  {
   "cell_type": "markdown",
   "id": "43f6d1d9-6926-45f8-a536-1baaa903a661",
   "metadata": {
    "jp-MarkdownHeadingCollapsed": true
   },
   "source": [
    "### Directory Paths"
   ]
  },
  {
   "cell_type": "markdown",
   "id": "22f4b456-5ecd-4adc-8e8c-9a8e334eaee0",
   "metadata": {},
   "source": [
    "- __Windows__: `'C:\\\\Users\\\\Tommy\\\\'`\n",
    "- __MacOS(Linux)__: `'/home/Tommy/'`"
   ]
  },
  {
   "cell_type": "code",
   "execution_count": null,
   "id": "6c4d0721-07d5-47e8-a447-3386539c3d7f",
   "metadata": {},
   "outputs": [],
   "source": [
    "import os\n",
    "os.path.join('C:', 'Users', 'Tommy')"
   ]
  },
  {
   "cell_type": "code",
   "execution_count": null,
   "id": "20814968-0e23-4431-a60a-ad369eb7cdf0",
   "metadata": {},
   "outputs": [],
   "source": [
    "os.path.join('home', 'Tommy')"
   ]
  },
  {
   "cell_type": "markdown",
   "id": "5bee6ca3-5082-4d35-953b-34fc8fa0293a",
   "metadata": {
    "jp-MarkdownHeadingCollapsed": true
   },
   "source": [
    "### Current Working Directory"
   ]
  },
  {
   "cell_type": "markdown",
   "id": "3bf9a1f8-f43b-4a58-a245-55596980c301",
   "metadata": {},
   "source": [
    "- __Print Current Working Directory__ `os.getcwd()`:"
   ]
  },
  {
   "cell_type": "code",
   "execution_count": null,
   "id": "4017fcc2-d03c-458a-a483-cd6521c308bd",
   "metadata": {},
   "outputs": [],
   "source": [
    "os.getcwd()"
   ]
  },
  {
   "cell_type": "markdown",
   "id": "b424c7c7-b356-48d6-bc7f-063476ffa709",
   "metadata": {},
   "source": [
    "- __Change Current Working Directory__ `os.chdir()`:"
   ]
  },
  {
   "cell_type": "code",
   "execution_count": null,
   "id": "05d9cd79-83c3-4852-bfd6-3094e636f39d",
   "metadata": {},
   "outputs": [],
   "source": [
    "os.chdir(os.getcwd().replace('Session 3', ''))\n",
    "os.getcwd()"
   ]
  },
  {
   "cell_type": "code",
   "execution_count": null,
   "id": "50e5892c-118b-4d7c-8959-9ed50188882d",
   "metadata": {},
   "outputs": [],
   "source": [
    "os.chdir(os.path.join(os.getcwd(), 'Session 3'))\n",
    "os.getcwd()"
   ]
  },
  {
   "cell_type": "markdown",
   "id": "d0db84ce-8a95-453d-b437-49882fd65463",
   "metadata": {
    "jp-MarkdownHeadingCollapsed": true
   },
   "source": [
    "### Absolute and Relative Paths:\n",
    "> 1. `'.'`: current folder\n",
    "> 2. `'..'` parent folder"
   ]
  },
  {
   "cell_type": "code",
   "execution_count": null,
   "id": "515da835-ba21-4816-b71a-4b93aa8ea97b",
   "metadata": {},
   "outputs": [],
   "source": [
    "os.listdir('.')"
   ]
  },
  {
   "cell_type": "code",
   "execution_count": null,
   "id": "6e260f11-162e-4db2-9f91-76ee555554a8",
   "metadata": {},
   "outputs": [],
   "source": [
    "os.listdir('..')"
   ]
  },
  {
   "cell_type": "code",
   "execution_count": null,
   "id": "57e72e66-ba1d-4ecd-ae6c-19e9477bc0ef",
   "metadata": {},
   "outputs": [],
   "source": [
    "print(os.getcwd())\n",
    "os.listdir(os.getcwd())"
   ]
  },
  {
   "cell_type": "markdown",
   "id": "8ae373b8-3fab-4226-95db-e6e6f9cf794d",
   "metadata": {
    "jp-MarkdownHeadingCollapsed": true
   },
   "source": [
    "### Directory Manipulation"
   ]
  },
  {
   "cell_type": "markdown",
   "id": "541bea95-b6d1-4e31-9669-9c1d7d7835e9",
   "metadata": {},
   "source": [
    "- __Create New Folders__ `os.makedirs()`:"
   ]
  },
  {
   "cell_type": "code",
   "execution_count": null,
   "id": "ee7e1e40-ea1f-49ee-9a77-e9fff3bd8c57",
   "metadata": {},
   "outputs": [],
   "source": [
    "os.makedirs('FOLDER_A')"
   ]
  },
  {
   "cell_type": "code",
   "execution_count": null,
   "id": "e2b2c4f0-914a-4d6d-b416-0e871c3bc82f",
   "metadata": {},
   "outputs": [],
   "source": [
    "os.chdir('FOLDER_A')\n",
    "os.getcwd()"
   ]
  },
  {
   "cell_type": "code",
   "execution_count": null,
   "id": "1f16b8ca-e026-47f6-846a-63b1a4a58f8c",
   "metadata": {},
   "outputs": [],
   "source": [
    "os.chdir('..')\n",
    "os.getcwd()"
   ]
  },
  {
   "cell_type": "markdown",
   "id": "94cfeb3a-2079-4034-ac9b-0894dff94172",
   "metadata": {},
   "source": [
    "- __Copy Files__ `shutil.copy()`:"
   ]
  },
  {
   "cell_type": "code",
   "execution_count": null,
   "id": "a220822f-2cd0-45c7-bf67-104ee9725efb",
   "metadata": {},
   "outputs": [],
   "source": [
    "# Create an empty file in folder 'FOLDER_A'\n",
    "open(os.path.join('FOLDER_A', 'FILE_1.txt'), 'w').close()\n",
    "os.listdir('FOLDER_A')"
   ]
  },
  {
   "cell_type": "code",
   "execution_count": null,
   "id": "d58bfc91-176c-4c28-aede-dff4dc07b4f9",
   "metadata": {},
   "outputs": [],
   "source": [
    "# Create another folder 'FOLDER_B'\n",
    "os.makedirs('FOLDER_B')"
   ]
  },
  {
   "cell_type": "code",
   "execution_count": null,
   "id": "e89b2223-ac59-4f34-8e87-09663c09fb83",
   "metadata": {},
   "outputs": [],
   "source": [
    "# Copy file 'FILE_1.txt' from folder 'FOLDER_A' to 'FOLDER_B'\n",
    "import shutil\n",
    "shutil.copy(os.path.join('FOLDER_A', 'FILE_1.txt'), 'FOLDER_B')\n",
    "print(os.listdir('FOLDER_A'))\n",
    "print(os.listdir('FOLDER_B'))"
   ]
  },
  {
   "cell_type": "markdown",
   "id": "2a71ad54-6abb-422e-9ce5-1206eadcbcd2",
   "metadata": {},
   "source": [
    "- __Move Files__ `shutil.move()`:"
   ]
  },
  {
   "cell_type": "code",
   "execution_count": null,
   "id": "c49ee97b-ea96-4636-8070-c95f5b6f9d9a",
   "metadata": {},
   "outputs": [],
   "source": [
    "# Create another empty file in folder 'FOLDER_A'\n",
    "open(os.path.join('FOLDER_A', 'FILE_2.txt'), 'w').close()\n",
    "os.listdir('FOLDER_A')"
   ]
  },
  {
   "cell_type": "code",
   "execution_count": null,
   "id": "927d02e3-1a3a-4001-80be-0c1a5b2287e8",
   "metadata": {},
   "outputs": [],
   "source": [
    "# Move 'FILE_2.txt' to folder 'FOLDER_B'\n",
    "shutil.move(os.path.join('FOLDER_A', 'FILE_2.txt'), 'FOLDER_B')\n",
    "print(os.listdir('FOLDER_A'))\n",
    "print(os.listdir('FOLDER_B'))"
   ]
  },
  {
   "cell_type": "markdown",
   "id": "cde3d57b-841d-4d62-a359-c65c76c96cd6",
   "metadata": {},
   "source": [
    "- __Delete Folders__ `os.rmdir()`:"
   ]
  },
  {
   "cell_type": "code",
   "execution_count": null,
   "id": "c792ae5b-e086-40f0-a81d-388bfeb94b60",
   "metadata": {},
   "outputs": [],
   "source": [
    "# Cannot delete folder if it is not empty\n",
    "os.rmdir('FOLDER_A')"
   ]
  },
  {
   "cell_type": "markdown",
   "id": "c86389b2-3ef5-4798-ad6b-4b0f1bf08641",
   "metadata": {},
   "source": [
    "- __Delete Files__ `os.remove()`:"
   ]
  },
  {
   "cell_type": "code",
   "execution_count": null,
   "id": "f64938f8-c3ae-4882-bab7-7ebae2a0d018",
   "metadata": {},
   "outputs": [],
   "source": [
    "# Delete 'FILE_1.txt'\n",
    "os.remove(os.path.join('FOLDER_A', 'FILE_1.txt'))\n",
    "os.listdir('FOLDER_A')"
   ]
  },
  {
   "cell_type": "code",
   "execution_count": null,
   "id": "c37de407-b092-4c7f-be01-8d54bec1bbf3",
   "metadata": {},
   "outputs": [],
   "source": [
    "# Delete folder 'FOLDER_A'\n",
    "os.rmdir('FOLDER_A')\n",
    "os.listdir()"
   ]
  },
  {
   "cell_type": "markdown",
   "id": "bd82b734-16bd-44c5-855c-0713aaf893f3",
   "metadata": {
    "jp-MarkdownHeadingCollapsed": true
   },
   "source": [
    "### Read Files"
   ]
  },
  {
   "cell_type": "markdown",
   "id": "be6745f6-e1b3-4bfb-a6d2-c878e4f58b0f",
   "metadata": {},
   "source": [
    "- __(Not Useful) Built-in Method__ `csv.reader()`:"
   ]
  },
  {
   "cell_type": "code",
   "execution_count": null,
   "id": "bb3395ed-291b-45ee-9b8e-670888c08885",
   "metadata": {},
   "outputs": [],
   "source": [
    "import csv\n",
    "with open('economic_indicators.csv') as file:\n",
    "    reader = csv.reader(file)\n",
    "    data = list(reader) # Convert csv data into a list\n",
    "data[:5]"
   ]
  },
  {
   "cell_type": "markdown",
   "id": "01f75160-6d73-4314-80f8-c6b7f8ac47ca",
   "metadata": {},
   "source": [
    "- __Read <span style=\"color: red;\">csv</span> Files__ `pd.read_csv()`:"
   ]
  },
  {
   "cell_type": "code",
   "execution_count": null,
   "id": "3796856e-c412-4f87-8f45-1a3b12c411f8",
   "metadata": {},
   "outputs": [],
   "source": [
    "import pandas as pd\n",
    "data = pd.read_csv('economic_indicators.csv')\n",
    "data.head()"
   ]
  },
  {
   "cell_type": "markdown",
   "id": "766fea3c-1d28-484a-8c7f-70be88cd6525",
   "metadata": {},
   "source": [
    "- __Read <span style=\"color: red;\">Excel</span>(xlsx) Files__ `pd.read_excel()`:"
   ]
  },
  {
   "cell_type": "code",
   "execution_count": null,
   "id": "40d302f6-78e2-4230-9774-38d967df84ff",
   "metadata": {},
   "outputs": [],
   "source": [
    "# Need to install library openpyxl\n",
    "data = pd.read_excel('economic_indicators.xlsx')\n",
    "data.head()"
   ]
  },
  {
   "cell_type": "markdown",
   "id": "0b3463fb-a466-4b33-9492-7fe5ce691366",
   "metadata": {},
   "source": [
    "- __Read <span style=\"color: red;\">Stata</span>(dta) Files__ `pd.read_stata()`:"
   ]
  },
  {
   "cell_type": "code",
   "execution_count": null,
   "id": "fbd76de1-1905-438d-a34c-e525cafd9688",
   "metadata": {},
   "outputs": [],
   "source": [
    "data = pd.read_stata('economic_indicators.dta')\n",
    "data.head()"
   ]
  },
  {
   "cell_type": "markdown",
   "id": "5d9d3ebb-7562-4e67-b9b5-78a6035fd2a2",
   "metadata": {
    "jp-MarkdownHeadingCollapsed": true
   },
   "source": [
    "### Write Files"
   ]
  },
  {
   "cell_type": "markdown",
   "id": "e271082d-b6f1-42ce-ab87-38a799d686c6",
   "metadata": {},
   "source": [
    "- __(Not Useful) Built-in Method__ `csv.writer()`:"
   ]
  },
  {
   "cell_type": "code",
   "execution_count": null,
   "id": "8879330a-1cc7-4f7f-82e5-fceefee6bfd7",
   "metadata": {},
   "outputs": [],
   "source": [
    "# Read the csv file into a list\n",
    "with open('economic_indicators.csv') as file:\n",
    "    reader = csv.reader(file)\n",
    "    data = list(reader)\n",
    "\n",
    "# Write the list into a csv file\n",
    "with open('economic_indicators_csv_writer.csv', mode='w', newline='', encoding='utf-8') as file:\n",
    "    writer = csv.writer(file)\n",
    "    \n",
    "    # Write all rows from data\n",
    "    writer.writerows(data)"
   ]
  },
  {
   "cell_type": "markdown",
   "id": "842aace0-0523-469a-8b6d-cf1a2fefb039",
   "metadata": {},
   "source": [
    "- __Write <span style=\"color: red;\">csv</span> Files__ `pd.to_csv()`:"
   ]
  },
  {
   "cell_type": "code",
   "execution_count": null,
   "id": "3a417efb-bdc8-4389-99f5-c5878bea04ae",
   "metadata": {},
   "outputs": [],
   "source": [
    "# Read the csv file into a pd.DataFrame\n",
    "data = pd.read_csv('economic_indicators.csv')\n",
    "\n",
    "# Write the pd.DataFrame into a csv file\n",
    "data.to_csv('economic_indicators_pandas.csv', index=False)"
   ]
  },
  {
   "cell_type": "markdown",
   "id": "0121dcb5-d43d-440f-aa46-d1990c26cbd2",
   "metadata": {},
   "source": [
    "- __Write <span style=\"color: red;\">Excel</span>(xlsx) Files__ `pd.to_excel()`:"
   ]
  },
  {
   "cell_type": "code",
   "execution_count": null,
   "id": "9049444c-9e99-420f-9588-f3cf23741605",
   "metadata": {},
   "outputs": [],
   "source": [
    "data.to_excel('economic_indicators_pandas.xlsx', index=False)"
   ]
  },
  {
   "cell_type": "markdown",
   "id": "66ebb59e-b11c-4cab-9058-f76e34ce099b",
   "metadata": {},
   "source": [
    "- __Write <span style=\"color: red;\">Stata</span>(dta) Files__ `pd.to_stata()`:"
   ]
  },
  {
   "cell_type": "code",
   "execution_count": null,
   "id": "7eb4dfad-2028-4c41-b7a6-689f5a455e53",
   "metadata": {},
   "outputs": [],
   "source": [
    "data.to_stata('economic_indicators_pandas.dta', write_index=False)"
   ]
  },
  {
   "cell_type": "markdown",
   "id": "78b9b999-c315-48fb-9817-28cf1ce12d85",
   "metadata": {},
   "source": [
    "### Best Practice in File Handling\n",
    "\n",
    "- Use folders to organize files\n",
    "- Use relative path\n",
    "- Use `pandas` to read and write files\n",
    "- Use meaningful file names"
   ]
  },
  {
   "cell_type": "markdown",
   "id": "40983be4-c90a-4c5d-b064-e6f5a5be6386",
   "metadata": {},
   "source": [
    "***"
   ]
  },
  {
   "cell_type": "markdown",
   "id": "43bb1430-9da3-43f0-81c3-8dda76cc0895",
   "metadata": {},
   "source": [
    "## 3. Data Collection"
   ]
  },
  {
   "cell_type": "markdown",
   "id": "a99671cd-d6e2-4322-aa8d-ffbe4af9bc73",
   "metadata": {
    "jp-MarkdownHeadingCollapsed": true
   },
   "source": [
    "#### __World Bank__ `pandas_datareader.wb`\n",
    "\n",
    "Use __World Bank Indicators__ webpage https://data.worldbank.org/indicator to find the indicator ID\n",
    "1. Search for the keyword \"GDP\"\n",
    "2. Click on the indicator `GDP (current US$)` from the search results\n",
    "3. The indicator ID is found in the URL address: https:\\/\\/data.worldbank.org/indicator/<span style=\"color: red;\">NY.GDP.MKTP.CD</span>?view=chart"
   ]
  },
  {
   "cell_type": "code",
   "execution_count": null,
   "id": "b557bb16-e36e-4eb6-935e-54e012db6b86",
   "metadata": {},
   "outputs": [],
   "source": [
    "import warnings\n",
    "warnings.simplefilter(action='ignore', category=FutureWarning)\n",
    "import pandas as pd\n",
    "from pandas_datareader import wb\n",
    "\n",
    "# Define indicators & country list\n",
    "indicators_dict = {\n",
    "    \"NY.GDP.MKTP.CD\": \"GDP (Current US$)\",  # GDP in current US dollars\n",
    "    \"FP.CPI.TOTL.ZG\": \"Inflation (CPI)\"  # Inflation (Consumer Price Index)\n",
    "}\n",
    "\n",
    "countries = [\"USA\", \"CHN\", \"DEU\"]  # Using ISO country codes\n",
    "\n",
    "# Fetch data from World Bank\n",
    "data = wb.download(\n",
    "    indicator=list(indicators_dict.keys()),\n",
    "    country=countries,\n",
    "    start=2019,\n",
    "    end=2024\n",
    ")\n",
    "\n",
    "# Display the data\n",
    "print(data)"
   ]
  },
  {
   "cell_type": "markdown",
   "id": "5300d15d-c11c-4f2c-b922-44aa263e955e",
   "metadata": {
    "jp-MarkdownHeadingCollapsed": true
   },
   "source": [
    "#### __Federal Reserve Economic Data (FRED)__ `pandas_datareader.data`\n",
    "\n",
    "Use __FRED__ webpage https://fred.stlouisfed.org/ to find the indicator ID\n",
    "1. Search for the keyword \"GDP\"\n",
    "2. Click on the indicator `Gross Domestic Product` from the search results\n",
    "3. The indicator ID is found in the URL address: https:\\/\\/fred.stlouisfed.org/series/<span style=\"color: red;\">GDP</span>\n"
   ]
  },
  {
   "cell_type": "code",
   "execution_count": null,
   "id": "705eece4-bacf-46fe-b5f1-2ef10fd1c4cc",
   "metadata": {},
   "outputs": [],
   "source": [
    "import pandas_datareader.data as web\n",
    "import datetime\n",
    "\n",
    "# Define the time period\n",
    "start = datetime.datetime(2019, 1, 1)\n",
    "end = datetime.datetime(2024, 12, 31)\n",
    "\n",
    "# Fetch the US unemployment rate and CPI from FRED\n",
    "data = web.DataReader(['UNRATE', 'CPIAUCSL'], 'fred', start, end)\n",
    "\n",
    "# Display the data\n",
    "print(data)"
   ]
  },
  {
   "cell_type": "markdown",
   "id": "4c2b0a0c-41c2-4760-b8f9-0db46685b3ea",
   "metadata": {
    "jp-MarkdownHeadingCollapsed": true
   },
   "source": [
    "#### __Fama/French Data__ `pandas_datareader.data`\n",
    "\n",
    "Use the `get_available_datasets()` function from `pandas_datareader.famafrench` to list all available data sets"
   ]
  },
  {
   "cell_type": "code",
   "execution_count": null,
   "id": "d80e2f11-b627-4947-ba75-f886a98d8a36",
   "metadata": {},
   "outputs": [],
   "source": [
    "from pandas_datareader.famafrench import get_available_datasets\n",
    "get_available_datasets()[:20]"
   ]
  },
  {
   "cell_type": "code",
   "execution_count": null,
   "id": "5fc64df0-4172-4c13-8f19-65b4c31be278",
   "metadata": {},
   "outputs": [],
   "source": [
    "import pandas_datareader.data as web\n",
    "ds = web.DataReader('6_Portfolios_2x3', 'famafrench')\n",
    "print(ds['DESCR'])"
   ]
  },
  {
   "cell_type": "code",
   "execution_count": null,
   "id": "50e5ae3a-ee92-46a3-9470-9a5f9e5b86d7",
   "metadata": {},
   "outputs": [],
   "source": [
    "ds[2].head()"
   ]
  },
  {
   "cell_type": "markdown",
   "id": "c4413011-335d-497e-9ab3-faa3703cf9e5",
   "metadata": {
    "jp-MarkdownHeadingCollapsed": true
   },
   "source": [
    "#### __Yahoo Finance__ `yfinance`\n",
    "\n",
    "Use standard stock tickers to fetch data"
   ]
  },
  {
   "cell_type": "code",
   "execution_count": null,
   "id": "316ab900-b418-4fb8-b15f-6f9451dda519",
   "metadata": {},
   "outputs": [],
   "source": [
    "import yfinance as yf\n",
    "import pandas as pd\n",
    "\n",
    "# Define stock tickers\n",
    "tickers = [\"AAPL\", \"MSFT\"]\n",
    "\n",
    "# Define date range (Optional: adjust as needed)\n",
    "start_date = \"2025-02-01\"\n",
    "end_date = \"2025-02-15\"\n",
    "\n",
    "# Fetch daily historical data\n",
    "df = yf.download(tickers, start=start_date, end=end_date, interval=\"1d\")\n",
    "\n",
    "# Display first few rows\n",
    "print(df.head())"
   ]
  },
  {
   "cell_type": "markdown",
   "id": "d70478e0-5e87-4fab-8098-0a65968e50c6",
   "metadata": {
    "jp-MarkdownHeadingCollapsed": true
   },
   "source": [
    "#### __International Monetary Fund (IMF) Data__ `requests`\n",
    "\n",
    "Follow these steps to find the data set codes: https://www.bd-econ.com/imfapi2.html"
   ]
  },
  {
   "cell_type": "code",
   "execution_count": null,
   "id": "2dde84aa-faae-4af8-bc4e-9fdc9266b52d",
   "metadata": {},
   "outputs": [],
   "source": [
    "import requests\n",
    "\n",
    "url = 'http://dataservices.imf.org/REST/SDMX_JSON.svc/'\n",
    "key = 'CompactData/IFS/M.GB.PMP_IX' # adjust codes here\n",
    "\n",
    "# Navigate to series in API-returned JSON data\n",
    "obj = requests.get(f'{url}{key}').json()\n",
    "data = obj['CompactData']['DataSet']['Series']\n",
    "\n",
    "print(data['Obs'][:5])"
   ]
  },
  {
   "cell_type": "markdown",
   "id": "f0cc22b9-1622-4000-825f-c0ad5e22e738",
   "metadata": {
    "jp-MarkdownHeadingCollapsed": true
   },
   "source": [
    "#### __JSON Object__"
   ]
  },
  {
   "cell_type": "code",
   "execution_count": null,
   "id": "4d553e4e-b9bf-4ef9-90e4-038663ba827c",
   "metadata": {},
   "outputs": [],
   "source": [
    "# Create a JSON object.\n",
    "data = {\n",
    "  \"pets\": [\n",
    "    {\n",
    "      \"type\": \"dog\",\n",
    "      \"name\": \"Buddy\",\n",
    "      \"age\": 5,\n",
    "      \"vaccinations\": [\"rabies\", \"distemper\", \"parvovirus\"],\n",
    "      \"owner\": {\n",
    "        \"name\": \"Alice\",\n",
    "        \"contact\": \"alice@example.com\"\n",
    "      }\n",
    "    },\n",
    "    {\n",
    "      \"type\": \"cat\",\n",
    "      \"name\": \"Whiskers\",\n",
    "      \"age\": 3,\n",
    "      \"vaccinations\": [\"feline distemper\", \"rabies\"],\n",
    "      \"owner\": {\n",
    "        \"name\": \"Bob\",\n",
    "        \"contact\": \"bob@example.com\"\n",
    "      }\n",
    "    },\n",
    "    {\n",
    "      \"type\": \"parrot\",\n",
    "      \"name\": \"Polly\",\n",
    "      \"age\": 2,\n",
    "      \"vaccinations\": [],\n",
    "      \"owner\": {\n",
    "        \"name\": \"Charlie\",\n",
    "        \"contact\": \"charlie@example.com\"\n",
    "      }\n",
    "    }\n",
    "  ]\n",
    "}"
   ]
  },
  {
   "cell_type": "code",
   "execution_count": null,
   "id": "b40bc32c-7aba-4f8a-a560-609e3e9fde52",
   "metadata": {},
   "outputs": [],
   "source": [
    "data['pets'][1]"
   ]
  },
  {
   "cell_type": "code",
   "execution_count": null,
   "id": "cbf8a1eb-dd57-40e6-b960-2c750c133e88",
   "metadata": {},
   "outputs": [],
   "source": [
    "data['pets'][1]['name']"
   ]
  },
  {
   "cell_type": "markdown",
   "id": "1d10a968-e342-4b87-9ea4-c78ba95c4bac",
   "metadata": {},
   "source": [
    "***"
   ]
  },
  {
   "cell_type": "markdown",
   "id": "4a1376c0-3d54-434e-8d9c-8bcff9ec9eb0",
   "metadata": {},
   "source": [
    "## 4. Data Manipulation"
   ]
  },
  {
   "cell_type": "markdown",
   "id": "15c7fb0c-50cd-4edc-b33c-cc2962e29637",
   "metadata": {
    "jp-MarkdownHeadingCollapsed": true
   },
   "source": [
    "### NumPy Basics"
   ]
  },
  {
   "cell_type": "code",
   "execution_count": null,
   "id": "d8489448-b24a-4a6e-aea7-ae8ba2b01562",
   "metadata": {},
   "outputs": [],
   "source": [
    "import numpy as np"
   ]
  },
  {
   "cell_type": "markdown",
   "id": "b7b78f0a-0a00-4f12-8fa0-2cb854453332",
   "metadata": {
    "jp-MarkdownHeadingCollapsed": true
   },
   "source": [
    "#### NumPy Array (<span style=\"color: orange;\">same-type</span>, <span style=\"color: blue;\">mutable</span>, ideal for numerical computation)\n",
    "- Must be the same type of data (e.g. number, string)\n",
    "- Total size of the array cannot change (appending an array creates a new array)\n",
    "- Each row must have the same number of columns (supports n-dimensional data)\n",
    "- Please pay attention to __alias__"
   ]
  },
  {
   "cell_type": "markdown",
   "id": "67ef582b-21d7-46f0-aba3-0b0445ad8388",
   "metadata": {},
   "source": [
    "- __Create NumPy Arrays__"
   ]
  },
  {
   "cell_type": "code",
   "execution_count": null,
   "id": "4e26a143-90e9-4998-98b0-c796cdae6dab",
   "metadata": {},
   "outputs": [],
   "source": [
    "# Create a 1-D array\n",
    "data = np.array([1, 2, 3, 4])\n",
    "print(data)\n",
    "data.shape"
   ]
  },
  {
   "cell_type": "code",
   "execution_count": null,
   "id": "443e110e-0585-48f6-9b33-26c86b9f8ba0",
   "metadata": {},
   "outputs": [],
   "source": [
    "# Create a 2-D array\n",
    "data = np.array([[1, 2, 3, 4], [5, 6, 7, 8], [9, 10, 11, 12]])\n",
    "print(data)\n",
    "data.shape"
   ]
  },
  {
   "cell_type": "code",
   "execution_count": null,
   "id": "6bbc80be-8a73-4d60-9759-e862929b5657",
   "metadata": {},
   "outputs": [],
   "source": [
    "y = np.array([[1, 2, 3],\n",
    "              [4, 5, 6]])"
   ]
  },
  {
   "cell_type": "code",
   "execution_count": null,
   "id": "83d8ec27-98cc-49cb-9947-2a01ee53e3bc",
   "metadata": {},
   "outputs": [],
   "source": [
    "# Create a 3-D array\n",
    "data = np.array([[[1, 2, 3, 4], [5, 6, 7, 8], [9, 10, 11, 12]], [[1, 2, 3, 4], [5, 6, 7, 8], [9, 10, 11, 12]]])\n",
    "print(data)\n",
    "data.shape"
   ]
  },
  {
   "cell_type": "code",
   "execution_count": null,
   "id": "266d8c8b-f6ad-438f-aa75-575692979876",
   "metadata": {},
   "outputs": [],
   "source": [
    "# Create zeros\n",
    "data = np.zeros(5)\n",
    "data"
   ]
  },
  {
   "cell_type": "code",
   "execution_count": null,
   "id": "547f9656-b7de-4c55-a2f8-1c1e84c0295e",
   "metadata": {},
   "outputs": [],
   "source": [
    "# Create ones\n",
    "data = np.ones(5)\n",
    "data"
   ]
  },
  {
   "cell_type": "code",
   "execution_count": null,
   "id": "ad4bded7-3d1f-419f-a39d-d42d4dde1eb0",
   "metadata": {},
   "outputs": [],
   "source": [
    "# Create a range of numbers\n",
    "data = np.arange(5)\n",
    "data"
   ]
  },
  {
   "cell_type": "code",
   "execution_count": null,
   "id": "66225815-c50e-415f-bd52-8d23f40883be",
   "metadata": {},
   "outputs": [],
   "source": [
    "# Create a range of numbers from 10 to 19 with step size 2\n",
    "data = np.arange(10, 19, 2)\n",
    "data"
   ]
  },
  {
   "cell_type": "code",
   "execution_count": null,
   "id": "523ec7cb-a23c-41a8-839c-212121bd5f6f",
   "metadata": {},
   "outputs": [],
   "source": [
    "# Create 5 numbers linearly spaced between 10 and 19\n",
    "data = np.linspace(10, 19, num = 5)\n",
    "data"
   ]
  },
  {
   "cell_type": "markdown",
   "id": "d272f162-5f94-45bd-88cd-98dd6c9a0090",
   "metadata": {},
   "source": [
    "- __Reshaping__ `.reshape()`"
   ]
  },
  {
   "cell_type": "code",
   "execution_count": null,
   "id": "7ec935db-9808-4ea9-9a69-acaf35e83462",
   "metadata": {},
   "outputs": [],
   "source": [
    "data = np.array(range(30))\n",
    "print(data)\n",
    "data_reshaped = data.reshape(2,3,5)\n",
    "print(data_reshaped)"
   ]
  },
  {
   "cell_type": "markdown",
   "id": "240fc60f-bd3e-48d7-a8d8-e88a238e3488",
   "metadata": {},
   "source": [
    "- __Transposing__ `.transpose()`"
   ]
  },
  {
   "cell_type": "code",
   "execution_count": null,
   "id": "8fa1feb0-b4d0-40ed-a0b9-c6d8c6bc577a",
   "metadata": {},
   "outputs": [],
   "source": [
    "data = np.array([[1,2,3],[4,5,6]])\n",
    "print(data)\n",
    "print(data.transpose())"
   ]
  },
  {
   "cell_type": "markdown",
   "id": "26cbbb3b-fdca-4b4e-abf9-ec888bf2e37c",
   "metadata": {},
   "source": [
    "- __Indexing and Slicing__ (same as lists)"
   ]
  },
  {
   "cell_type": "code",
   "execution_count": null,
   "id": "ffe7551b-a284-4099-b241-b014eea48020",
   "metadata": {},
   "outputs": [],
   "source": [
    "# Print the third element in the first row in the second layer, \n",
    "data = np.array([[[1,2,3],[4,5,6]],[[7,8,9],[10,11,12]]])\n",
    "print(data)\n",
    "print(data[1,0,2])"
   ]
  },
  {
   "cell_type": "code",
   "execution_count": null,
   "id": "3fbdad8d-4758-475c-8df9-163721db20d1",
   "metadata": {},
   "outputs": [],
   "source": [
    "# Replace the value\n",
    "data = np.array([[[1,2,3],[4,5,6]],[[7,8,9],[10,11,12]]])\n",
    "print(data)\n",
    "data[1,0,2] = 999\n",
    "print(data)"
   ]
  },
  {
   "cell_type": "code",
   "execution_count": null,
   "id": "5ea30791-212c-43a0-b53f-f412da8cefb5",
   "metadata": {},
   "outputs": [],
   "source": [
    "# Slice the first two rows and the last two columns of the first layer\n",
    "data = np.array([[[1,2,3],[4,5,6]],[[7,8,9],[10,11,12]]])\n",
    "print(data)\n",
    "print(data[0, :2, -2:])"
   ]
  },
  {
   "cell_type": "markdown",
   "id": "9cb682fd-4045-477f-9632-297e2181e3ca",
   "metadata": {},
   "source": [
    "- __Concat__ `.concatenate()`"
   ]
  },
  {
   "cell_type": "code",
   "execution_count": null,
   "id": "a592a33c-890f-4ba8-aabf-1f8672040e64",
   "metadata": {},
   "outputs": [],
   "source": [
    "# Concat rows (along the first axis = 0)\n",
    "x = np.array([[1, 2, 3, 4]])\n",
    "y = np.array([[5, 6, 7, 8]])\n",
    "data = np.concatenate((x, y), axis = 0)  # put x, y in a tuple (x, y)\n",
    "print(data)\n",
    "\n",
    "# Use .vstack instead\n",
    "data = np.vstack((x, y))\n",
    "print(data)"
   ]
  },
  {
   "cell_type": "code",
   "execution_count": null,
   "id": "39ebf95f-be1c-4735-b14e-96eb6ae80520",
   "metadata": {},
   "outputs": [],
   "source": [
    "# Concat columns (along the second axis = 1)\n",
    "x = np.array([[1, 2, 3, 4]])\n",
    "y = np.array([[5, 6, 7, 8]])\n",
    "data = np.concatenate((x, y), axis = 1)  # put x, y in a tuple (x, y)\n",
    "print(data)\n",
    "\n",
    "# Use .hstack instead\n",
    "data = np.hstack((x, y))\n",
    "print(data)"
   ]
  },
  {
   "cell_type": "markdown",
   "id": "9d2f6868-ecff-4bed-b5ae-4d97e6bddbb4",
   "metadata": {},
   "source": [
    "<div class=\"alert alert-block alert-info\">\n",
    "<b>Reminder:</b> For 3-D arrays, axis = 0 refers to layers, 1 refers to rows, 2 refers to columns.\n",
    "</div>"
   ]
  },
  {
   "cell_type": "markdown",
   "id": "321b6f39-5fe3-4c93-9971-4e2e1f827604",
   "metadata": {},
   "source": [
    "- __Split__ `.split()`"
   ]
  },
  {
   "cell_type": "code",
   "execution_count": null,
   "id": "db2b2a69-71c9-43e6-ab78-368baa1b0233",
   "metadata": {},
   "outputs": [],
   "source": [
    "data = np.array([[1,2,3,4],[5,6,7,8]])\n",
    "print(np.split(data, 2))"
   ]
  },
  {
   "cell_type": "markdown",
   "id": "80620871-c83e-431a-8baa-56f36a1e77d4",
   "metadata": {},
   "source": [
    "- __Select Values Using Boolean Conditions__"
   ]
  },
  {
   "cell_type": "code",
   "execution_count": null,
   "id": "63006fa4-d223-45a1-b6de-f59548fcb596",
   "metadata": {},
   "outputs": [],
   "source": [
    "# Create the 2-D array\n",
    "x = np.array([[1, 2, 3, 4]])\n",
    "y = np.array([[5, 6, 7, 8]])\n",
    "data = np.concatenate((x, y), axis = 0)\n",
    "\n",
    "# Print values between [3, 8]\n",
    "data[(data >= 3) & (data <= 8)]"
   ]
  },
  {
   "cell_type": "markdown",
   "id": "181d8272-6dc2-4d82-892e-296200d4a436",
   "metadata": {},
   "source": [
    "- __Math Operations__"
   ]
  },
  {
   "cell_type": "code",
   "execution_count": null,
   "id": "6f944499-9bb5-4359-9eb5-fb8b343b0ec3",
   "metadata": {},
   "outputs": [],
   "source": [
    "# Create the 2-D array\n",
    "data = np.array([[1, 2, 3, 4],[5, 6, 7, 8]])\n",
    "data"
   ]
  },
  {
   "cell_type": "code",
   "execution_count": null,
   "id": "5f768207-f569-4386-a18e-290fb8dfc8f1",
   "metadata": {},
   "outputs": [],
   "source": [
    "# Addition\n",
    "print(data + 1)\n",
    "print(data + data)"
   ]
  },
  {
   "cell_type": "code",
   "execution_count": null,
   "id": "00de899c-5d80-48b6-8ba2-bc91c23bd167",
   "metadata": {},
   "outputs": [],
   "source": [
    "# Multiplication\n",
    "print(data*2)\n",
    "print(data*data)"
   ]
  },
  {
   "cell_type": "code",
   "execution_count": null,
   "id": "817e5d7c-a178-4104-9d7b-e341a154d63e",
   "metadata": {},
   "outputs": [],
   "source": [
    "# Division\n",
    "print(data/2)\n",
    "print(data/data)"
   ]
  },
  {
   "cell_type": "code",
   "execution_count": null,
   "id": "77a6da46-c5c1-40dc-8667-d2ac5485aff4",
   "metadata": {},
   "outputs": [],
   "source": [
    "# Summation\n",
    "print(data)\n",
    "print(data.sum())\n",
    "print(data.sum(axis = 0))\n",
    "print(data.sum(axis = 1))"
   ]
  },
  {
   "cell_type": "code",
   "execution_count": null,
   "id": "a16be044-498a-4e5f-b1e3-19d5aed9e740",
   "metadata": {},
   "outputs": [],
   "source": [
    "# Max, Min, and Mean\n",
    "print(data.max())\n",
    "print(data.min())\n",
    "print(data.min(axis = 1))\n",
    "print(data.mean(axis = 1))"
   ]
  },
  {
   "cell_type": "code",
   "execution_count": null,
   "id": "27f8b190-1131-47a2-bfd5-ecd171b130fd",
   "metadata": {},
   "outputs": [],
   "source": [
    "# Broadcasting\n",
    "# A 2D array\n",
    "a = np.array([[1, 2, 3],\n",
    "              [4, 5, 6],\n",
    "              [7, 8, 9]])\n",
    "\n",
    "# A 1D array (vector)\n",
    "b = np.array([10, 20, 30])\n",
    "\n",
    "# Broadcasting: add the vector b to each row of a\n",
    "print(a + b)"
   ]
  },
  {
   "cell_type": "markdown",
   "id": "d5a008ff-71be-4970-97df-5f812fda6323",
   "metadata": {},
   "source": [
    "- __Linear Algebra__"
   ]
  },
  {
   "cell_type": "code",
   "execution_count": null,
   "id": "63e3d999-6059-458c-b5cf-fe84426071b2",
   "metadata": {},
   "outputs": [],
   "source": [
    "x = np.array([[1, 2], [3, 4]])\n",
    "y = np.array([[2, 0], [1, 2]])\n",
    "\n",
    "# Matrix multiplication\n",
    "print(x @ y)"
   ]
  },
  {
   "cell_type": "code",
   "execution_count": null,
   "id": "d78f6e99-2b5f-473c-b937-407dc46c8cae",
   "metadata": {},
   "outputs": [],
   "source": [
    "# Inverse matrix\n",
    "inv_x = np.linalg.inv(x)\n",
    "print(inv_x)"
   ]
  },
  {
   "cell_type": "markdown",
   "id": "0e311b9c-b000-45ea-89f9-a2ec2553e21e",
   "metadata": {},
   "source": [
    "- __Count Unique Values__"
   ]
  },
  {
   "cell_type": "code",
   "execution_count": null,
   "id": "6f644ada-9ef9-451b-ba9d-511c94fcbf57",
   "metadata": {},
   "outputs": [],
   "source": [
    "# Create the 2-D array\n",
    "data = np.array([[1, 2, 3, 4],[6, 5, 4, 3]])\n",
    "values, count = np.unique(data, return_counts = True)\n",
    "for i in range(len(values)):\n",
    "    print(f'value: {values[i]} - count: {count[i]}')"
   ]
  },
  {
   "cell_type": "markdown",
   "id": "6dbb43a2-79a0-4289-bf34-d6d094416224",
   "metadata": {},
   "source": [
    "#### Generate Random Numbers"
   ]
  },
  {
   "cell_type": "code",
   "execution_count": null,
   "id": "4fd1218d-4587-429e-8c87-ec152e270160",
   "metadata": {},
   "outputs": [],
   "source": [
    "# Generate 5 uniformly distributed random numbers between [0, 1]\n",
    "np.random.rand(5)"
   ]
  },
  {
   "cell_type": "code",
   "execution_count": null,
   "id": "27022e3c-c5ee-4a46-8914-36e7b3926ffd",
   "metadata": {},
   "outputs": [],
   "source": [
    "# Generate a random 2 by 3 matrix\n",
    "np.random.rand(2, 3)"
   ]
  },
  {
   "cell_type": "code",
   "execution_count": null,
   "id": "1f4b5b4c-9405-4b1f-b076-e25b651d8998",
   "metadata": {},
   "outputs": [],
   "source": [
    "# Generte a 2 by 3 matrix with random integers between 0 and 10\n",
    "np.random.randint(0, 10, size=(2, 3))"
   ]
  },
  {
   "cell_type": "code",
   "execution_count": null,
   "id": "a42b1f35-d575-4556-8805-5801b23319c6",
   "metadata": {},
   "outputs": [],
   "source": [
    "# Generte a 2 by 3 matrix with standard normal random numbers\n",
    "np.random.randn(2, 3)"
   ]
  },
  {
   "cell_type": "markdown",
   "id": "90af6d86-4259-4090-b3b7-97d31ec09d57",
   "metadata": {
    "jp-MarkdownHeadingCollapsed": true
   },
   "source": [
    "### Pandas Basics"
   ]
  },
  {
   "cell_type": "code",
   "execution_count": null,
   "id": "9b05ab63-cb76-4917-9fa1-711fbb72b766",
   "metadata": {},
   "outputs": [],
   "source": [
    "import pandas as pd"
   ]
  },
  {
   "cell_type": "markdown",
   "id": "112af3a2-9c32-4f82-a690-ad633401a948",
   "metadata": {
    "jp-MarkdownHeadingCollapsed": true
   },
   "source": [
    "#### Pandas Series (<span style=\"color: green;\">mixed-type</span>, <span style=\"color: blue;\">mutable</span>)\n",
    "- Supports labels (row names)\n",
    "- Automatically match labels when creating a data frame\n",
    "- Please pay attention to __alias__."
   ]
  },
  {
   "cell_type": "code",
   "execution_count": null,
   "id": "dbff6e3f-58ae-44e2-95e0-c5ce1563cdfa",
   "metadata": {},
   "outputs": [],
   "source": [
    "data = pd.Series([1, 2, np.nan, 'a'], index = ['A', 'B', 'C', 'D'])\n",
    "data"
   ]
  },
  {
   "cell_type": "markdown",
   "id": "02ed5216-1c8e-4f16-863d-2081eea2ecdc",
   "metadata": {},
   "source": [
    "#### Pandas DataFrame (<span style=\"color: green;\">mixed-type</span>, <span style=\"color: blue;\">mutable</span>, ideal for data manipulation)\n",
    "- Works swiftly with most data manipulation, analysis, and visualization tools.\n",
    "- Data structure is similar to spreadsheet and Stata. Easy to read.\n",
    "- Please pay attention to __alias__."
   ]
  },
  {
   "cell_type": "markdown",
   "id": "736f923c-9631-4aed-ac66-cd8ad3a038b9",
   "metadata": {},
   "source": [
    "- __Create pd.DataFrame__"
   ]
  },
  {
   "cell_type": "code",
   "execution_count": null,
   "id": "2db8d5f8-51ce-4c24-b1c3-6c58038028db",
   "metadata": {},
   "outputs": [],
   "source": [
    "# Create using a dictionary\n",
    "pets = pd.DataFrame(\n",
    "    {\n",
    "        'Type': ['rabbit', 'fish', 'cat', 'dog'],\n",
    "        'Name': ['Meatball', 'Flash', 'Coco', 'Fluffy'],\n",
    "        'Age': np.random.randint(0, 10, size=(4)),\n",
    "        'Last_visit': pd.date_range('20250210', periods = 4)\n",
    "    }\n",
    ")\n",
    "pets"
   ]
  },
  {
   "cell_type": "code",
   "execution_count": null,
   "id": "b5d18a9e-e767-466d-b1a3-6aed0f7340d7",
   "metadata": {},
   "outputs": [],
   "source": [
    "# Create using a np.arrapy\n",
    "daily_return = pd.DataFrame(\n",
    "    np.random.randn(10, 4),\n",
    "    index = pd.date_range('20250210', periods = 10),\n",
    "    columns = ['AAPL', 'GOOG', 'META', 'NVDA']\n",
    ")\n",
    "daily_return.head()"
   ]
  },
  {
   "cell_type": "code",
   "execution_count": null,
   "id": "659cdf82-d490-4ab1-b705-87fb05d9132d",
   "metadata": {},
   "outputs": [],
   "source": [
    "daily_return.tail()"
   ]
  },
  {
   "cell_type": "code",
   "execution_count": null,
   "id": "d6d90202-fd13-4a4d-a884-25dcc780f199",
   "metadata": {},
   "outputs": [],
   "source": [
    "daily_return.shape"
   ]
  },
  {
   "cell_type": "code",
   "execution_count": null,
   "id": "937750e7-736e-446b-ab31-6a0c7a3ae839",
   "metadata": {},
   "outputs": [],
   "source": [
    "print(daily_return.columns)\n",
    "print(daily_return.index)"
   ]
  },
  {
   "cell_type": "markdown",
   "id": "a53be0e0-e132-4b23-95a2-e234ab75e8aa",
   "metadata": {},
   "source": [
    "- __Describe__ `.describe()`"
   ]
  },
  {
   "cell_type": "code",
   "execution_count": null,
   "id": "64683479-4244-4128-8944-03a1ae8e2832",
   "metadata": {},
   "outputs": [],
   "source": [
    "# Describe data frame\n",
    "daily_return.describe()"
   ]
  },
  {
   "cell_type": "markdown",
   "id": "494dad2b-288c-4592-944f-272988a4c2b1",
   "metadata": {},
   "source": [
    "- __Indexing__ `.iloc[]`, `.loc[]`, `.at[]`, `.iat[]`, `.COLNAME`, and `[]`"
   ]
  },
  {
   "cell_type": "code",
   "execution_count": null,
   "id": "e972b0ab-0d5d-4fcb-9c55-15843fb5c352",
   "metadata": {},
   "outputs": [],
   "source": [
    "# Create using a dictionary\n",
    "pets = pd.DataFrame(\n",
    "    {\n",
    "        'Type': ['rabbit', 'fish', 'cat', 'dog'],\n",
    "        'Name': ['Meatball', 'Flash', 'Coco', 'Fluffy'],\n",
    "        'Age': np.random.randint(0, 10, size=(4)),\n",
    "        'Last_visit': pd.date_range('20250210', periods = 4)\n",
    "    }\n",
    ")\n",
    "\n",
    "# Selection by position using .iloc[]   (indices in [] must be integers or :)\n",
    "print(pets.iloc[3, 1])\n",
    "\n",
    "# Selection by label using .loc[]   (indices in [] must be row\\column names or :)\n",
    "print(pets.loc[3, 'Name'])\n",
    "\n",
    "# Get single value by position using .at[] (indices in [] must be integers)\n",
    "print(pets.iat[3, 1])\n",
    "\n",
    "# Get single value by label using .at[] (indices in [] must be row\\column names)\n",
    "print(pets.at[3, 'Name'])\n",
    "\n",
    "# Selection using .COLNAME\n",
    "print(pets.Name[3])\n",
    "\n",
    "# Selection using []\n",
    "print(pets['Name'][3])"
   ]
  },
  {
   "cell_type": "code",
   "execution_count": null,
   "id": "f2990f78-403b-4c14-b697-8b2750f6c616",
   "metadata": {},
   "outputs": [],
   "source": [
    "# Boolean indexing\n",
    "pets[pets['Age'] > 2]"
   ]
  },
  {
   "cell_type": "markdown",
   "id": "f1b5bc64-bf7f-4412-b461-15cb44d5f72f",
   "metadata": {},
   "source": [
    "- __Editing__"
   ]
  },
  {
   "cell_type": "code",
   "execution_count": null,
   "id": "4721a281-318f-4269-ba47-8420e81fce6e",
   "metadata": {},
   "outputs": [],
   "source": [
    "# Edit using indices\n",
    "pets.iloc[3, 0] = 'parrot'\n",
    "pets.loc[3, 'Name'] = 'Polly'\n",
    "pets.loc[3, 'Age'] = 35\n",
    "pets"
   ]
  },
  {
   "cell_type": "code",
   "execution_count": null,
   "id": "82594656-3931-4f06-b859-28f6ab4b201a",
   "metadata": {},
   "outputs": [],
   "source": [
    "# Edit using a boolean condition\n",
    "pets.loc[pets['Last_visit'] < '2025-02-12', 'Last_visit'] = pd.to_datetime('2000-01-01')\n",
    "pets"
   ]
  },
  {
   "cell_type": "markdown",
   "id": "188e934b-d8f7-42cb-a07c-b1540e5658a7",
   "metadata": {},
   "source": [
    "- __Adding Columns and Rows__"
   ]
  },
  {
   "cell_type": "code",
   "execution_count": null,
   "id": "c6253637-7794-48f5-974f-78afbc49390a",
   "metadata": {},
   "outputs": [],
   "source": [
    "# Create a DataFrame\n",
    "df = pd.DataFrame({\n",
    "    'A': [1, 2, 3],\n",
    "    'B': [4, 5, 6]\n",
    "})\n",
    "\n",
    "# Add a new column 'C'\n",
    "df['C'] = [7, 8, 9]\n",
    "print(\"After adding column 'C':\")\n",
    "print(df)"
   ]
  },
  {
   "cell_type": "code",
   "execution_count": null,
   "id": "e4a37a48-7d5d-4bc4-afad-cefcd3f1e107",
   "metadata": {},
   "outputs": [],
   "source": [
    "# Remove the column 'B'\n",
    "df_drop_col = df.drop('B', axis = 1)\n",
    "print(\"\\nAfter removing column 'B':\")\n",
    "print(df_drop_col)"
   ]
  },
  {
   "cell_type": "code",
   "execution_count": null,
   "id": "6d75cc27-4eca-4404-9adb-92469fc9ed8f",
   "metadata": {},
   "outputs": [],
   "source": [
    "# Add a new row\n",
    "df.loc[3] = [10, 11, 12]\n",
    "print(\"\\nAfter adding a new row with loc:\")\n",
    "print(df)"
   ]
  },
  {
   "cell_type": "code",
   "execution_count": null,
   "id": "eca3aff2-ed7d-4a5a-a126-886a4f0e9910",
   "metadata": {},
   "outputs": [],
   "source": [
    "# Remove the first fow\n",
    "df_drop_row = df.drop(0, axis = 0)\n",
    "print(\"\\nAfter filtering out rows where 'A' < 3:\")\n",
    "print(df_drop_row)"
   ]
  },
  {
   "cell_type": "markdown",
   "id": "f26e764a-2a07-4468-81d9-0fb364e61b5d",
   "metadata": {},
   "source": [
    "- __Merging DataFrames by a Column__"
   ]
  },
  {
   "cell_type": "code",
   "execution_count": null,
   "id": "a5846168-ac48-4cc2-8fb7-97c2f01f1770",
   "metadata": {},
   "outputs": [],
   "source": [
    "# Create two DataFrames with a common column 'key'\n",
    "df1 = pd.DataFrame({\n",
    "    'key': ['A', 'B', 'C', 'D'],\n",
    "    'value1': [1, 2, 3, 4]\n",
    "})\n",
    "\n",
    "df2 = pd.DataFrame({\n",
    "    'key': ['B', 'D', 'E', 'F'],\n",
    "    'value2': [5, 6, 7, 8]\n",
    "})\n",
    "\n",
    "# Merge the DataFrames on 'key'\n",
    "merged_df = pd.merge(df1, df2, on='key', how='left')\n",
    "print(\"Merged DataFrame using pd.merge():\")\n",
    "print(merged_df)"
   ]
  },
  {
   "cell_type": "markdown",
   "id": "dde2d51a-a373-497f-8f3f-ca04dfca827c",
   "metadata": {},
   "source": [
    "- __Joining DataFrames by labels (row names)__"
   ]
  },
  {
   "cell_type": "code",
   "execution_count": null,
   "id": "f7a8bba9-4ee4-474b-b27a-4c79119971d8",
   "metadata": {},
   "outputs": [],
   "source": [
    "# Create two DataFrames with indexes\n",
    "df1 = pd.DataFrame({'value1': [1, 2, 3]}, index=['A', 'B', 'C'])\n",
    "df2 = pd.DataFrame({'value2': [4, 5, 6]}, index=['A', 'B', 'D'])\n",
    "\n",
    "# Join the DataFrames on the index\n",
    "joined_df = df1.join(df2, how='left')\n",
    "print(\"\\nJoined DataFrame using df.join():\")\n",
    "print(joined_df)"
   ]
  },
  {
   "cell_type": "markdown",
   "id": "cd6b4b3e-d1cc-4c01-9733-e01443bf5cf5",
   "metadata": {},
   "source": [
    "- __Concating DataFrames__"
   ]
  },
  {
   "cell_type": "code",
   "execution_count": null,
   "id": "4077578f-1ffe-4257-bdd8-0d9ac5bd791e",
   "metadata": {},
   "outputs": [],
   "source": [
    "# Create two DataFrames with the same columns\n",
    "df1 = pd.DataFrame({'A': [1, 2], 'B': [3, 4]})\n",
    "df2 = pd.DataFrame({'A': [5, 6], 'B': [7, 8]})\n",
    "\n",
    "# Concatenate vertically\n",
    "vertical_concat = pd.concat([df1, df2], axis=0)\n",
    "print(\"\\nVertical Concatenation using pd.concat():\")\n",
    "print(vertical_concat)\n",
    "\n",
    "# Concatenate horizontally\n",
    "vertical_concat = pd.concat([df1, df2], axis=1)\n",
    "print(\"\\nHorizontal Concatenation using pd.concat():\")\n",
    "print(vertical_concat)"
   ]
  }
 ],
 "metadata": {
  "kernelspec": {
   "display_name": "Python 3 (ipykernel)",
   "language": "python",
   "name": "python3"
  },
  "language_info": {
   "codemirror_mode": {
    "name": "ipython",
    "version": 3
   },
   "file_extension": ".py",
   "mimetype": "text/x-python",
   "name": "python",
   "nbconvert_exporter": "python",
   "pygments_lexer": "ipython3",
   "version": "3.12.9"
  }
 },
 "nbformat": 4,
 "nbformat_minor": 5
}
