{
 "cells": [
  {
   "cell_type": "markdown",
   "id": "057bb604-0cf0-4e18-a164-13e999b0db34",
   "metadata": {},
   "source": [
    "# Coding for Economists - Session 7"
   ]
  },
  {
   "cell_type": "markdown",
   "id": "94440b20-855c-4012-b9e4-f4e0f2094ed6",
   "metadata": {},
   "source": [
    "***"
   ]
  },
  {
   "cell_type": "markdown",
   "id": "35dc0b30-6824-472f-9b65-a456c9692d5e",
   "metadata": {},
   "source": [
    "## 1. Setup Environment"
   ]
  },
  {
   "cell_type": "code",
   "execution_count": null,
   "id": "0f4a39c0-39b9-462a-9d0a-0857cf570f5f",
   "metadata": {},
   "outputs": [],
   "source": [
    "%conda install imbalanced-learn -y"
   ]
  },
  {
   "cell_type": "code",
   "execution_count": null,
   "id": "98b7a4bb-545d-4483-8471-a60bed5e3e15",
   "metadata": {},
   "outputs": [],
   "source": [
    "import pandas as pd\n",
    "import numpy as np\n",
    "import matplotlib.pyplot as plt\n",
    "# Turn on copy on write\n",
    "pd.options.mode.copy_on_write = False"
   ]
  },
  {
   "cell_type": "markdown",
   "id": "9f4e1b92-3682-429e-bfd0-dcfe75b96f67",
   "metadata": {},
   "source": [
    "## 2. Read Data"
   ]
  },
  {
   "cell_type": "code",
   "execution_count": null,
   "id": "f7cbae2a-141c-4be7-93df-cd886716b96c",
   "metadata": {},
   "outputs": [],
   "source": [
    "# We use the Titanic dataset hosted on GitHub as an example.\n",
    "data_url = \"https://raw.githubusercontent.com/datasciencedojo/datasets/master/titanic.csv\"\n",
    "df = pd.read_csv(data_url)\n",
    "print(\"Initial dataset shape:\", df.shape)\n",
    "df.head()"
   ]
  },
  {
   "cell_type": "markdown",
   "id": "bf1297f0-f3dd-4016-8f3a-338f229d6bbc",
   "metadata": {},
   "source": [
    "- __PassengerId__: A unique identifier for each passenger.\n",
    "- __Survived__: Survival status of the passenger (0 = Did not survive, 1 = Survived).\n",
    "- __Pclass__: Ticket class (1 = First class, 2 = Second class, 3 = Third class).\n",
    "- __Name__: The full name of the passenger.\n",
    "- __Sex__: The gender of the passenger.\n",
    "- __Age__: The age of the passenger.\n",
    "- __SibSp__: Number of siblings and spouses aboard.\n",
    "- __Parch__: Number of parents and children aboard.\n",
    "- __Ticket__: Ticket number of the passenger.\n",
    "- __Fare__: The amount of money paid for the ticket.\n",
    "- __Cabin__: Cabin number where the passenger was accommodated.\n",
    "- __Embarked__: Port of embarkation ('S' (Southampton), 'C' (Cherbourg), and 'Q' (Queenstown))."
   ]
  },
  {
   "cell_type": "code",
   "execution_count": null,
   "id": "31941d20-1624-47e5-8311-e81a1631af81",
   "metadata": {},
   "outputs": [],
   "source": [
    "df.dtypes"
   ]
  },
  {
   "cell_type": "markdown",
   "id": "3e988a61-0578-4890-b784-a14baef207f6",
   "metadata": {},
   "source": [
    "## 3. Clean Data"
   ]
  },
  {
   "cell_type": "markdown",
   "id": "cc943e6c-e979-4a62-9773-f8ef5d88ff84",
   "metadata": {},
   "source": [
    "### 3.1 Handle Missing Data"
   ]
  },
  {
   "cell_type": "code",
   "execution_count": null,
   "id": "acc85ea2-10e5-4908-8556-68c3eb6496f8",
   "metadata": {},
   "outputs": [],
   "source": [
    "# Identify columns with missing values\n",
    "print(\"Missing values per column:\\n\", df.isnull().sum())"
   ]
  },
  {
   "cell_type": "code",
   "execution_count": null,
   "id": "927720aa-b937-47e3-8f62-22289db7c6b9",
   "metadata": {},
   "outputs": [],
   "source": [
    "# For demonstration purposes:\n",
    "# - Fill missing 'Age' values with the median age.\n",
    "df['Age'] = df['Age'].fillna(df['Age'].median())\n",
    "# - Fill missing 'Embarked' values with the mode.\n",
    "df['Embarked'] = df['Embarked'].fillna(df['Embarked'].mode()[0])"
   ]
  },
  {
   "cell_type": "markdown",
   "id": "2cb816fd-e404-4213-ab15-e3837bef52c5",
   "metadata": {},
   "source": [
    "### 3.2 Remove Features"
   ]
  },
  {
   "cell_type": "code",
   "execution_count": null,
   "id": "d000ac3d-8196-4f6e-bc18-41d21163c5d1",
   "metadata": {},
   "outputs": [],
   "source": [
    "# Drop columns that may not be useful for modeling\n",
    "# Here, we remove identifiers and columns with high missing values.\n",
    "df.drop(['PassengerId', 'Name', 'Ticket', 'Cabin'], axis=1, inplace=True)\n",
    "print(\"Missing values per column:\\n\", df.isnull().sum())\n",
    "df.head()"
   ]
  },
  {
   "cell_type": "markdown",
   "id": "2ec7d454-b5c6-410e-af78-2ea1569fa56e",
   "metadata": {},
   "source": [
    "## 4. Preprocessing"
   ]
  },
  {
   "cell_type": "markdown",
   "id": "8aa57f9a-8259-41b1-a594-6ab223c21efd",
   "metadata": {},
   "source": [
    "### 4.1 Encode the Categorical Features"
   ]
  },
  {
   "cell_type": "code",
   "execution_count": null,
   "id": "1a0e9a56-dcd1-4008-8441-2ffc83d0325c",
   "metadata": {},
   "outputs": [],
   "source": [
    "# We will encode 'Sex' and 'Embarked'. Pandas' get_dummies creates binary indicator columns.\n",
    "df_encoded = pd.get_dummies(df, columns=['Pclass', 'Sex', 'Embarked'], drop_first=True)\n",
    "df_encoded.head()"
   ]
  },
  {
   "cell_type": "markdown",
   "id": "3d91cd6c-3961-4ee3-8651-0d4dfaab766d",
   "metadata": {},
   "source": [
    "### 4.2 Scale the Numeric Features"
   ]
  },
  {
   "cell_type": "code",
   "execution_count": null,
   "id": "2fb45250-2fe1-4a8f-b0fc-533d3bb4537d",
   "metadata": {},
   "outputs": [],
   "source": [
    "# We'll scale the numeric features for better model performance.\n",
    "# First, identify numeric columns (excluding the target column 'Survived')\n",
    "numeric_features = ['Age', 'Fare', 'SibSp', 'Parch']\n",
    "\n",
    "# Initialize the StandardScaler\n",
    "from sklearn.preprocessing import StandardScaler\n",
    "scaler = StandardScaler()\n",
    "df_encoded[numeric_features] = scaler.fit_transform(df_encoded[numeric_features])\n",
    "df_encoded.head()"
   ]
  },
  {
   "cell_type": "markdown",
   "id": "aced8afc-811b-4d5e-9547-c604018eda41",
   "metadata": {},
   "source": [
    "## 5 Prepare Train/Test Sets"
   ]
  },
  {
   "cell_type": "markdown",
   "id": "c7bfb23a-9df7-4110-b8bf-cd6155fc4a33",
   "metadata": {},
   "source": [
    "### 5.1 Train/Test Split"
   ]
  },
  {
   "cell_type": "code",
   "execution_count": null,
   "id": "7138392f-987f-4bec-ad9e-bc83d77e7dca",
   "metadata": {},
   "outputs": [],
   "source": [
    "# Split the data into features and labels variable\n",
    "X = df_encoded.drop('Survived', axis=1)\n",
    "y = df_encoded['Survived']"
   ]
  },
  {
   "cell_type": "code",
   "execution_count": null,
   "id": "7b5db7a3-934a-400a-bcdc-c66f9b6ffdba",
   "metadata": {},
   "outputs": [],
   "source": [
    "# Split into training and testing sets (80/20 split)\n",
    "from sklearn.model_selection import train_test_split\n",
    "X_train, X_test, y_train, y_test = train_test_split(\n",
    "    X, y, test_size=0.20, random_state=1234, stratify=y # stratify=y ensures distribution of y is preserved in both training and testing sets\n",
    ")\n",
    "print(\"Training set shape:\", X_train.shape)\n",
    "print(\"Test set shape:\", X_test.shape)"
   ]
  },
  {
   "cell_type": "markdown",
   "id": "68c5ca47-8e3d-422f-8727-1193ff8d94bc",
   "metadata": {},
   "source": [
    "### 5.2 Re-balance the Training Set"
   ]
  },
  {
   "cell_type": "code",
   "execution_count": null,
   "id": "6546b908-762c-41dd-9ac1-e5eac3d58207",
   "metadata": {},
   "outputs": [],
   "source": [
    "# This step is useful if the classes in the target variable are imbalanced.\n",
    "# Synthetic Minority Oversampling Technique (SMOTE)\n",
    "from imblearn.over_sampling import SMOTE\n",
    "smote = SMOTE(random_state=1234)\n",
    "X_train_res, y_train_res = smote.fit_resample(X_train, y_train)\n",
    "print(\"Original training target distribution:\\n\", y_train.value_counts())\n",
    "print(\"Resampled training target distribution:\\n\", pd.Series(y_train_res).value_counts())"
   ]
  },
  {
   "cell_type": "code",
   "execution_count": null,
   "id": "79842bb1-a09b-4d93-8ae5-d07a377041a7",
   "metadata": {},
   "outputs": [],
   "source": [
    "# Visualize the distribution of the target variable before and after re-balancing\n",
    "fig, ax = plt.subplots(1, 2, figsize=(12, 5))\n",
    "y_train.value_counts().plot(kind='bar', ax=ax[0], title='Before SMOTE')\n",
    "pd.Series(y_train_res).value_counts().plot(kind='bar', ax=ax[1], title='After SMOTE')\n",
    "plt.tight_layout()\n",
    "plt.show()"
   ]
  },
  {
   "cell_type": "code",
   "execution_count": null,
   "id": "fdb6abe2-40b9-469d-bda7-1f8397589752",
   "metadata": {},
   "outputs": [],
   "source": []
  }
 ],
 "metadata": {
  "kernelspec": {
   "display_name": "Python 3 (ipykernel)",
   "language": "python",
   "name": "python3"
  },
  "language_info": {
   "codemirror_mode": {
    "name": "ipython",
    "version": 3
   },
   "file_extension": ".py",
   "mimetype": "text/x-python",
   "name": "python",
   "nbconvert_exporter": "python",
   "pygments_lexer": "ipython3",
   "version": "3.12.9"
  }
 },
 "nbformat": 4,
 "nbformat_minor": 5
}
